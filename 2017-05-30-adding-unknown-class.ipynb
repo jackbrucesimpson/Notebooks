{
 "cells": [
  {
   "cell_type": "markdown",
   "metadata": {},
   "source": [
    "# Adding unknown class\n",
    "- Need to add unknown class as NN isn't accurate enough\n",
    "- Need to make it more conservative with predictions\n",
    "\n",
    "## Outcome\n",
    "- "
   ]
  },
  {
   "cell_type": "code",
   "execution_count": 8,
   "metadata": {},
   "outputs": [],
   "source": [
    "import matplotlib.pyplot as plt\n",
    "import matplotlib.cm as cm\n",
    "import numpy as np\n",
    "import cv2\n",
    "import glob\n",
    "import copy\n",
    "import random\n",
    "\n",
    "import os\n",
    "import sys\n",
    "\n",
    "sys.path.append(\"../src\")\n",
    "from images_permute import processing_pipeline\n",
    "\n",
    "np.random.seed(0)\n",
    "\n",
    "def view(image):\n",
    "    plt.figure()\n",
    "    plt.axis('off')\n",
    "    plt.imshow(image, cmap = cm.Greys_r)"
   ]
  },
  {
   "cell_type": "code",
   "execution_count": 9,
   "metadata": {
    "collapsed": true
   },
   "outputs": [],
   "source": [
    "import matplotlib.pyplot as plt\n",
    "import matplotlib.cm as cm\n",
    "import numpy as np\n",
    "import cv2\n",
    "import glob\n",
    "import copy\n",
    "\n",
    "import os\n",
    "import sys\n",
    "\n",
    "sys.path.append(\"../src\")\n",
    "from images_permute import processing_pipeline\n",
    "\n",
    "np.random.seed(0)\n",
    "\n",
    "def view(image):\n",
    "    plt.figure()\n",
    "    plt.axis('off')\n",
    "    plt.imshow(image, cmap = cm.Greys_r)"
   ]
  },
  {
   "cell_type": "code",
   "execution_count": 10,
   "metadata": {},
   "outputs": [
    {
     "name": "stdout",
     "output_type": "stream",
     "text": [
      "('/Users/jacksimpson/Data/beeunique/output/All/0/', 65)\n"
     ]
    }
   ],
   "source": [
    "list_image_directory_paths = glob.glob('/Users/jacksimpson/Data/beeunique/output/All/*/')\n",
    "print(list_image_directory_paths[0], len(list_image_directory_paths))"
   ]
  },
  {
   "cell_type": "code",
   "execution_count": 11,
   "metadata": {
    "collapsed": true
   },
   "outputs": [],
   "source": [
    "kernel_size = 3\n",
    "sig = 1.0\n",
    "th = 0.2\n",
    "lm = 3.0\n",
    "gm = 1.5\n",
    "ps = 0\n",
    "\n",
    "kernel = cv2.getGaborKernel((kernel_size, kernel_size), sig, th, lm, gm, ps)"
   ]
  },
  {
   "cell_type": "code",
   "execution_count": 12,
   "metadata": {
    "scrolled": false
   },
   "outputs": [
    {
     "name": "stdout",
     "output_type": "stream",
     "text": [
      "('0', '/Users/jacksimpson/Data/beeunique/output/All/0/')\n",
      "('1', '/Users/jacksimpson/Data/beeunique/output/All/1/')\n",
      "('2', '/Users/jacksimpson/Data/beeunique/output/All/2/')\n",
      "('3', '/Users/jacksimpson/Data/beeunique/output/All/3/')\n",
      "('4', '/Users/jacksimpson/Data/beeunique/output/All/4/')\n",
      "('5', '/Users/jacksimpson/Data/beeunique/output/All/5/')\n",
      "('6', '/Users/jacksimpson/Data/beeunique/output/All/6/')\n",
      "('7', '/Users/jacksimpson/Data/beeunique/output/All/7/')\n",
      "('8', '/Users/jacksimpson/Data/beeunique/output/All/8/')\n",
      "('a', '/Users/jacksimpson/Data/beeunique/output/All/a/')\n",
      "('AA', '/Users/jacksimpson/Data/beeunique/output/All/AA/')\n",
      "('Ampersand', '/Users/jacksimpson/Data/beeunique/output/All/Ampersand/')\n",
      "('Ankh', '/Users/jacksimpson/Data/beeunique/output/All/Ankh/')\n",
      "('ArrowLine', '/Users/jacksimpson/Data/beeunique/output/All/ArrowLine/')\n",
      "('Asterisk', '/Users/jacksimpson/Data/beeunique/output/All/Asterisk/')\n",
      "('b', '/Users/jacksimpson/Data/beeunique/output/All/b/')\n",
      "('BB', '/Users/jacksimpson/Data/beeunique/output/All/BB/')\n",
      "('Circle_Line', '/Users/jacksimpson/Data/beeunique/output/All/Circle_Line/')\n",
      "('CircleCross', '/Users/jacksimpson/Data/beeunique/output/All/CircleCross/')\n",
      "('DD', '/Users/jacksimpson/Data/beeunique/output/All/DD/')\n",
      "('Dot', '/Users/jacksimpson/Data/beeunique/output/All/Dot/')\n",
      "('e', '/Users/jacksimpson/Data/beeunique/output/All/e/')\n",
      "('EE', '/Users/jacksimpson/Data/beeunique/output/All/EE/')\n",
      "('f', '/Users/jacksimpson/Data/beeunique/output/All/f/')\n",
      "('g', '/Users/jacksimpson/Data/beeunique/output/All/g/')\n",
      "('GG', '/Users/jacksimpson/Data/beeunique/output/All/GG/')\n",
      "('h', '/Users/jacksimpson/Data/beeunique/output/All/h/')\n",
      "('Halfcircle', '/Users/jacksimpson/Data/beeunique/output/All/Halfcircle/')\n",
      "('Hash', '/Users/jacksimpson/Data/beeunique/output/All/Hash/')\n",
      "('Heart', '/Users/jacksimpson/Data/beeunique/output/All/Heart/')\n",
      "('HH', '/Users/jacksimpson/Data/beeunique/output/All/HH/')\n",
      "('HollowArrow', '/Users/jacksimpson/Data/beeunique/output/All/HollowArrow/')\n",
      "('JJ', '/Users/jacksimpson/Data/beeunique/output/All/JJ/')\n",
      "('KK', '/Users/jacksimpson/Data/beeunique/output/All/KK/')\n",
      "('Leaf', '/Users/jacksimpson/Data/beeunique/output/All/Leaf/')\n",
      "('Lines3', '/Users/jacksimpson/Data/beeunique/output/All/Lines3/')\n",
      "('MM', '/Users/jacksimpson/Data/beeunique/output/All/MM/')\n",
      "('n', '/Users/jacksimpson/Data/beeunique/output/All/n/')\n",
      "('Necklace', '/Users/jacksimpson/Data/beeunique/output/All/Necklace/')\n",
      "('Note1', '/Users/jacksimpson/Data/beeunique/output/All/Note1/')\n",
      "('Notes2', '/Users/jacksimpson/Data/beeunique/output/All/Notes2/')\n",
      "('Omega', '/Users/jacksimpson/Data/beeunique/output/All/Omega/')\n",
      "('Peace', '/Users/jacksimpson/Data/beeunique/output/All/Peace/')\n",
      "('Pillars', '/Users/jacksimpson/Data/beeunique/output/All/Pillars/')\n",
      "('Plane', '/Users/jacksimpson/Data/beeunique/output/All/Plane/')\n",
      "('Plant', '/Users/jacksimpson/Data/beeunique/output/All/Plant/')\n",
      "('Power', '/Users/jacksimpson/Data/beeunique/output/All/Power/')\n",
      "('PP', '/Users/jacksimpson/Data/beeunique/output/All/PP/')\n",
      "('Queen', '/Users/jacksimpson/Data/beeunique/output/All/Queen/')\n",
      "('Question', '/Users/jacksimpson/Data/beeunique/output/All/Question/')\n",
      "('r', '/Users/jacksimpson/Data/beeunique/output/All/r/')\n",
      "('Radioactive', '/Users/jacksimpson/Data/beeunique/output/All/Radioactive/')\n",
      "('RR', '/Users/jacksimpson/Data/beeunique/output/All/RR/')\n",
      "('Scissors', '/Users/jacksimpson/Data/beeunique/output/All/Scissors/')\n",
      "('SS', '/Users/jacksimpson/Data/beeunique/output/All/SS/')\n",
      "('Tadpole', '/Users/jacksimpson/Data/beeunique/output/All/Tadpole/')\n",
      "('Triangle', '/Users/jacksimpson/Data/beeunique/output/All/Triangle/')\n",
      "('Trident', '/Users/jacksimpson/Data/beeunique/output/All/Trident/')\n",
      "('TT', '/Users/jacksimpson/Data/beeunique/output/All/TT/')\n",
      "('Umbrella', '/Users/jacksimpson/Data/beeunique/output/All/Umbrella/')\n",
      "('UU', '/Users/jacksimpson/Data/beeunique/output/All/UU/')\n",
      "('w', '/Users/jacksimpson/Data/beeunique/output/All/w/')\n",
      "('XX', '/Users/jacksimpson/Data/beeunique/output/All/XX/')\n",
      "('y', '/Users/jacksimpson/Data/beeunique/output/All/y/')\n",
      "('ZZ', '/Users/jacksimpson/Data/beeunique/output/All/ZZ/')\n"
     ]
    }
   ],
   "source": [
    "class_images_dict = {}\n",
    "for image_directory_path in list_image_directory_paths:\n",
    "    image_class_name = os.path.basename(os.path.normpath(image_directory_path))\n",
    "    print(image_class_name, image_directory_path)\n",
    "    class_images_dict[image_class_name] = []\n",
    "    \n",
    "    image_subdirs = glob.glob(image_directory_path + '/*/')\n",
    "    for subdir in image_subdirs:\n",
    "        for image_file in glob.glob(subdir + '*.png'):\n",
    "            image = cv2.imread(image_file, cv2.IMREAD_GRAYSCALE)\n",
    "            \n",
    "            \n",
    "            #image = cv2.medianBlur(image, 3);\n",
    "            #image = cv2.filter2D(image, cv2.CV_32F, kernel)\n",
    "            \n",
    "            \n",
    "            \n",
    "            \n",
    "            class_images_dict[image_class_name].append(image)"
   ]
  },
  {
   "cell_type": "code",
   "execution_count": 13,
   "metadata": {},
   "outputs": [
    {
     "name": "stdout",
     "output_type": "stream",
     "text": [
      "{'HollowArrow': 3000, 'Leaf': 3000, 'BB': 3000, 'Note1': 3000, 'DD': 3000, 'Peace': 3000, 'Question': 3000, 'Pillars': 3000, 'HH': 3000, 'Ampersand': 3000, 'JJ': 3000, 'Notes2': 3000, 'Plant': 3000, 'Hash': 3000, 'Power': 3000, 'Ankh': 3000, 'TT': 3000, 'Trident': 3000, 'Asterisk': 3000, 'Lines3': 3000, '1': 3000, '0': 3000, '3': 3000, '2': 3000, '5': 3000, '4': 3000, '7': 3000, '6': 3000, '8': 3000, 'Omega': 3000, 'CircleCross': 3000, 'AA': 3000, 'SS': 3000, 'Circle_Line': 3000, 'Radioactive': 3000, 'Tadpole': 3000, 'EE': 3000, 'RR': 3000, 'PP': 3000, 'GG': 3000, 'XX': 3000, 'ZZ': 3000, 'Necklace': 3000, 'Triangle': 3000, 'Umbrella': 3000, 'Dot': 3000, 'a': 3000, 'Heart': 3000, 'b': 3000, 'e': 3000, 'Halfcircle': 3000, 'g': 3000, 'f': 3000, 'KK': 3000, 'h': 3000, 'Queen': 3000, 'Plane': 3000, 'n': 3000, 'UU': 3000, 'r': 3000, 'ArrowLine': 3000, 'w': 3000, 'y': 3000, 'Scissors': 3000, 'MM': 3000}\n"
     ]
    }
   ],
   "source": [
    "subset_class_images_dict = {}\n",
    "\n",
    "for tag_class in class_images_dict.keys():\n",
    "    if len(class_images_dict[tag_class]) > 3000:\n",
    "        subset_class_images_dict[tag_class] = random.sample(class_images_dict[tag_class], 3000)\n",
    "    else:\n",
    "        subset_class_images_dict[tag_class] = class_images_dict[tag_class]\n",
    "\n",
    "print({k: len(subset_class_images_dict[k]) for k in subset_class_images_dict.keys()})"
   ]
  },
  {
   "cell_type": "code",
   "execution_count": 14,
   "metadata": {
    "collapsed": true
   },
   "outputs": [],
   "source": [
    "os.makedirs('/Users/jacksimpson/Data/beeunique/output/All_Filtered')\n",
    "\n",
    "tag_num = 0\n",
    "for tag_class in subset_class_images_dict.keys():\n",
    "    tag_class_dir = '/Users/jacksimpson/Data/beeunique/output/All_Filtered/{}'.format(tag_class)\n",
    "    os.makedirs(tag_class_dir)\n",
    "    for tag in subset_class_images_dict[tag_class]:\n",
    "        fname = tag_class_dir + '/' + str(tag_num) + '.png'\n",
    "        tag_num += 1\n",
    "        cv2.imwrite(fname, tag)"
   ]
  },
  {
   "cell_type": "code",
   "execution_count": null,
   "metadata": {
    "collapsed": true
   },
   "outputs": [],
   "source": []
  }
 ],
 "metadata": {
  "kernelspec": {
   "display_name": "Python 2",
   "language": "python",
   "name": "python2"
  },
  "language_info": {
   "codemirror_mode": {
    "name": "ipython",
    "version": 2
   },
   "file_extension": ".py",
   "mimetype": "text/x-python",
   "name": "python",
   "nbconvert_exporter": "python",
   "pygments_lexer": "ipython2",
   "version": "2.7.13"
  }
 },
 "nbformat": 4,
 "nbformat_minor": 2
}
