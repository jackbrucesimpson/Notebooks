{
 "cells": [
  {
   "cell_type": "markdown",
   "metadata": {},
   "source": [
    "# Training Neural Net\n",
    "\n",
    "## Outcome"
   ]
  },
  {
   "cell_type": "code",
   "execution_count": 1,
   "metadata": {},
   "outputs": [
    {
     "data": {
      "application/json": {
       "Software versions": [
        {
         "module": "Python",
         "version": "2.7.12 64bit [GCC 5.4.0 20160609]"
        },
        {
         "module": "IPython",
         "version": "5.4.1"
        },
        {
         "module": "OS",
         "version": "Linux 4.8.0 36 generic x86_64 with Ubuntu 16.04 xenial"
        },
        {
         "module": "numpy",
         "version": "1.13.1"
        },
        {
         "module": "scipy",
         "version": "0.19.1"
        },
        {
         "module": "matplotlib",
         "version": "2.0.2"
        },
        {
         "module": "pandas",
         "version": "0.20.3"
        }
       ]
      },
      "text/html": [
       "<table><tr><th>Software</th><th>Version</th></tr><tr><td>Python</td><td>2.7.12 64bit [GCC 5.4.0 20160609]</td></tr><tr><td>IPython</td><td>5.4.1</td></tr><tr><td>OS</td><td>Linux 4.8.0 36 generic x86_64 with Ubuntu 16.04 xenial</td></tr><tr><td>numpy</td><td>1.13.1</td></tr><tr><td>scipy</td><td>0.19.1</td></tr><tr><td>matplotlib</td><td>2.0.2</td></tr><tr><td>pandas</td><td>0.20.3</td></tr><tr><td colspan='2'>Thu Jul 27 16:45:02 2017 AEST</td></tr></table>"
      ],
      "text/latex": [
       "\\begin{tabular}{|l|l|}\\hline\n",
       "{\\bf Software} & {\\bf Version} \\\\ \\hline\\hline\n",
       "Python & 2.7.12 64bit [GCC 5.4.0 20160609] \\\\ \\hline\n",
       "IPython & 5.4.1 \\\\ \\hline\n",
       "OS & Linux 4.8.0 36 generic x86\\_64 with Ubuntu 16.04 xenial \\\\ \\hline\n",
       "numpy & 1.13.1 \\\\ \\hline\n",
       "scipy & 0.19.1 \\\\ \\hline\n",
       "matplotlib & 2.0.2 \\\\ \\hline\n",
       "pandas & 0.20.3 \\\\ \\hline\n",
       "\\hline \\multicolumn{2}{|l|}{Thu Jul 27 16:45:02 2017 AEST} \\\\ \\hline\n",
       "\\end{tabular}\n"
      ],
      "text/plain": [
       "Software versions\n",
       "Python 2.7.12 64bit [GCC 5.4.0 20160609]\n",
       "IPython 5.4.1\n",
       "OS Linux 4.8.0 36 generic x86_64 with Ubuntu 16.04 xenial\n",
       "numpy 1.13.1\n",
       "scipy 0.19.1\n",
       "matplotlib 2.0.2\n",
       "pandas 0.20.3\n",
       "Thu Jul 27 16:45:02 2017 AEST"
      ]
     },
     "execution_count": 1,
     "metadata": {},
     "output_type": "execute_result"
    }
   ],
   "source": [
    "%matplotlib inline\n",
    "from pylab import rcParams\n",
    "rcParams['figure.figsize'] = 12, 6\n",
    "\n",
    "%load_ext autoreload\n",
    "%autoreload 2\n",
    "\n",
    "%load_ext version_information\n",
    "%version_information numpy, scipy, matplotlib, pandas"
   ]
  },
  {
   "cell_type": "code",
   "execution_count": 2,
   "metadata": {
    "collapsed": true
   },
   "outputs": [],
   "source": [
    "import matplotlib.pyplot as plt\n",
    "import matplotlib.cm as cm\n",
    "import numpy as np\n",
    "import cv2\n",
    "import glob\n",
    "import copy\n",
    "import random\n",
    "import pandas as pd\n",
    "\n",
    "import os\n",
    "import sys\n",
    "\n",
    "sys.path.append(\"../src\")\n",
    "from images_permute import processing_pipeline\n",
    "\n",
    "np.random.seed(0)\n",
    "\n",
    "def view(image):\n",
    "    plt.figure()\n",
    "    plt.axis('off')\n",
    "    plt.imshow(image, cmap = cm.Greys_r)"
   ]
  },
  {
   "cell_type": "code",
   "execution_count": 3,
   "metadata": {},
   "outputs": [
    {
     "name": "stdout",
     "output_type": "stream",
     "text": [
      "('/home/jack/Data/merged_sorted/Queen/', 62)\n"
     ]
    }
   ],
   "source": [
    "list_image_directory_paths = glob.glob('/home/jack/Data/merged_sorted/*/')\n",
    "print(list_image_directory_paths[0], len(list_image_directory_paths))"
   ]
  },
  {
   "cell_type": "code",
   "execution_count": 4,
   "metadata": {
    "scrolled": false
   },
   "outputs": [
    {
     "name": "stdout",
     "output_type": "stream",
     "text": [
      "('Queen', '/home/jack/Data/merged_sorted/Queen/')\n",
      "('TT', '/home/jack/Data/merged_sorted/TT/')\n",
      "('Trident', '/home/jack/Data/merged_sorted/Trident/')\n",
      "('w', '/home/jack/Data/merged_sorted/w/')\n",
      "('5', '/home/jack/Data/merged_sorted/5/')\n",
      "('e', '/home/jack/Data/merged_sorted/e/')\n",
      "('Power', '/home/jack/Data/merged_sorted/Power/')\n",
      "('Peace', '/home/jack/Data/merged_sorted/Peace/')\n",
      "('1', '/home/jack/Data/merged_sorted/1/')\n",
      "('EE', '/home/jack/Data/merged_sorted/EE/')\n",
      "('Pillars', '/home/jack/Data/merged_sorted/Pillars/')\n",
      "('ZZ', '/home/jack/Data/merged_sorted/ZZ/')\n",
      "('h', '/home/jack/Data/merged_sorted/h/')\n",
      "('Note1', '/home/jack/Data/merged_sorted/Note1/')\n",
      "('Plane', '/home/jack/Data/merged_sorted/Plane/')\n",
      "('Asterisk', '/home/jack/Data/merged_sorted/Asterisk/')\n",
      "('Umbrella', '/home/jack/Data/merged_sorted/Umbrella/')\n",
      "('arrowhollow', '/home/jack/Data/merged_sorted/arrowhollow/')\n",
      "('a', '/home/jack/Data/merged_sorted/a/')\n",
      "('RR', '/home/jack/Data/merged_sorted/RR/')\n",
      "('6', '/home/jack/Data/merged_sorted/6/')\n",
      "('Ankh', '/home/jack/Data/merged_sorted/Ankh/')\n",
      "('r', '/home/jack/Data/merged_sorted/r/')\n",
      "('AA', '/home/jack/Data/merged_sorted/AA/')\n",
      "('heart', '/home/jack/Data/merged_sorted/heart/')\n",
      "('3', '/home/jack/Data/merged_sorted/3/')\n",
      "('sun', '/home/jack/Data/merged_sorted/sun/')\n",
      "('CircleCross', '/home/jack/Data/merged_sorted/CircleCross/')\n",
      "('Question', '/home/jack/Data/merged_sorted/Question/')\n",
      "('4', '/home/jack/Data/merged_sorted/4/')\n",
      "('KK', '/home/jack/Data/merged_sorted/KK/')\n",
      "('Note2', '/home/jack/Data/merged_sorted/Note2/')\n",
      "('Dot', '/home/jack/Data/merged_sorted/Dot/')\n",
      "('y', '/home/jack/Data/merged_sorted/y/')\n",
      "('8', '/home/jack/Data/merged_sorted/8/')\n",
      "('unknown', '/home/jack/Data/merged_sorted/unknown/')\n",
      "('Triangle', '/home/jack/Data/merged_sorted/Triangle/')\n",
      "('Scissors', '/home/jack/Data/merged_sorted/Scissors/')\n",
      "('Ampersand', '/home/jack/Data/merged_sorted/Ampersand/')\n",
      "('HH', '/home/jack/Data/merged_sorted/HH/')\n",
      "('PP', '/home/jack/Data/merged_sorted/PP/')\n",
      "('Omega', '/home/jack/Data/merged_sorted/Omega/')\n",
      "('leaf', '/home/jack/Data/merged_sorted/leaf/')\n",
      "('circlehalf', '/home/jack/Data/merged_sorted/circlehalf/')\n",
      "('MM', '/home/jack/Data/merged_sorted/MM/')\n",
      "('7', '/home/jack/Data/merged_sorted/7/')\n",
      "('XX', '/home/jack/Data/merged_sorted/XX/')\n",
      "('0', '/home/jack/Data/merged_sorted/0/')\n",
      "('UU', '/home/jack/Data/merged_sorted/UU/')\n",
      "('hash', '/home/jack/Data/merged_sorted/hash/')\n",
      "('SS', '/home/jack/Data/merged_sorted/SS/')\n",
      "('ArrowLine', '/home/jack/Data/merged_sorted/ArrowLine/')\n",
      "('Plant', '/home/jack/Data/merged_sorted/Plant/')\n",
      "('CircleLine', '/home/jack/Data/merged_sorted/CircleLine/')\n",
      "('Tadpole', '/home/jack/Data/merged_sorted/Tadpole/')\n",
      "('DD', '/home/jack/Data/merged_sorted/DD/')\n",
      "('radioactive', '/home/jack/Data/merged_sorted/radioactive/')\n",
      "('2', '/home/jack/Data/merged_sorted/2/')\n",
      "('lines3', '/home/jack/Data/merged_sorted/lines3/')\n",
      "('necklace', '/home/jack/Data/merged_sorted/necklace/')\n",
      "('nn', '/home/jack/Data/merged_sorted/nn/')\n",
      "('GG', '/home/jack/Data/merged_sorted/GG/')\n"
     ]
    }
   ],
   "source": [
    "class_images_dict = {}\n",
    "for image_directory_path in list_image_directory_paths:\n",
    "    image_class_name = os.path.basename(os.path.normpath(image_directory_path))\n",
    "    print(image_class_name, image_directory_path)\n",
    "    class_images_dict[image_class_name] = []\n",
    "    \n",
    "    for image_file in glob.glob(image_directory_path + '*.png'):\n",
    "        image = cv2.imread(image_file, cv2.IMREAD_GRAYSCALE)\n",
    "        class_images_dict[image_class_name].append(image)"
   ]
  },
  {
   "cell_type": "code",
   "execution_count": 5,
   "metadata": {},
   "outputs": [
    {
     "data": {
      "text/plain": [
       "8118"
      ]
     },
     "execution_count": 5,
     "metadata": {},
     "output_type": "execute_result"
    }
   ],
   "source": [
    "len(class_images_dict['AA'])"
   ]
  },
  {
   "cell_type": "code",
   "execution_count": 6,
   "metadata": {},
   "outputs": [
    {
     "data": {
      "image/png": "[encoded data removed]",
      "text/plain": [
       "<matplotlib.figure.Figure at 0x7fa0105cd1d0>"
      ]
     },
     "metadata": {},
     "output_type": "display_data"
    },
    {
     "data": {
      "image/png": "[encoded data removed]",
      "text/plain": [
       "<matplotlib.figure.Figure at 0x7fa04abe4110>"
      ]
     },
     "metadata": {},
     "output_type": "display_data"
    },
    {
     "data": {
      "image/png": "[encoded data removed]",
      "text/plain": [
       "<matplotlib.figure.Figure at 0x7f9fee1ed650>"
      ]
     },
     "metadata": {},
     "output_type": "display_data"
    },
    {
     "data": {
      "image/png": "[encoded data removed]",
      "text/plain": [
       "<matplotlib.figure.Figure at 0x7f9fee102450>"
      ]
     },
     "metadata": {},
     "output_type": "display_data"
    },
    {
     "data": {
      "image/png": "[encoded data removed]",
      "text/plain": [
       "<matplotlib.figure.Figure at 0x7f9fee074a90>"
      ]
     },
     "metadata": {},
     "output_type": "display_data"
    },
    {
     "data": {
      "image/png": "[encoded data removed]",
      "text/plain": [
       "<matplotlib.figure.Figure at 0x7f9fee006990>"
      ]
     },
     "metadata": {},
     "output_type": "display_data"
    }
   ],
   "source": [
    "for i in range(2):\n",
    "    view(class_images_dict['AA'][i])\n",
    "\n",
    "for i in range(2):\n",
    "    view(class_images_dict['KK'][i])\n",
    "    \n",
    "for i in range(2):\n",
    "    view(class_images_dict['2'][i])"
   ]
  },
  {
   "cell_type": "code",
   "execution_count": 9,
   "metadata": {},
   "outputs": [
    {
     "data": {
      "text/plain": [
       "28"
      ]
     },
     "execution_count": 9,
     "metadata": {},
     "output_type": "execute_result"
    }
   ],
   "source": [
    "flat = class_images_dict['2'][0].tolist()\n",
    "len(flat)"
   ]
  },
  {
   "cell_type": "code",
   "execution_count": 13,
   "metadata": {},
   "outputs": [
    {
     "data": {
      "text/html": [
       "<div>\n",
       "<style>\n",
       "    .dataframe thead tr:only-child th {\n",
       "        text-align: right;\n",
       "    }\n",
       "\n",
       "    .dataframe thead th {\n",
       "        text-align: left;\n",
       "    }\n",
       "\n",
       "    .dataframe tbody tr th {\n",
       "        vertical-align: top;\n",
       "    }\n",
       "</style>\n",
       "<table border=\"1\" class=\"dataframe\">\n",
       "  <thead>\n",
       "    <tr style=\"text-align: right;\">\n",
       "      <th></th>\n",
       "      <th>num</th>\n",
       "      <th>tag</th>\n",
       "    </tr>\n",
       "  </thead>\n",
       "  <tbody>\n",
       "    <tr>\n",
       "      <th>0</th>\n",
       "      <td>1</td>\n",
       "      <td>[17, 16, 19, 22, 25, 25, 25, 28, 32, 36, 44, 5...</td>\n",
       "    </tr>\n",
       "    <tr>\n",
       "      <th>1</th>\n",
       "      <td>2</td>\n",
       "      <td>[19, 25, 28, 32, 35, 38, 45, 37, 33, 33, 32, 3...</td>\n",
       "    </tr>\n",
       "    <tr>\n",
       "      <th>2</th>\n",
       "      <td>3</td>\n",
       "      <td>[18, 19, 21, 22, 21, 21, 19, 21, 25, 32, 37, 4...</td>\n",
       "    </tr>\n",
       "  </tbody>\n",
       "</table>\n",
       "</div>"
      ],
      "text/plain": [
       "   num                                                tag\n",
       "0    1  [17, 16, 19, 22, 25, 25, 25, 28, 32, 36, 44, 5...\n",
       "1    2  [19, 25, 28, 32, 35, 38, 45, 37, 33, 33, 32, 3...\n",
       "2    3  [18, 19, 21, 22, 21, 21, 19, 21, 25, 32, 37, 4..."
      ]
     },
     "execution_count": 13,
     "metadata": {},
     "output_type": "execute_result"
    }
   ],
   "source": [
    "df = pd.DataFrame({'num': [1,2,3], 'tag': [class_images_dict['2'][0].flatten().tolist(), class_images_dict['2'][1].flatten().tolist(),class_images_dict['2'][2].flatten().tolist()]})\n",
    "df"
   ]
  },
  {
   "cell_type": "code",
   "execution_count": 17,
   "metadata": {},
   "outputs": [
    {
     "name": "stdout",
     "output_type": "stream",
     "text": [
      "(3, 28, 28)\n",
      "(3, 28, 28, 1)\n"
     ]
    },
    {
     "data": {
      "image/png": "[encoded data removed]",
      "text/plain": [
       "<matplotlib.figure.Figure at 0x1208ba3d0>"
      ]
     },
     "metadata": {},
     "output_type": "display_data"
    }
   ],
   "source": [
    "X = np.array([class_images_dict['2'][0], class_images_dict['2'][1], class_images_dict['2'][2]])\n",
    "print(X.shape)\n",
    "view(X[0])\n",
    "\n",
    "tag_image_array_tf_shaped = X.reshape(X.shape[0], 28, 28, 1)\n",
    "print(tag_image_array_tf_shaped.shape)"
   ]
  },
  {
   "cell_type": "code",
   "execution_count": 34,
   "metadata": {},
   "outputs": [
    {
     "data": {
      "text/plain": [
       "array([[17, 16, 19, ..., 46, 32, 28],\n",
       "       [19, 25, 28, ..., 44, 37, 30],\n",
       "       [18, 19, 21, ..., 29, 29, 25]])"
      ]
     },
     "execution_count": 34,
     "metadata": {},
     "output_type": "execute_result"
    }
   ],
   "source": [
    "tags = np.array(list(df['tag']))\n",
    "tags"
   ]
  },
  {
   "cell_type": "code",
   "execution_count": 35,
   "metadata": {},
   "outputs": [
    {
     "data": {
      "text/plain": [
       "(3, 784)"
      ]
     },
     "execution_count": 35,
     "metadata": {},
     "output_type": "execute_result"
    }
   ],
   "source": [
    "tags.shape"
   ]
  },
  {
   "cell_type": "code",
   "execution_count": 36,
   "metadata": {
    "collapsed": true
   },
   "outputs": [],
   "source": [
    "tags = tags.reshape(tags.shape[0], 28, 28, 1)"
   ]
  },
  {
   "cell_type": "code",
   "execution_count": 38,
   "metadata": {},
   "outputs": [
    {
     "data": {
      "text/plain": [
       "(28, 28, 1)"
      ]
     },
     "execution_count": 38,
     "metadata": {},
     "output_type": "execute_result"
    }
   ],
   "source": [
    "tag1 = tags[0]\n",
    "tag1.shape"
   ]
  },
  {
   "cell_type": "code",
   "execution_count": 39,
   "metadata": {},
   "outputs": [
    {
     "data": {
      "image/png": "[encoded data removed]",
      "text/plain": [
       "<matplotlib.figure.Figure at 0x1208c6210>"
      ]
     },
     "metadata": {},
     "output_type": "display_data"
    }
   ],
   "source": [
    "view(tags[0].reshape(1, 28, 28)[0])"
   ]
  },
  {
   "cell_type": "code",
   "execution_count": 7,
   "metadata": {
    "collapsed": true
   },
   "outputs": [],
   "source": [
    "def norm_image(image):\n",
    "    image[image < 0] = 0\n",
    "    image[image > 255] = 255\n",
    "    return np.uint8(image)\n",
    "\n",
    "def add_noise(image, n_or_u):\n",
    "    noise = np.zeros((28,28), np.uint8)\n",
    "    if n_or_u == 'n':\n",
    "        cv2.randn(noise, 30, 2)\n",
    "    else:\n",
    "        cv2.randu(noise, 20, 2)\n",
    "    noisy_image = np.uint32(image) + noise\n",
    "    noisy_image[noisy_image < 0] = 0\n",
    "    noisy_image[noisy_image > 255] = 255\n",
    "    noisy_image = np.uint8(noisy_image)\n",
    "    return noisy_image\n",
    "\n",
    "def rotate_image(image):\n",
    "    rotated_images = []\n",
    "    for angle in range(90, 360, 90):\n",
    "        M = cv2.getRotationMatrix2D((14,14),angle,1)\n",
    "        r = cv2.warpAffine(image,M,(28,28))\n",
    "        rotated_images.append(r)\n",
    "    return rotated_images\n",
    "\n",
    "def change_brightness_contrast(image):\n",
    "    image_int32 = np.int32(image)\n",
    "    increase_brightness = norm_image(image_int32 + 80)\n",
    "    decrease_brightness = norm_image(image_int32 - 80)\n",
    "    return [increase_brightness, decrease_brightness]\n",
    "    \n",
    "def occlude_edges(image):\n",
    "    full_size = np.zeros((28, 28), dtype=np.uint8)\n",
    "    full_size[2:26, 2:26] = image[2:26, 2:26]\n",
    "    return full_size\n",
    "\n",
    "def mean_smooth(image):\n",
    "    mean_smoothed = cv2.blur(image, (3, 3))\n",
    "    return mean_smoothed\n",
    "\n",
    "def rotate_image_modifications(image):\n",
    "    rotated_images = []\n",
    "    for angle in range(90, 360, 90):\n",
    "        M = cv2.getRotationMatrix2D((14,14),angle,1)\n",
    "        r = cv2.warpAffine(image,M,(28,28))\n",
    "        rotated_images.append(r)\n",
    "    \n",
    "    rotated_images[0] = add_noise(occlude_edges(rotated_images[0]), 'u')\n",
    "    rotated_images[1] = norm_image(np.int32(rotated_images[1]) + 80)\n",
    "    rotated_images[2] = norm_image(np.int32(rotated_images[2]) - 80)\n",
    "    \n",
    "    return rotated_images"
   ]
  },
  {
   "cell_type": "code",
   "execution_count": 8,
   "metadata": {},
   "outputs": [
    {
     "data": {
      "image/png": "[encoded data removed]",
      "text/plain": [
       "<matplotlib.figure.Figure at 0x7fa04505b610>"
      ]
     },
     "metadata": {},
     "output_type": "display_data"
    },
    {
     "data": {
      "image/png": "[encoded data removed]",
      "text/plain": [
       "<matplotlib.figure.Figure at 0x7fa04505b5d0>"
      ]
     },
     "metadata": {},
     "output_type": "display_data"
    },
    {
     "data": {
      "image/png": "[encoded data removed]",
      "text/plain": [
       "<matplotlib.figure.Figure at 0x7f9fe97c5e50>"
      ]
     },
     "metadata": {},
     "output_type": "display_data"
    },
    {
     "data": {
      "image/png": "[encoded data removed]",
      "text/plain": [
       "<matplotlib.figure.Figure at 0x7f9fe9730690>"
      ]
     },
     "metadata": {},
     "output_type": "display_data"
    }
   ],
   "source": [
    "view(class_images_dict['2'][0])\n",
    "for rot_im in rotate_image_modifications(class_images_dict['2'][0]):\n",
    "    view(rot_im)"
   ]
  },
  {
   "cell_type": "code",
   "execution_count": 9,
   "metadata": {},
   "outputs": [
    {
     "name": "stdout",
     "output_type": "stream",
     "text": [
      "('CircleLine', 21979)\n",
      "('heart', 31483)\n",
      "('Note1', 11372)\n",
      "('DD', 18544)\n",
      "('Peace', 20233)\n",
      "('Question', 11864)\n",
      "('Pillars', 46566)\n",
      "('HH', 10322)\n",
      "('Ampersand', 52180)\n",
      "('radioactive', 56492)\n",
      "('PP', 28598)\n",
      "('Umbrella', 7119)\n",
      "('RR', 10427)\n",
      "('Ankh', 24155)\n",
      "('sun', 9234)\n",
      "('TT', 5412)\n",
      "('Trident', 38171)\n",
      "('Asterisk', 26175)\n",
      "('4', 29191)\n",
      "('1', 25417)\n",
      "('0', 49403)\n",
      "('3', 50449)\n",
      "('Plane', 13622)\n",
      "('5', 33364)\n",
      "('arrowhollow', 12206)\n",
      "('7', 26233)\n",
      "('6', 22919)\n",
      "('8', 50096)\n",
      "('Omega', 35036)\n",
      "('CircleCross', 24111)\n",
      "('AA', 8118)\n",
      "('SS', 27285)\n",
      "('Note2', 5740)\n",
      "('hash', 12738)\n",
      "('EE', 16548)\n",
      "('UU', 26626)\n",
      "('Plant', 15522)\n",
      "('lines3', 14093)\n",
      "('nn', 9380)\n",
      "('GG', 12529)\n",
      "('necklace', 15115)\n",
      "('XX', 48148)\n",
      "('ZZ', 40500)\n",
      "('Triangle', 39294)\n",
      "('Dot', 14171)\n",
      "('a', 29950)\n",
      "('e', 35868)\n",
      "('Power', 36941)\n",
      "('KK', 39608)\n",
      "('h', 26713)\n",
      "('Queen', 11149)\n",
      "('Tadpole', 18322)\n",
      "('MM', 37633)\n",
      "('2', 24018)\n",
      "('r', 21290)\n",
      "('ArrowLine', 18905)\n",
      "('circlehalf', 21826)\n",
      "('w', 25506)\n",
      "('unknown', 30154)\n",
      "('y', 29240)\n",
      "('Scissors', 23398)\n",
      "('leaf', 10602)\n"
     ]
    }
   ],
   "source": [
    "X = []\n",
    "image_class_names_index = 0\n",
    "image_class_names = {}\n",
    "y = []\n",
    "\n",
    "for tag_class in class_images_dict.keys():\n",
    "    print(tag_class, len(class_images_dict[tag_class]))\n",
    "    image_class_names[image_class_names_index] = tag_class\n",
    "    for tag in class_images_dict[tag_class]:\n",
    "        #generated_images = [tag]\n",
    "        #generated_images.extend(change_brightness_contrast(tag))\n",
    "        #generated_images.extend(rotate_image(tag))\n",
    "        #generated_images.extend(rotate_image_modifications(tag))\n",
    "        #X.extend(generated_images)\n",
    "        X.append(tag)\n",
    "        #X.append(tag)\n",
    "        #y.extend([image_class_names_index] * len(generated_images))\n",
    "        y.append(image_class_names_index)\n",
    "    image_class_names_index += 1\n",
    "    \n",
    "X = np.array(X)\n",
    "y = np.array(y)"
   ]
  },
  {
   "cell_type": "code",
   "execution_count": 10,
   "metadata": {},
   "outputs": [
    {
     "name": "stdout",
     "output_type": "stream",
     "text": [
      "((1549303, 28, 28), (1549303,))\n",
      "set([0, 1, 2, 3, 4, 5, 6, 7, 8, 9, 10, 11, 12, 13, 14, 15, 16, 17, 18, 19, 20, 21, 22, 23, 24, 25, 26, 27, 28, 29, 30, 31, 32, 33, 34, 35, 36, 37, 38, 39, 40, 41, 42, 43, 44, 45, 46, 47, 48, 49, 50, 51, 52, 53, 54, 55, 56, 57, 58, 59, 60, 61])\n",
      "heart\n"
     ]
    }
   ],
   "source": [
    "print(X.shape, y.shape)\n",
    "print(set(y))\n",
    "print(image_class_names[1])"
   ]
  },
  {
   "cell_type": "code",
   "execution_count": 11,
   "metadata": {},
   "outputs": [
    {
     "name": "stdout",
     "output_type": "stream",
     "text": [
      "((1239442, 28, 28), (1239442,), (309861, 28, 28), (309861,))\n"
     ]
    }
   ],
   "source": [
    "from sklearn.model_selection import train_test_split\n",
    "\n",
    "X_train, X_test, y_train, y_test = train_test_split(X, y, test_size = 0.2, random_state=4)\n",
    "print(X_train.shape, y_train.shape, X_test.shape, y_test.shape)"
   ]
  },
  {
   "cell_type": "code",
   "execution_count": 12,
   "metadata": {},
   "outputs": [
    {
     "name": "stderr",
     "output_type": "stream",
     "text": [
      "Using TensorFlow backend.\n"
     ]
    }
   ],
   "source": [
    "from keras.models import Sequential\n",
    "from keras.layers import Dense, Dropout, Activation, Flatten\n",
    "from keras.layers import Convolution2D, MaxPooling2D\n",
    "from keras.utils import np_utils\n",
    "from keras import backend as K"
   ]
  },
  {
   "cell_type": "code",
   "execution_count": 13,
   "metadata": {
    "collapsed": true
   },
   "outputs": [],
   "source": [
    "Y_train = np_utils.to_categorical(y_train, len(set(y_train)))\n",
    "Y_test = np_utils.to_categorical(y_test, len(set(y_train)))"
   ]
  },
  {
   "cell_type": "code",
   "execution_count": 14,
   "metadata": {},
   "outputs": [
    {
     "data": {
      "text/plain": [
       "(1239442, 28, 28, 1)"
      ]
     },
     "execution_count": 14,
     "metadata": {},
     "output_type": "execute_result"
    }
   ],
   "source": [
    "img_rows = 28\n",
    "img_cols = 28\n",
    "\n",
    "if K.image_dim_ordering() == 'th':\n",
    "    X_train = X_train.reshape(X_train.shape[0], 1, img_rows, img_cols)\n",
    "    X_test = X_test.reshape(X_test.shape[0], 1, img_rows, img_cols)\n",
    "else:\n",
    "    X_train = X_train.reshape(X_train.shape[0], img_rows, img_cols, 1)\n",
    "    X_test = X_test.reshape(X_test.shape[0], img_rows, img_cols, 1)\n",
    "\n",
    "X_train.shape"
   ]
  },
  {
   "cell_type": "code",
   "execution_count": 15,
   "metadata": {
    "collapsed": true
   },
   "outputs": [],
   "source": [
    "X_train = X_train.astype('float32')\n",
    "X_test = X_test.astype('float32')\n",
    "X_train /= 255\n",
    "X_test /= 255"
   ]
  },
  {
   "cell_type": "code",
   "execution_count": 16,
   "metadata": {
    "collapsed": true
   },
   "outputs": [],
   "source": [
    "del X\n",
    "del y"
   ]
  },
  {
   "cell_type": "code",
   "execution_count": 17,
   "metadata": {
    "collapsed": true
   },
   "outputs": [],
   "source": [
    "model = Sequential()\n",
    "# input layer\n",
    "#model.add(Convolution2D(32, (3, 3), activation='relu', input_shape=(1,28,28))) # if theano backend\n",
    "model.add(Convolution2D(32, (3, 3), activation='relu', input_shape=(28, 28, 1)))\n",
    "\n",
    "model.add(Convolution2D(32, (3, 3), activation='relu'))\n",
    "model.add(MaxPooling2D(pool_size=(2,2)))\n",
    "model.add(Dropout(0.25))\n",
    "\n",
    "model.add(Flatten())\n",
    "model.add(Dense(128, activation='relu'))\n",
    "model.add(Dropout(0.5))\n",
    "model.add(Dense(62, activation='softmax'))\n",
    "\n",
    "model.compile(loss='categorical_crossentropy', optimizer='adam', metrics=['accuracy'])"
   ]
  },
  {
   "cell_type": "code",
   "execution_count": 18,
   "metadata": {},
   "outputs": [
    {
     "name": "stdout",
     "output_type": "stream",
     "text": [
      "Epoch 1/10\n",
      "1239442/1239442 [==============================] - 148s - loss: 1.3688 - acc: 0.6004   \n",
      "Epoch 2/10\n",
      "1239442/1239442 [==============================] - 146s - loss: 0.9988 - acc: 0.7073   \n",
      "Epoch 3/10\n",
      "1239442/1239442 [==============================] - 147s - loss: 0.9050 - acc: 0.7364   \n",
      "Epoch 4/10\n",
      "1239442/1239442 [==============================] - 147s - loss: 0.8516 - acc: 0.7531   \n",
      "Epoch 5/10\n",
      "1239442/1239442 [==============================] - 147s - loss: 0.8192 - acc: 0.7633   \n",
      "Epoch 6/10\n",
      "1239442/1239442 [==============================] - 145s - loss: 0.8066 - acc: 0.7678   \n",
      "Epoch 7/10\n",
      "1239442/1239442 [==============================] - 147s - loss: 0.8000 - acc: 0.7695   \n",
      "Epoch 8/10\n",
      "1239442/1239442 [==============================] - 147s - loss: 0.7947 - acc: 0.7720   \n",
      "Epoch 9/10\n",
      "1239442/1239442 [==============================] - 145s - loss: 0.7896 - acc: 0.7724   \n",
      "Epoch 10/10\n",
      "1239442/1239442 [==============================] - 143s - loss: 0.7864 - acc: 0.7738   \n"
     ]
    },
    {
     "data": {
      "text/plain": [
       "<keras.callbacks.History at 0x7f9fe695bdd0>"
      ]
     },
     "execution_count": 18,
     "metadata": {},
     "output_type": "execute_result"
    }
   ],
   "source": [
    "model.fit(X_train, Y_train, batch_size=32, epochs=10, verbose=1)"
   ]
  },
  {
   "cell_type": "code",
   "execution_count": 20,
   "metadata": {
    "collapsed": true
   },
   "outputs": [],
   "source": [
    "model.save('model.h5')"
   ]
  },
  {
   "cell_type": "code",
   "execution_count": 21,
   "metadata": {},
   "outputs": [
    {
     "name": "stdout",
     "output_type": "stream",
     "text": [
      "{0: 'CircleLine', 1: 'heart', 2: 'Note1', 3: 'DD', 4: 'Peace', 5: 'Question', 6: 'Pillars', 7: 'HH', 8: 'Ampersand', 9: 'radioactive', 10: 'PP', 11: 'Umbrella', 12: 'RR', 13: 'Ankh', 14: 'sun', 15: 'TT', 16: 'Trident', 17: 'Asterisk', 18: '4', 19: '1', 20: '0', 21: '3', 22: 'Plane', 23: '5', 24: 'arrowhollow', 25: '7', 26: '6', 27: '8', 28: 'Omega', 29: 'CircleCross', 30: 'AA', 31: 'SS', 32: 'Note2', 33: 'hash', 34: 'EE', 35: 'UU', 36: 'Plant', 37: 'lines3', 38: 'nn', 39: 'GG', 40: 'necklace', 41: 'XX', 42: 'ZZ', 43: 'Triangle', 44: 'Dot', 45: 'a', 46: 'e', 47: 'Power', 48: 'KK', 49: 'h', 50: 'Queen', 51: 'Tadpole', 52: 'MM', 53: '2', 54: 'r', 55: 'ArrowLine', 56: 'circlehalf', 57: 'w', 58: 'unknown', 59: 'y', 60: 'Scissors', 61: 'leaf'}\n"
     ]
    }
   ],
   "source": [
    "print(image_class_names)"
   ]
  },
  {
   "cell_type": "code",
   "execution_count": 22,
   "metadata": {},
   "outputs": [
    {
     "name": "stdout",
     "output_type": "stream",
     "text": [
      "309472/309861 [============================>.] - ETA: 0s"
     ]
    },
    {
     "data": {
      "text/plain": [
       "array([45, 19, 26, ..., 41, 14, 27])"
      ]
     },
     "execution_count": 22,
     "metadata": {},
     "output_type": "execute_result"
    }
   ],
   "source": [
    "pc = model.predict_classes(X_test)\n",
    "pc"
   ]
  },
  {
   "cell_type": "code",
   "execution_count": 23,
   "metadata": {},
   "outputs": [
    {
     "name": "stdout",
     "output_type": "stream",
     "text": [
      "309216/309861 [============================>.] - ETA: 0s"
     ]
    },
    {
     "data": {
      "text/plain": [
       "[0.38235073245208306, 0.9047411581321948]"
      ]
     },
     "execution_count": 23,
     "metadata": {},
     "output_type": "execute_result"
    }
   ],
   "source": [
    "score = model.evaluate(X_test, Y_test) #, verbose=0\n",
    "score"
   ]
  },
  {
   "cell_type": "code",
   "execution_count": 23,
   "metadata": {},
   "outputs": [
    {
     "data": {
      "text/plain": [
       "array([26, 52, 55, ..., 55, 23, 42])"
      ]
     },
     "execution_count": 23,
     "metadata": {},
     "output_type": "execute_result"
    }
   ],
   "source": [
    "pc"
   ]
  },
  {
   "cell_type": "code",
   "execution_count": 25,
   "metadata": {},
   "outputs": [
    {
     "data": {
      "text/plain": [
       "array([ 0.,  0.,  0.,  0.,  0.,  0.,  0.,  0.,  0.,  0.,  0.,  0.,  0.,\n",
       "        0.,  0.,  0.,  0.,  0.,  0.,  0.,  0.,  0.,  0.,  0.,  0.,  0.,\n",
       "        1.,  0.,  0.,  0.,  0.,  0.,  0.,  0.,  0.,  0.,  0.,  0.,  0.,\n",
       "        0.,  0.,  0.,  0.,  0.,  0.,  0.,  0.,  0.,  0.,  0.,  0.,  0.,\n",
       "        0.,  0.,  0.,  0.,  0.,  0.,  0.,  0.,  0.,  0.])"
      ]
     },
     "execution_count": 25,
     "metadata": {},
     "output_type": "execute_result"
    }
   ],
   "source": [
    "Y_test[0]"
   ]
  },
  {
   "cell_type": "code",
   "execution_count": 55,
   "metadata": {},
   "outputs": [
    {
     "data": {
      "text/plain": [
       "'0'"
      ]
     },
     "execution_count": 55,
     "metadata": {},
     "output_type": "execute_result"
    },
    {
     "data": {
      "image/png": "[encoded data removed]",
      "text/plain": [
       "<matplotlib.figure.Figure at 0x16c7bc610>"
      ]
     },
     "metadata": {},
     "output_type": "display_data"
    }
   ],
   "source": [
    "view(X_test[6].reshape(1, 28, 28)[0])\n",
    "image_class_names[pc[6]]"
   ]
  },
  {
   "cell_type": "code",
   "execution_count": 56,
   "metadata": {},
   "outputs": [
    {
     "data": {
      "text/plain": [
       "{0: 'CircleLine',\n",
       " 1: 'heart',\n",
       " 2: 'Note1',\n",
       " 3: 'DD',\n",
       " 4: 'Note2',\n",
       " 5: 'EE',\n",
       " 6: 'Pillars',\n",
       " 7: 'HH',\n",
       " 8: 'Ampersand',\n",
       " 9: 'Plant',\n",
       " 10: 'leaf',\n",
       " 11: 'arrowhollow',\n",
       " 12: 'nn',\n",
       " 13: 'Ankh',\n",
       " 14: 'sun',\n",
       " 15: 'TT',\n",
       " 16: 'Trident',\n",
       " 17: 'Asterisk',\n",
       " 18: 'UU',\n",
       " 19: '1',\n",
       " 20: '0',\n",
       " 21: '3',\n",
       " 22: '2',\n",
       " 23: '5',\n",
       " 24: '4',\n",
       " 25: '7',\n",
       " 26: '6',\n",
       " 27: '8',\n",
       " 28: 'Omega',\n",
       " 29: 'CircleCross',\n",
       " 30: 'AA',\n",
       " 31: 'SS',\n",
       " 32: 'Peace',\n",
       " 33: 'hash',\n",
       " 34: 'Tadpole',\n",
       " 35: 'ArrowLine',\n",
       " 36: 'Question',\n",
       " 37: 'RR',\n",
       " 38: 'PP',\n",
       " 39: 'lines3',\n",
       " 40: 'GG',\n",
       " 41: 'y',\n",
       " 42: 'XX',\n",
       " 43: 'ZZ',\n",
       " 44: 'radioactive',\n",
       " 45: 'Triangle',\n",
       " 46: 'Umbrella',\n",
       " 47: 'Dot',\n",
       " 48: 'a',\n",
       " 49: 'e',\n",
       " 50: 'Power',\n",
       " 51: 'KK',\n",
       " 52: 'h',\n",
       " 53: 'Queen',\n",
       " 54: 'Plane',\n",
       " 55: 'MM',\n",
       " 56: 'r',\n",
       " 57: 'circlehalf',\n",
       " 58: 'w',\n",
       " 59: 'unknown',\n",
       " 60: 'necklace',\n",
       " 61: 'Scissors'}"
      ]
     },
     "execution_count": 56,
     "metadata": {},
     "output_type": "execute_result"
    }
   ],
   "source": [
    "image_class_names"
   ]
  },
  {
   "cell_type": "code",
   "execution_count": 20,
   "metadata": {
    "collapsed": true
   },
   "outputs": [],
   "source": [
    "from sklearn.metrics import confusion_matrix"
   ]
  },
  {
   "cell_type": "code",
   "execution_count": 69,
   "metadata": {
    "collapsed": true
   },
   "outputs": [],
   "source": [
    "cm = confusion_matrix(y_test, pc, labels=None, sample_weight=None)"
   ]
  },
  {
   "cell_type": "code",
   "execution_count": 70,
   "metadata": {},
   "outputs": [
    {
     "data": {
      "image/png": "[encoded data removed]",
      "text/plain": [
       "<matplotlib.figure.Figure at 0x16afb9f90>"
      ]
     },
     "metadata": {},
     "output_type": "display_data"
    }
   ],
   "source": [
    "plt.matshow(cm)\n",
    "plt.title('Confusion matrix')\n",
    "plt.colorbar()\n",
    "plt.ylabel('True label')\n",
    "plt.xlabel('Predicted label')\n",
    "plt.show()"
   ]
  },
  {
   "cell_type": "code",
   "execution_count": null,
   "metadata": {
    "collapsed": true
   },
   "outputs": [],
   "source": []
  }
 ],
 "metadata": {
  "kernelspec": {
   "display_name": "Python 2",
   "language": "python",
   "name": "python2"
  },
  "language_info": {
   "codemirror_mode": {
    "name": "ipython",
    "version": 2
   },
   "file_extension": ".py",
   "mimetype": "text/x-python",
   "name": "python",
   "nbconvert_exporter": "python",
   "pygments_lexer": "ipython2",
   "version": "2.7.12"
  }
 },
 "nbformat": 4,
 "nbformat_minor": 2
}
