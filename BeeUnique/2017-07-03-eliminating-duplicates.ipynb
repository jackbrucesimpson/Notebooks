{
 "cells": [
  {
   "cell_type": "markdown",
   "metadata": {},
   "source": [
    "# Eliminating duplicates\n",
    "- Thousands of training images\n",
    "- Too many duplicates\n",
    "\n",
    "## Outcome\n",
    "- Used hashing to remove duplicates\n",
    "- Hashing by itself didn't appear to work too well\n",
    "- MSE worked much better"
   ]
  },
  {
   "cell_type": "code",
   "execution_count": 54,
   "metadata": {},
   "outputs": [
    {
     "name": "stdout",
     "output_type": "stream",
     "text": [
      "The autoreload extension is already loaded. To reload it, use:\n",
      "  %reload_ext autoreload\n",
      "The version_information extension is already loaded. To reload it, use:\n",
      "  %reload_ext version_information\n"
     ]
    },
    {
     "data": {
      "application/json": {
       "Software versions": [
        {
         "module": "Python",
         "version": "2.7.13 64bit [GCC 4.2.1 Compatible Apple LLVM 8.0.0 (clang-800.0.42.1)]"
        },
        {
         "module": "IPython",
         "version": "5.4.1"
        },
        {
         "module": "OS",
         "version": "Darwin 16.6.0 x86_64 i386 64bit"
        },
        {
         "module": "numpy",
         "version": "1.13.0"
        },
        {
         "module": "scipy",
         "version": "0.19.1"
        },
        {
         "module": "matplotlib",
         "version": "2.0.2"
        },
        {
         "module": "pandas",
         "version": "0.20.2"
        }
       ]
      },
      "text/html": [
       "<table><tr><th>Software</th><th>Version</th></tr><tr><td>Python</td><td>2.7.13 64bit [GCC 4.2.1 Compatible Apple LLVM 8.0.0 (clang-800.0.42.1)]</td></tr><tr><td>IPython</td><td>5.4.1</td></tr><tr><td>OS</td><td>Darwin 16.6.0 x86_64 i386 64bit</td></tr><tr><td>numpy</td><td>1.13.0</td></tr><tr><td>scipy</td><td>0.19.1</td></tr><tr><td>matplotlib</td><td>2.0.2</td></tr><tr><td>pandas</td><td>0.20.2</td></tr><tr><td colspan='2'>Sun Jul 09 22:30:49 2017 AEST</td></tr></table>"
      ],
      "text/latex": [
       "\\begin{tabular}{|l|l|}\\hline\n",
       "{\\bf Software} & {\\bf Version} \\\\ \\hline\\hline\n",
       "Python & 2.7.13 64bit [GCC 4.2.1 Compatible Apple LLVM 8.0.0 (clang-800.0.42.1)] \\\\ \\hline\n",
       "IPython & 5.4.1 \\\\ \\hline\n",
       "OS & Darwin 16.6.0 x86\\_64 i386 64bit \\\\ \\hline\n",
       "numpy & 1.13.0 \\\\ \\hline\n",
       "scipy & 0.19.1 \\\\ \\hline\n",
       "matplotlib & 2.0.2 \\\\ \\hline\n",
       "pandas & 0.20.2 \\\\ \\hline\n",
       "\\hline \\multicolumn{2}{|l|}{Sun Jul 09 22:30:49 2017 AEST} \\\\ \\hline\n",
       "\\end{tabular}\n"
      ],
      "text/plain": [
       "Software versions\n",
       "Python 2.7.13 64bit [GCC 4.2.1 Compatible Apple LLVM 8.0.0 (clang-800.0.42.1)]\n",
       "IPython 5.4.1\n",
       "OS Darwin 16.6.0 x86_64 i386 64bit\n",
       "numpy 1.13.0\n",
       "scipy 0.19.1\n",
       "matplotlib 2.0.2\n",
       "pandas 0.20.2\n",
       "Sun Jul 09 22:30:49 2017 AEST"
      ]
     },
     "execution_count": 54,
     "metadata": {},
     "output_type": "execute_result"
    }
   ],
   "source": [
    "%matplotlib inline\n",
    "#from pylab import rcParams\n",
    "#rcParams['figure.figsize'] = 12, 8\n",
    "\n",
    "%load_ext autoreload\n",
    "%autoreload 2\n",
    "\n",
    "%load_ext version_information\n",
    "%version_information numpy, scipy, matplotlib, pandas"
   ]
  },
  {
   "cell_type": "code",
   "execution_count": 55,
   "metadata": {},
   "outputs": [],
   "source": [
    "import matplotlib.pyplot as plt\n",
    "import matplotlib.cm as cm\n",
    "import numpy as np\n",
    "import cv2\n",
    "import glob\n",
    "import copy\n",
    "\n",
    "import os\n",
    "import sys\n",
    "import glob\n",
    "import hashlib\n",
    "import uuid\n",
    "from sklearn.metrics import mean_squared_error\n",
    "\n",
    "#sys.path.append(\"../src\")\n",
    "#from images_permute import processing_pipeline\n",
    "\n",
    "np.random.seed(0)\n",
    "\n",
    "def view(image):\n",
    "    plt.figure()\n",
    "    plt.axis('off')\n",
    "    plt.imshow(image, cmap = cm.Greys_r)"
   ]
  },
  {
   "cell_type": "markdown",
   "metadata": {},
   "source": [
    "## Test hashing on image directory"
   ]
  },
  {
   "cell_type": "code",
   "execution_count": null,
   "metadata": {},
   "outputs": [],
   "source": [
    "hashed_images = {}\n",
    "n = 0\n",
    "for image_file in glob.glob('/Users/jacksimpson/Data/beeunique/output/All/queen/*.png'):\n",
    "    n += 1\n",
    "    image = cv2.imread(image_file, cv2.IMREAD_GRAYSCALE)\n",
    "    h = hashlib.sha1(image).hexdigest()\n",
    "    if h in hashed_images.keys():\n",
    "        pass\n",
    "        #print(h, len(hashed_images.keys()))\n",
    "        #view(image)\n",
    "        #view(hashed_images[h])\n",
    "    else:\n",
    "        hashed_images[h] = image\n",
    "print(len(hashed_images.keys()), n)"
   ]
  },
  {
   "cell_type": "markdown",
   "metadata": {},
   "source": [
    "## Verdict\n",
    "Hashing doesn't seem to be working too well\n",
    "\n",
    "## Comparing using mean squared error"
   ]
  },
  {
   "cell_type": "code",
   "execution_count": 56,
   "metadata": {},
   "outputs": [],
   "source": [
    "def mse(imageA, imageB):\n",
    "    err = np.sum((imageA.astype(\"float\") - imageB.astype(\"float\")) ** 2)\n",
    "    err /= float(imageA.shape[0] * imageA.shape[1])\n",
    "    return err"
   ]
  },
  {
   "cell_type": "code",
   "execution_count": 4,
   "metadata": {},
   "outputs": [
    {
     "name": "stdout",
     "output_type": "stream",
     "text": [
      "(0, 0)\n"
     ]
    }
   ],
   "source": [
    "images = []\n",
    "n = 0\n",
    "for image_file in glob.glob('/Users/jacksimpson/Data/beeunique/output/All/1/*.png'):\n",
    "    n += 1\n",
    "    image = cv2.imread(image_file, cv2.IMREAD_GRAYSCALE)\n",
    "    unseen_image = True\n",
    "    for im in images:\n",
    "        err = (mse(image, im))\n",
    "        if err < 100:\n",
    "            unseen_image = False\n",
    "            break\n",
    "            #view(image)\n",
    "            #view(im)\n",
    "        #print(err)\n",
    "    if unseen_image:\n",
    "        images.append(image)\n",
    "    \n",
    "    if n % 1000 == 0:\n",
    "        print(n)\n",
    "    if n % 5000 == 0:\n",
    "        break\n",
    "        \n",
    "print(len(images), n)"
   ]
  },
  {
   "cell_type": "markdown",
   "metadata": {},
   "source": [
    "## Vertdict\n",
    "MSE seems to work well when eliminating similar images\n",
    "\n",
    "## Applying MSE to other image directories"
   ]
  },
  {
   "cell_type": "code",
   "execution_count": 7,
   "metadata": {},
   "outputs": [
    {
     "name": "stdout",
     "output_type": "stream",
     "text": [
      "False\n",
      "107.570153061\n"
     ]
    },
    {
     "data": {
      "image/png": "[encoded data removed]",
      "text/plain": [
       "<matplotlib.figure.Figure at 0x10aaafd90>"
      ]
     },
     "metadata": {},
     "output_type": "display_data"
    },
    {
     "data": {
      "image/png": "[encoded data removed]",
      "text/plain": [
       "<matplotlib.figure.Figure at 0x10af17190>"
      ]
     },
     "metadata": {},
     "output_type": "display_data"
    }
   ],
   "source": [
    "images = []\n",
    "n = 0\n",
    "for image_file in glob.glob('/Users/jacksimpson/Data/beeunique/output/All/1/1a/*.png'):\n",
    "    n += 1\n",
    "    if n == 100:\n",
    "        break\n",
    "    image = cv2.imread(image_file, cv2.IMREAD_GRAYSCALE)\n",
    "    unseen_image = True\n",
    "    for prev_image in images:\n",
    "        err = (mse(image, prev_image))\n",
    "        if err > 100 and err < 200:\n",
    "            unseen_image = False\n",
    "            print(unseen_image)\n",
    "            view(prev_image)\n",
    "            view(image)\n",
    "            #print('\\n')\n",
    "            break\n",
    "    if unseen_image:\n",
    "        images.append(image)\n",
    "    else:\n",
    "        print(err)\n",
    "        break"
   ]
  },
  {
   "cell_type": "code",
   "execution_count": 30,
   "metadata": {},
   "outputs": [
    {
     "name": "stdout",
     "output_type": "stream",
     "text": [
      "Done\n",
      "CPU times: user 656 ms, sys: 94.4 ms, total: 750 ms\n",
      "Wall time: 750 ms\n"
     ]
    }
   ],
   "source": [
    "%%time\n",
    "images = []\n",
    "n = 0\n",
    "for image_file in glob.glob('/Users/jacksimpson/Data/beeunique/output/All/1/1a/*.png'):\n",
    "    n += 1\n",
    "    if n == 5000:\n",
    "        break\n",
    "    image = cv2.imread(image_file, cv2.IMREAD_GRAYSCALE)\n",
    "    unseen_image = True\n",
    "    for prev_image in images:\n",
    "        err = (mean_squared_error(image, prev_image))\n",
    "        if err < 200:\n",
    "            unseen_image = False\n",
    "            break\n",
    "    if unseen_image:\n",
    "        images.append(image)\n",
    "        \n",
    "print('Done')"
   ]
  },
  {
   "cell_type": "code",
   "execution_count": 8,
   "metadata": {},
   "outputs": [
    {
     "name": "stdout",
     "output_type": "stream",
     "text": [
      "('/Users/jacksimpson/Data/beeunique/output/All/0/', 65)\n"
     ]
    }
   ],
   "source": [
    "list_image_directory_paths = glob.glob('/Users/jacksimpson/Data/beeunique/output/All/*/')\n",
    "print(list_image_directory_paths[0], len(list_image_directory_paths))"
   ]
  },
  {
   "cell_type": "code",
   "execution_count": 9,
   "metadata": {},
   "outputs": [
    {
     "name": "stdout",
     "output_type": "stream",
     "text": [
      "('0', '/Users/jacksimpson/Data/beeunique/output/All/0/')\n",
      "(6219, 10591)\n",
      "('1', '/Users/jacksimpson/Data/beeunique/output/All/1/')\n",
      "(1466, 28267)\n",
      "('2', '/Users/jacksimpson/Data/beeunique/output/All/2/')\n",
      "(1723, 20616)\n",
      "('3', '/Users/jacksimpson/Data/beeunique/output/All/3/')\n",
      "(13538, 68218)\n",
      "('4', '/Users/jacksimpson/Data/beeunique/output/All/4/')\n",
      "(5833, 12798)\n",
      "('5', '/Users/jacksimpson/Data/beeunique/output/All/5/')\n",
      "(6337, 12011)\n",
      "('6', '/Users/jacksimpson/Data/beeunique/output/All/6/')\n",
      "(4345, 10445)\n",
      "('7', '/Users/jacksimpson/Data/beeunique/output/All/7/')\n",
      "(7226, 22481)\n",
      "('8', '/Users/jacksimpson/Data/beeunique/output/All/8/')\n",
      "(6289, 13130)\n",
      "('a', '/Users/jacksimpson/Data/beeunique/output/All/a/')\n",
      "(3454, 9015)\n",
      "('AA', '/Users/jacksimpson/Data/beeunique/output/All/AA/')\n",
      "(5858, 28191)\n",
      "('Ampersand', '/Users/jacksimpson/Data/beeunique/output/All/Ampersand/')\n",
      "(9636, 30333)\n",
      "('Ankh', '/Users/jacksimpson/Data/beeunique/output/All/Ankh/')\n",
      "(4639, 12257)\n",
      "('ArrowLine', '/Users/jacksimpson/Data/beeunique/output/All/ArrowLine/')\n",
      "(2431, 3881)\n",
      "('Asterisk', '/Users/jacksimpson/Data/beeunique/output/All/Asterisk/')\n",
      "(5958, 55154)\n",
      "('b', '/Users/jacksimpson/Data/beeunique/output/All/b/')\n",
      "(4841, 17262)\n",
      "('BB', '/Users/jacksimpson/Data/beeunique/output/All/BB/')\n",
      "(11324, 22702)\n",
      "('Circle_Line', '/Users/jacksimpson/Data/beeunique/output/All/Circle_Line/')\n",
      "(7980, 12247)\n",
      "('CircleCross', '/Users/jacksimpson/Data/beeunique/output/All/CircleCross/')\n",
      "(8762, 18354)\n",
      "('DD', '/Users/jacksimpson/Data/beeunique/output/All/DD/')\n",
      "(7166, 18647)\n",
      "('Dot', '/Users/jacksimpson/Data/beeunique/output/All/Dot/')\n",
      "(4202, 12951)\n",
      "('e', '/Users/jacksimpson/Data/beeunique/output/All/e/')\n",
      "(10995, 21883)\n",
      "('EE', '/Users/jacksimpson/Data/beeunique/output/All/EE/')\n",
      "(4614, 8123)\n",
      "('f', '/Users/jacksimpson/Data/beeunique/output/All/f/')\n",
      "(5741, 15362)\n",
      "('g', '/Users/jacksimpson/Data/beeunique/output/All/g/')\n",
      "(8499, 16371)\n",
      "('GG', '/Users/jacksimpson/Data/beeunique/output/All/GG/')\n",
      "(5962, 13412)\n",
      "('h', '/Users/jacksimpson/Data/beeunique/output/All/h/')\n",
      "(5758, 9803)\n",
      "('Halfcircle', '/Users/jacksimpson/Data/beeunique/output/All/Halfcircle/')\n",
      "(7376, 21597)\n",
      "('Hash', '/Users/jacksimpson/Data/beeunique/output/All/Hash/')\n",
      "(3519, 11169)\n",
      "('Heart', '/Users/jacksimpson/Data/beeunique/output/All/Heart/')\n",
      "(7293, 30117)\n",
      "('HH', '/Users/jacksimpson/Data/beeunique/output/All/HH/')\n",
      "(3527, 7438)\n",
      "('HollowArrow', '/Users/jacksimpson/Data/beeunique/output/All/HollowArrow/')\n",
      "(2873, 12542)\n",
      "('JJ', '/Users/jacksimpson/Data/beeunique/output/All/JJ/')\n",
      "(3406, 20185)\n",
      "('KK', '/Users/jacksimpson/Data/beeunique/output/All/KK/')\n",
      "(5103, 10797)\n",
      "('Leaf', '/Users/jacksimpson/Data/beeunique/output/All/Leaf/')\n",
      "(4747, 18795)\n",
      "('Lines3', '/Users/jacksimpson/Data/beeunique/output/All/Lines3/')\n",
      "(4433, 7687)\n",
      "('MM', '/Users/jacksimpson/Data/beeunique/output/All/MM/')\n",
      "(6545, 15126)\n",
      "('n', '/Users/jacksimpson/Data/beeunique/output/All/n/')\n",
      "(5696, 18065)\n",
      "('Necklace', '/Users/jacksimpson/Data/beeunique/output/All/Necklace/')\n",
      "(5512, 37106)\n",
      "('Note1', '/Users/jacksimpson/Data/beeunique/output/All/Note1/')\n",
      "(3719, 19408)\n",
      "('Notes2', '/Users/jacksimpson/Data/beeunique/output/All/Notes2/')\n",
      "(959, 5503)\n",
      "('Omega', '/Users/jacksimpson/Data/beeunique/output/All/Omega/')\n",
      "(4965, 14831)\n",
      "('Peace', '/Users/jacksimpson/Data/beeunique/output/All/Peace/')\n",
      "(5901, 11981)\n",
      "('Pillars', '/Users/jacksimpson/Data/beeunique/output/All/Pillars/')\n",
      "(10129, 21214)\n",
      "('Plane', '/Users/jacksimpson/Data/beeunique/output/All/Plane/')\n",
      "(2203, 4561)\n",
      "('Plant', '/Users/jacksimpson/Data/beeunique/output/All/Plant/')\n",
      "(1687, 28820)\n",
      "('Power', '/Users/jacksimpson/Data/beeunique/output/All/Power/')\n",
      "(7743, 13586)\n",
      "('PP', '/Users/jacksimpson/Data/beeunique/output/All/PP/')\n",
      "(3620, 14943)\n",
      "('queen', '/Users/jacksimpson/Data/beeunique/output/All/queen/')\n",
      "(700, 21978)\n",
      "('Question', '/Users/jacksimpson/Data/beeunique/output/All/Question/')\n",
      "(4103, 14189)\n",
      "('r', '/Users/jacksimpson/Data/beeunique/output/All/r/')\n",
      "(6715, 18146)\n",
      "('Radioactive', '/Users/jacksimpson/Data/beeunique/output/All/Radioactive/')\n",
      "(5211, 11782)\n",
      "('RR', '/Users/jacksimpson/Data/beeunique/output/All/RR/')\n",
      "(3522, 25155)\n",
      "('Scissors', '/Users/jacksimpson/Data/beeunique/output/All/Scissors/')\n",
      "(3719, 17618)\n",
      "('SS', '/Users/jacksimpson/Data/beeunique/output/All/SS/')\n",
      "(4316, 14522)\n",
      "('Tadpole', '/Users/jacksimpson/Data/beeunique/output/All/Tadpole/')\n",
      "(5301, 24269)\n",
      "('Triangle', '/Users/jacksimpson/Data/beeunique/output/All/Triangle/')\n",
      "(6572, 15329)\n",
      "('Trident', '/Users/jacksimpson/Data/beeunique/output/All/Trident/')\n",
      "(9870, 17598)\n",
      "('TT', '/Users/jacksimpson/Data/beeunique/output/All/TT/')\n",
      "(3943, 12068)\n",
      "('Umbrella', '/Users/jacksimpson/Data/beeunique/output/All/Umbrella/')\n",
      "(3358, 12740)\n",
      "('UU', '/Users/jacksimpson/Data/beeunique/output/All/UU/')\n",
      "(5253, 11717)\n",
      "('w', '/Users/jacksimpson/Data/beeunique/output/All/w/')\n",
      "(6028, 12725)\n",
      "('XX', '/Users/jacksimpson/Data/beeunique/output/All/XX/')\n",
      "(3852, 9631)\n",
      "('y', '/Users/jacksimpson/Data/beeunique/output/All/y/')\n",
      "(546, 7183)\n",
      "('ZZ', '/Users/jacksimpson/Data/beeunique/output/All/ZZ/')\n",
      "(9067, 41249)\n"
     ]
    }
   ],
   "source": [
    "images = {}\n",
    "\n",
    "for image_directory_path in list_image_directory_paths:\n",
    "    image_class_name = os.path.basename(os.path.normpath(image_directory_path))\n",
    "    print(image_class_name, image_directory_path)\n",
    "    n = 0\n",
    "    images[image_class_name] = []\n",
    "    for image_dir in glob.glob(image_directory_path + '*/'):\n",
    "        for image_file in glob.glob(image_dir + '*.png'):\n",
    "            n += 1\n",
    "            image = cv2.imread(image_file, cv2.IMREAD_GRAYSCALE)\n",
    "            unseen_image = True\n",
    "            for prev_image in images[image_class_name]:\n",
    "                err = (mse(image, prev_image))\n",
    "                if err < 200:\n",
    "                    unseen_image = False\n",
    "                    break\n",
    "            \n",
    "            if unseen_image:\n",
    "                images[image_class_name].append(image)\n",
    "            \n",
    "    print(len(images[image_class_name]), n)"
   ]
  },
  {
   "cell_type": "code",
   "execution_count": 10,
   "metadata": {},
   "outputs": [
    {
     "name": "stdout",
     "output_type": "stream",
     "text": [
      "['Trident', 'Leaf', 'BB', 'Note1', 'DD', 'Peace', 'EE', 'Pillars', 'HH', 'Ampersand', 'JJ', 'Notes2', 'Plant', 'Hash', 'Power', 'Ankh', 'TT', 'HollowArrow', 'Asterisk', 'UU', 'Lines3', '1', '0', '3', '2', '5', '4', '7', '6', '8', 'Omega', 'CircleCross', 'AA', 'SS', 'Circle_Line', 'queen', 'Radioactive', 'Tadpole', 'ArrowLine', 'Question', 'RR', 'PP', 'GG', 'XX', 'ZZ', 'Necklace', 'Triangle', 'Umbrella', 'Dot', 'a', 'Heart', 'b', 'e', 'Halfcircle', 'g', 'f', 'KK', 'h', 'Plane', 'n', 'MM', 'r', 'w', 'y', 'Scissors']\n"
     ]
    }
   ],
   "source": [
    "print(images.keys())"
   ]
  },
  {
   "cell_type": "code",
   "execution_count": 13,
   "metadata": {},
   "outputs": [],
   "source": [
    "for tag in images.keys():\n",
    "    tag_class_dir = '/Users/jacksimpson/Data/beeunique/training/All/{}'.format(tag)\n",
    "    os.makedirs(tag_class_dir)\n",
    "    for im in images[tag]:\n",
    "        fname = tag_class_dir + '/' + uuid.uuid4().hex + '.png'\n",
    "        cv2.imwrite(fname, im)"
   ]
  },
  {
   "cell_type": "code",
   "execution_count": 61,
   "metadata": {},
   "outputs": [
    {
     "name": "stdout",
     "output_type": "stream",
     "text": [
      "('/Users/jacksimpson/Data/beeunique/output/d14-merged/0/', 38)\n"
     ]
    }
   ],
   "source": [
    "list_image_directory_paths = glob.glob('/Users/jacksimpson/Data/beeunique/output/d14-merged/*/')\n",
    "print(list_image_directory_paths[0], len(list_image_directory_paths))"
   ]
  },
  {
   "cell_type": "code",
   "execution_count": 62,
   "metadata": {},
   "outputs": [
    {
     "name": "stdout",
     "output_type": "stream",
     "text": [
      "{}\n",
      "('0', '/Users/jacksimpson/Data/beeunique/output/d14-merged/0/')\n",
      "(546, 1000)\n",
      "(908, 2000)\n",
      "(1201, 3000)\n",
      "(1490, 4000)\n",
      "(1750, 5000)\n",
      "(1977, 6000)\n",
      "(2192, 7000)\n",
      "(2403, 8000)\n",
      "(2600, 9000)\n",
      "(2796, 10000)\n",
      "(2977, 11000)\n",
      "(3153, 12000)\n",
      "(3311, 13000)\n",
      "(3442, 14000)\n",
      "(3572, 15000)\n",
      "(3715, 16000)\n",
      "(3857, 17000)\n",
      "(3986, 18000)\n",
      "(4105, 19000)\n",
      "(4206, 20000)\n",
      "(4325, 21000)\n",
      "(4450, 22000)\n",
      "(4568, 23000)\n",
      "(4675, 24000)\n",
      "(4785, 25000)\n",
      "(4897, 26000)\n",
      "(4998, 27000)\n",
      "(5109, 28000)\n",
      "(5217, 29000)\n",
      "(5268, 29487)\n",
      "('2', '/Users/jacksimpson/Data/beeunique/output/d14-merged/2/')\n",
      "(559, 1000)\n",
      "(909, 2000)\n",
      "(1192, 3000)\n",
      "(1448, 4000)\n",
      "(1652, 5000)\n",
      "(1838, 6000)\n",
      "(2002, 7000)\n",
      "(2179, 8000)\n",
      "(2345, 9000)\n",
      "(2501, 10000)\n",
      "(2640, 11000)\n",
      "(2775, 12000)\n",
      "(2911, 13000)\n",
      "(3053, 14000)\n",
      "(3172, 15000)\n",
      "(3287, 16000)\n",
      "(3418, 17000)\n",
      "(3532, 18000)\n",
      "(3644, 19000)\n",
      "(3748, 20000)\n",
      "(3848, 21000)\n",
      "(3960, 22000)\n",
      "(4056, 23000)\n",
      "(4135, 24000)\n",
      "(4218, 25000)\n",
      "(4306, 26000)\n",
      "(4387, 27000)\n",
      "(4446, 27748)\n",
      "('3', '/Users/jacksimpson/Data/beeunique/output/d14-merged/3/')\n",
      "(569, 1000)\n",
      "(967, 2000)\n",
      "(1336, 3000)\n",
      "(1637, 4000)\n",
      "(1921, 5000)\n",
      "(2165, 6000)\n",
      "(2396, 7000)\n",
      "(2587, 8000)\n",
      "(2781, 9000)\n",
      "(3002, 10000)\n",
      "(3218, 11000)\n",
      "(3398, 12000)\n",
      "(3579, 13000)\n",
      "(3747, 14000)\n",
      "(3913, 15000)\n",
      "(4074, 16000)\n",
      "(4232, 17000)\n",
      "(4394, 18000)\n",
      "(4533, 19000)\n",
      "(4686, 20000)\n",
      "(4806, 21000)\n",
      "(4934, 22000)\n",
      "(5084, 23000)\n",
      "(5207, 24000)\n",
      "(5337, 25000)\n",
      "(5454, 26000)\n",
      "(5568, 27000)\n",
      "(5692, 28000)\n",
      "(5774, 28722)\n",
      "('4', '/Users/jacksimpson/Data/beeunique/output/d14-merged/4/')\n",
      "(592, 1000)\n",
      "(1004, 2000)\n",
      "(1348, 3000)\n",
      "(1643, 4000)\n",
      "(1909, 5000)\n",
      "(2129, 6000)\n",
      "(2333, 7000)\n",
      "(2525, 8000)\n",
      "(2734, 9000)\n",
      "(2893, 10000)\n",
      "(3057, 11000)\n",
      "(3231, 12000)\n",
      "(3369, 13000)\n",
      "(3507, 14000)\n",
      "(3597, 14677)\n",
      "('5', '/Users/jacksimpson/Data/beeunique/output/d14-merged/5/')\n",
      "(23, 131)\n",
      "('6', '/Users/jacksimpson/Data/beeunique/output/d14-merged/6/')\n",
      "(404, 1000)\n",
      "(662, 2000)\n",
      "(849, 3000)\n",
      "(1010, 4000)\n",
      "(1156, 5000)\n",
      "(1260, 6000)\n",
      "(1373, 7000)\n",
      "(1471, 8000)\n",
      "(1593, 9000)\n",
      "(1704, 10000)\n",
      "(1789, 11000)\n",
      "(1829, 11436)\n",
      "('7', '/Users/jacksimpson/Data/beeunique/output/d14-merged/7/')\n",
      "(606, 1000)\n",
      "(996, 2000)\n",
      "(1316, 3000)\n",
      "(1601, 4000)\n",
      "(1839, 5000)\n",
      "(2074, 6000)\n",
      "(2260, 7000)\n",
      "(2453, 8000)\n",
      "(2624, 9000)\n",
      "(2773, 10000)\n",
      "(2922, 11000)\n",
      "(3099, 12000)\n",
      "(3250, 13000)\n",
      "(3398, 14000)\n",
      "(3535, 15000)\n",
      "(3667, 16000)\n",
      "(3795, 17000)\n",
      "(3906, 18000)\n"
     ]
    },
    {
     "ename": "KeyboardInterrupt",
     "evalue": "",
     "output_type": "error",
     "traceback": [
      "\u001b[0;31m---------------------------------------------------------------------------\u001b[0m",
      "\u001b[0;31mKeyboardInterrupt\u001b[0m                         Traceback (most recent call last)",
      "\u001b[0;32m<ipython-input-62-861c7d4e506e>\u001b[0m in \u001b[0;36m<module>\u001b[0;34m()\u001b[0m\n\u001b[1;32m     15\u001b[0m         \u001b[0munseen_image\u001b[0m \u001b[0;34m=\u001b[0m \u001b[0mTrue\u001b[0m\u001b[0;34m\u001b[0m\u001b[0m\n\u001b[1;32m     16\u001b[0m         \u001b[0;32mfor\u001b[0m \u001b[0mprev_image\u001b[0m \u001b[0;32min\u001b[0m \u001b[0mimages\u001b[0m\u001b[0;34m[\u001b[0m\u001b[0mimage_class_name\u001b[0m\u001b[0;34m]\u001b[0m\u001b[0;34m:\u001b[0m\u001b[0;34m\u001b[0m\u001b[0m\n\u001b[0;32m---> 17\u001b[0;31m             \u001b[0merr\u001b[0m \u001b[0;34m=\u001b[0m \u001b[0mmse\u001b[0m\u001b[0;34m(\u001b[0m\u001b[0mimage\u001b[0m\u001b[0;34m,\u001b[0m \u001b[0mprev_image\u001b[0m\u001b[0;34m)\u001b[0m\u001b[0;34m\u001b[0m\u001b[0m\n\u001b[0m\u001b[1;32m     18\u001b[0m             \u001b[0;32mif\u001b[0m \u001b[0merr\u001b[0m \u001b[0;34m<\u001b[0m \u001b[0;36m200\u001b[0m\u001b[0;34m:\u001b[0m\u001b[0;34m\u001b[0m\u001b[0m\n\u001b[1;32m     19\u001b[0m                 \u001b[0munseen_image\u001b[0m \u001b[0;34m=\u001b[0m \u001b[0mFalse\u001b[0m\u001b[0;34m\u001b[0m\u001b[0m\n",
      "\u001b[0;32m<ipython-input-56-2a006282041b>\u001b[0m in \u001b[0;36mmse\u001b[0;34m(imageA, imageB)\u001b[0m\n\u001b[1;32m      1\u001b[0m \u001b[0;32mdef\u001b[0m \u001b[0mmse\u001b[0m\u001b[0;34m(\u001b[0m\u001b[0mimageA\u001b[0m\u001b[0;34m,\u001b[0m \u001b[0mimageB\u001b[0m\u001b[0;34m)\u001b[0m\u001b[0;34m:\u001b[0m\u001b[0;34m\u001b[0m\u001b[0m\n\u001b[0;32m----> 2\u001b[0;31m     \u001b[0merr\u001b[0m \u001b[0;34m=\u001b[0m \u001b[0mnp\u001b[0m\u001b[0;34m.\u001b[0m\u001b[0msum\u001b[0m\u001b[0;34m(\u001b[0m\u001b[0;34m(\u001b[0m\u001b[0mimageA\u001b[0m\u001b[0;34m.\u001b[0m\u001b[0mastype\u001b[0m\u001b[0;34m(\u001b[0m\u001b[0;34m\"float\"\u001b[0m\u001b[0;34m)\u001b[0m \u001b[0;34m-\u001b[0m \u001b[0mimageB\u001b[0m\u001b[0;34m.\u001b[0m\u001b[0mastype\u001b[0m\u001b[0;34m(\u001b[0m\u001b[0;34m\"float\"\u001b[0m\u001b[0;34m)\u001b[0m\u001b[0;34m)\u001b[0m \u001b[0;34m**\u001b[0m \u001b[0;36m2\u001b[0m\u001b[0;34m)\u001b[0m\u001b[0;34m\u001b[0m\u001b[0m\n\u001b[0m\u001b[1;32m      3\u001b[0m     \u001b[0merr\u001b[0m \u001b[0;34m/=\u001b[0m \u001b[0mfloat\u001b[0m\u001b[0;34m(\u001b[0m\u001b[0mimageA\u001b[0m\u001b[0;34m.\u001b[0m\u001b[0mshape\u001b[0m\u001b[0;34m[\u001b[0m\u001b[0;36m0\u001b[0m\u001b[0;34m]\u001b[0m \u001b[0;34m*\u001b[0m \u001b[0mimageA\u001b[0m\u001b[0;34m.\u001b[0m\u001b[0mshape\u001b[0m\u001b[0;34m[\u001b[0m\u001b[0;36m1\u001b[0m\u001b[0;34m]\u001b[0m\u001b[0;34m)\u001b[0m\u001b[0;34m\u001b[0m\u001b[0m\n\u001b[1;32m      4\u001b[0m     \u001b[0;32mreturn\u001b[0m \u001b[0merr\u001b[0m\u001b[0;34m\u001b[0m\u001b[0m\n",
      "\u001b[0;32m/usr/local/lib/python2.7/site-packages/numpy/core/fromnumeric.pyc\u001b[0m in \u001b[0;36msum\u001b[0;34m(a, axis, dtype, out, keepdims)\u001b[0m\n\u001b[1;32m   1832\u001b[0m             \u001b[0;32mreturn\u001b[0m \u001b[0msum\u001b[0m\u001b[0;34m(\u001b[0m\u001b[0maxis\u001b[0m\u001b[0;34m=\u001b[0m\u001b[0maxis\u001b[0m\u001b[0;34m,\u001b[0m \u001b[0mdtype\u001b[0m\u001b[0;34m=\u001b[0m\u001b[0mdtype\u001b[0m\u001b[0;34m,\u001b[0m \u001b[0mout\u001b[0m\u001b[0;34m=\u001b[0m\u001b[0mout\u001b[0m\u001b[0;34m,\u001b[0m \u001b[0;34m**\u001b[0m\u001b[0mkwargs\u001b[0m\u001b[0;34m)\u001b[0m\u001b[0;34m\u001b[0m\u001b[0m\n\u001b[1;32m   1833\u001b[0m     return _methods._sum(a, axis=axis, dtype=dtype,\n\u001b[0;32m-> 1834\u001b[0;31m                          out=out, **kwargs)\n\u001b[0m\u001b[1;32m   1835\u001b[0m \u001b[0;34m\u001b[0m\u001b[0m\n\u001b[1;32m   1836\u001b[0m \u001b[0;34m\u001b[0m\u001b[0m\n",
      "\u001b[0;32m/usr/local/lib/python2.7/site-packages/numpy/core/_methods.pyc\u001b[0m in \u001b[0;36m_sum\u001b[0;34m(a, axis, dtype, out, keepdims)\u001b[0m\n\u001b[1;32m     30\u001b[0m \u001b[0;34m\u001b[0m\u001b[0m\n\u001b[1;32m     31\u001b[0m \u001b[0;32mdef\u001b[0m \u001b[0m_sum\u001b[0m\u001b[0;34m(\u001b[0m\u001b[0ma\u001b[0m\u001b[0;34m,\u001b[0m \u001b[0maxis\u001b[0m\u001b[0;34m=\u001b[0m\u001b[0mNone\u001b[0m\u001b[0;34m,\u001b[0m \u001b[0mdtype\u001b[0m\u001b[0;34m=\u001b[0m\u001b[0mNone\u001b[0m\u001b[0;34m,\u001b[0m \u001b[0mout\u001b[0m\u001b[0;34m=\u001b[0m\u001b[0mNone\u001b[0m\u001b[0;34m,\u001b[0m \u001b[0mkeepdims\u001b[0m\u001b[0;34m=\u001b[0m\u001b[0mFalse\u001b[0m\u001b[0;34m)\u001b[0m\u001b[0;34m:\u001b[0m\u001b[0;34m\u001b[0m\u001b[0m\n\u001b[0;32m---> 32\u001b[0;31m     \u001b[0;32mreturn\u001b[0m \u001b[0mumr_sum\u001b[0m\u001b[0;34m(\u001b[0m\u001b[0ma\u001b[0m\u001b[0;34m,\u001b[0m \u001b[0maxis\u001b[0m\u001b[0;34m,\u001b[0m \u001b[0mdtype\u001b[0m\u001b[0;34m,\u001b[0m \u001b[0mout\u001b[0m\u001b[0;34m,\u001b[0m \u001b[0mkeepdims\u001b[0m\u001b[0;34m)\u001b[0m\u001b[0;34m\u001b[0m\u001b[0m\n\u001b[0m\u001b[1;32m     33\u001b[0m \u001b[0;34m\u001b[0m\u001b[0m\n\u001b[1;32m     34\u001b[0m \u001b[0;32mdef\u001b[0m \u001b[0m_prod\u001b[0m\u001b[0;34m(\u001b[0m\u001b[0ma\u001b[0m\u001b[0;34m,\u001b[0m \u001b[0maxis\u001b[0m\u001b[0;34m=\u001b[0m\u001b[0mNone\u001b[0m\u001b[0;34m,\u001b[0m \u001b[0mdtype\u001b[0m\u001b[0;34m=\u001b[0m\u001b[0mNone\u001b[0m\u001b[0;34m,\u001b[0m \u001b[0mout\u001b[0m\u001b[0;34m=\u001b[0m\u001b[0mNone\u001b[0m\u001b[0;34m,\u001b[0m \u001b[0mkeepdims\u001b[0m\u001b[0;34m=\u001b[0m\u001b[0mFalse\u001b[0m\u001b[0;34m)\u001b[0m\u001b[0;34m:\u001b[0m\u001b[0;34m\u001b[0m\u001b[0m\n",
      "\u001b[0;31mKeyboardInterrupt\u001b[0m: "
     ]
    }
   ],
   "source": [
    "images = {}\n",
    "print(images)\n",
    "\n",
    "for image_directory_path in list_image_directory_paths:\n",
    "    image_class_name = os.path.basename(os.path.normpath(image_directory_path))\n",
    "    print(image_class_name, image_directory_path)\n",
    "    n = 0\n",
    "    images[image_class_name] = []\n",
    "    for image_file in glob.glob(image_directory_path + '*.png'):\n",
    "        n += 1\n",
    "        if n % 1000 == 0:\n",
    "            print(len(images[image_class_name]), n)\n",
    "        \n",
    "        image = cv2.imread(image_file, cv2.IMREAD_GRAYSCALE)\n",
    "        unseen_image = True\n",
    "        for prev_image in images[image_class_name]:\n",
    "            err = mse(image, prev_image)\n",
    "            if err < 200:\n",
    "                unseen_image = False\n",
    "                break\n",
    "\n",
    "        if unseen_image:\n",
    "            images[image_class_name].append(image)\n",
    "            \n",
    "    print(len(images[image_class_name]), n)"
   ]
  },
  {
   "cell_type": "code",
   "execution_count": null,
   "metadata": {},
   "outputs": [],
   "source": [
    "print(images.keys())"
   ]
  },
  {
   "cell_type": "code",
   "execution_count": null,
   "metadata": {},
   "outputs": [],
   "source": [
    "for tag in images.keys():\n",
    "    tag_class_dir = '/Users/jacksimpson/Data/beeunique/training/drive14/{}'.format(tag)\n",
    "    os.makedirs(tag_class_dir)\n",
    "    for im in images[tag]:\n",
    "        fname = tag_class_dir + '/' + uuid.uuid4().hex + '.png'\n",
    "        cv2.imwrite(fname, im)"
   ]
  },
  {
   "cell_type": "code",
   "execution_count": null,
   "metadata": {},
   "outputs": [],
   "source": []
  }
 ],
 "metadata": {
  "kernelspec": {
   "display_name": "Python 2",
   "language": "python",
   "name": "python2"
  },
  "language_info": {
   "codemirror_mode": {
    "name": "ipython",
    "version": 2
   },
   "file_extension": ".py",
   "mimetype": "text/x-python",
   "name": "python",
   "nbconvert_exporter": "python",
   "pygments_lexer": "ipython2",
   "version": "2.7.13"
  }
 },
 "nbformat": 4,
 "nbformat_minor": 2
}
