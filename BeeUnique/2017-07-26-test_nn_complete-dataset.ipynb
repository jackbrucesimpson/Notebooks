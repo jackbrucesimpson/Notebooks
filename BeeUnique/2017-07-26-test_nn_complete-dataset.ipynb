{
 "cells": [
  {
   "cell_type": "markdown",
   "metadata": {},
   "source": [
    "# Training Neural Net\n",
    "\n",
    "## Outcome"
   ]
  },
  {
   "cell_type": "code",
   "execution_count": 2,
   "metadata": {},
   "outputs": [
    {
     "data": {
      "application/json": {
       "Software versions": [
        {
         "module": "Python",
         "version": "2.7.12 64bit [GCC 5.4.0 20160609]"
        },
        {
         "module": "IPython",
         "version": "5.4.1"
        },
        {
         "module": "OS",
         "version": "Linux 4.10.0 28 generic x86_64 with Ubuntu 16.04 xenial"
        },
        {
         "module": "numpy",
         "version": "1.13.1"
        },
        {
         "module": "scipy",
         "version": "0.19.1"
        },
        {
         "module": "matplotlib",
         "version": "2.0.2"
        },
        {
         "module": "pandas",
         "version": "0.20.3"
        }
       ]
      },
      "text/html": [
       "<table><tr><th>Software</th><th>Version</th></tr><tr><td>Python</td><td>2.7.12 64bit [GCC 5.4.0 20160609]</td></tr><tr><td>IPython</td><td>5.4.1</td></tr><tr><td>OS</td><td>Linux 4.10.0 28 generic x86_64 with Ubuntu 16.04 xenial</td></tr><tr><td>numpy</td><td>1.13.1</td></tr><tr><td>scipy</td><td>0.19.1</td></tr><tr><td>matplotlib</td><td>2.0.2</td></tr><tr><td>pandas</td><td>0.20.3</td></tr><tr><td colspan='2'>Sat Jul 29 15:58:04 2017 AEST</td></tr></table>"
      ],
      "text/latex": [
       "\\begin{tabular}{|l|l|}\\hline\n",
       "{\\bf Software} & {\\bf Version} \\\\ \\hline\\hline\n",
       "Python & 2.7.12 64bit [GCC 5.4.0 20160609] \\\\ \\hline\n",
       "IPython & 5.4.1 \\\\ \\hline\n",
       "OS & Linux 4.10.0 28 generic x86\\_64 with Ubuntu 16.04 xenial \\\\ \\hline\n",
       "numpy & 1.13.1 \\\\ \\hline\n",
       "scipy & 0.19.1 \\\\ \\hline\n",
       "matplotlib & 2.0.2 \\\\ \\hline\n",
       "pandas & 0.20.3 \\\\ \\hline\n",
       "\\hline \\multicolumn{2}{|l|}{Sat Jul 29 15:58:04 2017 AEST} \\\\ \\hline\n",
       "\\end{tabular}\n"
      ],
      "text/plain": [
       "Software versions\n",
       "Python 2.7.12 64bit [GCC 5.4.0 20160609]\n",
       "IPython 5.4.1\n",
       "OS Linux 4.10.0 28 generic x86_64 with Ubuntu 16.04 xenial\n",
       "numpy 1.13.1\n",
       "scipy 0.19.1\n",
       "matplotlib 2.0.2\n",
       "pandas 0.20.3\n",
       "Sat Jul 29 15:58:04 2017 AEST"
      ]
     },
     "execution_count": 2,
     "metadata": {},
     "output_type": "execute_result"
    }
   ],
   "source": [
    "%matplotlib inline\n",
    "from pylab import rcParams\n",
    "rcParams['figure.figsize'] = 12, 6\n",
    "\n",
    "%load_ext autoreload\n",
    "%autoreload 2\n",
    "\n",
    "%load_ext version_information\n",
    "%version_information numpy, scipy, matplotlib, pandas"
   ]
  },
  {
   "cell_type": "code",
   "execution_count": 3,
   "metadata": {
    "collapsed": true
   },
   "outputs": [],
   "source": [
    "import matplotlib.pyplot as plt\n",
    "import matplotlib.cm as cm\n",
    "import numpy as np\n",
    "import cv2\n",
    "import glob\n",
    "import copy\n",
    "import random\n",
    "import pandas as pd\n",
    "\n",
    "import os\n",
    "import sys\n",
    "\n",
    "sys.path.append(\"../src\")\n",
    "from images_permute import processing_pipeline\n",
    "\n",
    "np.random.seed(0)\n",
    "\n",
    "def view(image):\n",
    "    plt.figure()\n",
    "    plt.axis('off')\n",
    "    plt.imshow(image, cmap = cm.Greys_r)"
   ]
  },
  {
   "cell_type": "code",
   "execution_count": 4,
   "metadata": {},
   "outputs": [
    {
     "name": "stderr",
     "output_type": "stream",
     "text": [
      "Using TensorFlow backend.\n"
     ]
    }
   ],
   "source": [
    "from keras.utils import np_utils\n",
    "from keras import backend as K\n",
    "from keras.models import load_model\n",
    "    \n",
    "model = load_model('model.h5')"
   ]
  },
  {
   "cell_type": "code",
   "execution_count": 5,
   "metadata": {},
   "outputs": [
    {
     "name": "stdout",
     "output_type": "stream",
     "text": [
      "('/home/jack/Data/merged_sorted/Queen/', 62)\n"
     ]
    }
   ],
   "source": [
    "list_image_directory_paths = glob.glob('/home/jack/Data/merged_sorted/*/')\n",
    "print(list_image_directory_paths[0], len(list_image_directory_paths))"
   ]
  },
  {
   "cell_type": "code",
   "execution_count": 6,
   "metadata": {
    "scrolled": false
   },
   "outputs": [
    {
     "name": "stdout",
     "output_type": "stream",
     "text": [
      "('Queen', '/home/jack/Data/merged_sorted/Queen/')\n",
      "('TT', '/home/jack/Data/merged_sorted/TT/')\n",
      "('Trident', '/home/jack/Data/merged_sorted/Trident/')\n",
      "('w', '/home/jack/Data/merged_sorted/w/')\n",
      "('5', '/home/jack/Data/merged_sorted/5/')\n",
      "('e', '/home/jack/Data/merged_sorted/e/')\n",
      "('Power', '/home/jack/Data/merged_sorted/Power/')\n",
      "('Peace', '/home/jack/Data/merged_sorted/Peace/')\n",
      "('1', '/home/jack/Data/merged_sorted/1/')\n",
      "('EE', '/home/jack/Data/merged_sorted/EE/')\n",
      "('Pillars', '/home/jack/Data/merged_sorted/Pillars/')\n",
      "('ZZ', '/home/jack/Data/merged_sorted/ZZ/')\n",
      "('h', '/home/jack/Data/merged_sorted/h/')\n",
      "('Note1', '/home/jack/Data/merged_sorted/Note1/')\n",
      "('Plane', '/home/jack/Data/merged_sorted/Plane/')\n",
      "('Asterisk', '/home/jack/Data/merged_sorted/Asterisk/')\n",
      "('Umbrella', '/home/jack/Data/merged_sorted/Umbrella/')\n",
      "('arrowhollow', '/home/jack/Data/merged_sorted/arrowhollow/')\n",
      "('a', '/home/jack/Data/merged_sorted/a/')\n",
      "('RR', '/home/jack/Data/merged_sorted/RR/')\n",
      "('6', '/home/jack/Data/merged_sorted/6/')\n",
      "('Ankh', '/home/jack/Data/merged_sorted/Ankh/')\n",
      "('r', '/home/jack/Data/merged_sorted/r/')\n",
      "('AA', '/home/jack/Data/merged_sorted/AA/')\n",
      "('heart', '/home/jack/Data/merged_sorted/heart/')\n",
      "('3', '/home/jack/Data/merged_sorted/3/')\n",
      "('sun', '/home/jack/Data/merged_sorted/sun/')\n",
      "('CircleCross', '/home/jack/Data/merged_sorted/CircleCross/')\n",
      "('Question', '/home/jack/Data/merged_sorted/Question/')\n",
      "('4', '/home/jack/Data/merged_sorted/4/')\n",
      "('KK', '/home/jack/Data/merged_sorted/KK/')\n",
      "('Note2', '/home/jack/Data/merged_sorted/Note2/')\n",
      "('Dot', '/home/jack/Data/merged_sorted/Dot/')\n",
      "('y', '/home/jack/Data/merged_sorted/y/')\n",
      "('8', '/home/jack/Data/merged_sorted/8/')\n",
      "('unknown', '/home/jack/Data/merged_sorted/unknown/')\n",
      "('Triangle', '/home/jack/Data/merged_sorted/Triangle/')\n",
      "('Scissors', '/home/jack/Data/merged_sorted/Scissors/')\n",
      "('Ampersand', '/home/jack/Data/merged_sorted/Ampersand/')\n",
      "('HH', '/home/jack/Data/merged_sorted/HH/')\n",
      "('PP', '/home/jack/Data/merged_sorted/PP/')\n",
      "('Omega', '/home/jack/Data/merged_sorted/Omega/')\n",
      "('leaf', '/home/jack/Data/merged_sorted/leaf/')\n",
      "('circlehalf', '/home/jack/Data/merged_sorted/circlehalf/')\n",
      "('MM', '/home/jack/Data/merged_sorted/MM/')\n",
      "('7', '/home/jack/Data/merged_sorted/7/')\n",
      "('XX', '/home/jack/Data/merged_sorted/XX/')\n",
      "('0', '/home/jack/Data/merged_sorted/0/')\n",
      "('UU', '/home/jack/Data/merged_sorted/UU/')\n",
      "('hash', '/home/jack/Data/merged_sorted/hash/')\n",
      "('SS', '/home/jack/Data/merged_sorted/SS/')\n",
      "('ArrowLine', '/home/jack/Data/merged_sorted/ArrowLine/')\n",
      "('Plant', '/home/jack/Data/merged_sorted/Plant/')\n",
      "('CircleLine', '/home/jack/Data/merged_sorted/CircleLine/')\n",
      "('Tadpole', '/home/jack/Data/merged_sorted/Tadpole/')\n",
      "('DD', '/home/jack/Data/merged_sorted/DD/')\n",
      "('radioactive', '/home/jack/Data/merged_sorted/radioactive/')\n",
      "('2', '/home/jack/Data/merged_sorted/2/')\n",
      "('lines3', '/home/jack/Data/merged_sorted/lines3/')\n",
      "('necklace', '/home/jack/Data/merged_sorted/necklace/')\n",
      "('nn', '/home/jack/Data/merged_sorted/nn/')\n",
      "('GG', '/home/jack/Data/merged_sorted/GG/')\n"
     ]
    }
   ],
   "source": [
    "class_images_dict = {}\n",
    "for image_directory_path in list_image_directory_paths:\n",
    "    image_class_name = os.path.basename(os.path.normpath(image_directory_path))\n",
    "    print(image_class_name, image_directory_path)\n",
    "    class_images_dict[image_class_name] = []\n",
    "    \n",
    "    for image_file in glob.glob(image_directory_path + '*.png'):\n",
    "        image = cv2.imread(image_file, cv2.IMREAD_GRAYSCALE)\n",
    "        class_images_dict[image_class_name].append(image)"
   ]
  },
  {
   "cell_type": "code",
   "execution_count": 7,
   "metadata": {},
   "outputs": [
    {
     "data": {
      "text/plain": [
       "8118"
      ]
     },
     "execution_count": 7,
     "metadata": {},
     "output_type": "execute_result"
    }
   ],
   "source": [
    "len(class_images_dict['AA'])"
   ]
  },
  {
   "cell_type": "code",
   "execution_count": 8,
   "metadata": {
    "collapsed": true
   },
   "outputs": [],
   "source": [
    "def norm_image(image):\n",
    "    image[image < 0] = 0\n",
    "    image[image > 255] = 255\n",
    "    return np.uint8(image)\n",
    "\n",
    "def add_noise(image, n_or_u):\n",
    "    noise = np.zeros((28,28), np.uint8)\n",
    "    if n_or_u == 'n':\n",
    "        cv2.randn(noise, 30, 2)\n",
    "    else:\n",
    "        cv2.randu(noise, 20, 2)\n",
    "    noisy_image = np.uint32(image) + noise\n",
    "    noisy_image[noisy_image < 0] = 0\n",
    "    noisy_image[noisy_image > 255] = 255\n",
    "    noisy_image = np.uint8(noisy_image)\n",
    "    return noisy_image\n",
    "\n",
    "def rotate_image(image):\n",
    "    rotated_images = []\n",
    "    for angle in range(90, 360, 90):\n",
    "        M = cv2.getRotationMatrix2D((14,14),angle,1)\n",
    "        r = cv2.warpAffine(image,M,(28,28))\n",
    "        rotated_images.append(r)\n",
    "    return rotated_images\n",
    "\n",
    "def change_brightness_contrast(image):\n",
    "    image_int32 = np.int32(image)\n",
    "    increase_brightness = norm_image(image_int32 + 80)\n",
    "    decrease_brightness = norm_image(image_int32 - 80)\n",
    "    return [increase_brightness, decrease_brightness]\n",
    "    \n",
    "def occlude_edges(image):\n",
    "    full_size = np.zeros((28, 28), dtype=np.uint8)\n",
    "    full_size[2:26, 2:26] = image[2:26, 2:26]\n",
    "    return full_size\n",
    "\n",
    "def mean_smooth(image):\n",
    "    mean_smoothed = cv2.blur(image, (3, 3))\n",
    "    return mean_smoothed\n",
    "\n",
    "def rotate_image_modifications(image):\n",
    "    rotated_images = []\n",
    "    for angle in range(90, 360, 90):\n",
    "        M = cv2.getRotationMatrix2D((14,14),angle,1)\n",
    "        r = cv2.warpAffine(image,M,(28,28))\n",
    "        rotated_images.append(r)\n",
    "    \n",
    "    rotated_images[0] = add_noise(occlude_edges(rotated_images[0]), 'u')\n",
    "    rotated_images[1] = norm_image(np.int32(rotated_images[1]) + 80)\n",
    "    rotated_images[2] = norm_image(np.int32(rotated_images[2]) - 80)\n",
    "    \n",
    "    return rotated_images"
   ]
  },
  {
   "cell_type": "code",
   "execution_count": 9,
   "metadata": {},
   "outputs": [
    {
     "name": "stdout",
     "output_type": "stream",
     "text": [
      "('CircleLine', 21979)\n",
      "('heart', 31483)\n",
      "('Note1', 11372)\n",
      "('DD', 18544)\n",
      "('Peace', 20233)\n",
      "('Question', 11864)\n",
      "('Pillars', 46566)\n",
      "('HH', 10322)\n",
      "('Ampersand', 52180)\n",
      "('radioactive', 56492)\n",
      "('PP', 28598)\n",
      "('Umbrella', 7119)\n",
      "('RR', 10427)\n",
      "('Ankh', 24155)\n",
      "('sun', 9234)\n",
      "('TT', 5412)\n",
      "('Trident', 38171)\n",
      "('Asterisk', 26175)\n",
      "('4', 29191)\n",
      "('1', 25417)\n",
      "('0', 49403)\n",
      "('3', 50449)\n",
      "('Plane', 13622)\n",
      "('5', 33364)\n",
      "('arrowhollow', 12206)\n",
      "('7', 26233)\n",
      "('6', 22919)\n",
      "('8', 50096)\n",
      "('Omega', 35036)\n",
      "('CircleCross', 24111)\n",
      "('AA', 8118)\n",
      "('SS', 27285)\n",
      "('Note2', 5740)\n",
      "('hash', 12738)\n",
      "('EE', 16548)\n",
      "('UU', 26626)\n",
      "('Plant', 15522)\n",
      "('lines3', 14093)\n",
      "('nn', 9380)\n",
      "('GG', 12529)\n",
      "('necklace', 15115)\n",
      "('XX', 48148)\n",
      "('ZZ', 40500)\n",
      "('Triangle', 39294)\n",
      "('Dot', 14171)\n",
      "('a', 29950)\n",
      "('e', 35868)\n",
      "('Power', 36941)\n",
      "('KK', 39608)\n",
      "('h', 26713)\n",
      "('Queen', 11149)\n",
      "('Tadpole', 18322)\n",
      "('MM', 37633)\n",
      "('2', 24018)\n",
      "('r', 21290)\n",
      "('ArrowLine', 18905)\n",
      "('circlehalf', 21826)\n",
      "('w', 25506)\n",
      "('unknown', 30154)\n",
      "('y', 29240)\n",
      "('Scissors', 23398)\n",
      "('leaf', 10602)\n"
     ]
    }
   ],
   "source": [
    "images_list = []\n",
    "image_class_names_index = 0\n",
    "image_class_names = {}\n",
    "y = []\n",
    "\n",
    "for tag_class in class_images_dict.keys():\n",
    "    print(tag_class, len(class_images_dict[tag_class]))\n",
    "    image_class_names[image_class_names_index] = tag_class\n",
    "    for tag in class_images_dict[tag_class]:\n",
    "        #generated_images = [tag]\n",
    "        #generated_images.extend(change_brightness_contrast(tag))\n",
    "        #generated_images.extend(rotate_image(tag))\n",
    "        #generated_images.extend(rotate_image_modifications(tag))\n",
    "        #X.extend(generated_images)\n",
    "        images_list.append(tag)\n",
    "        #X.append(tag)\n",
    "        #y.extend([image_class_names_index] * len(generated_images))\n",
    "        y.append(image_class_names_index)\n",
    "    image_class_names_index += 1\n",
    "    \n",
    "\n",
    "\n",
    "X = np.array(images_list)\n",
    "y = np.array(y)"
   ]
  },
  {
   "cell_type": "code",
   "execution_count": 10,
   "metadata": {},
   "outputs": [
    {
     "name": "stdout",
     "output_type": "stream",
     "text": [
      "((1549303, 28, 28), (1549303,))\n",
      "set([0, 1, 2, 3, 4, 5, 6, 7, 8, 9, 10, 11, 12, 13, 14, 15, 16, 17, 18, 19, 20, 21, 22, 23, 24, 25, 26, 27, 28, 29, 30, 31, 32, 33, 34, 35, 36, 37, 38, 39, 40, 41, 42, 43, 44, 45, 46, 47, 48, 49, 50, 51, 52, 53, 54, 55, 56, 57, 58, 59, 60, 61])\n",
      "heart\n"
     ]
    }
   ],
   "source": [
    "print(X.shape, y.shape)\n",
    "print(set(y))\n",
    "print(image_class_names[1])"
   ]
  },
  {
   "cell_type": "code",
   "execution_count": 11,
   "metadata": {
    "collapsed": true
   },
   "outputs": [],
   "source": [
    "Y = np_utils.to_categorical(y, len(set(y)))"
   ]
  },
  {
   "cell_type": "code",
   "execution_count": 12,
   "metadata": {},
   "outputs": [
    {
     "data": {
      "text/plain": [
       "(1549303, 28, 28, 1)"
      ]
     },
     "execution_count": 12,
     "metadata": {},
     "output_type": "execute_result"
    }
   ],
   "source": [
    "img_rows = 28\n",
    "img_cols = 28\n",
    "\n",
    "if K.image_dim_ordering() == 'th':\n",
    "    X = X.reshape(X.shape[0], 1, img_rows, img_cols)\n",
    "else:\n",
    "    X = X.reshape(X.shape[0], img_rows, img_cols, 1)\n",
    "\n",
    "X.shape"
   ]
  },
  {
   "cell_type": "code",
   "execution_count": 13,
   "metadata": {
    "collapsed": true
   },
   "outputs": [],
   "source": [
    "X = X.astype('float32')\n",
    "X /= 255"
   ]
  },
  {
   "cell_type": "code",
   "execution_count": 14,
   "metadata": {},
   "outputs": [
    {
     "name": "stdout",
     "output_type": "stream",
     "text": [
      "1548608/1549303 [============================>.] - ETA: 0s"
     ]
    },
    {
     "data": {
      "text/plain": [
       "array([ 0,  0,  0, ..., 61, 61, 61])"
      ]
     },
     "execution_count": 14,
     "metadata": {},
     "output_type": "execute_result"
    }
   ],
   "source": [
    "pc = model.predict_classes(X)\n",
    "pc"
   ]
  },
  {
   "cell_type": "code",
   "execution_count": 15,
   "metadata": {},
   "outputs": [
    {
     "name": "stdout",
     "output_type": "stream",
     "text": [
      "DD\n",
      "DD\n"
     ]
    },
    {
     "data": {
      "image/png": "[encoded data removed]",
      "text/plain": [
       "<matplotlib.figure.Figure at 0x7f58789f2bd0>"
      ]
     },
     "metadata": {},
     "output_type": "display_data"
    }
   ],
   "source": [
    "#view(X[70000].reshape(1, 28, 28)[0])\n",
    "view(images_list[70000])\n",
    "print(image_class_names[pc[70000]])\n",
    "print(image_class_names[y[70000]])"
   ]
  },
  {
   "cell_type": "code",
   "execution_count": 16,
   "metadata": {
    "collapsed": true
   },
   "outputs": [],
   "source": [
    "def create_dir_check_exists(dir_path, new_dir):\n",
    "    new_directory = os.path.join(dir_path, new_dir)\n",
    "    if not os.path.exists(new_directory):\n",
    "        os.makedirs(new_directory)\n",
    "    return new_directory"
   ]
  },
  {
   "cell_type": "code",
   "execution_count": 17,
   "metadata": {},
   "outputs": [
    {
     "data": {
      "text/plain": [
       "[(0, 'CircleLine'),\n",
       " (1, 'heart'),\n",
       " (2, 'Note1'),\n",
       " (3, 'DD'),\n",
       " (4, 'Peace'),\n",
       " (5, 'Question'),\n",
       " (6, 'Pillars'),\n",
       " (7, 'HH'),\n",
       " (8, 'Ampersand'),\n",
       " (9, 'radioactive'),\n",
       " (10, 'PP'),\n",
       " (11, 'Umbrella'),\n",
       " (12, 'RR'),\n",
       " (13, 'Ankh'),\n",
       " (14, 'sun'),\n",
       " (15, 'TT'),\n",
       " (16, 'Trident'),\n",
       " (17, 'Asterisk'),\n",
       " (18, '4'),\n",
       " (19, '1'),\n",
       " (20, '0'),\n",
       " (21, '3'),\n",
       " (22, 'Plane'),\n",
       " (23, '5'),\n",
       " (24, 'arrowhollow'),\n",
       " (25, '7'),\n",
       " (26, '6'),\n",
       " (27, '8'),\n",
       " (28, 'Omega'),\n",
       " (29, 'CircleCross'),\n",
       " (30, 'AA'),\n",
       " (31, 'SS'),\n",
       " (32, 'Note2'),\n",
       " (33, 'hash'),\n",
       " (34, 'EE'),\n",
       " (35, 'UU'),\n",
       " (36, 'Plant'),\n",
       " (37, 'lines3'),\n",
       " (38, 'nn'),\n",
       " (39, 'GG'),\n",
       " (40, 'necklace'),\n",
       " (41, 'XX'),\n",
       " (42, 'ZZ'),\n",
       " (43, 'Triangle'),\n",
       " (44, 'Dot'),\n",
       " (45, 'a'),\n",
       " (46, 'e'),\n",
       " (47, 'Power'),\n",
       " (48, 'KK'),\n",
       " (49, 'h'),\n",
       " (50, 'Queen'),\n",
       " (51, 'Tadpole'),\n",
       " (52, 'MM'),\n",
       " (53, '2'),\n",
       " (54, 'r'),\n",
       " (55, 'ArrowLine'),\n",
       " (56, 'circlehalf'),\n",
       " (57, 'w'),\n",
       " (58, 'unknown'),\n",
       " (59, 'y'),\n",
       " (60, 'Scissors'),\n",
       " (61, 'leaf')]"
      ]
     },
     "execution_count": 17,
     "metadata": {},
     "output_type": "execute_result"
    }
   ],
   "source": [
    "image_class_names.items()"
   ]
  },
  {
   "cell_type": "code",
   "execution_count": 18,
   "metadata": {},
   "outputs": [],
   "source": [
    "new_image_dir = '/home/jack/Dev/phd-notebooks/beeunique/predictions'\n",
    "num = 0\n",
    "\n",
    "for i, im in enumerate(images_list):\n",
    "    num += 1\n",
    "    predicted_class = image_class_names[pc[i]]\n",
    "    real_class = image_class_names[y[i]]\n",
    "    \n",
    "    tag_class_dir = create_dir_check_exists(new_image_dir, real_class)\n",
    "    \n",
    "    if predicted_class == real_class or predicted_class == 'unknown':\n",
    "        pred_dir = create_dir_check_exists(tag_class_dir, predicted_class)\n",
    "        output_tag_image_path = os.path.join(pred_dir, str(num) + '.png')\n",
    "        cv2.imwrite(output_tag_image_path, im)\n",
    "    else:\n",
    "        pred_dir = create_dir_check_exists(tag_class_dir, 'other')\n",
    "        output_tag_image_path = os.path.join(pred_dir, str(num) + '.png')\n",
    "        cv2.imwrite(output_tag_image_path, im)"
   ]
  },
  {
   "cell_type": "code",
   "execution_count": null,
   "metadata": {
    "collapsed": true
   },
   "outputs": [],
   "source": []
  }
 ],
 "metadata": {
  "kernelspec": {
   "display_name": "Python 2",
   "language": "python",
   "name": "python2"
  },
  "language_info": {
   "codemirror_mode": {
    "name": "ipython",
    "version": 2
   },
   "file_extension": ".py",
   "mimetype": "text/x-python",
   "name": "python",
   "nbconvert_exporter": "python",
   "pygments_lexer": "ipython2",
   "version": "2.7.12"
  }
 },
 "nbformat": 4,
 "nbformat_minor": 2
}
