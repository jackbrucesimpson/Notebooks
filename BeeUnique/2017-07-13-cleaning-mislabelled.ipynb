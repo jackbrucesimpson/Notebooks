{
 "cells": [
  {
   "cell_type": "markdown",
   "metadata": {},
   "source": [
    "# Identifying mislabelled tags\n",
    "- Go through all directories and sort by brightness to make cleaning easier"
   ]
  },
  {
   "cell_type": "code",
   "execution_count": 1,
   "metadata": {},
   "outputs": [
    {
     "data": {
      "application/json": {
       "Software versions": [
        {
         "module": "Python",
         "version": "2.7.13 64bit [GCC 4.2.1 Compatible Apple LLVM 8.0.0 (clang-800.0.42.1)]"
        },
        {
         "module": "IPython",
         "version": "5.4.1"
        },
        {
         "module": "OS",
         "version": "Darwin 16.6.0 x86_64 i386 64bit"
        },
        {
         "module": "numpy",
         "version": "1.13.0"
        },
        {
         "module": "scipy",
         "version": "0.19.1"
        },
        {
         "module": "matplotlib",
         "version": "2.0.2"
        },
        {
         "module": "pandas",
         "version": "0.20.2"
        }
       ]
      },
      "text/html": [
       "<table><tr><th>Software</th><th>Version</th></tr><tr><td>Python</td><td>2.7.13 64bit [GCC 4.2.1 Compatible Apple LLVM 8.0.0 (clang-800.0.42.1)]</td></tr><tr><td>IPython</td><td>5.4.1</td></tr><tr><td>OS</td><td>Darwin 16.6.0 x86_64 i386 64bit</td></tr><tr><td>numpy</td><td>1.13.0</td></tr><tr><td>scipy</td><td>0.19.1</td></tr><tr><td>matplotlib</td><td>2.0.2</td></tr><tr><td>pandas</td><td>0.20.2</td></tr><tr><td colspan='2'>Thu Jul 13 11:28:55 2017 AEST</td></tr></table>"
      ],
      "text/latex": [
       "\\begin{tabular}{|l|l|}\\hline\n",
       "{\\bf Software} & {\\bf Version} \\\\ \\hline\\hline\n",
       "Python & 2.7.13 64bit [GCC 4.2.1 Compatible Apple LLVM 8.0.0 (clang-800.0.42.1)] \\\\ \\hline\n",
       "IPython & 5.4.1 \\\\ \\hline\n",
       "OS & Darwin 16.6.0 x86\\_64 i386 64bit \\\\ \\hline\n",
       "numpy & 1.13.0 \\\\ \\hline\n",
       "scipy & 0.19.1 \\\\ \\hline\n",
       "matplotlib & 2.0.2 \\\\ \\hline\n",
       "pandas & 0.20.2 \\\\ \\hline\n",
       "\\hline \\multicolumn{2}{|l|}{Thu Jul 13 11:28:55 2017 AEST} \\\\ \\hline\n",
       "\\end{tabular}\n"
      ],
      "text/plain": [
       "Software versions\n",
       "Python 2.7.13 64bit [GCC 4.2.1 Compatible Apple LLVM 8.0.0 (clang-800.0.42.1)]\n",
       "IPython 5.4.1\n",
       "OS Darwin 16.6.0 x86_64 i386 64bit\n",
       "numpy 1.13.0\n",
       "scipy 0.19.1\n",
       "matplotlib 2.0.2\n",
       "pandas 0.20.2\n",
       "Thu Jul 13 11:28:55 2017 AEST"
      ]
     },
     "execution_count": 1,
     "metadata": {},
     "output_type": "execute_result"
    }
   ],
   "source": [
    "%matplotlib inline\n",
    "#from pylab import rcParams\n",
    "#rcParams['figure.figsize'] = 12, 8\n",
    "\n",
    "%load_ext autoreload\n",
    "%autoreload 2\n",
    "\n",
    "%load_ext version_information\n",
    "%version_information numpy, scipy, matplotlib, pandas"
   ]
  },
  {
   "cell_type": "code",
   "execution_count": 2,
   "metadata": {
    "collapsed": true
   },
   "outputs": [],
   "source": [
    "import matplotlib.pyplot as plt\n",
    "import matplotlib.cm as cm\n",
    "import numpy as np\n",
    "import cv2\n",
    "import glob\n",
    "import copy\n",
    "\n",
    "import os\n",
    "import sys\n",
    "import glob\n",
    "import hashlib\n",
    "import uuid\n",
    "from sklearn.metrics import mean_squared_error\n",
    "\n",
    "#sys.path.append(\"../src\")\n",
    "#from images_permute import processing_pipeline\n",
    "\n",
    "np.random.seed(0)\n",
    "\n",
    "def view(image):\n",
    "    plt.figure()\n",
    "    plt.axis('off')\n",
    "    plt.imshow(image, cmap = cm.Greys_r)"
   ]
  },
  {
   "cell_type": "markdown",
   "metadata": {},
   "source": [
    "## Sort by pixel total"
   ]
  },
  {
   "cell_type": "code",
   "execution_count": 3,
   "metadata": {},
   "outputs": [
    {
     "name": "stdout",
     "output_type": "stream",
     "text": [
      "('/Users/jacksimpson/Data/beeunique/training/merged/0/', 62)\n"
     ]
    }
   ],
   "source": [
    "list_image_directory_paths = glob.glob('/Users/jacksimpson/Data/beeunique/training/merged/*/')\n",
    "print(list_image_directory_paths[0], len(list_image_directory_paths))"
   ]
  },
  {
   "cell_type": "code",
   "execution_count": 6,
   "metadata": {},
   "outputs": [
    {
     "data": {
      "image/png": "[encoded data removed]",
      "text/plain": [
       "<matplotlib.figure.Figure at 0x10e445b90>"
      ]
     },
     "metadata": {},
     "output_type": "display_data"
    }
   ],
   "source": [
    "im = cv2.imread('/Users/jacksimpson/Data/beeunique/training/merged/0/09568684261546798859c35b8fda5cbf.png', cv2.IMREAD_GRAYSCALE)\n",
    "view(im)"
   ]
  },
  {
   "cell_type": "code",
   "execution_count": 9,
   "metadata": {},
   "outputs": [
    {
     "data": {
      "image/png": "[encoded data removed]",
      "text/plain": [
       "<matplotlib.figure.Figure at 0x117803650>"
      ]
     },
     "metadata": {},
     "output_type": "display_data"
    }
   ],
   "source": [
    "view(im[3:25, 3:25])"
   ]
  },
  {
   "cell_type": "code",
   "execution_count": 10,
   "metadata": {},
   "outputs": [
    {
     "name": "stdout",
     "output_type": "stream",
     "text": [
      "('0', '/Users/jacksimpson/Data/beeunique/training/merged/0/')\n",
      "('1', '/Users/jacksimpson/Data/beeunique/training/merged/1/')\n",
      "('2', '/Users/jacksimpson/Data/beeunique/training/merged/2/')\n",
      "('3', '/Users/jacksimpson/Data/beeunique/training/merged/3/')\n",
      "('4', '/Users/jacksimpson/Data/beeunique/training/merged/4/')\n",
      "('5', '/Users/jacksimpson/Data/beeunique/training/merged/5/')\n",
      "('6', '/Users/jacksimpson/Data/beeunique/training/merged/6/')\n",
      "('7', '/Users/jacksimpson/Data/beeunique/training/merged/7/')\n",
      "('8', '/Users/jacksimpson/Data/beeunique/training/merged/8/')\n",
      "('a', '/Users/jacksimpson/Data/beeunique/training/merged/a/')\n",
      "('AA', '/Users/jacksimpson/Data/beeunique/training/merged/AA/')\n",
      "('Ampersand', '/Users/jacksimpson/Data/beeunique/training/merged/Ampersand/')\n",
      "('Ankh', '/Users/jacksimpson/Data/beeunique/training/merged/Ankh/')\n",
      "('arrowhollow', '/Users/jacksimpson/Data/beeunique/training/merged/arrowhollow/')\n",
      "('ArrowLine', '/Users/jacksimpson/Data/beeunique/training/merged/ArrowLine/')\n",
      "('Asterisk', '/Users/jacksimpson/Data/beeunique/training/merged/Asterisk/')\n",
      "('CircleCross', '/Users/jacksimpson/Data/beeunique/training/merged/CircleCross/')\n",
      "('circlehalf', '/Users/jacksimpson/Data/beeunique/training/merged/circlehalf/')\n",
      "('CircleLine', '/Users/jacksimpson/Data/beeunique/training/merged/CircleLine/')\n",
      "('DD', '/Users/jacksimpson/Data/beeunique/training/merged/DD/')\n",
      "('Dot', '/Users/jacksimpson/Data/beeunique/training/merged/Dot/')\n",
      "('e', '/Users/jacksimpson/Data/beeunique/training/merged/e/')\n",
      "('EE', '/Users/jacksimpson/Data/beeunique/training/merged/EE/')\n",
      "('GG', '/Users/jacksimpson/Data/beeunique/training/merged/GG/')\n",
      "('h', '/Users/jacksimpson/Data/beeunique/training/merged/h/')\n",
      "('hash', '/Users/jacksimpson/Data/beeunique/training/merged/hash/')\n",
      "('heart', '/Users/jacksimpson/Data/beeunique/training/merged/heart/')\n",
      "('HH', '/Users/jacksimpson/Data/beeunique/training/merged/HH/')\n",
      "('KK', '/Users/jacksimpson/Data/beeunique/training/merged/KK/')\n",
      "('leaf', '/Users/jacksimpson/Data/beeunique/training/merged/leaf/')\n",
      "('lines3', '/Users/jacksimpson/Data/beeunique/training/merged/lines3/')\n",
      "('MM', '/Users/jacksimpson/Data/beeunique/training/merged/MM/')\n",
      "('necklace', '/Users/jacksimpson/Data/beeunique/training/merged/necklace/')\n",
      "('nn', '/Users/jacksimpson/Data/beeunique/training/merged/nn/')\n",
      "('Note1', '/Users/jacksimpson/Data/beeunique/training/merged/Note1/')\n",
      "('Note2', '/Users/jacksimpson/Data/beeunique/training/merged/Note2/')\n",
      "('Omega', '/Users/jacksimpson/Data/beeunique/training/merged/Omega/')\n",
      "('Peace', '/Users/jacksimpson/Data/beeunique/training/merged/Peace/')\n",
      "('Pillars', '/Users/jacksimpson/Data/beeunique/training/merged/Pillars/')\n",
      "('Plane', '/Users/jacksimpson/Data/beeunique/training/merged/Plane/')\n",
      "('Plant', '/Users/jacksimpson/Data/beeunique/training/merged/Plant/')\n",
      "('Power', '/Users/jacksimpson/Data/beeunique/training/merged/Power/')\n",
      "('PP', '/Users/jacksimpson/Data/beeunique/training/merged/PP/')\n",
      "('Queen', '/Users/jacksimpson/Data/beeunique/training/merged/Queen/')\n",
      "('Question', '/Users/jacksimpson/Data/beeunique/training/merged/Question/')\n",
      "('r', '/Users/jacksimpson/Data/beeunique/training/merged/r/')\n",
      "('radioactive', '/Users/jacksimpson/Data/beeunique/training/merged/radioactive/')\n",
      "('RR', '/Users/jacksimpson/Data/beeunique/training/merged/RR/')\n",
      "('Scissors', '/Users/jacksimpson/Data/beeunique/training/merged/Scissors/')\n",
      "('SS', '/Users/jacksimpson/Data/beeunique/training/merged/SS/')\n",
      "('sun', '/Users/jacksimpson/Data/beeunique/training/merged/sun/')\n",
      "('Tadpole', '/Users/jacksimpson/Data/beeunique/training/merged/Tadpole/')\n",
      "('Triangle', '/Users/jacksimpson/Data/beeunique/training/merged/Triangle/')\n",
      "('Trident', '/Users/jacksimpson/Data/beeunique/training/merged/Trident/')\n",
      "('TT', '/Users/jacksimpson/Data/beeunique/training/merged/TT/')\n",
      "('Umbrella', '/Users/jacksimpson/Data/beeunique/training/merged/Umbrella/')\n",
      "('unknown', '/Users/jacksimpson/Data/beeunique/training/merged/unknown/')\n",
      "('UU', '/Users/jacksimpson/Data/beeunique/training/merged/UU/')\n",
      "('w', '/Users/jacksimpson/Data/beeunique/training/merged/w/')\n",
      "('XX', '/Users/jacksimpson/Data/beeunique/training/merged/XX/')\n",
      "('y', '/Users/jacksimpson/Data/beeunique/training/merged/y/')\n",
      "('ZZ', '/Users/jacksimpson/Data/beeunique/training/merged/ZZ/')\n"
     ]
    }
   ],
   "source": [
    "images = {}\n",
    "\n",
    "for image_directory_path in list_image_directory_paths:\n",
    "    image_class_name = os.path.basename(os.path.normpath(image_directory_path))\n",
    "    print(image_class_name, image_directory_path)\n",
    "    images[image_class_name] = []\n",
    "    for image_file in glob.glob(image_directory_path + '*.png'):\n",
    "        image = cv2.imread(image_file, cv2.IMREAD_GRAYSCALE)\n",
    "        images[image_class_name].append((image[3:25, 3:25].sum(), image))"
   ]
  },
  {
   "cell_type": "code",
   "execution_count": 11,
   "metadata": {},
   "outputs": [
    {
     "name": "stdout",
     "output_type": "stream",
     "text": [
      "['CircleLine', 'heart', 'Note1', 'DD', 'Note2', 'EE', 'Pillars', 'HH', 'Ampersand', 'Plant', 'leaf', 'arrowhollow', 'nn', 'Ankh', 'sun', 'TT', 'Trident', 'Asterisk', 'UU', '1', '0', '3', '2', '5', '4', '7', '6', '8', 'Omega', 'CircleCross', 'AA', 'SS', 'Peace', 'hash', 'Tadpole', 'ArrowLine', 'Question', 'RR', 'PP', 'lines3', 'GG', 'y', 'XX', 'ZZ', 'radioactive', 'Triangle', 'Umbrella', 'Dot', 'a', 'e', 'Power', 'KK', 'h', 'Queen', 'Plane', 'MM', 'r', 'circlehalf', 'w', 'unknown', 'necklace', 'Scissors']\n"
     ]
    }
   ],
   "source": [
    "print(images.keys())"
   ]
  },
  {
   "cell_type": "code",
   "execution_count": 12,
   "metadata": {
    "collapsed": true
   },
   "outputs": [],
   "source": [
    "for tag in images.keys():\n",
    "    n = 0\n",
    "    tag_class_dir = '/Users/jacksimpson/Data/beeunique/training/merged_sorted/{}'.format(tag)\n",
    "    images[tag].sort(key=lambda x: x[0])\n",
    "    os.makedirs(tag_class_dir)\n",
    "    for im_sum, im in images[tag]:\n",
    "        n += 1\n",
    "        fname = tag_class_dir + '/' + str(n) + '_' + uuid.uuid4().hex + '.png'\n",
    "        cv2.imwrite(fname, im)"
   ]
  },
  {
   "cell_type": "code",
   "execution_count": null,
   "metadata": {
    "collapsed": true
   },
   "outputs": [],
   "source": []
  }
 ],
 "metadata": {
  "kernelspec": {
   "display_name": "Python 2",
   "language": "python",
   "name": "python2"
  },
  "language_info": {
   "codemirror_mode": {
    "name": "ipython",
    "version": 2
   },
   "file_extension": ".py",
   "mimetype": "text/x-python",
   "name": "python",
   "nbconvert_exporter": "python",
   "pygments_lexer": "ipython2",
   "version": "2.7.13"
  }
 },
 "nbformat": 4,
 "nbformat_minor": 2
}
