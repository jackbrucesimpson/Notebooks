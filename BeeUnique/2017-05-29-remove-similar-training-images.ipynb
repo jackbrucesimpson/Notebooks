{
 "cells": [
  {
   "cell_type": "markdown",
   "metadata": {},
   "source": [
    "# Remove Similar Training Images\n",
    "- Go through all my training images and eliminate those that are too similar to have a more diverse training set and reduce the required memory\n",
    "\n",
    "## Outcome\n",
    "- "
   ]
  },
  {
   "cell_type": "code",
   "execution_count": 1,
   "metadata": {},
   "outputs": [
    {
     "data": {
      "application/json": {
       "Software versions": [
        {
         "module": "Python",
         "version": "2.7.13 64bit [GCC 4.2.1 Compatible Apple LLVM 8.0.0 (clang-800.0.42.1)]"
        },
        {
         "module": "IPython",
         "version": "5.3.0"
        },
        {
         "module": "OS",
         "version": "Darwin 16.6.0 x86_64 i386 64bit"
        },
        {
         "module": "numpy",
         "version": "1.12.1"
        },
        {
         "module": "scipy",
         "version": "0.19.0"
        },
        {
         "module": "matplotlib",
         "version": "2.0.2"
        },
        {
         "module": "pandas",
         "version": "0.20.1"
        }
       ]
      },
      "text/html": [
       "<table><tr><th>Software</th><th>Version</th></tr><tr><td>Python</td><td>2.7.13 64bit [GCC 4.2.1 Compatible Apple LLVM 8.0.0 (clang-800.0.42.1)]</td></tr><tr><td>IPython</td><td>5.3.0</td></tr><tr><td>OS</td><td>Darwin 16.6.0 x86_64 i386 64bit</td></tr><tr><td>numpy</td><td>1.12.1</td></tr><tr><td>scipy</td><td>0.19.0</td></tr><tr><td>matplotlib</td><td>2.0.2</td></tr><tr><td>pandas</td><td>0.20.1</td></tr><tr><td colspan='2'>Tue May 30 16:49:32 2017 AEST</td></tr></table>"
      ],
      "text/latex": [
       "\\begin{tabular}{|l|l|}\\hline\n",
       "{\\bf Software} & {\\bf Version} \\\\ \\hline\\hline\n",
       "Python & 2.7.13 64bit [GCC 4.2.1 Compatible Apple LLVM 8.0.0 (clang-800.0.42.1)] \\\\ \\hline\n",
       "IPython & 5.3.0 \\\\ \\hline\n",
       "OS & Darwin 16.6.0 x86\\_64 i386 64bit \\\\ \\hline\n",
       "numpy & 1.12.1 \\\\ \\hline\n",
       "scipy & 0.19.0 \\\\ \\hline\n",
       "matplotlib & 2.0.2 \\\\ \\hline\n",
       "pandas & 0.20.1 \\\\ \\hline\n",
       "\\hline \\multicolumn{2}{|l|}{Tue May 30 16:49:32 2017 AEST} \\\\ \\hline\n",
       "\\end{tabular}\n"
      ],
      "text/plain": [
       "Software versions\n",
       "Python 2.7.13 64bit [GCC 4.2.1 Compatible Apple LLVM 8.0.0 (clang-800.0.42.1)]\n",
       "IPython 5.3.0\n",
       "OS Darwin 16.6.0 x86_64 i386 64bit\n",
       "numpy 1.12.1\n",
       "scipy 0.19.0\n",
       "matplotlib 2.0.2\n",
       "pandas 0.20.1\n",
       "Tue May 30 16:49:32 2017 AEST"
      ]
     },
     "execution_count": 1,
     "metadata": {},
     "output_type": "execute_result"
    }
   ],
   "source": [
    "%matplotlib inline\n",
    "#from pylab import rcParams\n",
    "#rcParams['figure.figsize'] = 12, 8\n",
    "\n",
    "%load_ext autoreload\n",
    "%autoreload 2\n",
    "\n",
    "%load_ext version_information\n",
    "%version_information numpy, scipy, matplotlib, pandas"
   ]
  },
  {
   "cell_type": "code",
   "execution_count": 2,
   "metadata": {
    "collapsed": true
   },
   "outputs": [],
   "source": [
    "import matplotlib.pyplot as plt\n",
    "import matplotlib.cm as cm\n",
    "import numpy as np\n",
    "import cv2\n",
    "import glob\n",
    "import copy\n",
    "import random\n",
    "\n",
    "import os\n",
    "import sys\n",
    "\n",
    "sys.path.append(\"../src\")\n",
    "from images_permute import processing_pipeline\n",
    "\n",
    "np.random.seed(0)\n",
    "\n",
    "def view(image):\n",
    "    plt.figure()\n",
    "    plt.axis('off')\n",
    "    plt.imshow(image, cmap = cm.Greys_r)"
   ]
  },
  {
   "cell_type": "code",
   "execution_count": 3,
   "metadata": {},
   "outputs": [
    {
     "name": "stdout",
     "output_type": "stream",
     "text": [
      "('/Users/jacksimpson/Data/beeunique/output/All/0/', 64)\n"
     ]
    }
   ],
   "source": [
    "list_image_directory_paths = glob.glob('/Users/jacksimpson/Data/beeunique/output/All/*/')\n",
    "print(list_image_directory_paths[0], len(list_image_directory_paths))"
   ]
  },
  {
   "cell_type": "code",
   "execution_count": 4,
   "metadata": {
    "collapsed": true
   },
   "outputs": [],
   "source": [
    "kernel_size = 3\n",
    "sig = 1.0\n",
    "th = 0.2\n",
    "lm = 3.0\n",
    "gm = 1.5\n",
    "ps = 0\n",
    "\n",
    "kernel = cv2.getGaborKernel((kernel_size, kernel_size), sig, th, lm, gm, ps)"
   ]
  },
  {
   "cell_type": "code",
   "execution_count": 5,
   "metadata": {},
   "outputs": [
    {
     "name": "stdout",
     "output_type": "stream",
     "text": [
      "('0', '/Users/jacksimpson/Data/beeunique/output/All/0/')\n",
      "('1', '/Users/jacksimpson/Data/beeunique/output/All/1/')\n",
      "('2', '/Users/jacksimpson/Data/beeunique/output/All/2/')\n",
      "('3', '/Users/jacksimpson/Data/beeunique/output/All/3/')\n",
      "('4', '/Users/jacksimpson/Data/beeunique/output/All/4/')\n",
      "('5', '/Users/jacksimpson/Data/beeunique/output/All/5/')\n",
      "('6', '/Users/jacksimpson/Data/beeunique/output/All/6/')\n",
      "('7', '/Users/jacksimpson/Data/beeunique/output/All/7/')\n",
      "('8', '/Users/jacksimpson/Data/beeunique/output/All/8/')\n",
      "('a', '/Users/jacksimpson/Data/beeunique/output/All/a/')\n",
      "('AA', '/Users/jacksimpson/Data/beeunique/output/All/AA/')\n",
      "('Ampersand', '/Users/jacksimpson/Data/beeunique/output/All/Ampersand/')\n",
      "('Ankh', '/Users/jacksimpson/Data/beeunique/output/All/Ankh/')\n",
      "('ArrowLine', '/Users/jacksimpson/Data/beeunique/output/All/ArrowLine/')\n",
      "('Asterisk', '/Users/jacksimpson/Data/beeunique/output/All/Asterisk/')\n",
      "('b', '/Users/jacksimpson/Data/beeunique/output/All/b/')\n",
      "('BB', '/Users/jacksimpson/Data/beeunique/output/All/BB/')\n",
      "('Circle_Line', '/Users/jacksimpson/Data/beeunique/output/All/Circle_Line/')\n",
      "('CircleCross', '/Users/jacksimpson/Data/beeunique/output/All/CircleCross/')\n",
      "('DD', '/Users/jacksimpson/Data/beeunique/output/All/DD/')\n",
      "('Dot', '/Users/jacksimpson/Data/beeunique/output/All/Dot/')\n",
      "('e', '/Users/jacksimpson/Data/beeunique/output/All/e/')\n",
      "('EE', '/Users/jacksimpson/Data/beeunique/output/All/EE/')\n",
      "('f', '/Users/jacksimpson/Data/beeunique/output/All/f/')\n",
      "('g', '/Users/jacksimpson/Data/beeunique/output/All/g/')\n",
      "('GG', '/Users/jacksimpson/Data/beeunique/output/All/GG/')\n",
      "('h', '/Users/jacksimpson/Data/beeunique/output/All/h/')\n",
      "('Halfcircle', '/Users/jacksimpson/Data/beeunique/output/All/Halfcircle/')\n",
      "('Heart', '/Users/jacksimpson/Data/beeunique/output/All/Heart/')\n",
      "('HH', '/Users/jacksimpson/Data/beeunique/output/All/HH/')\n",
      "('HollowArrow', '/Users/jacksimpson/Data/beeunique/output/All/HollowArrow/')\n",
      "('JJ', '/Users/jacksimpson/Data/beeunique/output/All/JJ/')\n",
      "('KK', '/Users/jacksimpson/Data/beeunique/output/All/KK/')\n",
      "('Leaf', '/Users/jacksimpson/Data/beeunique/output/All/Leaf/')\n",
      "('Lines3', '/Users/jacksimpson/Data/beeunique/output/All/Lines3/')\n",
      "('MM', '/Users/jacksimpson/Data/beeunique/output/All/MM/')\n",
      "('n', '/Users/jacksimpson/Data/beeunique/output/All/n/')\n",
      "('Necklace', '/Users/jacksimpson/Data/beeunique/output/All/Necklace/')\n",
      "('Note1', '/Users/jacksimpson/Data/beeunique/output/All/Note1/')\n",
      "('Notes2', '/Users/jacksimpson/Data/beeunique/output/All/Notes2/')\n",
      "('Omega', '/Users/jacksimpson/Data/beeunique/output/All/Omega/')\n",
      "('Peace', '/Users/jacksimpson/Data/beeunique/output/All/Peace/')\n",
      "('Pillars', '/Users/jacksimpson/Data/beeunique/output/All/Pillars/')\n",
      "('Plane', '/Users/jacksimpson/Data/beeunique/output/All/Plane/')\n",
      "('Plant', '/Users/jacksimpson/Data/beeunique/output/All/Plant/')\n",
      "('Power', '/Users/jacksimpson/Data/beeunique/output/All/Power/')\n",
      "('PP', '/Users/jacksimpson/Data/beeunique/output/All/PP/')\n",
      "('Queen', '/Users/jacksimpson/Data/beeunique/output/All/Queen/')\n",
      "('Question', '/Users/jacksimpson/Data/beeunique/output/All/Question/')\n",
      "('r', '/Users/jacksimpson/Data/beeunique/output/All/r/')\n",
      "('Radioactive', '/Users/jacksimpson/Data/beeunique/output/All/Radioactive/')\n",
      "('RR', '/Users/jacksimpson/Data/beeunique/output/All/RR/')\n",
      "('Scissors', '/Users/jacksimpson/Data/beeunique/output/All/Scissors/')\n",
      "('SS', '/Users/jacksimpson/Data/beeunique/output/All/SS/')\n",
      "('Tadpole', '/Users/jacksimpson/Data/beeunique/output/All/Tadpole/')\n",
      "('Triangle', '/Users/jacksimpson/Data/beeunique/output/All/Triangle/')\n",
      "('Trident', '/Users/jacksimpson/Data/beeunique/output/All/Trident/')\n",
      "('TT', '/Users/jacksimpson/Data/beeunique/output/All/TT/')\n",
      "('Umbrella', '/Users/jacksimpson/Data/beeunique/output/All/Umbrella/')\n",
      "('UU', '/Users/jacksimpson/Data/beeunique/output/All/UU/')\n",
      "('w', '/Users/jacksimpson/Data/beeunique/output/All/w/')\n",
      "('XX', '/Users/jacksimpson/Data/beeunique/output/All/XX/')\n",
      "('y', '/Users/jacksimpson/Data/beeunique/output/All/y/')\n",
      "('ZZ', '/Users/jacksimpson/Data/beeunique/output/All/ZZ/')\n"
     ]
    }
   ],
   "source": [
    "class_images_dict = {}\n",
    "for image_directory_path in list_image_directory_paths:\n",
    "    image_class_name = os.path.basename(os.path.normpath(image_directory_path))\n",
    "    print(image_class_name, image_directory_path)\n",
    "    class_images_dict[image_class_name] = []\n",
    "    \n",
    "    image_subdirs = glob.glob(image_directory_path + '/*/')\n",
    "    for subdir in image_subdirs:\n",
    "        for image_file in glob.glob(subdir + '*.png'):\n",
    "            image = cv2.imread(image_file, cv2.IMREAD_GRAYSCALE)\n",
    "            \n",
    "            \n",
    "            image = cv2.medianBlur(image, 3);\n",
    "            image = cv2.filter2D(image, cv2.CV_32F, kernel)\n",
    "            \n",
    "            \n",
    "            \n",
    "            \n",
    "            class_images_dict[image_class_name].append(image)"
   ]
  },
  {
   "cell_type": "code",
   "execution_count": 6,
   "metadata": {},
   "outputs": [
    {
     "data": {
      "image/png": "[encoded data removed]",
      "text/plain": [
       "<matplotlib.figure.Figure at 0x10d54cf10>"
      ]
     },
     "metadata": {},
     "output_type": "display_data"
    },
    {
     "data": {
      "image/png": "[encoded data removed]",
      "text/plain": [
       "<matplotlib.figure.Figure at 0x10d54cf90>"
      ]
     },
     "metadata": {},
     "output_type": "display_data"
    },
    {
     "data": {
      "image/png": "[encoded data removed]",
      "text/plain": [
       "<matplotlib.figure.Figure at 0x1132ae690>"
      ]
     },
     "metadata": {},
     "output_type": "display_data"
    },
    {
     "data": {
      "image/png": "[encoded data removed]",
      "text/plain": [
       "<matplotlib.figure.Figure at 0x113336c50>"
      ]
     },
     "metadata": {},
     "output_type": "display_data"
    }
   ],
   "source": [
    "view(class_images_dict['AA'][0])\n",
    "view(class_images_dict['AA'][-77])\n",
    "view(class_images_dict['XX'][0])\n",
    "view(class_images_dict['XX'][1])"
   ]
  },
  {
   "cell_type": "code",
   "execution_count": 7,
   "metadata": {},
   "outputs": [
    {
     "name": "stdout",
     "output_type": "stream",
     "text": [
      "{'HollowArrow': 12542, 'Leaf': 18795, 'BB': 22702, 'Note1': 19408, 'DD': 18647, 'Peace': 11981, 'Question': 14189, 'Pillars': 21214, 'KK': 10797, 'HH': 7438, 'Ampersand': 30333, 'JJ': 20185, 'Notes2': 5503, 'Plant': 28820, 'Triangle': 15329, 'Power': 13586, 'Ankh': 12257, 'TT': 12068, 'Trident': 17598, 'Asterisk': 55154, 'Lines3': 7687, '1': 28267, '0': 10677, '3': 20854, '2': 20616, '5': 12025, '4': 12802, '7': 22481, '6': 10447, '8': 13133, 'Omega': 14831, 'CircleCross': 18354, 'AA': 22210, 'Circle_Line': 12247, 'Radioactive': 11782, 'EE': 8123, 'PP': 14941, 'GG': 13412, 'XX': 9631, 'Plane': 4561, 'ZZ': 41249, 'Necklace': 37106, 'Umbrella': 12740, 'Dot': 12951, 'Halfcircle': 21597, 'a': 9016, 'Heart': 30117, 'b': 17262, 'e': 21883, 'RR': 25155, 'g': 16371, 'f': 15362, 'UU': 11717, 'h': 9803, 'Queen': 21978, 'Tadpole': 24269, 'n': 18065, 'SS': 14522, 'r': 18146, 'ArrowLine': 3881, 'w': 12725, 'y': 7183, 'Scissors': 17618, 'MM': 15126}\n",
      "(1093469, 3881, 'ArrowLine')\n"
     ]
    }
   ],
   "source": [
    "print({k: len(class_images_dict[k]) for k in class_images_dict.keys()})\n",
    "n = 0\n",
    "m = 100000\n",
    "m_class_name = ''\n",
    "for k in class_images_dict.keys():\n",
    "    if m > len(class_images_dict[k]):\n",
    "        m = len(class_images_dict[k])\n",
    "        m_class_name = k\n",
    "    n += len(class_images_dict[k])\n",
    "print(n, m, m_class_name)"
   ]
  },
  {
   "cell_type": "code",
   "execution_count": 8,
   "metadata": {},
   "outputs": [
    {
     "name": "stdout",
     "output_type": "stream",
     "text": [
      "{'HollowArrow': 4000, 'Leaf': 4000, 'BB': 4000, 'Note1': 4000, 'DD': 4000, 'Peace': 4000, 'Question': 4000, 'Pillars': 4000, 'HH': 4000, 'Ampersand': 4000, 'JJ': 4000, 'Notes2': 4000, 'Plant': 4000, 'Triangle': 4000, 'Power': 4000, 'Ankh': 4000, 'TT': 4000, 'Trident': 4000, 'Asterisk': 4000, 'Lines3': 4000, '1': 4000, '0': 4000, '3': 4000, '2': 4000, '5': 4000, '4': 4000, '7': 4000, '6': 4000, '8': 4000, 'Omega': 4000, 'CircleCross': 4000, 'AA': 4000, 'SS': 4000, 'Circle_Line': 4000, 'Radioactive': 4000, 'Tadpole': 4000, 'EE': 4000, 'RR': 4000, 'PP': 4000, 'GG': 4000, 'XX': 4000, 'ZZ': 4000, 'Necklace': 4000, 'Umbrella': 4000, 'Dot': 4000, 'a': 4000, 'Heart': 4000, 'b': 4000, 'e': 4000, 'Halfcircle': 4000, 'g': 4000, 'f': 4000, 'KK': 4000, 'h': 4000, 'Queen': 4000, 'Plane': 4000, 'n': 4000, 'UU': 4000, 'r': 4000, 'ArrowLine': 3881, 'w': 4000, 'y': 4000, 'Scissors': 4000, 'MM': 4000}\n"
     ]
    }
   ],
   "source": [
    "subset_class_images_dict = {}\n",
    "\n",
    "for tag_class in class_images_dict.keys():\n",
    "    if len(class_images_dict[tag_class]) > 4000:\n",
    "        subset_class_images_dict[tag_class] = random.sample(class_images_dict[tag_class], 4000)\n",
    "    else:\n",
    "        subset_class_images_dict[tag_class] = class_images_dict[tag_class]\n",
    "\n",
    "print({k: len(subset_class_images_dict[k]) for k in subset_class_images_dict.keys()})"
   ]
  },
  {
   "cell_type": "code",
   "execution_count": 9,
   "metadata": {
    "collapsed": true
   },
   "outputs": [],
   "source": [
    "def norm_image(image):\n",
    "    image[image < 0] = 0\n",
    "    image[image > 255] = 255\n",
    "    return np.uint8(image)\n",
    "\n",
    "def add_noise(image, n_or_u):\n",
    "    noise = np.zeros((28,28), np.uint8)\n",
    "    if n_or_u == 'n':\n",
    "        cv2.randn(noise, 30, 2)\n",
    "    else:\n",
    "        cv2.randu(noise, 20, 2)\n",
    "    noisy_image = np.uint32(image) + noise\n",
    "    noisy_image[noisy_image < 0] = 0\n",
    "    noisy_image[noisy_image > 255] = 255\n",
    "    noisy_image = np.uint8(noisy_image)\n",
    "    return noisy_image\n",
    "\n",
    "def rotate_image(image):\n",
    "    rotated_images = []\n",
    "    for angle in range(90, 360, 90):\n",
    "        M = cv2.getRotationMatrix2D((14,14),angle,1)\n",
    "        r = cv2.warpAffine(image,M,(28,28))\n",
    "        rotated_images.append(r)\n",
    "    return rotated_images\n",
    "\n",
    "def change_brightness_contrast(image):\n",
    "    image_int32 = np.int32(image)\n",
    "    increase_brightness = norm_image(image_int32 + 80)\n",
    "    decrease_brightness = norm_image(image_int32 - 80)\n",
    "    return [increase_brightness, decrease_brightness]\n",
    "    \n",
    "def occlude_edges(image):\n",
    "    full_size = np.zeros((28, 28), dtype=np.uint8)\n",
    "    full_size[2:26, 2:26] = image[2:26, 2:26]\n",
    "    return full_size\n",
    "\n",
    "def mean_smooth(image):\n",
    "    mean_smoothed = cv2.blur(image, (3, 3))\n",
    "    return mean_smoothed"
   ]
  },
  {
   "cell_type": "code",
   "execution_count": 10,
   "metadata": {},
   "outputs": [
    {
     "data": {
      "image/png": "[encoded data removed]",
      "text/plain": [
       "<matplotlib.figure.Figure at 0x113780710>"
      ]
     },
     "metadata": {},
     "output_type": "display_data"
    },
    {
     "data": {
      "image/png": "[encoded data removed]",
      "text/plain": [
       "<matplotlib.figure.Figure at 0x113940490>"
      ]
     },
     "metadata": {},
     "output_type": "display_data"
    },
    {
     "data": {
      "image/png": "[encoded data removed]",
      "text/plain": [
       "<matplotlib.figure.Figure at 0x11396c0d0>"
      ]
     },
     "metadata": {},
     "output_type": "display_data"
    },
    {
     "data": {
      "image/png": "[encoded data removed]",
      "text/plain": [
       "<matplotlib.figure.Figure at 0x113cc90d0>"
      ]
     },
     "metadata": {},
     "output_type": "display_data"
    },
    {
     "data": {
      "image/png": "[encoded data removed]",
      "text/plain": [
       "<matplotlib.figure.Figure at 0x113d4de90>"
      ]
     },
     "metadata": {},
     "output_type": "display_data"
    },
    {
     "data": {
      "image/png": "[encoded data removed]",
      "text/plain": [
       "<matplotlib.figure.Figure at 0x113541e50>"
      ]
     },
     "metadata": {},
     "output_type": "display_data"
    }
   ],
   "source": [
    "for im in change_brightness_contrast(class_images_dict['XX'][0]):\n",
    "    view(im)\n",
    "for im in rotate_image(class_images_dict['XX'][0]):\n",
    "    view(im)\n",
    "view(add_noise(occlude_edges(class_images_dict['XX'][0]), 'u'))"
   ]
  },
  {
   "cell_type": "code",
   "execution_count": 11,
   "metadata": {},
   "outputs": [
    {
     "name": "stdout",
     "output_type": "stream",
     "text": [
      "('HollowArrow', 4000)\n",
      "('Leaf', 4000)\n",
      "('BB', 4000)\n",
      "('Note1', 4000)\n",
      "('DD', 4000)\n",
      "('Peace', 4000)\n",
      "('Question', 4000)\n",
      "('Pillars', 4000)\n",
      "('KK', 4000)\n",
      "('HH', 4000)\n",
      "('Ampersand', 4000)\n",
      "('JJ', 4000)\n",
      "('Notes2', 4000)\n",
      "('Plant', 4000)\n",
      "('Triangle', 4000)\n",
      "('Power', 4000)\n",
      "('Ankh', 4000)\n",
      "('TT', 4000)\n",
      "('Trident', 4000)\n",
      "('Asterisk', 4000)\n",
      "('Lines3', 4000)\n",
      "('1', 4000)\n",
      "('0', 4000)\n",
      "('3', 4000)\n",
      "('2', 4000)\n",
      "('5', 4000)\n",
      "('4', 4000)\n",
      "('7', 4000)\n",
      "('6', 4000)\n",
      "('8', 4000)\n",
      "('Omega', 4000)\n",
      "('CircleCross', 4000)\n",
      "('AA', 4000)\n",
      "('Circle_Line', 4000)\n",
      "('Radioactive', 4000)\n",
      "('EE', 4000)\n",
      "('PP', 4000)\n",
      "('GG', 4000)\n",
      "('XX', 4000)\n",
      "('Plane', 4000)\n",
      "('ZZ', 4000)\n",
      "('Necklace', 4000)\n",
      "('Umbrella', 4000)\n",
      "('Dot', 4000)\n",
      "('Halfcircle', 4000)\n",
      "('a', 4000)\n",
      "('Heart', 4000)\n",
      "('b', 4000)\n",
      "('e', 4000)\n",
      "('RR', 4000)\n",
      "('g', 4000)\n",
      "('f', 4000)\n",
      "('UU', 4000)\n",
      "('h', 4000)\n",
      "('Queen', 4000)\n",
      "('Tadpole', 4000)\n",
      "('n', 4000)\n",
      "('SS', 4000)\n",
      "('r', 4000)\n",
      "('ArrowLine', 3881)\n",
      "('w', 4000)\n",
      "('y', 4000)\n",
      "('Scissors', 4000)\n",
      "('MM', 4000)\n"
     ]
    }
   ],
   "source": [
    "X = []\n",
    "image_class_names_index = 0\n",
    "image_class_names = {}\n",
    "y = []\n",
    "\n",
    "for tag_class in subset_class_images_dict.keys():\n",
    "    print(tag_class, len(subset_class_images_dict[tag_class]))\n",
    "    image_class_names[image_class_names_index] = tag_class\n",
    "    for tag in subset_class_images_dict[tag_class]:\n",
    "        generated_images = [tag, add_noise(occlude_edges(tag), 'u')]\n",
    "        generated_images.extend(change_brightness_contrast(tag))\n",
    "        generated_images.extend(rotate_image(tag))\n",
    "        X.extend(generated_images)\n",
    "        y.extend([image_class_names_index] * len(generated_images))\n",
    "    image_class_names_index += 1\n",
    "    \n",
    "X = np.array(X)\n",
    "y = np.array(y)"
   ]
  },
  {
   "cell_type": "code",
   "execution_count": 12,
   "metadata": {},
   "outputs": [
    {
     "name": "stdout",
     "output_type": "stream",
     "text": [
      "Note1\n",
      "Note1\n",
      "Note1\n",
      "Note1\n",
      "Note1\n",
      "Note1\n",
      "Note1\n",
      "Note1\n",
      "Note1\n",
      "Note1\n"
     ]
    },
    {
     "data": {
      "image/png": "[encoded data removed]",
      "text/plain": [
       "<matplotlib.figure.Figure at 0x113679f90>"
      ]
     },
     "metadata": {},
     "output_type": "display_data"
    },
    {
     "data": {
      "image/png": "[encoded data removed]",
      "text/plain": [
       "<matplotlib.figure.Figure at 0x11cb9cb10>"
      ]
     },
     "metadata": {},
     "output_type": "display_data"
    },
    {
     "data": {
      "image/png": "[encoded data removed]",
      "text/plain": [
       "<matplotlib.figure.Figure at 0x1084679d0>"
      ]
     },
     "metadata": {},
     "output_type": "display_data"
    },
    {
     "data": {
      "image/png": "[encoded data removed]",
      "text/plain": [
       "<matplotlib.figure.Figure at 0x1084dac10>"
      ]
     },
     "metadata": {},
     "output_type": "display_data"
    },
    {
     "data": {
      "image/png": "[encoded data removed]",
      "text/plain": [
       "<matplotlib.figure.Figure at 0x1152a2a10>"
      ]
     },
     "metadata": {},
     "output_type": "display_data"
    },
    {
     "data": {
      "image/png": "[encoded data removed]",
      "text/plain": [
       "<matplotlib.figure.Figure at 0x115321850>"
      ]
     },
     "metadata": {},
     "output_type": "display_data"
    },
    {
     "data": {
      "image/png": "[encoded data removed]",
      "text/plain": [
       "<matplotlib.figure.Figure at 0x1153b6590>"
      ]
     },
     "metadata": {},
     "output_type": "display_data"
    },
    {
     "data": {
      "image/png": "[encoded data removed]",
      "text/plain": [
       "<matplotlib.figure.Figure at 0x115427d90>"
      ]
     },
     "metadata": {},
     "output_type": "display_data"
    },
    {
     "data": {
      "image/png": "[encoded data removed]",
      "text/plain": [
       "<matplotlib.figure.Figure at 0x1154bbb90>"
      ]
     },
     "metadata": {},
     "output_type": "display_data"
    },
    {
     "data": {
      "image/png": "[encoded data removed]",
      "text/plain": [
       "<matplotlib.figure.Figure at 0x11423a910>"
      ]
     },
     "metadata": {},
     "output_type": "display_data"
    }
   ],
   "source": [
    "for i in range(90000, 90010):\n",
    "    view(X[i])\n",
    "    print(image_class_names[y[i]])"
   ]
  },
  {
   "cell_type": "code",
   "execution_count": 13,
   "metadata": {},
   "outputs": [
    {
     "name": "stdout",
     "output_type": "stream",
     "text": [
      "((1791167, 28, 28), (1791167,))\n",
      "set([0, 1, 2, 3, 4, 5, 6, 7, 8, 9, 10, 11, 12, 13, 14, 15, 16, 17, 18, 19, 20, 21, 22, 23, 24, 25, 26, 27, 28, 29, 30, 31, 32, 33, 34, 35, 36, 37, 38, 39, 40, 41, 42, 43, 44, 45, 46, 47, 48, 49, 50, 51, 52, 53, 54, 55, 56, 57, 58, 59, 60, 61, 62, 63])\n",
      "Leaf\n"
     ]
    }
   ],
   "source": [
    "print(X.shape, y.shape)\n",
    "print(set(y))\n",
    "print(image_class_names[1])"
   ]
  },
  {
   "cell_type": "code",
   "execution_count": 14,
   "metadata": {},
   "outputs": [
    {
     "name": "stdout",
     "output_type": "stream",
     "text": [
      "((1432933, 28, 28), (1432933,), (358234, 28, 28), (358234,))\n"
     ]
    }
   ],
   "source": [
    "from sklearn.model_selection import train_test_split\n",
    "\n",
    "X_train, X_test, y_train, y_test = train_test_split(X, y, test_size = 0.2, random_state=4)\n",
    "print(X_train.shape, y_train.shape, X_test.shape, y_test.shape)\n",
    "#del X\n",
    "#del y"
   ]
  },
  {
   "cell_type": "code",
   "execution_count": 15,
   "metadata": {},
   "outputs": [
    {
     "name": "stderr",
     "output_type": "stream",
     "text": [
      "Using TensorFlow backend.\n"
     ]
    }
   ],
   "source": [
    "from keras.models import Sequential\n",
    "from keras.layers import Dense, Dropout, Activation, Flatten\n",
    "from keras.layers import Convolution2D, MaxPooling2D\n",
    "from keras.utils import np_utils\n",
    "from keras import backend as K"
   ]
  },
  {
   "cell_type": "code",
   "execution_count": 17,
   "metadata": {
    "collapsed": true
   },
   "outputs": [],
   "source": [
    "Y_train = np_utils.to_categorical(y_train, len(set(y_train)))\n",
    "Y_test = np_utils.to_categorical(y_test, len(set(y_train)))"
   ]
  },
  {
   "cell_type": "code",
   "execution_count": 18,
   "metadata": {},
   "outputs": [
    {
     "data": {
      "text/plain": [
       "(1432933, 28, 28, 1)"
      ]
     },
     "execution_count": 18,
     "metadata": {},
     "output_type": "execute_result"
    }
   ],
   "source": [
    "img_rows = 28\n",
    "img_cols = 28\n",
    "\n",
    "if K.image_dim_ordering() == 'th':\n",
    "    X_train = X_train.reshape(X_train.shape[0], 1, img_rows, img_cols)\n",
    "    X_test = X_test.reshape(X_test.shape[0], 1, img_rows, img_cols)\n",
    "else:\n",
    "    X_train = X_train.reshape(X_train.shape[0], img_rows, img_cols, 1)\n",
    "    X_test = X_test.reshape(X_test.shape[0], img_rows, img_cols, 1)\n",
    "\n",
    "X_train.shape"
   ]
  },
  {
   "cell_type": "code",
   "execution_count": 19,
   "metadata": {
    "collapsed": true
   },
   "outputs": [],
   "source": [
    "# convert data to float32 and normalize from 0-1\n",
    "X_train = X_train.astype('float32')\n",
    "X_test = X_test.astype('float32')\n",
    "X_train /= 255\n",
    "X_test /= 255"
   ]
  },
  {
   "cell_type": "code",
   "execution_count": 20,
   "metadata": {
    "collapsed": true
   },
   "outputs": [],
   "source": [
    "model = Sequential()\n",
    "# input layer\n",
    "#model.add(Convolution2D(32, (3, 3), activation='relu', input_shape=(1,28,28))) # if theano backend\n",
    "model.add(Convolution2D(32, (3, 3), activation='relu', input_shape=(28, 28, 1)))\n",
    "\n",
    "model.add(Convolution2D(32, (3, 3), activation='relu'))\n",
    "model.add(MaxPooling2D(pool_size=(2,2)))\n",
    "model.add(Dropout(0.25))\n",
    "\n",
    "model.add(Flatten())\n",
    "model.add(Dense(128, activation='relu'))\n",
    "model.add(Dropout(0.5))\n",
    "model.add(Dense(65, activation='softmax'))\n",
    "\n",
    "model.compile(loss='categorical_crossentropy', optimizer='adam', metrics=['accuracy'])"
   ]
  },
  {
   "cell_type": "code",
   "execution_count": 22,
   "metadata": {},
   "outputs": [
    {
     "name": "stdout",
     "output_type": "stream",
     "text": [
      "Epoch 1/3\n",
      "1432933/1432933 [==============================] - 1186s - loss: 0.5664 - acc: 0.8354  \n",
      "Epoch 2/3\n",
      "1432933/1432933 [==============================] - 1183s - loss: 0.5282 - acc: 0.8473  \n",
      "Epoch 3/3\n",
      "1432933/1432933 [==============================] - 1175s - loss: 0.5007 - acc: 0.8558  \n"
     ]
    },
    {
     "data": {
      "text/plain": [
       "<keras.callbacks.History at 0x13d961050>"
      ]
     },
     "execution_count": 22,
     "metadata": {},
     "output_type": "execute_result"
    }
   ],
   "source": [
    "model.fit(X_train, Y_train, batch_size=32, epochs=3, verbose=1)"
   ]
  },
  {
   "cell_type": "code",
   "execution_count": 23,
   "metadata": {
    "collapsed": true
   },
   "outputs": [],
   "source": [
    "model.save('model.h5')"
   ]
  },
  {
   "cell_type": "code",
   "execution_count": 21,
   "metadata": {
    "collapsed": true
   },
   "outputs": [],
   "source": [
    "from keras.models import load_model\n",
    "model = load_model('model.h5')"
   ]
  },
  {
   "cell_type": "code",
   "execution_count": 24,
   "metadata": {},
   "outputs": [
    {
     "name": "stdout",
     "output_type": "stream",
     "text": [
      "358234/358234 [==============================] - 76s    \n"
     ]
    },
    {
     "data": {
      "text/plain": [
       "[0.16035631975736497, 0.96224255654358459]"
      ]
     },
     "execution_count": 24,
     "metadata": {},
     "output_type": "execute_result"
    }
   ],
   "source": [
    "score = model.evaluate(X_test, Y_test) #, verbose=0\n",
    "score"
   ]
  },
  {
   "cell_type": "code",
   "execution_count": 25,
   "metadata": {},
   "outputs": [
    {
     "name": "stdout",
     "output_type": "stream",
     "text": [
      "358080/358234 [============================>.] - ETA: 0s"
     ]
    }
   ],
   "source": [
    "from sklearn.metrics import classification_report, confusion_matrix\n",
    "\n",
    "pc = model.predict_classes(X_test)"
   ]
  },
  {
   "cell_type": "code",
   "execution_count": 26,
   "metadata": {},
   "outputs": [
    {
     "data": {
      "text/plain": [
       "array([[5290,    0,    1, ...,    0,    0,    0],\n",
       "       [   0, 5507,    0, ...,    0,    0,    4],\n",
       "       [   0,    0, 5411, ...,    7,    1,    4],\n",
       "       ..., \n",
       "       [   0,    0,    0, ..., 5440,    0,    0],\n",
       "       [   0,    0,    0, ...,    4, 5538,    3],\n",
       "       [   0,    0,    1, ...,    7,   10, 5365]])"
      ]
     },
     "execution_count": 26,
     "metadata": {},
     "output_type": "execute_result"
    }
   ],
   "source": [
    "confusion_matrix(np.argmax(Y_test,axis=1), pc)"
   ]
  },
  {
   "cell_type": "code",
   "execution_count": 27,
   "metadata": {},
   "outputs": [
    {
     "data": {
      "image/png": "[encoded data removed]",
      "text/plain": [
       "<matplotlib.figure.Figure at 0x149c54fd0>"
      ]
     },
     "metadata": {},
     "output_type": "display_data"
    }
   ],
   "source": [
    "view(confusion_matrix(np.argmax(Y_test,axis=1), pc))"
   ]
  },
  {
   "cell_type": "code",
   "execution_count": 28,
   "metadata": {},
   "outputs": [
    {
     "data": {
      "text/plain": [
       "<matplotlib.colorbar.Colorbar at 0x149d83090>"
      ]
     },
     "execution_count": 28,
     "metadata": {},
     "output_type": "execute_result"
    },
    {
     "data": {
      "image/png": "[encoded data removed]",
      "text/plain": [
       "<matplotlib.figure.Figure at 0x151442110>"
      ]
     },
     "metadata": {},
     "output_type": "display_data"
    }
   ],
   "source": [
    "plt.figure()\n",
    "plt.imshow(confusion_matrix(np.argmax(Y_test,axis=1), pc))\n",
    "plt.colorbar()"
   ]
  },
  {
   "cell_type": "code",
   "execution_count": 29,
   "metadata": {},
   "outputs": [
    {
     "name": "stdout",
     "output_type": "stream",
     "text": [
      "21\n",
      "1\n"
     ]
    },
    {
     "data": {
      "image/png": "[encoded data removed]",
      "text/plain": [
       "<matplotlib.figure.Figure at 0x149e676d0>"
      ]
     },
     "metadata": {},
     "output_type": "display_data"
    }
   ],
   "source": [
    "n = 1418\n",
    "print(pc[n])\n",
    "view(X_test[n].reshape(1, 28, 28)[0])\n",
    "print(image_class_names[pc[n]])"
   ]
  },
  {
   "cell_type": "code",
   "execution_count": 30,
   "metadata": {},
   "outputs": [
    {
     "name": "stdout",
     "output_type": "stream",
     "text": [
      "31\n",
      "CircleCross\n"
     ]
    },
    {
     "data": {
      "image/png": "[encoded data removed]",
      "text/plain": [
       "<matplotlib.figure.Figure at 0x1516658d0>"
      ]
     },
     "metadata": {},
     "output_type": "display_data"
    }
   ],
   "source": [
    "n = 30\n",
    "print(pc[n])\n",
    "view(X_test[n].reshape(1, 28, 28)[0])\n",
    "print(image_class_names[pc[n]])"
   ]
  },
  {
   "cell_type": "code",
   "execution_count": 31,
   "metadata": {},
   "outputs": [
    {
     "name": "stdout",
     "output_type": "stream",
     "text": [
      "{0: 'HollowArrow', 1: 'Leaf', 2: 'BB', 3: 'Note1', 4: 'DD', 5: 'Peace', 6: 'Question', 7: 'Pillars', 8: 'KK', 9: 'HH', 10: 'Ampersand', 11: 'JJ', 12: 'Notes2', 13: 'Plant', 14: 'Triangle', 15: 'Power', 16: 'Ankh', 17: 'TT', 18: 'Trident', 19: 'Asterisk', 20: 'Lines3', 21: '1', 22: '0', 23: '3', 24: '2', 25: '5', 26: '4', 27: '7', 28: '6', 29: '8', 30: 'Omega', 31: 'CircleCross', 32: 'AA', 33: 'Circle_Line', 34: 'Radioactive', 35: 'EE', 36: 'PP', 37: 'GG', 38: 'XX', 39: 'Plane', 40: 'ZZ', 41: 'Necklace', 42: 'Umbrella', 43: 'Dot', 44: 'Halfcircle', 45: 'a', 46: 'Heart', 47: 'b', 48: 'e', 49: 'RR', 50: 'g', 51: 'f', 52: 'UU', 53: 'h', 54: 'Queen', 55: 'Tadpole', 56: 'n', 57: 'SS', 58: 'r', 59: 'ArrowLine', 60: 'w', 61: 'y', 62: 'Scissors', 63: 'MM'}\n"
     ]
    }
   ],
   "source": [
    "print(image_class_names)"
   ]
  },
  {
   "cell_type": "code",
   "execution_count": 32,
   "metadata": {},
   "outputs": [
    {
     "name": "stdout",
     "output_type": "stream",
     "text": [
      "358048/358234 [============================>.] - ETA: 0s"
     ]
    }
   ],
   "source": [
    "pp = model.predict_proba(X_test)"
   ]
  },
  {
   "cell_type": "code",
   "execution_count": 33,
   "metadata": {},
   "outputs": [
    {
     "data": {
      "text/plain": [
       "array([  1.13466541e-07,   5.71694272e-06,   1.52812207e-09,\n",
       "         2.56104894e-11,   7.11635322e-37,   3.97900463e-11,\n",
       "         1.33363681e-10,   9.56070512e-09,   3.88419765e-12,\n",
       "         2.88494612e-22,   1.08176051e-02,   3.62970459e-10,\n",
       "         1.47095469e-09,   5.43742130e-18,   2.37947884e-10,\n",
       "         5.21950058e-22,   2.63637285e-05,   1.27034439e-09,\n",
       "         9.58900080e-15,   1.19843644e-18,   5.60497648e-10,\n",
       "         2.75322432e-10,   4.64824203e-28,   1.41974056e-07,\n",
       "         9.63767713e-20,   2.34742511e-05,   3.41865691e-09,\n",
       "         5.79296264e-11,   1.46558846e-03,   3.19310811e-06,\n",
       "         6.37310080e-29,   2.54922041e-15,   5.86767790e-08,\n",
       "         9.47680645e-17,   4.57925853e-06,   5.25069423e-04,\n",
       "         6.47975118e-10,   1.75710299e-25,   9.24282373e-10,\n",
       "         2.53768950e-11,   5.09506497e-17,   1.14199516e-07,\n",
       "         4.69049752e-07,   4.25156411e-19,   5.38049886e-16,\n",
       "         7.06760141e-15,   2.17689688e-09,   4.14171927e-02,\n",
       "         3.64105286e-19,   7.04795727e-12,   2.12386716e-02,\n",
       "         4.77651156e-06,   1.88672591e-10,   9.22594070e-01,\n",
       "         1.32743796e-20,   2.05490846e-06,   3.60411459e-19,\n",
       "         2.78158812e-04,   3.74499587e-06,   1.35872071e-03,\n",
       "         2.30093443e-04,   2.57521737e-09,   4.74158168e-14,\n",
       "         8.58914362e-09], dtype=float32)"
      ]
     },
     "execution_count": 33,
     "metadata": {},
     "output_type": "execute_result"
    }
   ],
   "source": [
    "pp[0]"
   ]
  },
  {
   "cell_type": "code",
   "execution_count": 34,
   "metadata": {},
   "outputs": [
    {
     "name": "stdout",
     "output_type": "stream",
     "text": [
      "53\n",
      "0.922594\n"
     ]
    }
   ],
   "source": [
    "print(np.argmax(pp[0]))\n",
    "print(np.amax(pp[0]))"
   ]
  },
  {
   "cell_type": "code",
   "execution_count": 75,
   "metadata": {
    "collapsed": true
   },
   "outputs": [],
   "source": [
    "d = '/Users/jacksimpson/Data/beeunique/output/Caffeine_Unique_Tags/2017-02-14_22-22-15/6/'\n",
    "\n",
    "images = []\n",
    "for image_file in glob.glob(d + '*.png'):\n",
    "    image = cv2.imread(image_file, cv2.IMREAD_GRAYSCALE)\n",
    "    kernel_size = 3\n",
    "    sig = 1.0\n",
    "    th = 0.2\n",
    "    lm = 3.0\n",
    "    gm = 1.5\n",
    "    ps = 0\n",
    "    kernel = cv2.getGaborKernel((kernel_size, kernel_size), sig, th, lm, gm, ps)\n",
    "    image = cv2.filter2D(image, cv2.CV_32F, kernel)\n",
    "    \n",
    "    \n",
    "    images.append(image)\n",
    "    \n",
    "images_array = np.array(images)\n",
    "images_array = images_array.reshape(images_array.shape[0], img_rows, img_cols, 1)\n",
    "images_array /=255"
   ]
  },
  {
   "cell_type": "code",
   "execution_count": 76,
   "metadata": {},
   "outputs": [
    {
     "data": {
      "image/png": "[encoded data removed]",
      "text/plain": [
       "<matplotlib.figure.Figure at 0x1585fe650>"
      ]
     },
     "metadata": {},
     "output_type": "display_data"
    },
    {
     "data": {
      "image/png": "[encoded data removed]",
      "text/plain": [
       "<matplotlib.figure.Figure at 0x1585fee90>"
      ]
     },
     "metadata": {},
     "output_type": "display_data"
    },
    {
     "data": {
      "image/png": "[encoded data removed]",
      "text/plain": [
       "<matplotlib.figure.Figure at 0x150a39690>"
      ]
     },
     "metadata": {},
     "output_type": "display_data"
    }
   ],
   "source": [
    "view(images[0])\n",
    "view(images[1])\n",
    "view(images[2])"
   ]
  },
  {
   "cell_type": "code",
   "execution_count": 77,
   "metadata": {},
   "outputs": [
    {
     "name": "stdout",
     "output_type": "stream",
     "text": [
      "1905/1905 [==============================] - 0s     \n",
      "1760/1905 [==========================>...] - ETA: 0s"
     ]
    }
   ],
   "source": [
    "pc = model.predict_classes(images_array)\n",
    "pp = model.predict_proba(images_array)"
   ]
  },
  {
   "cell_type": "code",
   "execution_count": 78,
   "metadata": {},
   "outputs": [
    {
     "data": {
      "text/plain": [
       "array([49, 45,  2, ..., 45, 45, 45])"
      ]
     },
     "execution_count": 78,
     "metadata": {},
     "output_type": "execute_result"
    }
   ],
   "source": [
    "pc"
   ]
  },
  {
   "cell_type": "code",
   "execution_count": 79,
   "metadata": {},
   "outputs": [
    {
     "data": {
      "text/plain": [
       "[{'BB': 15, 'RR': 4, 'a': 11},\n",
       " {'BB': 12, 'RR': 7, 'a': 11},\n",
       " {'BB': 12, 'RR': 4, 'a': 14},\n",
       " {'BB': 14, 'RR': 1, 'a': 15},\n",
       " {'BB': 13, 'RR': 1, 'a': 16},\n",
       " {'BB': 16, 'RR': 9, 'a': 5},\n",
       " {'BB': 15, 'RR': 1, 'a': 14},\n",
       " {'BB': 17, 'RR': 5, 'a': 8},\n",
       " {'BB': 11, 'RR': 4, 'a': 15},\n",
       " {'BB': 13, 'RR': 3, 'a': 14},\n",
       " {'BB': 12, 'RR': 6, 'a': 12},\n",
       " {'BB': 12, 'RR': 6, 'a': 12},\n",
       " {'BB': 15, 'RR': 1, 'a': 14},\n",
       " {'BB': 15, 'RR': 3, 'a': 12},\n",
       " {'BB': 13, 'RR': 3, 'a': 14},\n",
       " {'BB': 19, 'RR': 3, 'a': 8},\n",
       " {'BB': 11, 'RR': 2, 'a': 17},\n",
       " {'BB': 14, 'RR': 1, 'a': 15},\n",
       " {'BB': 17, 'RR': 2, 'a': 11},\n",
       " {'BB': 13, 'RR': 4, 'a': 13},\n",
       " {'BB': 13, 'RR': 2, 'a': 15},\n",
       " {'BB': 9, 'RR': 4, 'a': 17},\n",
       " {'BB': 15, 'RR': 6, 'a': 9},\n",
       " {'BB': 12, 'RR': 4, 'a': 14},\n",
       " {'BB': 16, 'RR': 2, 'a': 12},\n",
       " {'BB': 13, 'RR': 6, 'a': 11},\n",
       " {'BB': 10, 'RR': 8, 'a': 12},\n",
       " {'BB': 12, 'RR': 4, 'a': 14},\n",
       " {'BB': 10, 'RR': 3, 'a': 17},\n",
       " {'BB': 14, 'RR': 3, 'a': 13},\n",
       " {'BB': 9, 'RR': 2, 'a': 19},\n",
       " {'BB': 16, 'RR': 3, 'a': 11},\n",
       " {'BB': 16, 'RR': 6, 'a': 8},\n",
       " {'BB': 15, 'RR': 5, 'a': 10},\n",
       " {'BB': 11, 'RR': 3, 'a': 16},\n",
       " {'BB': 11, 'RR': 5, 'a': 14},\n",
       " {'BB': 10, 'a': 20},\n",
       " {'BB': 10, 'RR': 5, 'a': 15},\n",
       " {'BB': 8, 'RR': 3, 'a': 19},\n",
       " {'BB': 12, 'RR': 3, 'a': 15},\n",
       " {'BB': 14, 'RR': 5, 'a': 11},\n",
       " {'BB': 8, 'RR': 2, 'a': 20},\n",
       " {'BB': 13, 'RR': 5, 'a': 12},\n",
       " {'BB': 12, 'RR': 5, 'a': 13},\n",
       " {'BB': 15, 'RR': 2, 'a': 13},\n",
       " {'BB': 11, 'RR': 3, 'a': 16},\n",
       " {'BB': 19, 'RR': 1, 'a': 10},\n",
       " {'BB': 11, 'RR': 6, 'a': 13},\n",
       " {'BB': 9, 'RR': 3, 'a': 18},\n",
       " {'BB': 13, 'RR': 2, 'a': 15},\n",
       " {'BB': 10, 'RR': 7, 'a': 13},\n",
       " {'BB': 16, 'RR': 3, 'a': 11},\n",
       " {'BB': 11, 'RR': 2, 'a': 17},\n",
       " {'BB': 16, 'RR': 1, 'a': 13},\n",
       " {'BB': 14, 'RR': 2, 'a': 14},\n",
       " {'BB': 12, 'RR': 4, 'a': 14},\n",
       " {'BB': 14, 'RR': 4, 'a': 12},\n",
       " {'BB': 16, 'RR': 3, 'a': 11},\n",
       " {'BB': 12, 'RR': 6, 'a': 12},\n",
       " {'BB': 18, 'RR': 2, 'a': 10},\n",
       " {'BB': 13, 'RR': 2, 'a': 15},\n",
       " {'BB': 7, 'RR': 4, 'a': 19},\n",
       " {'BB': 13, 'RR': 5, 'a': 12},\n",
       " {'BB': 4, 'RR': 5, 'a': 6}]"
      ]
     },
     "execution_count": 79,
     "metadata": {},
     "output_type": "execute_result"
    }
   ],
   "source": [
    "batches = []\n",
    "num_batches = 0\n",
    "num_to_create_new_batch = 30\n",
    "\n",
    "for i, p in enumerate(pc):\n",
    "    if i % num_to_create_new_batch == 0:\n",
    "        batches.append({})\n",
    "    if image_class_names[pc[p]] in batches[-1].keys():\n",
    "        batches[-1][image_class_names[pc[p]]] += 1\n",
    "    else:\n",
    "        batches[-1][image_class_names[pc[p]]] = 1\n",
    "    #print(image_class_names[pc[p]], np.amax(pp[i]))\n",
    "    \n",
    "batches"
   ]
  },
  {
   "cell_type": "code",
   "execution_count": 74,
   "metadata": {},
   "outputs": [
    {
     "data": {
      "text/plain": [
       "{0: 'HollowArrow',\n",
       " 1: 'Leaf',\n",
       " 2: 'BB',\n",
       " 3: 'Note1',\n",
       " 4: 'DD',\n",
       " 5: 'Peace',\n",
       " 6: 'Question',\n",
       " 7: 'Pillars',\n",
       " 8: 'KK',\n",
       " 9: 'HH',\n",
       " 10: 'Ampersand',\n",
       " 11: 'JJ',\n",
       " 12: 'Notes2',\n",
       " 13: 'Plant',\n",
       " 14: 'Triangle',\n",
       " 15: 'Power',\n",
       " 16: 'Ankh',\n",
       " 17: 'TT',\n",
       " 18: 'Trident',\n",
       " 19: 'Asterisk',\n",
       " 20: 'Lines3',\n",
       " 21: '1',\n",
       " 22: '0',\n",
       " 23: '3',\n",
       " 24: '2',\n",
       " 25: '5',\n",
       " 26: '4',\n",
       " 27: '7',\n",
       " 28: '6',\n",
       " 29: '8',\n",
       " 30: 'Omega',\n",
       " 31: 'CircleCross',\n",
       " 32: 'AA',\n",
       " 33: 'Circle_Line',\n",
       " 34: 'Radioactive',\n",
       " 35: 'EE',\n",
       " 36: 'PP',\n",
       " 37: 'GG',\n",
       " 38: 'XX',\n",
       " 39: 'Plane',\n",
       " 40: 'ZZ',\n",
       " 41: 'Necklace',\n",
       " 42: 'Umbrella',\n",
       " 43: 'Dot',\n",
       " 44: 'Halfcircle',\n",
       " 45: 'a',\n",
       " 46: 'Heart',\n",
       " 47: 'b',\n",
       " 48: 'e',\n",
       " 49: 'RR',\n",
       " 50: 'g',\n",
       " 51: 'f',\n",
       " 52: 'UU',\n",
       " 53: 'h',\n",
       " 54: 'Queen',\n",
       " 55: 'Tadpole',\n",
       " 56: 'n',\n",
       " 57: 'SS',\n",
       " 58: 'r',\n",
       " 59: 'ArrowLine',\n",
       " 60: 'w',\n",
       " 61: 'y',\n",
       " 62: 'Scissors',\n",
       " 63: 'MM'}"
      ]
     },
     "execution_count": 74,
     "metadata": {},
     "output_type": "execute_result"
    }
   ],
   "source": [
    "image_class_names"
   ]
  },
  {
   "cell_type": "code",
   "execution_count": null,
   "metadata": {
    "collapsed": true
   },
   "outputs": [],
   "source": []
  },
  {
   "cell_type": "code",
   "execution_count": null,
   "metadata": {
    "collapsed": true
   },
   "outputs": [],
   "source": []
  }
 ],
 "metadata": {
  "kernelspec": {
   "display_name": "Python 2",
   "language": "python",
   "name": "python2"
  },
  "language_info": {
   "codemirror_mode": {
    "name": "ipython",
    "version": 2
   },
   "file_extension": ".py",
   "mimetype": "text/x-python",
   "name": "python",
   "nbconvert_exporter": "python",
   "pygments_lexer": "ipython2",
   "version": "2.7.12"
  }
 },
 "nbformat": 4,
 "nbformat_minor": 2
}
