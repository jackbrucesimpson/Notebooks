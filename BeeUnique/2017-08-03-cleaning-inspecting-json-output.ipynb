{
 "cells": [
  {
   "cell_type": "markdown",
   "metadata": {},
   "source": [
    "# Cleaning, inspecting JSON tracking output\n",
    "\n",
    "## Goals\n",
    "- Tracking program outputs JSON files with tracking and tag data\n",
    "- Need to experiment with cleaning and processing it before integrating it back into the main program"
   ]
  },
  {
   "cell_type": "code",
   "execution_count": 13,
   "metadata": {},
   "outputs": [
    {
     "name": "stdout",
     "output_type": "stream",
     "text": [
      "The autoreload extension is already loaded. To reload it, use:\n",
      "  %reload_ext autoreload\n",
      "The version_information extension is already loaded. To reload it, use:\n",
      "  %reload_ext version_information\n"
     ]
    },
    {
     "data": {
      "application/json": {
       "Software versions": [
        {
         "module": "Python",
         "version": "2.7.12 64bit [GCC 5.4.0 20160609]"
        },
        {
         "module": "IPython",
         "version": "5.4.1"
        },
        {
         "module": "OS",
         "version": "Linux 4.10.0 28 generic x86_64 with Ubuntu 16.04 xenial"
        },
        {
         "module": "numpy",
         "version": "1.13.1"
        },
        {
         "module": "scipy",
         "version": "0.19.1"
        },
        {
         "module": "matplotlib",
         "version": "2.0.2"
        },
        {
         "module": "pandas",
         "version": "0.20.3"
        }
       ]
      },
      "text/html": [
       "<table><tr><th>Software</th><th>Version</th></tr><tr><td>Python</td><td>2.7.12 64bit [GCC 5.4.0 20160609]</td></tr><tr><td>IPython</td><td>5.4.1</td></tr><tr><td>OS</td><td>Linux 4.10.0 28 generic x86_64 with Ubuntu 16.04 xenial</td></tr><tr><td>numpy</td><td>1.13.1</td></tr><tr><td>scipy</td><td>0.19.1</td></tr><tr><td>matplotlib</td><td>2.0.2</td></tr><tr><td>pandas</td><td>0.20.3</td></tr><tr><td colspan='2'>Fri Aug 04 09:31:26 2017 AEST</td></tr></table>"
      ],
      "text/latex": [
       "\\begin{tabular}{|l|l|}\\hline\n",
       "{\\bf Software} & {\\bf Version} \\\\ \\hline\\hline\n",
       "Python & 2.7.12 64bit [GCC 5.4.0 20160609] \\\\ \\hline\n",
       "IPython & 5.4.1 \\\\ \\hline\n",
       "OS & Linux 4.10.0 28 generic x86\\_64 with Ubuntu 16.04 xenial \\\\ \\hline\n",
       "numpy & 1.13.1 \\\\ \\hline\n",
       "scipy & 0.19.1 \\\\ \\hline\n",
       "matplotlib & 2.0.2 \\\\ \\hline\n",
       "pandas & 0.20.3 \\\\ \\hline\n",
       "\\hline \\multicolumn{2}{|l|}{Fri Aug 04 09:31:26 2017 AEST} \\\\ \\hline\n",
       "\\end{tabular}\n"
      ],
      "text/plain": [
       "Software versions\n",
       "Python 2.7.12 64bit [GCC 5.4.0 20160609]\n",
       "IPython 5.4.1\n",
       "OS Linux 4.10.0 28 generic x86_64 with Ubuntu 16.04 xenial\n",
       "numpy 1.13.1\n",
       "scipy 0.19.1\n",
       "matplotlib 2.0.2\n",
       "pandas 0.20.3\n",
       "Fri Aug 04 09:31:26 2017 AEST"
      ]
     },
     "execution_count": 13,
     "metadata": {},
     "output_type": "execute_result"
    }
   ],
   "source": [
    "%matplotlib inline\n",
    "#from pylab import rcParams\n",
    "#rcParams['figure.figsize'] = 12, 8\n",
    "\n",
    "%load_ext autoreload\n",
    "%autoreload 2\n",
    "\n",
    "%load_ext version_information\n",
    "%version_information numpy, scipy, matplotlib, pandas"
   ]
  },
  {
   "cell_type": "code",
   "execution_count": 14,
   "metadata": {
    "collapsed": true
   },
   "outputs": [],
   "source": [
    "import matplotlib.pyplot as plt\n",
    "import matplotlib.cm as cm\n",
    "import numpy as np\n",
    "import cv2\n",
    "import pandas as pd\n",
    "\n",
    "import os\n",
    "import sys\n",
    "\n",
    "sys.path.append(\"../src\")\n",
    "\n",
    "np.random.seed(0)\n",
    "\n",
    "def view(image):\n",
    "    plt.figure()\n",
    "    plt.axis('off')\n",
    "    plt.imshow(image, cmap = cm.Greys_r)"
   ]
  },
  {
   "cell_type": "code",
   "execution_count": 15,
   "metadata": {
    "collapsed": true
   },
   "outputs": [],
   "source": [
    "def read_coordinates_file(coord_file_path):\n",
    "    file_extension = coord_file_path.split('.')[-1]\n",
    "    if file_extension == 'csv':\n",
    "        df = pd.read_csv(coord_file_path)\n",
    "    elif file_extension == 'json':\n",
    "        df = pd.read_json(coord_file_path)\n",
    "    else:\n",
    "        print('Unknown coordinate file type')\n",
    "        sys.exit(0)\n",
    "        \n",
    "    # turn coordinate column into x,y dictionary\n",
    "    df['xy'] = df['xy'].apply(lambda x: eval(str(x)))\n",
    "\n",
    "    return df"
   ]
  },
  {
   "cell_type": "code",
   "execution_count": 165,
   "metadata": {},
   "outputs": [
    {
     "data": {
      "text/html": [
       "<div>\n",
       "<style>\n",
       "    .dataframe thead tr:only-child th {\n",
       "        text-align: right;\n",
       "    }\n",
       "\n",
       "    .dataframe thead th {\n",
       "        text-align: left;\n",
       "    }\n",
       "\n",
       "    .dataframe tbody tr th {\n",
       "        vertical-align: top;\n",
       "    }\n",
       "</style>\n",
       "<table border=\"1\" class=\"dataframe\">\n",
       "  <thead>\n",
       "    <tr style=\"text-align: right;\">\n",
       "      <th></th>\n",
       "      <th>bee_id</th>\n",
       "      <th>classifications</th>\n",
       "      <th>flattened_28x28_tag_matrices</th>\n",
       "      <th>frame_nums</th>\n",
       "      <th>xy</th>\n",
       "    </tr>\n",
       "  </thead>\n",
       "  <tbody>\n",
       "    <tr>\n",
       "      <th>0</th>\n",
       "      <td>0</td>\n",
       "      <td>47</td>\n",
       "      <td>[29, 31, 33, 35, 36, 36, 36, 43, 48, 51, 56, 6...</td>\n",
       "      <td>0</td>\n",
       "      <td>{u'y': 1317.45056152, u'x': 1767.85913086}</td>\n",
       "    </tr>\n",
       "    <tr>\n",
       "      <th>25950</th>\n",
       "      <td>2</td>\n",
       "      <td>56</td>\n",
       "      <td>[4, 11, 16, 17, 19, 21, 26, 28, 31, 31, 36, 36...</td>\n",
       "      <td>0</td>\n",
       "      <td>{u'y': 975.152160644, u'x': 1351.9621582}</td>\n",
       "    </tr>\n",
       "    <tr>\n",
       "      <th>31893</th>\n",
       "      <td>3</td>\n",
       "      <td>54</td>\n",
       "      <td>[14, 14, 14, 17, 24, 29, 33, 40, 45, 49, 54, 5...</td>\n",
       "      <td>0</td>\n",
       "      <td>{u'y': 830.224731445, u'x': 1563.7980957}</td>\n",
       "    </tr>\n",
       "    <tr>\n",
       "      <th>13501</th>\n",
       "      <td>1</td>\n",
       "      <td>48</td>\n",
       "      <td>[25, 25, 23, 24, 29, 30, 34, 38, 45, 41, 33, 3...</td>\n",
       "      <td>0</td>\n",
       "      <td>{u'y': 1026.18273926, u'x': 1672.51904297}</td>\n",
       "    </tr>\n",
       "    <tr>\n",
       "      <th>1</th>\n",
       "      <td>0</td>\n",
       "      <td>38</td>\n",
       "      <td>[26, 26, 26, 26, 27, 27, 30, 36, 36, 36, 46, 6...</td>\n",
       "      <td>1</td>\n",
       "      <td>{u'y': 1314.23205566, u'x': 1770.20056152}</td>\n",
       "    </tr>\n",
       "    <tr>\n",
       "      <th>25951</th>\n",
       "      <td>2</td>\n",
       "      <td>56</td>\n",
       "      <td>[23, 27, 27, 30, 31, 33, 33, 32, 32, 31, 30, 3...</td>\n",
       "      <td>1</td>\n",
       "      <td>{u'y': 972.267761231, u'x': 1351.22009277}</td>\n",
       "    </tr>\n",
       "    <tr>\n",
       "      <th>31894</th>\n",
       "      <td>3</td>\n",
       "      <td>54</td>\n",
       "      <td>[29, 29, 26, 24, 19, 25, 32, 38, 40, 47, 49, 4...</td>\n",
       "      <td>1</td>\n",
       "      <td>{u'y': 828.093566894, u'x': 1562.76062012}</td>\n",
       "    </tr>\n",
       "    <tr>\n",
       "      <th>13502</th>\n",
       "      <td>1</td>\n",
       "      <td>48</td>\n",
       "      <td>[28, 26, 26, 26, 25, 24, 23, 24, 28, 28, 26, 2...</td>\n",
       "      <td>1</td>\n",
       "      <td>{u'y': 1023.3392334, u'x': 1673.25805664}</td>\n",
       "    </tr>\n",
       "    <tr>\n",
       "      <th>13503</th>\n",
       "      <td>1</td>\n",
       "      <td>48</td>\n",
       "      <td>[34, 33, 31, 32, 36, 37, 38, 41, 43, 46, 51, 5...</td>\n",
       "      <td>2</td>\n",
       "      <td>{u'y': 1024.11804199, u'x': 1673.04772949}</td>\n",
       "    </tr>\n",
       "    <tr>\n",
       "      <th>25952</th>\n",
       "      <td>2</td>\n",
       "      <td>56</td>\n",
       "      <td>[12, 14, 14, 15, 17, 19, 23, 29, 31, 31, 31, 3...</td>\n",
       "      <td>2</td>\n",
       "      <td>{u'y': 972.648376465, u'x': 1350.78503418}</td>\n",
       "    </tr>\n",
       "  </tbody>\n",
       "</table>\n",
       "</div>"
      ],
      "text/plain": [
       "       bee_id  classifications  \\\n",
       "0           0               47   \n",
       "25950       2               56   \n",
       "31893       3               54   \n",
       "13501       1               48   \n",
       "1           0               38   \n",
       "25951       2               56   \n",
       "31894       3               54   \n",
       "13502       1               48   \n",
       "13503       1               48   \n",
       "25952       2               56   \n",
       "\n",
       "                            flattened_28x28_tag_matrices  frame_nums  \\\n",
       "0      [29, 31, 33, 35, 36, 36, 36, 43, 48, 51, 56, 6...           0   \n",
       "25950  [4, 11, 16, 17, 19, 21, 26, 28, 31, 31, 36, 36...           0   \n",
       "31893  [14, 14, 14, 17, 24, 29, 33, 40, 45, 49, 54, 5...           0   \n",
       "13501  [25, 25, 23, 24, 29, 30, 34, 38, 45, 41, 33, 3...           0   \n",
       "1      [26, 26, 26, 26, 27, 27, 30, 36, 36, 36, 46, 6...           1   \n",
       "25951  [23, 27, 27, 30, 31, 33, 33, 32, 32, 31, 30, 3...           1   \n",
       "31894  [29, 29, 26, 24, 19, 25, 32, 38, 40, 47, 49, 4...           1   \n",
       "13502  [28, 26, 26, 26, 25, 24, 23, 24, 28, 28, 26, 2...           1   \n",
       "13503  [34, 33, 31, 32, 36, 37, 38, 41, 43, 46, 51, 5...           2   \n",
       "25952  [12, 14, 14, 15, 17, 19, 23, 29, 31, 31, 31, 3...           2   \n",
       "\n",
       "                                               xy  \n",
       "0      {u'y': 1317.45056152, u'x': 1767.85913086}  \n",
       "25950   {u'y': 975.152160644, u'x': 1351.9621582}  \n",
       "31893   {u'y': 830.224731445, u'x': 1563.7980957}  \n",
       "13501  {u'y': 1026.18273926, u'x': 1672.51904297}  \n",
       "1      {u'y': 1314.23205566, u'x': 1770.20056152}  \n",
       "25951  {u'y': 972.267761231, u'x': 1351.22009277}  \n",
       "31894  {u'y': 828.093566894, u'x': 1562.76062012}  \n",
       "13502   {u'y': 1023.3392334, u'x': 1673.25805664}  \n",
       "13503  {u'y': 1024.11804199, u'x': 1673.04772949}  \n",
       "25952  {u'y': 972.648376465, u'x': 1350.78503418}  "
      ]
     },
     "execution_count": 165,
     "metadata": {},
     "output_type": "execute_result"
    }
   ],
   "source": [
    "df = read_coordinates_file('/home/jack/Data/Caffeine_Unique_Tags/json/2017-02-14_23-32-00.json')\n",
    "df = df.sort_values('frame_nums', ascending=True)\n",
    "df.head(n=10)"
   ]
  },
  {
   "cell_type": "code",
   "execution_count": 99,
   "metadata": {},
   "outputs": [
    {
     "name": "stdout",
     "output_type": "stream",
     "text": [
      "1767.85913086\n",
      "<type 'float'>\n"
     ]
    }
   ],
   "source": [
    "print(df['xy'][0]['x'])\n",
    "print(type(df['xy'][0]['x']))"
   ]
  },
  {
   "cell_type": "code",
   "execution_count": 100,
   "metadata": {},
   "outputs": [
    {
     "name": "stdout",
     "output_type": "stream",
     "text": [
      "[29, 31, 33, 35, 36, 36, 36, 43, 48, 51, 56, 68, 73, 66, 61, 53, 50, 44, 42, 44, 44, 45, 45, 46, 43, 38, 36, 36, 28, 30, 32, 37, 42, 45, 50, 58, 66, 70, 84, 97, 113, 109, 104, 100, 87, 78, 67, 62, 60, 54, 51, 47, 44, 41, 38, 36, 26, 31, 33, 36, 45, 52, 61, 68, 79, 89, 110, 131, 151, 150, 144, 146, 128, 109, 94, 83, 73, 62, 57, 51, 46, 43, 39, 34, 26, 33, 36, 33, 49, 58, 72, 85, 95, 110, 134, 162, 185, 188, 188, 189, 166, 139, 121, 103, 87, 72, 59, 58, 52, 43, 39, 33, 26, 34, 37, 44, 68, 94, 118, 121, 123, 125, 150, 171, 194, 200, 205, 212, 198, 181, 165, 149, 128, 110, 100, 80, 65, 54, 49, 42, 24, 33, 42, 52, 90, 128, 166, 162, 156, 148, 169, 186, 203, 216, 225, 233, 228, 217, 212, 193, 171, 151, 129, 102, 78, 71, 64, 57, 23, 36, 49, 64, 109, 163, 212, 198, 185, 169, 184, 195, 213, 227, 233, 239, 239, 240, 240, 234, 215, 194, 164, 125, 93, 81, 73, 66, 33, 47, 66, 82, 128, 172, 214, 195, 177, 158, 169, 178, 191, 210, 231, 241, 241, 241, 241, 235, 227, 215, 191, 166, 140, 115, 99, 76, 37, 58, 81, 106, 145, 177, 212, 188, 166, 145, 151, 158, 165, 192, 226, 241, 240, 239, 238, 236, 235, 230, 219, 203, 187, 156, 123, 93, 44, 73, 102, 127, 153, 184, 213, 186, 162, 137, 135, 138, 140, 177, 214, 238, 238, 238, 237, 236, 236, 238, 238, 241, 235, 192, 146, 106, 47, 78, 109, 139, 158, 177, 195, 186, 172, 163, 152, 142, 128, 159, 191, 223, 228, 231, 231, 234, 236, 237, 235, 231, 224, 186, 148, 110, 50, 84, 118, 149, 159, 169, 174, 182, 187, 196, 169, 144, 117, 144, 170, 195, 203, 213, 222, 226, 233, 234, 230, 225, 213, 182, 152, 120, 54, 90, 129, 160, 160, 156, 157, 179, 205, 221, 186, 145, 111, 125, 150, 166, 179, 196, 210, 215, 226, 230, 228, 214, 207, 178, 153, 124, 49, 73, 99, 125, 127, 129, 130, 152, 172, 195, 168, 135, 104, 114, 123, 138, 148, 162, 175, 178, 180, 184, 177, 166, 157, 142, 130, 115, 40, 57, 75, 95, 97, 101, 103, 125, 146, 166, 142, 122, 96, 100, 106, 108, 117, 127, 136, 139, 138, 135, 125, 121, 110, 108, 108, 104, 37, 44, 53, 63, 66, 74, 78, 99, 118, 138, 125, 110, 95, 88, 86, 78, 87, 96, 107, 97, 93, 87, 80, 71, 64, 73, 84, 97, 31, 44, 52, 59, 64, 73, 78, 92, 110, 123, 113, 106, 97, 90, 83, 76, 82, 89, 98, 89, 85, 85, 81, 83, 81, 90, 97, 110, 32, 40, 47, 57, 64, 72, 79, 89, 104, 114, 109, 102, 101, 90, 80, 77, 78, 81, 88, 84, 80, 75, 88, 94, 102, 113, 118, 131, 29, 38, 46, 56, 64, 70, 78, 83, 93, 102, 102, 100, 100, 90, 81, 73, 74, 79, 77, 77, 78, 74, 88, 107, 118, 130, 136, 146, 26, 37, 50, 60, 79, 97, 117, 129, 138, 148, 148, 143, 142, 130, 121, 108, 96, 89, 80, 79, 82, 87, 103, 124, 139, 137, 134, 134, 26, 39, 54, 66, 94, 128, 157, 172, 187, 195, 192, 187, 185, 170, 158, 143, 122, 103, 80, 90, 92, 100, 118, 137, 154, 142, 129, 121, 25, 37, 53, 71, 109, 153, 195, 213, 227, 235, 234, 231, 228, 210, 196, 176, 144, 115, 80, 92, 102, 113, 134, 149, 172, 149, 128, 107, 25, 35, 46, 58, 92, 127, 159, 184, 206, 226, 227, 231, 229, 222, 213, 203, 166, 131, 97, 100, 103, 106, 125, 143, 162, 137, 110, 86, 25, 32, 37, 49, 70, 94, 120, 151, 181, 215, 220, 228, 234, 237, 234, 228, 193, 153, 114, 109, 102, 97, 119, 135, 152, 124, 94, 66, 25, 31, 33, 32, 47, 64, 84, 122, 160, 205, 213, 224, 234, 237, 239, 239, 210, 173, 128, 117, 103, 90, 110, 127, 146, 113, 77, 44, 26, 30, 29, 35, 45, 56, 67, 90, 120, 149, 166, 186, 199, 212, 223, 235, 205, 174, 140, 120, 96, 77, 84, 93, 100, 79, 59, 39, 26, 29, 29, 32, 38, 43, 50, 67, 80, 96, 117, 139, 163, 181, 199, 215, 193, 172, 147, 120, 92, 61, 61, 60, 60, 47, 39, 31, 26, 29, 29, 30, 32, 33, 37, 40, 40, 47, 74, 101, 123, 149, 170, 193, 179, 167, 156, 118, 86, 49, 37, 24, 17, 18, 21, 30]\n",
      "784\n"
     ]
    }
   ],
   "source": [
    "flat_image = df['flattened_28x28_tag_matrices'][0]\n",
    "\n",
    "print(flat_image)\n",
    "print(len(flat_image))"
   ]
  },
  {
   "cell_type": "code",
   "execution_count": 101,
   "metadata": {},
   "outputs": [
    {
     "data": {
      "image/png": "[encoded data removed]",
      "text/plain": [
       "<matplotlib.figure.Figure at 0x7ffbd2fdc350>"
      ]
     },
     "metadata": {},
     "output_type": "display_data"
    }
   ],
   "source": [
    "view(np.array(flat_image, dtype=np.uint8).reshape(28, 28))"
   ]
  },
  {
   "cell_type": "code",
   "execution_count": 102,
   "metadata": {
    "collapsed": true
   },
   "outputs": [],
   "source": [
    "import uuid"
   ]
  },
  {
   "cell_type": "code",
   "execution_count": null,
   "metadata": {
    "collapsed": true
   },
   "outputs": [],
   "source": [
    "{\n",
    "    'bee_uuid': 5,\n",
    "    'classification': 21,\n",
    "    'path_frame_nums': [{'start':,'end'}]\n",
    "    'xy_path': [[{'x':,'y'}], [{'x':,'y'}]]\n",
    "}\n",
    "\n",
    "def create_new_bee_paths(classification, start_end_frame_num_paths, xy_paths):\n",
    "    bee_paths_data = {'video_start_datetime': x , 'bee_uuid': uuid.uuid4().hex, 'classification': classification, 'start_end_frame_num_paths': start_end_frame_num_paths, 'xy_paths': xy_paths}\n",
    "    "
   ]
  },
  {
   "cell_type": "code",
   "execution_count": 1301,
   "metadata": {},
   "outputs": [
    {
     "data": {
      "text/html": [
       "<div>\n",
       "<style>\n",
       "    .dataframe thead tr:only-child th {\n",
       "        text-align: right;\n",
       "    }\n",
       "\n",
       "    .dataframe thead th {\n",
       "        text-align: left;\n",
       "    }\n",
       "\n",
       "    .dataframe tbody tr th {\n",
       "        vertical-align: top;\n",
       "    }\n",
       "</style>\n",
       "<table border=\"1\" class=\"dataframe\">\n",
       "  <thead>\n",
       "    <tr style=\"text-align: right;\">\n",
       "      <th></th>\n",
       "      <th>bee_id</th>\n",
       "      <th>classifications</th>\n",
       "      <th>flattened_28x28_tag_matrices</th>\n",
       "      <th>frame_nums</th>\n",
       "      <th>xy</th>\n",
       "    </tr>\n",
       "  </thead>\n",
       "  <tbody>\n",
       "    <tr>\n",
       "      <th>0</th>\n",
       "      <td>0</td>\n",
       "      <td>47</td>\n",
       "      <td>[29, 31, 33, 35, 36, 36, 36, 43, 48, 51, 56, 6...</td>\n",
       "      <td>0</td>\n",
       "      <td>{u'y': 1317.45056152, u'x': 1767.85913086}</td>\n",
       "    </tr>\n",
       "    <tr>\n",
       "      <th>1</th>\n",
       "      <td>0</td>\n",
       "      <td>38</td>\n",
       "      <td>[26, 26, 26, 26, 27, 27, 30, 36, 36, 36, 46, 6...</td>\n",
       "      <td>1</td>\n",
       "      <td>{u'y': 1314.23205566, u'x': 1770.20056152}</td>\n",
       "    </tr>\n",
       "    <tr>\n",
       "      <th>2</th>\n",
       "      <td>0</td>\n",
       "      <td>38</td>\n",
       "      <td>[26, 26, 26, 31, 29, 26, 27, 27, 33, 40, 52, 6...</td>\n",
       "      <td>2</td>\n",
       "      <td>{u'y': 1314.06726074, u'x': 1772.17089844}</td>\n",
       "    </tr>\n",
       "    <tr>\n",
       "      <th>3</th>\n",
       "      <td>0</td>\n",
       "      <td>38</td>\n",
       "      <td>[19, 20, 22, 25, 25, 28, 35, 39, 45, 50, 52, 5...</td>\n",
       "      <td>3</td>\n",
       "      <td>{u'y': 1311.36315918, u'x': 1774.7980957}</td>\n",
       "    </tr>\n",
       "    <tr>\n",
       "      <th>4</th>\n",
       "      <td>0</td>\n",
       "      <td>38</td>\n",
       "      <td>[19, 22, 23, 23, 25, 30, 36, 39, 44, 47, 60, 6...</td>\n",
       "      <td>4</td>\n",
       "      <td>{u'y': 1314.21838379, u'x': 1776.66015625}</td>\n",
       "    </tr>\n",
       "  </tbody>\n",
       "</table>\n",
       "</div>"
      ],
      "text/plain": [
       "   bee_id  classifications                       flattened_28x28_tag_matrices  \\\n",
       "0       0               47  [29, 31, 33, 35, 36, 36, 36, 43, 48, 51, 56, 6...   \n",
       "1       0               38  [26, 26, 26, 26, 27, 27, 30, 36, 36, 36, 46, 6...   \n",
       "2       0               38  [26, 26, 26, 31, 29, 26, 27, 27, 33, 40, 52, 6...   \n",
       "3       0               38  [19, 20, 22, 25, 25, 28, 35, 39, 45, 50, 52, 5...   \n",
       "4       0               38  [19, 22, 23, 23, 25, 30, 36, 39, 44, 47, 60, 6...   \n",
       "\n",
       "   frame_nums                                          xy  \n",
       "0           0  {u'y': 1317.45056152, u'x': 1767.85913086}  \n",
       "1           1  {u'y': 1314.23205566, u'x': 1770.20056152}  \n",
       "2           2  {u'y': 1314.06726074, u'x': 1772.17089844}  \n",
       "3           3   {u'y': 1311.36315918, u'x': 1774.7980957}  \n",
       "4           4  {u'y': 1314.21838379, u'x': 1776.66015625}  "
      ]
     },
     "execution_count": 1301,
     "metadata": {},
     "output_type": "execute_result"
    }
   ],
   "source": [
    "grouped_bee_id = df.groupby('bee_id')\n",
    "first_bee_df = grouped_bee_id.get_group(0)\n",
    "first_bee_df.head()"
   ]
  },
  {
   "cell_type": "code",
   "execution_count": 1317,
   "metadata": {},
   "outputs": [],
   "source": [
    "UNKNOWN_CLASS = 3\n",
    "MIXED_CLASS = 'mixed'\n",
    "GAP_CLASS = 'gap'\n",
    "MAX_FRAME_GAP_BETWEEN_PATHS = 10\n",
    "NUM_GROUP_CLASSIFICATIONS = 40\n",
    "MIN_NUM_CLASSIFIED_GROUP = 10\n",
    "NUM_GROUPS_IN_SECTION = 5\n",
    "CLASS_CONF_THRESH = 0.6\n",
    "\n",
    "def increment_dict_key_value(class_dict, classification):\n",
    "    if classification in class_dict.keys():\n",
    "        class_dict[classification] += 1\n",
    "    else:\n",
    "        class_dict[classification] = 1\n",
    "    return class_dict\n",
    "\n",
    "def get_most_freq_class_pred(section_classifications):\n",
    "    num_classifications = len(section_classifications)\n",
    "    num_mixed = section_classifications.count(MIXED_CLASS)\n",
    "    num_unknown = section_classifications.count(UNKNOWN_CLASS)\n",
    "    num_mixed_unknown = num_mixed + num_unknown\n",
    "    num_known = num_classifications - num_mixed_unknown\n",
    "    \n",
    "    if num_classifications < 2:\n",
    "        return UNKNOWN_CLASS\n",
    "    elif num_mixed > 1:\n",
    "        return MIXED_CLASS\n",
    "    elif num_mixed_unknown > 2:\n",
    "        return UNKNOWN_CLASS\n",
    "    elif num_known <= num_mixed_unknown:\n",
    "        return UNKNOWN_CLASS\n",
    "    else:\n",
    "        section_count_dict = {MIXED_CLASS: 0, UNKNOWN_CLASS: 0}\n",
    "        for classification in section_classifications:\n",
    "            section_count_dict = increment_dict_key_value(section_count_dict, classification)\n",
    "        \n",
    "        del section_count_dict[MIXED_CLASS]\n",
    "        del section_count_dict[UNKNOWN_CLASS]\n",
    "        \n",
    "        percent_section_count_dict = {c: float(section_count_dict[c]) / num_known for c in section_count_dict}\n",
    "        most_freq_class_pred = max(section_count_dict, key=section_count_dict.get)\n",
    "        \n",
    "        if percent_section_count_dict[most_freq_class_pred] > 0.5:\n",
    "            return most_freq_class_pred\n",
    "        else:\n",
    "            return MIXED_CLASS\n",
    "\n",
    "class BeeData:\n",
    "    def __init__(self, classification):\n",
    "        self.start_end_frame_num_all_paths = []\n",
    "        self.list_of_all_xy_paths = []\n",
    "        \n",
    "        self.consensus_grouped_classifications = []\n",
    "        self.num_classifications_in_group = 0\n",
    "        \n",
    "        self.class_counts_path = {UNKNOWN_CLASS: 0, GAP_CLASS: 0}\n",
    "        self.add_classification(classification)\n",
    "        \n",
    "    def add_classification(self, classification):\n",
    "        self.num_classifications_in_group += 1\n",
    "        self.class_counts_path = increment_dict_key_value(self.class_counts_path, classification)\n",
    "            \n",
    "        if self.num_classifications_in_group == NUM_GROUP_CLASSIFICATIONS:\n",
    "            self.identify_freq_class_path_group()\n",
    "            self.num_classifications_in_group = 0\n",
    "    \n",
    "    def identify_freq_class_path_group(self):\n",
    "        num_unknown_gaps_classified = self.class_counts_path[UNKNOWN_CLASS] + self.class_counts_path[GAP_CLASS]\n",
    "        num_remaining_classified = self.num_classifications_in_group - num_unknown_gaps_classified\n",
    "        if self.num_classifications_in_group < MIN_NUM_CLASSIFIED_GROUP or num_remaining_classified < MIN_NUM_CLASSIFIED_GROUP:\n",
    "            self.consensus_grouped_classifications.append(UNKNOWN_CLASS)\n",
    "        else:\n",
    "            del self.class_counts_path[UNKNOWN_CLASS]\n",
    "            del self.class_counts_path[GAP_CLASS]\n",
    "            percent_class_counts_path = {c: float(self.class_counts_path[c]) / num_remaining_classified for c in self.class_counts_path}\n",
    "            most_freq_class_pred = max(percent_class_counts_path, key=percent_class_counts_path.get)\n",
    "            if percent_class_counts_path[most_freq_class_pred] > CLASS_CONF_THRESH:\n",
    "                self.consensus_grouped_classifications.append(most_freq_class_pred)\n",
    "            else:\n",
    "                self.consensus_grouped_classifications.append(MIXED_CLASS)\n",
    "        \n",
    "        self.current_group_tags = []\n",
    "        self.class_counts_path = {UNKNOWN_CLASS: 0, GAP_CLASS: 0}\n",
    "        \n",
    "    def identify_uncertain_region(self, list_classifications):\n",
    "        is_uncertain_region = False\n",
    "        num_mixed = list_classifications.count(MIXED_CLASS)\n",
    "        num_unknown = list_classifications.count(UNKNOWN_CLASS)\n",
    "        if num_mixed > 1 or num_unknown > 3 or num_mixed + num_unknown > 3:\n",
    "            is_uncertain_region = True\n",
    "        return is_uncertain_region\n",
    "    \n",
    "    \n",
    "    def get_index_prev_class(self, current_path_index, current_section_pred, classifications_list):\n",
    "        while True:\n",
    "            if current_section_pred != classifications_list[current_path_index]:\n",
    "                return current_path_index\n",
    "            else:\n",
    "                current_path_index -= 1\n",
    "                \n",
    "        \n",
    "                \n",
    "        NUM_GROUP_CLASSIFICATIONS\n",
    "        \n",
    "    \n",
    "    def merge_group_classifications_into_sections(self):\n",
    "        num_grouped_classifications = len(self.consensus_grouped_classifications)\n",
    "        num_concurrent_mixed = 0\n",
    "        num_concurrent_unknown = 0\n",
    "        is_unknown_path_section = False\n",
    "        class_path_end_index = []\n",
    "        classes_in_path = []\n",
    "        prev_classification = None\n",
    "        \n",
    "        for i in range(0, num_grouped_classifications, NUM_GROUPS_IN_SECTION):\n",
    "            current_section = self.consensus_grouped_classifications[i:i+NUM_GROUPS_IN_SECTION]\n",
    "            current_section_pred = get_most_freq_class_pred(current_section)\n",
    "            \n",
    "            #print(current_section, current_section_pred)\n",
    "                \n",
    "            if current_section_pred == MIXED_CLASS:\n",
    "                num_concurrent_mixed += 1\n",
    "            elif current_section_pred == UNKNOWN_CLASS:\n",
    "                num_concurrent_unknown += 1\n",
    "            else:\n",
    "                num_concurrent_mixed_unknown = num_concurrent_mixed + num_concurrent_unknown\n",
    "                current_prev_pred_same = current_section_pred == prev_classification\n",
    "                \n",
    "                if current_prev_pred_same:\n",
    "                    if num_concurrent_mixed > 2 or num_concurrent_mixed_unknown > 6:\n",
    "                        is_unknown_path_section = True\n",
    "                else:\n",
    "                    if num_concurrent_mixed > 1 or num_concurrent_mixed_unknown > 3:\n",
    "                        is_unknown_path_section = True\n",
    "                        \n",
    "                #print(is_unknown_path_section)\n",
    "                \n",
    "                if is_unknown_path_section and prev_classification is None:\n",
    "                    prev_classification = UNKNOWN_CLASS\n",
    "                \n",
    "                if prev_classification is None:\n",
    "                    prev_classification = current_section_pred\n",
    "                    current_prev_pred_same = True\n",
    "                \n",
    "                if not current_prev_pred_same or is_unknown_path_section:\n",
    "                    # covers case where there's gap or new class\n",
    "                    prev_class_index = self.get_index_prev_class(i,  current_section_pred, self.consensus_grouped_classifications)\n",
    "                    class_path_end_index.append(prev_class_index)\n",
    "                    if is_unknown_path_section:\n",
    "                        classes_in_path.append(UNKNOWN_CLASS)\n",
    "                    else:\n",
    "                        classes_in_path.append(prev_classification)\n",
    "                \n",
    "                prev_classification = current_section_pred\n",
    "                num_concurrent_mixed = 0\n",
    "                num_concurrent_unknown = 0\n",
    "                is_unknown_path_section = False\n",
    "        \n",
    "        \n",
    "        num_concurrent_mixed_unknown = num_concurrent_mixed + num_concurrent_unknown\n",
    "        if prev_classification is None:\n",
    "            classes_in_path.append(UNKNOWN_CLASS)\n",
    "            class_path_end_index.append(num_grouped_classifications-1)\n",
    "        elif num_concurrent_mixed_unknown == 0 or num_concurrent_mixed < 3 and num_concurrent_mixed_unknown < 7:\n",
    "            classes_in_path.append(prev_classification)\n",
    "            class_path_end_index.append(num_grouped_classifications-1)\n",
    "        else:\n",
    "            final_section = self.consensus_grouped_classifications[num_grouped_classifications-(num_concurrent_mixed_unknown*NUM_GROUPS_IN_SECTION):num_grouped_classifications]\n",
    "            current_section_pred = get_most_freq_class_pred(final_section)\n",
    "            prev_class_index = self.get_index_prev_class(num_grouped_classifications-1,  current_section_pred, self.consensus_grouped_classifications)\n",
    "            \n",
    "            class_path_end_index.append(prev_class_index)\n",
    "            classes_in_path.append(prev_classification)\n",
    "            \n",
    "            class_path_end_index.append(num_grouped_classifications-1)\n",
    "            classes_in_path.append(UNKNOWN_CLASS)\n",
    "            \n",
    "        return (classes_in_path, class_path_end_index)"
   ]
  },
  {
   "cell_type": "code",
   "execution_count": 1318,
   "metadata": {},
   "outputs": [],
   "source": [
    "class ProcessPaths:\n",
    "\n",
    "    def __init__(self, video_start_datetime):\n",
    "        self.video_start_datetime = video_start_datetime\n",
    "\n",
    "    def gen_gap_coords(self, current_xy_coord, prev_xy_coord, difference_prev_frame):\n",
    "        x1, y1 = current_xy_coord['x'], current_xy_coord['y']\n",
    "        x2, y2 = prev_xy_coord['x'], prev_xy_coord['y']\n",
    "        x_diff_per_frame = (x2 - x1) / float(difference_prev_frame)\n",
    "        y_diff_per_frame = (y2 - y1) / float(difference_prev_frame)\n",
    "\n",
    "        gap_coords = []\n",
    "        for gap in range(1, difference_prev_frame + 1):\n",
    "            x_gap_coord = x2 - x_diff_per_frame * gap\n",
    "            y_gap_coord = y2 - y_diff_per_frame * gap\n",
    "            gap_coords.append({'x': x_gap_coord, 'y': y_gap_coord})\n",
    "\n",
    "        return gap_coords\n",
    "\n",
    "    def process_paths(self, bee_df):\n",
    "        xy_list = bee_df['xy'].tolist()\n",
    "        frame_nums_list = bee_df['frame_nums'].tolist()\n",
    "        classifications_list = bee_df['classifications'].tolist()\n",
    "        flat_tags = bee_df['flattened_28x28_tag_matrices'].tolist()\n",
    "\n",
    "        bee_data = BeeData(classifications_list[0])\n",
    "        start_end_frame_num_path = {'start': frame_nums_list[0],'end': frame_nums_list[0]}\n",
    "        xy_path = [xy_list[0]]\n",
    "        \n",
    "        c = []\n",
    "        c.append(classifications_list[0])\n",
    "        \n",
    "        coord_counter = 1\n",
    "        \n",
    "        num_coords = len(xy_list)\n",
    "        for i in range(1, num_coords):\n",
    "            \n",
    "            \n",
    "            difference_prev_frame = frame_nums_list[i] - start_end_frame_num_path['end']\n",
    "\n",
    "            if difference_prev_frame == 1:\n",
    "                start_end_frame_num_path['end'] = frame_nums_list[i]\n",
    "                xy_path.append(xy_list[i])\n",
    "                bee_data.add_classification(classifications_list[i])\n",
    "                \n",
    "                c.append(classifications_list[i])\n",
    "                coord_counter += 1\n",
    "                \n",
    "            elif difference_prev_frame < MAX_FRAME_GAP_BETWEEN_PATHS:\n",
    "                start_end_frame_num_path['end'] = frame_nums_list[i]\n",
    "                generated_coord_gaps = gen_gap_coords(xy_list[i], xy_list[i-1], difference_prev_frame)\n",
    "                fill_path_classifications_gap = ['gap'] * len(generated_coord_gaps)\n",
    "                fill_path_classifications_gap[-1] = classifications_list[i]\n",
    "                xy_path.extend(generated_coord_gaps)\n",
    "        \n",
    "                for gap_classification in fill_path_classifications_gap:\n",
    "                    bee_data.add_classification(gap_classification)\n",
    "                    \n",
    "                    c.append(classifications_list[i])\n",
    "                    coord_counter += 1\n",
    "            else:\n",
    "                bee_data.list_of_all_xy_paths.append(xy_path)\n",
    "                bee_data.start_end_frame_num_all_paths.append(start_end_frame_num_path)\n",
    "                xy_path = [xy_list[i]]\n",
    "                start_end_frame_num_path = {'start': frame_nums_list[i], 'end': frame_nums_list[i]}\n",
    "                bee_data.add_classification(classifications_list[i])\n",
    "                \n",
    "                c.append(classifications_list[i])\n",
    "                coord_counter += 1\n",
    "\n",
    "        if len(xy_path) > 0:\n",
    "            bee_data.list_of_all_xy_paths.append(xy_path)\n",
    "            bee_data.start_end_frame_num_all_paths.append(start_end_frame_num_path)\n",
    "            bee_data.identify_freq_class_path_group()\n",
    "\n",
    "        num_coords = 0\n",
    "        for xy_path in bee_data.list_of_all_xy_paths:\n",
    "            for xy in xy_path:\n",
    "                #print(num_coords)\n",
    "                num_coords += 1\n",
    "        \n",
    "        print(num_coords)\n",
    "        print(coord_counter)\n",
    "        print(len(c))\n",
    "\n",
    "        return bee_data"
   ]
  },
  {
   "cell_type": "code",
   "execution_count": 1319,
   "metadata": {
    "scrolled": true
   },
   "outputs": [
    {
     "name": "stdout",
     "output_type": "stream",
     "text": [
      "13870\n",
      "13870\n",
      "13870\n"
     ]
    }
   ],
   "source": [
    "pp = ProcessPaths('2017-02-14_23-32-00')\n",
    "bd = pp.process_paths(first_bee_df)"
   ]
  },
  {
   "cell_type": "code",
   "execution_count": 1320,
   "metadata": {},
   "outputs": [
    {
     "name": "stdout",
     "output_type": "stream",
     "text": [
      "([38], [346])\n"
     ]
    }
   ],
   "source": [
    "mg = bd.merge_group_classifications_into_sections()\n",
    "print(mg)"
   ]
  },
  {
   "cell_type": "markdown",
   "metadata": {},
   "source": [
    "## Test section classifications"
   ]
  },
  {
   "cell_type": "code",
   "execution_count": 1321,
   "metadata": {},
   "outputs": [],
   "source": [
    "test_descriptions = [\n",
    "    'first 2 sections are mixed, then its 5 after',\n",
    "    'first 1 section is mixed, then its 5 after',\n",
    "    '1 unknown value',\n",
    "    '10 unknown values',\n",
    "    '2 values, unknown and 5',\n",
    "    '2 values: both 5',\n",
    "    '2 values: 5 and 4',\n",
    "    '1 value: 5',\n",
    "    'mixed known values then 5',\n",
    "    'mixed values, then 8, then 5',\n",
    "    '2 sections of 5, then unknown ending',\n",
    "    '5 then 4 then 5',\n",
    "]\n",
    "\n",
    "tests = [\n",
    "    [MIXED_CLASS, MIXED_CLASS, 5, 5, 5, MIXED_CLASS, MIXED_CLASS, MIXED_CLASS, 5, 5, 5, 5, 5, 5, 5, UNKNOWN_CLASS, UNKNOWN_CLASS, 5, 5, 5, 5],\n",
    "    [UNKNOWN_CLASS, UNKNOWN_CLASS, UNKNOWN_CLASS, UNKNOWN_CLASS, UNKNOWN_CLASS, 5, 5, 5, 5, 5, 5, 5, UNKNOWN_CLASS, UNKNOWN_CLASS, 5, 5, 5, 5],\n",
    "    [UNKNOWN_CLASS],\n",
    "    [UNKNOWN_CLASS,UNKNOWN_CLASS,UNKNOWN_CLASS,UNKNOWN_CLASS,UNKNOWN_CLASS,UNKNOWN_CLASS,UNKNOWN_CLASS,UNKNOWN_CLASS,UNKNOWN_CLASS,UNKNOWN_CLASS],\n",
    "    [UNKNOWN_CLASS, 5],\n",
    "    [5, 5],\n",
    "    [5, 4],\n",
    "    [5],\n",
    "    [5,5,4,7,7,8,8,1,1,5,5,5,5,5,5],\n",
    "    [5,5,4,7,7,8,8,UNKNOWN_CLASS,UNKNOWN_CLASS,5,5,5,5,5,5],\n",
    "    [5,5,5,5,5,5,5,5,5,5,MIXED_CLASS, MIXED_CLASS,MIXED_CLASS, MIXED_CLASS, MIXED_CLASS, MIXED_CLASS, MIXED_CLASS, MIXED_CLASS, MIXED_CLASS, MIXED_CLASS, MIXED_CLASS, MIXED_CLASS, MIXED_CLASS, MIXED_CLASS, MIXED_CLASS],\n",
    "    [5,4,4,5,5,4,4,4,4,5,5,5,5,5,5,5],\n",
    "]\n",
    "\n",
    "#test_descriptions = [['5 then 4 then 5'], '2 sections of 5, then unknown ending',]\n",
    "#tests = [[5,4,4,5,5,4,4,4,4,5,5,5,5,5,5,5], [5,5,5,5,5,5,5,5,5,5,5, MIXED_CLASS,MIXED_CLASS, MIXED_CLASS, MIXED_CLASS, MIXED_CLASS, MIXED_CLASS, MIXED_CLASS, MIXED_CLASS, MIXED_CLASS, MIXED_CLASS, MIXED_CLASS, MIXED_CLASS, MIXED_CLASS, MIXED_CLASS],]"
   ]
  },
  {
   "cell_type": "code",
   "execution_count": 1322,
   "metadata": {},
   "outputs": [
    {
     "name": "stdout",
     "output_type": "stream",
     "text": [
      "([3, 5], [7, 20])\n",
      "([5], [17])\n",
      "([3], [0])\n",
      "([3], [9])\n",
      "([3], [1])\n",
      "([5], [1])\n",
      "([3], [1])\n",
      "([3], [0])\n",
      "([3, 5], [8, 14])\n",
      "([8, 5], [8, 14])\n",
      "([5, 3], [9, 24])\n",
      "([5, 4, 5], [4, 8, 15])\n"
     ]
    }
   ],
   "source": [
    "for i in range(len(tests)):\n",
    "    bd.consensus_grouped_classifications = tests[i]\n",
    "    #print(test_descriptions[i], len(tests[i]))\n",
    "    mg = bd.merge_group_classifications_into_sections()\n",
    "    print(mg)\n",
    "    #print('')"
   ]
  },
  {
   "cell_type": "code",
   "execution_count": 1276,
   "metadata": {},
   "outputs": [
    {
     "name": "stdout",
     "output_type": "stream",
     "text": [
      "5\n",
      "5\n",
      "mixed\n",
      "3\n",
      "mixed\n",
      "mixed\n",
      "mixed\n",
      "mixed\n",
      "1\n",
      "1\n",
      "1\n",
      "1\n",
      "1\n",
      "3\n",
      "mixed\n",
      "3\n"
     ]
    }
   ],
   "source": [
    "xx = [\n",
    "    [UNKNOWN_CLASS, UNKNOWN_CLASS, 5, 5, 5],\n",
    "    [UNKNOWN_CLASS, MIXED_CLASS, 5, 5, 5],\n",
    "    [MIXED_CLASS, MIXED_CLASS, 5, 5, 5],\n",
    "    [MIXED_CLASS,UNKNOWN_CLASS,UNKNOWN_CLASS,1,1],\n",
    "    [1,2,3,4,5],\n",
    "    [1,1,2,2,UNKNOWN_CLASS],\n",
    "    [UNKNOWN_CLASS,UNKNOWN_CLASS,4,5,6],\n",
    "    [1,1,2,2,7],\n",
    "    [1,1,1,2,7],\n",
    "    [1,1,1,2,2],\n",
    "    [1,1,1,1], # too few\n",
    "    [1,1,1], # too few\n",
    "    [1,1],\n",
    "    [1],\n",
    "    [1,2],\n",
    "    [UNKNOWN_CLASS, UNKNOWN_CLASS, 1]\n",
    "]\n",
    "\n",
    "for x in xx:\n",
    "    print(get_most_freq_class_pred(x))"
   ]
  },
  {
   "cell_type": "code",
   "execution_count": null,
   "metadata": {
    "collapsed": true
   },
   "outputs": [],
   "source": [
    "print(set(x1))\n",
    "print(set(x2))\n",
    "print(set(x3))\n",
    "print(set(x4))\n",
    "print(set(x5))\n",
    "print(set(x6))"
   ]
  },
  {
   "cell_type": "code",
   "execution_count": 202,
   "metadata": {},
   "outputs": [],
   "source": []
  }
 ],
 "metadata": {
  "kernelspec": {
   "display_name": "Python 2",
   "language": "python",
   "name": "python2"
  },
  "language_info": {
   "codemirror_mode": {
    "name": "ipython",
    "version": 2
   },
   "file_extension": ".py",
   "mimetype": "text/x-python",
   "name": "python",
   "nbconvert_exporter": "python",
   "pygments_lexer": "ipython2",
   "version": "2.7.12"
  }
 },
 "nbformat": 4,
 "nbformat_minor": 2
}
