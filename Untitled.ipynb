{
 "cells": [
  {
   "cell_type": "markdown",
   "metadata": {},
   "source": [
    "# Organising previous JSON files\n",
    "- JSON files had an xy column containing dictionary values\n",
    "- Need to turn these into separate columns\n",
    "- Remove floats -> ints"
   ]
  },
  {
   "cell_type": "code",
   "execution_count": 1,
   "metadata": {},
   "outputs": [
    {
     "data": {
      "application/json": {
       "Software versions": [
        {
         "module": "Python",
         "version": "2.7.13 64bit [GCC 4.2.1 Compatible Apple LLVM 8.1.0 (clang-802.0.42)]"
        },
        {
         "module": "IPython",
         "version": "5.4.1"
        },
        {
         "module": "OS",
         "version": "Darwin 16.7.0 x86_64 i386 64bit"
        },
        {
         "module": "numpy",
         "version": "1.13.1"
        },
        {
         "module": "scipy",
         "version": "0.19.1"
        },
        {
         "module": "matplotlib",
         "version": "2.0.2"
        },
        {
         "module": "pandas",
         "version": "0.20.3"
        }
       ]
      },
      "text/html": [
       "<table><tr><th>Software</th><th>Version</th></tr><tr><td>Python</td><td>2.7.13 64bit [GCC 4.2.1 Compatible Apple LLVM 8.1.0 (clang-802.0.42)]</td></tr><tr><td>IPython</td><td>5.4.1</td></tr><tr><td>OS</td><td>Darwin 16.7.0 x86_64 i386 64bit</td></tr><tr><td>numpy</td><td>1.13.1</td></tr><tr><td>scipy</td><td>0.19.1</td></tr><tr><td>matplotlib</td><td>2.0.2</td></tr><tr><td>pandas</td><td>0.20.3</td></tr><tr><td colspan='2'>Fri Aug 18 23:07:46 2017 AEST</td></tr></table>"
      ],
      "text/latex": [
       "\\begin{tabular}{|l|l|}\\hline\n",
       "{\\bf Software} & {\\bf Version} \\\\ \\hline\\hline\n",
       "Python & 2.7.13 64bit [GCC 4.2.1 Compatible Apple LLVM 8.1.0 (clang-802.0.42)] \\\\ \\hline\n",
       "IPython & 5.4.1 \\\\ \\hline\n",
       "OS & Darwin 16.7.0 x86\\_64 i386 64bit \\\\ \\hline\n",
       "numpy & 1.13.1 \\\\ \\hline\n",
       "scipy & 0.19.1 \\\\ \\hline\n",
       "matplotlib & 2.0.2 \\\\ \\hline\n",
       "pandas & 0.20.3 \\\\ \\hline\n",
       "\\hline \\multicolumn{2}{|l|}{Fri Aug 18 23:07:46 2017 AEST} \\\\ \\hline\n",
       "\\end{tabular}\n"
      ],
      "text/plain": [
       "Software versions\n",
       "Python 2.7.13 64bit [GCC 4.2.1 Compatible Apple LLVM 8.1.0 (clang-802.0.42)]\n",
       "IPython 5.4.1\n",
       "OS Darwin 16.7.0 x86_64 i386 64bit\n",
       "numpy 1.13.1\n",
       "scipy 0.19.1\n",
       "matplotlib 2.0.2\n",
       "pandas 0.20.3\n",
       "Fri Aug 18 23:07:46 2017 AEST"
      ]
     },
     "execution_count": 1,
     "metadata": {},
     "output_type": "execute_result"
    }
   ],
   "source": [
    "%matplotlib inline\n",
    "#from pylab import rcParams\n",
    "#rcParams['figure.figsize'] = 12, 8\n",
    "\n",
    "%load_ext autoreload\n",
    "%autoreload 2\n",
    "\n",
    "%load_ext version_information\n",
    "%version_information numpy, scipy, matplotlib, pandas"
   ]
  },
  {
   "cell_type": "code",
   "execution_count": 2,
   "metadata": {
    "collapsed": true
   },
   "outputs": [],
   "source": [
    "import glob\n",
    "import pandas as pd\n",
    "import os\n",
    "import multiprocessing"
   ]
  },
  {
   "cell_type": "code",
   "execution_count": 3,
   "metadata": {
    "collapsed": true
   },
   "outputs": [],
   "source": [
    "def read_coordinates_file(coord_file_path):\n",
    "    file_extension = coord_file_path.split('.')[-1]\n",
    "    if file_extension == 'csv':\n",
    "        df = pd.read_csv(coord_file_path)\n",
    "    elif file_extension == 'json':\n",
    "        df = pd.read_json(coord_file_path)\n",
    "    else:\n",
    "        print('Unknown coordinate file type')\n",
    "        sys.exit(0)\n",
    "        \n",
    "    # turn coordinate column into x,y dictionary\n",
    "    df['xy'] = df['xy'].apply(lambda x: eval(str(x)))\n",
    "\n",
    "    return df\n",
    "\n",
    "def get_video_filename(video_path):\n",
    "    head, tail = os.path.split(video_path)\n",
    "    str_date_time = os.path.splitext(tail)[0]\n",
    "    return str_date_time"
   ]
  },
  {
   "cell_type": "code",
   "execution_count": 4,
   "metadata": {
    "collapsed": true
   },
   "outputs": [],
   "source": [
    "def convert_json_files(json_file_path):\n",
    "    print(json_file_path)\n",
    "    new_json = '/Volumes/JSIMPSON/1b/new_json/'\n",
    "    video_filename = get_video_filename(json_file_path)\n",
    "    new_json_file = new_json + video_filename + '.json'\n",
    "    \n",
    "    if os.path.exists(new_json_file):\n",
    "        print('new_json_file' + ' exists')\n",
    "        return None\n",
    "    \n",
    "    df = read_coordinates_file(json_file_path)\n",
    "    df = df.sort_values('frame_nums', ascending=True)\n",
    "    \n",
    "    xy_list = df['xy'].tolist()\n",
    "    x = []\n",
    "    y = []\n",
    "    for xy in xy_list:\n",
    "        x.append(int(xy['x']))\n",
    "        y.append(int(xy['y']))\n",
    "        \n",
    "    del df['xy']\n",
    "    df['x'] = x\n",
    "    df['y'] = y\n",
    "    \n",
    "    df.to_json(new_json_file, orient='records')"
   ]
  },
  {
   "cell_type": "code",
   "execution_count": 5,
   "metadata": {},
   "outputs": [
    {
     "name": "stdout",
     "output_type": "stream",
     "text": [
      "/Volumes/JSIMPSON/1b/json/2017-02-16_05-32-16.json\n"
     ]
    }
   ],
   "source": [
    "json_file_list = glob.glob('/Volumes/JSIMPSON/1b/json/*.json')\n",
    "print(json_file_list[0])"
   ]
  },
  {
   "cell_type": "code",
   "execution_count": null,
   "metadata": {},
   "outputs": [
    {
     "name": "stdout",
     "output_type": "stream",
     "text": [
      "/Volumes/JSIMPSON/1b/json/2017-02-16_08-32-21.json\n",
      "/Volumes/JSIMPSON/1b/json/2017-02-16_06-32-18.json\n",
      "/Volumes/JSIMPSON/1b/json/2017-02-16_07-32-20.json\n",
      "/Volumes/JSIMPSON/1b/json/2017-02-16_05-32-16.json\n",
      "new_json_file exists\n",
      "new_json_file exists\n",
      "new_json_file exists\n",
      "/Volumes/JSIMPSON/1b/json/2017-02-16_09-32-19.json\n",
      "new_json_file exists\n",
      "/Volumes/JSIMPSON/1b/json/2017-02-16_10-32-22.json\n",
      "new_json_file exists\n",
      "/Volumes/JSIMPSON/1b/json/2017-02-16_11-32-23.json\n",
      "new_json_file exists\n",
      "/Volumes/JSIMPSON/1b/json/2017-02-16_12-32-22.json\n",
      "new_json_file exists\n",
      "new_json_file exists\n",
      "/Volumes/JSIMPSON/1b/json/2017-02-16_13-32-23.json\n",
      "/Volumes/JSIMPSON/1b/json/2017-02-16_14-32-24.json\n",
      "/Volumes/JSIMPSON/1b/json/2017-02-16_15-32-24.json\n",
      "new_json_file exists\n",
      "new_json_file exists\n",
      "/Volumes/JSIMPSON/1b/json/2017-02-16_16-32-27.json\n",
      "new_json_file exists\n",
      "/Volumes/JSIMPSON/1b/json/2017-02-16_17-32-26.json\n",
      "/Volumes/JSIMPSON/1b/json/2017-02-16_18-32-27.json\n",
      "new_json_file exists\n",
      "/Volumes/JSIMPSON/1b/json/2017-02-16_19-32-27.json\n",
      "new_json_file exists\n",
      "new_json_file exists\n",
      "/Volumes/JSIMPSON/1b/json/2017-02-16_20-32-28.json\n",
      "new_json_file exists\n",
      "/Volumes/JSIMPSON/1b/json/2017-02-16_21-32-28.json\n",
      "/Volumes/JSIMPSON/1b/json/2017-02-16_22-32-29.json\n",
      "new_json_file exists\n",
      "/Volumes/JSIMPSON/1b/json/2017-02-16_23-32-30.json\n",
      "new_json_file exists\n",
      "new_json_file exists\n",
      "new_json_file exists\n",
      "/Volumes/JSIMPSON/1b/json/2017-02-17_00-32-30.json\n",
      "/Volumes/JSIMPSON/1b/json/2017-02-17_01-32-31.json\n",
      "/Volumes/JSIMPSON/1b/json/2017-02-17_02-32-34.json\n",
      "/Volumes/JSIMPSON/1b/json/2017-02-17_03-32-34.json\n",
      "new_json_file exists\n",
      "new_json_file exists\n",
      "/Volumes/JSIMPSON/1b/json/2017-02-17_05-32-33.json\n",
      "new_json_file exists\n",
      "new_json_file exists\n",
      "/Volumes/JSIMPSON/1b/json/2017-02-17_04-32-35.json\n",
      "new_json_file exists\n",
      "/Volumes/JSIMPSON/1b/json/2017-02-17_06-32-36.json\n",
      "/Volumes/JSIMPSON/1b/json/2017-02-17_07-32-37.json\n",
      "new_json_file exists\n",
      "/Volumes/JSIMPSON/1b/json/2017-02-17_08-32-37.json\n",
      "/Volumes/JSIMPSON/1b/json/2017-02-17_09-32-38.json\n",
      "new_json_file exists\n",
      "new_json_file exists\n",
      "/Volumes/JSIMPSON/1b/json/2017-02-17_11-32-37.json\n",
      "/Volumes/JSIMPSON/1b/json/2017-02-17_10-32-36.json\n",
      "new_json_file exists\n",
      "new_json_file exists\n",
      "new_json_file exists\n",
      "/Volumes/JSIMPSON/1b/json/2017-02-17_12-32-38.json\n",
      "new_json_file exists\n",
      "/Volumes/JSIMPSON/1b/json/2017-02-17_13-32-41.json\n",
      "/Volumes/JSIMPSON/1b/json/2017-02-17_14-32-39.json\n",
      "new_json_file exists\n",
      "/Volumes/JSIMPSON/1b/json/2017-02-17_15-32-42.json\n",
      "new_json_file exists\n",
      "new_json_file exists\n",
      "/Volumes/JSIMPSON/1b/json/2017-02-17_16-32-41.json\n",
      "/Volumes/JSIMPSON/1b/json/2017-02-17_17-32-44.json\n",
      "new_json_file exists\n",
      "/Volumes/JSIMPSON/1b/json/2017-02-17_18-32-42.json\n",
      "new_json_file exists\n",
      "new_json_file exists\n",
      "new_json_file exists\n",
      "/Volumes/JSIMPSON/1b/json/2017-02-17_20-32-46.json\n",
      "/Volumes/JSIMPSON/1b/json/2017-02-17_19-32-43.json\n",
      "/Volumes/JSIMPSON/1b/json/2017-02-17_21-32-44.json\n",
      "new_json_file exists\n",
      "new_json_file exists\n",
      "/Volumes/JSIMPSON/1b/json/2017-02-17_22-32-48.json\n",
      "/Volumes/JSIMPSON/1b/json/2017-02-17_23-32-47.json\n",
      "/Volumes/JSIMPSON/1b/json/2017-02-18_00-32-50.json\n",
      "new_json_file exists\n",
      "/Volumes/JSIMPSON/1b/json/2017-02-18_01-32-49.json\n"
     ]
    }
   ],
   "source": [
    "processes = multiprocessing.Pool(processes=4)\n",
    "frame_data_list = processes.map(func=convert_json_files, iterable=json_file_list, chunksize=1)"
   ]
  },
  {
   "cell_type": "code",
   "execution_count": null,
   "metadata": {
    "collapsed": true
   },
   "outputs": [],
   "source": []
  }
 ],
 "metadata": {
  "kernelspec": {
   "display_name": "Python 2",
   "language": "python",
   "name": "python2"
  },
  "language_info": {
   "codemirror_mode": {
    "name": "ipython",
    "version": 2
   },
   "file_extension": ".py",
   "mimetype": "text/x-python",
   "name": "python",
   "nbconvert_exporter": "python",
   "pygments_lexer": "ipython2",
   "version": "2.7.13"
  }
 },
 "nbformat": 4,
 "nbformat_minor": 2
}
