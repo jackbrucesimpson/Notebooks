{
 "cells": [
  {
   "cell_type": "markdown",
   "metadata": {},
   "source": [
    "# Generating heatmaps from paths"
   ]
  },
  {
   "cell_type": "code",
   "execution_count": 1,
   "metadata": {},
   "outputs": [
    {
     "data": {
      "application/json": {
       "Software versions": [
        {
         "module": "Python",
         "version": "2.7.12 64bit [GCC 5.4.0 20160609]"
        },
        {
         "module": "IPython",
         "version": "5.4.1"
        },
        {
         "module": "OS",
         "version": "Linux 4.10.0 32 generic x86_64 with Ubuntu 16.04 xenial"
        },
        {
         "module": "numpy",
         "version": "1.13.1"
        },
        {
         "module": "scipy",
         "version": "0.19.1"
        },
        {
         "module": "matplotlib",
         "version": "2.0.2"
        },
        {
         "module": "pandas",
         "version": "0.20.3"
        }
       ]
      },
      "text/html": [
       "<table><tr><th>Software</th><th>Version</th></tr><tr><td>Python</td><td>2.7.12 64bit [GCC 5.4.0 20160609]</td></tr><tr><td>IPython</td><td>5.4.1</td></tr><tr><td>OS</td><td>Linux 4.10.0 32 generic x86_64 with Ubuntu 16.04 xenial</td></tr><tr><td>numpy</td><td>1.13.1</td></tr><tr><td>scipy</td><td>0.19.1</td></tr><tr><td>matplotlib</td><td>2.0.2</td></tr><tr><td>pandas</td><td>0.20.3</td></tr><tr><td colspan='2'>Fri Aug 25 15:52:07 2017 AEST</td></tr></table>"
      ],
      "text/latex": [
       "\\begin{tabular}{|l|l|}\\hline\n",
       "{\\bf Software} & {\\bf Version} \\\\ \\hline\\hline\n",
       "Python & 2.7.12 64bit [GCC 5.4.0 20160609] \\\\ \\hline\n",
       "IPython & 5.4.1 \\\\ \\hline\n",
       "OS & Linux 4.10.0 32 generic x86\\_64 with Ubuntu 16.04 xenial \\\\ \\hline\n",
       "numpy & 1.13.1 \\\\ \\hline\n",
       "scipy & 0.19.1 \\\\ \\hline\n",
       "matplotlib & 2.0.2 \\\\ \\hline\n",
       "pandas & 0.20.3 \\\\ \\hline\n",
       "\\hline \\multicolumn{2}{|l|}{Fri Aug 25 15:52:07 2017 AEST} \\\\ \\hline\n",
       "\\end{tabular}\n"
      ],
      "text/plain": [
       "Software versions\n",
       "Python 2.7.12 64bit [GCC 5.4.0 20160609]\n",
       "IPython 5.4.1\n",
       "OS Linux 4.10.0 32 generic x86_64 with Ubuntu 16.04 xenial\n",
       "numpy 1.13.1\n",
       "scipy 0.19.1\n",
       "matplotlib 2.0.2\n",
       "pandas 0.20.3\n",
       "Fri Aug 25 15:52:07 2017 AEST"
      ]
     },
     "execution_count": 1,
     "metadata": {},
     "output_type": "execute_result"
    }
   ],
   "source": [
    "#%matplotlib inline\n",
    "#from pylab import rcParams\n",
    "#rcParams['figure.figsize'] = 20, 16\n",
    "#import matplotlib.pyplot as plt\n",
    "#plt.style.use('ggplot')\n",
    "#import matplotlib.cm as cm\n",
    "\n",
    "%load_ext autoreload\n",
    "%autoreload 2\n",
    "\n",
    "%load_ext version_information\n",
    "%version_information numpy, scipy, matplotlib, pandas"
   ]
  },
  {
   "cell_type": "code",
   "execution_count": 2,
   "metadata": {
    "collapsed": true
   },
   "outputs": [],
   "source": [
    "import numpy as np\n",
    "import cv2\n",
    "import pandas as pd\n",
    "\n",
    "import os\n",
    "import sys\n",
    "\n",
    "np.random.seed(0)"
   ]
  },
  {
   "cell_type": "code",
   "execution_count": 4,
   "metadata": {},
   "outputs": [],
   "source": [
    "sys.path.append(\"/home/jack/Dev/BeeUnique/src\")\n",
    "from Processor import PathMetrics\n",
    "from Processor.graphics import plot_path_bg, plot_heatmaps_bg_image, plot_histogram\n",
    "from Processor.constants import *"
   ]
  },
  {
   "cell_type": "code",
   "execution_count": 5,
   "metadata": {
    "collapsed": true
   },
   "outputs": [],
   "source": [
    "experiment_directory = '/home/jack/Data/Caffeine_Unique_Tags'\n",
    "\n",
    "pm = PathMetrics(experiment_directory)\n",
    "pm.generate_night_day_bgs()"
   ]
  },
  {
   "cell_type": "code",
   "execution_count": 6,
   "metadata": {
    "collapsed": true
   },
   "outputs": [],
   "source": [
    "from scipy import ndimage\n",
    "import math"
   ]
  },
  {
   "cell_type": "code",
   "execution_count": 15,
   "metadata": {},
   "outputs": [],
   "source": [
    "def calc_heatmaps(list_bees, bg_image, file_name):\n",
    "    all_coords_heatmap = np.zeros((NUM_Y_CELLS, NUM_X_CELLS))\n",
    "    tag_class_presence_heatmap = np.zeros((NUM_Y_CELLS, NUM_X_CELLS))\n",
    "    for bee in list_bees:\n",
    "        for yx_coord in bee.slow_cells_visited.keys():\n",
    "            if yx_coord[1] == NUM_X_CELLS:\n",
    "                yx_coord = (yx_coord[0], NUM_X_CELLS - 1)\n",
    "            all_coords_heatmap[yx_coord] += bee.slow_cells_visited[yx_coord]\n",
    "            tag_class_presence_heatmap[yx_coord] += 1\n",
    "\n",
    "    norm_all_coords_heatmap = all_coords_heatmap / all_coords_heatmap.sum()\n",
    "    norm_tag_class_presence_heatmap = tag_class_presence_heatmap / tag_class_presence_heatmap.sum()\n",
    "\n",
    "    all_coords_spread = calc_spread(norm_all_coords_heatmap)\n",
    "    class_presence_spread = calc_spread(norm_tag_class_presence_heatmap)\n",
    "\n",
    "    plot_heatmaps_bg_image(norm_all_coords_heatmap, bg_image, 100, 'All Coords Spread: ' + str(all_coords_spread), file_name +'_all_coords.png')\n",
    "    plot_heatmaps_bg_image(norm_tag_class_presence_heatmap, bg_image, 100, 'Presence Spread: ' + str(class_presence_spread), file_name +'_presence.png')\n",
    "\n",
    "    print(all_coords_spread, class_presence_spread)\n",
    "\n",
    "def calc_spread(norm_heatmap):\n",
    "    centre = ndimage.measurements.center_of_mass(norm_heatmap)\n",
    "    spread = 0\n",
    "    for y_c in range(0, norm_heatmap.shape[0]):\n",
    "        for x_c in range(0, norm_heatmap.shape[1]):\n",
    "            spread += calc_distance(x_c, y_c, centre[1], centre[0]) * norm_heatmap[y_c, x_c]\n",
    "            \n",
    "    return spread\n",
    "            \n",
    "def calc_distance(x1, y1, x2, y2):\n",
    "    x_dist = (x2 - x1)\n",
    "    y_dist = (y2 - y1)\n",
    "    return math.sqrt(x_dist * x_dist + y_dist * y_dist)"
   ]
  },
  {
   "cell_type": "code",
   "execution_count": 14,
   "metadata": {},
   "outputs": [
    {
     "name": "stdout",
     "output_type": "stream",
     "text": [
      "(8.6074714656096596, 9.110522836829583)\n",
      "(12.632877508797902, 13.970072522208016)\n",
      "(17.493231652442844, 18.644469429923515)\n",
      "(18.058856153502088, 19.806826306400549)\n"
     ]
    },
    {
     "ename": "IndexError",
     "evalue": "index 80 is out of bounds for axis 1 with size 80",
     "output_type": "error",
     "traceback": [
      "\u001b[0;31m---------------------------------------------------------------------------\u001b[0m",
      "\u001b[0;31mIndexError\u001b[0m                                Traceback (most recent call last)",
      "\u001b[0;32m<ipython-input-14-a29ad089bb01>\u001b[0m in \u001b[0;36m<module>\u001b[0;34m()\u001b[0m\n\u001b[1;32m      7\u001b[0m         \u001b[0mplot_path_bg\u001b[0m\u001b[0;34m(\u001b[0m\u001b[0mqueen_bee\u001b[0m\u001b[0;34m,\u001b[0m \u001b[0mpm\u001b[0m\u001b[0;34m.\u001b[0m\u001b[0mnight_day_bg_images\u001b[0m\u001b[0;34m[\u001b[0m\u001b[0;34m'night'\u001b[0m\u001b[0;34m]\u001b[0m\u001b[0;34m[\u001b[0m\u001b[0mi\u001b[0m\u001b[0;34m]\u001b[0m\u001b[0;34m,\u001b[0m \u001b[0mfile_name\u001b[0m \u001b[0;34m+\u001b[0m \u001b[0;34m'_bg.png'\u001b[0m\u001b[0;34m)\u001b[0m\u001b[0;34m\u001b[0m\u001b[0m\n\u001b[1;32m      8\u001b[0m         \u001b[0mplot_histogram\u001b[0m\u001b[0;34m(\u001b[0m\u001b[0mqueen_bee\u001b[0m\u001b[0;34m.\u001b[0m\u001b[0mdistance_per_second\u001b[0m\u001b[0;34m,\u001b[0m \u001b[0;34m'Distance per second'\u001b[0m\u001b[0;34m,\u001b[0m \u001b[0mfile_name\u001b[0m \u001b[0;34m+\u001b[0m \u001b[0;34m'_speeds.png'\u001b[0m\u001b[0;34m)\u001b[0m\u001b[0;34m\u001b[0m\u001b[0m\n\u001b[0;32m----> 9\u001b[0;31m         \u001b[0mcalc_heatmaps\u001b[0m\u001b[0;34m(\u001b[0m\u001b[0;34m[\u001b[0m\u001b[0mqueen_bee\u001b[0m\u001b[0;34m]\u001b[0m\u001b[0;34m,\u001b[0m \u001b[0mpm\u001b[0m\u001b[0;34m.\u001b[0m\u001b[0mnight_day_bg_images\u001b[0m\u001b[0;34m[\u001b[0m\u001b[0;34m'night'\u001b[0m\u001b[0;34m]\u001b[0m\u001b[0;34m[\u001b[0m\u001b[0mi\u001b[0m\u001b[0;34m]\u001b[0m\u001b[0;34m,\u001b[0m \u001b[0mfile_name\u001b[0m\u001b[0;34m)\u001b[0m\u001b[0;34m\u001b[0m\u001b[0m\n\u001b[0m\u001b[1;32m     10\u001b[0m \u001b[0;34m\u001b[0m\u001b[0m\n\u001b[1;32m     11\u001b[0m         \u001b[0mnight_or_day_count\u001b[0m \u001b[0;34m+=\u001b[0m \u001b[0;36m1\u001b[0m\u001b[0;34m\u001b[0m\u001b[0m\n",
      "\u001b[0;32m<ipython-input-13-96e89a901f6c>\u001b[0m in \u001b[0;36mcalc_heatmaps\u001b[0;34m(list_bees, bg_image, file_name)\u001b[0m\n\u001b[1;32m      6\u001b[0m             \u001b[0;32mif\u001b[0m \u001b[0myx_coord\u001b[0m\u001b[0;34m[\u001b[0m\u001b[0;36m1\u001b[0m\u001b[0;34m]\u001b[0m \u001b[0;34m==\u001b[0m \u001b[0mNUM_X_CELLS\u001b[0m \u001b[0;34m-\u001b[0m \u001b[0;36m1\u001b[0m\u001b[0;34m:\u001b[0m\u001b[0;34m\u001b[0m\u001b[0m\n\u001b[1;32m      7\u001b[0m                 \u001b[0myx_coord\u001b[0m \u001b[0;34m=\u001b[0m \u001b[0;34m(\u001b[0m\u001b[0myx_coord\u001b[0m\u001b[0;34m[\u001b[0m\u001b[0;36m0\u001b[0m\u001b[0;34m]\u001b[0m\u001b[0;34m,\u001b[0m \u001b[0mNUM_X_CELLS\u001b[0m \u001b[0;34m-\u001b[0m \u001b[0;36m1\u001b[0m\u001b[0;34m)\u001b[0m\u001b[0;34m\u001b[0m\u001b[0m\n\u001b[0;32m----> 8\u001b[0;31m             \u001b[0mall_coords_heatmap\u001b[0m\u001b[0;34m[\u001b[0m\u001b[0myx_coord\u001b[0m\u001b[0;34m]\u001b[0m \u001b[0;34m+=\u001b[0m \u001b[0mbee\u001b[0m\u001b[0;34m.\u001b[0m\u001b[0mslow_cells_visited\u001b[0m\u001b[0;34m[\u001b[0m\u001b[0myx_coord\u001b[0m\u001b[0;34m]\u001b[0m\u001b[0;34m\u001b[0m\u001b[0m\n\u001b[0m\u001b[1;32m      9\u001b[0m             \u001b[0mtag_class_presence_heatmap\u001b[0m\u001b[0;34m[\u001b[0m\u001b[0myx_coord\u001b[0m\u001b[0;34m]\u001b[0m \u001b[0;34m+=\u001b[0m \u001b[0;36m1\u001b[0m\u001b[0;34m\u001b[0m\u001b[0m\n\u001b[1;32m     10\u001b[0m \u001b[0;34m\u001b[0m\u001b[0m\n",
      "\u001b[0;31mIndexError\u001b[0m: index 80 is out of bounds for axis 1 with size 80"
     ]
    }
   ],
   "source": [
    "for night_day in pm.night_day_tag_paths.keys():\n",
    "    night_or_day_count = 0\n",
    "    night_or_day_id = {'night': '_0_', 'day': '_1_'}\n",
    "    for i in range(len(pm.night_day_tag_paths[night_day])):\n",
    "        queen_bee = pm.night_day_tag_paths[night_day][i][QUEEN_CLASS]\n",
    "        file_name = '/home/jack/' + str(night_or_day_count) + night_or_day_id[night_day] + night_day\n",
    "        plot_path_bg(queen_bee, pm.night_day_bg_images['night'][i], file_name + '_bg.png')\n",
    "        plot_histogram(queen_bee.distance_per_second, 'Distance per second', file_name + '_speeds.png')\n",
    "        calc_heatmaps([queen_bee], pm.night_day_bg_images['night'][i], file_name)\n",
    "\n",
    "        night_or_day_count += 1"
   ]
  },
  {
   "cell_type": "code",
   "execution_count": null,
   "metadata": {
    "collapsed": true
   },
   "outputs": [],
   "source": []
  }
 ],
 "metadata": {
  "kernelspec": {
   "display_name": "Python 2",
   "language": "python",
   "name": "python2"
  },
  "language_info": {
   "codemirror_mode": {
    "name": "ipython",
    "version": 2
   },
   "file_extension": ".py",
   "mimetype": "text/x-python",
   "name": "python",
   "nbconvert_exporter": "python",
   "pygments_lexer": "ipython2",
   "version": "2.7.12"
  }
 },
 "nbformat": 4,
 "nbformat_minor": 2
}
