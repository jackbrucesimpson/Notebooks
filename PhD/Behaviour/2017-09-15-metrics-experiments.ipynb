{
 "cells": [
  {
   "cell_type": "markdown",
   "metadata": {},
   "source": [
    "# Queen Metrics experiments\n",
    "- After fixing the barplot in the Jupyter notebook I decided to switch most of my metric development to a notebook"
   ]
  },
  {
   "cell_type": "code",
   "execution_count": 1,
   "metadata": {},
   "outputs": [
    {
     "data": {
      "application/json": {
       "Software versions": [
        {
         "module": "Python",
         "version": "2.7.12 64bit [GCC 5.4.0 20160609]"
        },
        {
         "module": "IPython",
         "version": "5.4.1"
        },
        {
         "module": "OS",
         "version": "Linux 4.10.0 33 generic x86_64 with Ubuntu 16.04 xenial"
        },
        {
         "module": "numpy",
         "version": "1.13.1"
        },
        {
         "module": "scipy",
         "version": "0.19.1"
        },
        {
         "module": "matplotlib",
         "version": "2.0.2"
        },
        {
         "module": "pandas",
         "version": "0.20.3"
        }
       ]
      },
      "text/html": [
       "<table><tr><th>Software</th><th>Version</th></tr><tr><td>Python</td><td>2.7.12 64bit [GCC 5.4.0 20160609]</td></tr><tr><td>IPython</td><td>5.4.1</td></tr><tr><td>OS</td><td>Linux 4.10.0 33 generic x86_64 with Ubuntu 16.04 xenial</td></tr><tr><td>numpy</td><td>1.13.1</td></tr><tr><td>scipy</td><td>0.19.1</td></tr><tr><td>matplotlib</td><td>2.0.2</td></tr><tr><td>pandas</td><td>0.20.3</td></tr><tr><td colspan='2'>Mon Sep 18 15:28:36 2017 AEST</td></tr></table>"
      ],
      "text/latex": [
       "\\begin{tabular}{|l|l|}\\hline\n",
       "{\\bf Software} & {\\bf Version} \\\\ \\hline\\hline\n",
       "Python & 2.7.12 64bit [GCC 5.4.0 20160609] \\\\ \\hline\n",
       "IPython & 5.4.1 \\\\ \\hline\n",
       "OS & Linux 4.10.0 33 generic x86\\_64 with Ubuntu 16.04 xenial \\\\ \\hline\n",
       "numpy & 1.13.1 \\\\ \\hline\n",
       "scipy & 0.19.1 \\\\ \\hline\n",
       "matplotlib & 2.0.2 \\\\ \\hline\n",
       "pandas & 0.20.3 \\\\ \\hline\n",
       "\\hline \\multicolumn{2}{|l|}{Mon Sep 18 15:28:36 2017 AEST} \\\\ \\hline\n",
       "\\end{tabular}\n"
      ],
      "text/plain": [
       "Software versions\n",
       "Python 2.7.12 64bit [GCC 5.4.0 20160609]\n",
       "IPython 5.4.1\n",
       "OS Linux 4.10.0 33 generic x86_64 with Ubuntu 16.04 xenial\n",
       "numpy 1.13.1\n",
       "scipy 0.19.1\n",
       "matplotlib 2.0.2\n",
       "pandas 0.20.3\n",
       "Mon Sep 18 15:28:36 2017 AEST"
      ]
     },
     "execution_count": 1,
     "metadata": {},
     "output_type": "execute_result"
    }
   ],
   "source": [
    "%load_ext autoreload\n",
    "%autoreload 2\n",
    "\n",
    "%load_ext version_information\n",
    "%version_information numpy, scipy, matplotlib, pandas"
   ]
  },
  {
   "cell_type": "code",
   "execution_count": 2,
   "metadata": {
    "collapsed": true
   },
   "outputs": [],
   "source": [
    "import os\n",
    "import sys"
   ]
  },
  {
   "cell_type": "code",
   "execution_count": 3,
   "metadata": {
    "collapsed": true
   },
   "outputs": [],
   "source": [
    "sys.path.append(\"/home/jack/Dev/BeeUnique/src\")"
   ]
  },
  {
   "cell_type": "code",
   "execution_count": 4,
   "metadata": {
    "collapsed": true
   },
   "outputs": [],
   "source": [
    "from Processor.PathAnalysis.pathmetrics import PathMetrics\n",
    "from Processor.Utils.graphics import plot_path_bg, plot_histogram, plot_line, plot_seconds_of_activity\n",
    "from Processor.Utils.fileutils import create_dir_check_exists\n",
    "from Processor.Utils import constants"
   ]
  },
  {
   "cell_type": "code",
   "execution_count": 5,
   "metadata": {},
   "outputs": [
    {
     "ename": "KeyboardInterrupt",
     "evalue": "",
     "output_type": "error",
     "traceback": [
      "\u001b[0;31m---------------------------------------------------------------------------\u001b[0m",
      "\u001b[0;31mKeyboardInterrupt\u001b[0m                         Traceback (most recent call last)",
      "\u001b[0;32m<ipython-input-5-ddafec49fccc>\u001b[0m in \u001b[0;36m<module>\u001b[0;34m()\u001b[0m\n\u001b[1;32m     10\u001b[0m \u001b[0mheatmaps_dir\u001b[0m \u001b[0;34m=\u001b[0m \u001b[0mcreate_dir_check_exists\u001b[0m\u001b[0;34m(\u001b[0m\u001b[0mplots_dir\u001b[0m\u001b[0;34m,\u001b[0m \u001b[0;34m'heatmaps'\u001b[0m\u001b[0;34m)\u001b[0m\u001b[0;34m\u001b[0m\u001b[0m\n\u001b[1;32m     11\u001b[0m \u001b[0mpm\u001b[0m \u001b[0;34m=\u001b[0m \u001b[0mPathMetrics\u001b[0m\u001b[0;34m(\u001b[0m\u001b[0mexperiment_directory\u001b[0m\u001b[0;34m)\u001b[0m\u001b[0;34m\u001b[0m\u001b[0m\n\u001b[0;32m---> 12\u001b[0;31m \u001b[0mpm\u001b[0m\u001b[0;34m.\u001b[0m\u001b[0mgroup_bee_data_into_nights_days\u001b[0m\u001b[0;34m(\u001b[0m\u001b[0;34m)\u001b[0m\u001b[0;34m\u001b[0m\u001b[0m\n\u001b[0m\u001b[1;32m     13\u001b[0m \u001b[0mpm\u001b[0m\u001b[0;34m.\u001b[0m\u001b[0mgenerate_night_day_bgs\u001b[0m\u001b[0;34m(\u001b[0m\u001b[0;34m)\u001b[0m\u001b[0;34m\u001b[0m\u001b[0m\n",
      "\u001b[0;32m/home/jack/Dev/BeeUnique/src/Processor/PathAnalysis/pathmetrics.py\u001b[0m in \u001b[0;36mgroup_bee_data_into_nights_days\u001b[0;34m(self)\u001b[0m\n\u001b[1;32m     51\u001b[0m                 \u001b[0msdt_paths\u001b[0m\u001b[0;34m.\u001b[0m\u001b[0madd_date_time_data\u001b[0m\u001b[0;34m(\u001b[0m\u001b[0mdate_time\u001b[0m\u001b[0;34m,\u001b[0m \u001b[0mvideo_metrics\u001b[0m\u001b[0;34m)\u001b[0m\u001b[0;34m\u001b[0m\u001b[0m\n\u001b[1;32m     52\u001b[0m             \u001b[0mnight_day_grouped_video_metrics\u001b[0m \u001b[0;34m=\u001b[0m \u001b[0msdt_paths\u001b[0m\u001b[0;34m.\u001b[0m\u001b[0msort_data_into_time_period\u001b[0m\u001b[0;34m(\u001b[0m\u001b[0;34m)\u001b[0m\u001b[0;34m\u001b[0m\u001b[0m\n\u001b[0;32m---> 53\u001b[0;31m             \u001b[0mmerged_night_day_grouped_video_metrics\u001b[0m \u001b[0;34m=\u001b[0m \u001b[0mself\u001b[0m\u001b[0;34m.\u001b[0m\u001b[0mmerge_grouped_night_day_video_metrics\u001b[0m\u001b[0;34m(\u001b[0m\u001b[0mnight_day_grouped_video_metrics\u001b[0m\u001b[0;34m)\u001b[0m\u001b[0;34m\u001b[0m\u001b[0m\n\u001b[0m\u001b[1;32m     54\u001b[0m             \u001b[0mself\u001b[0m\u001b[0;34m.\u001b[0m\u001b[0mtag_class_night_day_metrics\u001b[0m\u001b[0;34m[\u001b[0m\u001b[0mtag_class\u001b[0m\u001b[0;34m]\u001b[0m \u001b[0;34m=\u001b[0m \u001b[0mmerged_night_day_grouped_video_metrics\u001b[0m\u001b[0;34m\u001b[0m\u001b[0m\n\u001b[1;32m     55\u001b[0m \u001b[0;34m\u001b[0m\u001b[0m\n",
      "\u001b[0;32m/home/jack/Dev/BeeUnique/src/Processor/PathAnalysis/pathmetrics.py\u001b[0m in \u001b[0;36mmerge_grouped_night_day_video_metrics\u001b[0;34m(self, night_day_grouped_video_metrics)\u001b[0m\n\u001b[1;32m     61\u001b[0m                 \u001b[0;32mfor\u001b[0m \u001b[0mvideo_metrics\u001b[0m \u001b[0;32min\u001b[0m \u001b[0mnight_day_time_period_group\u001b[0m\u001b[0;34m:\u001b[0m\u001b[0;34m\u001b[0m\u001b[0m\n\u001b[1;32m     62\u001b[0m                     \u001b[0mvm_merged\u001b[0m\u001b[0;34m.\u001b[0m\u001b[0mmerge_video_metrics\u001b[0m\u001b[0;34m(\u001b[0m\u001b[0mvideo_metrics\u001b[0m\u001b[0;34m)\u001b[0m\u001b[0;34m\u001b[0m\u001b[0m\n\u001b[0;32m---> 63\u001b[0;31m                 \u001b[0mvm_merged\u001b[0m\u001b[0;34m.\u001b[0m\u001b[0mcalc_metrics\u001b[0m\u001b[0;34m(\u001b[0m\u001b[0;34m)\u001b[0m\u001b[0;34m\u001b[0m\u001b[0m\n\u001b[0m\u001b[1;32m     64\u001b[0m                 \u001b[0mmerged_night_day_grouped_video_metrics\u001b[0m\u001b[0;34m[\u001b[0m\u001b[0mnight_day\u001b[0m\u001b[0;34m]\u001b[0m\u001b[0;34m.\u001b[0m\u001b[0mappend\u001b[0m\u001b[0;34m(\u001b[0m\u001b[0mvm_merged\u001b[0m\u001b[0;34m)\u001b[0m\u001b[0;34m\u001b[0m\u001b[0m\n\u001b[1;32m     65\u001b[0m \u001b[0;34m\u001b[0m\u001b[0m\n",
      "\u001b[0;32m/home/jack/Dev/BeeUnique/src/Processor/PathAnalysis/videometrics.pyc\u001b[0m in \u001b[0;36mcalc_metrics\u001b[0;34m(self)\u001b[0m\n\u001b[1;32m    154\u001b[0m                     \u001b[0mperimeter_distance\u001b[0m \u001b[0;34m=\u001b[0m \u001b[0mcalc_distance\u001b[0m\u001b[0;34m(\u001b[0m\u001b[0mx\u001b[0m\u001b[0;34m,\u001b[0m \u001b[0my\u001b[0m\u001b[0;34m,\u001b[0m \u001b[0mself\u001b[0m\u001b[0;34m.\u001b[0m\u001b[0mcurrent_perimeter\u001b[0m\u001b[0;34m[\u001b[0m\u001b[0;34m'start_coord'\u001b[0m\u001b[0;34m]\u001b[0m\u001b[0;34m[\u001b[0m\u001b[0;34m'x'\u001b[0m\u001b[0;34m]\u001b[0m\u001b[0;34m,\u001b[0m \u001b[0mself\u001b[0m\u001b[0;34m.\u001b[0m\u001b[0mcurrent_perimeter\u001b[0m\u001b[0;34m[\u001b[0m\u001b[0;34m'start_coord'\u001b[0m\u001b[0;34m]\u001b[0m\u001b[0;34m[\u001b[0m\u001b[0;34m'y'\u001b[0m\u001b[0;34m]\u001b[0m\u001b[0;34m)\u001b[0m\u001b[0;34m\u001b[0m\u001b[0m\n\u001b[1;32m    155\u001b[0m \u001b[0;34m\u001b[0m\u001b[0m\n\u001b[0;32m--> 156\u001b[0;31m                     \u001b[0mself\u001b[0m\u001b[0;34m.\u001b[0m\u001b[0mspeed_metrics\u001b[0m\u001b[0;34m(\u001b[0m\u001b[0mx\u001b[0m\u001b[0;34m,\u001b[0m \u001b[0my\u001b[0m\u001b[0;34m,\u001b[0m \u001b[0mwindow_distance\u001b[0m\u001b[0;34m,\u001b[0m \u001b[0mperimeter_distance\u001b[0m\u001b[0;34m)\u001b[0m\u001b[0;34m\u001b[0m\u001b[0m\n\u001b[0m\u001b[1;32m    157\u001b[0m \u001b[0;34m\u001b[0m\u001b[0m\n\u001b[1;32m    158\u001b[0m                     \u001b[0mself\u001b[0m\u001b[0;34m.\u001b[0m\u001b[0mall_distances_per_second_window\u001b[0m\u001b[0;34m.\u001b[0m\u001b[0mappend\u001b[0m\u001b[0;34m(\u001b[0m\u001b[0mwindow_distance\u001b[0m\u001b[0;34m)\u001b[0m\u001b[0;34m\u001b[0m\u001b[0m\n",
      "\u001b[0;32m/home/jack/Dev/BeeUnique/src/Processor/PathAnalysis/videometrics.pyc\u001b[0m in \u001b[0;36mspeed_metrics\u001b[0;34m(self, x, y, window_distance, perimeter_distance, end_of_path)\u001b[0m\n\u001b[1;32m    184\u001b[0m             \u001b[0;32mfor\u001b[0m \u001b[0myx\u001b[0m \u001b[0;32min\u001b[0m \u001b[0mself\u001b[0m\u001b[0;34m.\u001b[0m\u001b[0mcurrent_window\u001b[0m\u001b[0;34m[\u001b[0m\u001b[0;34m'yx_cell_coords'\u001b[0m\u001b[0;34m]\u001b[0m\u001b[0;34m:\u001b[0m\u001b[0;34m\u001b[0m\u001b[0m\n\u001b[1;32m    185\u001b[0m                 \u001b[0mself\u001b[0m\u001b[0;34m.\u001b[0m\u001b[0mcells_visited_speed_groups\u001b[0m\u001b[0;34m[\u001b[0m\u001b[0mspeed_group\u001b[0m\u001b[0;34m]\u001b[0m \u001b[0;34m=\u001b[0m \u001b[0mincrement_dict_key_value\u001b[0m\u001b[0;34m(\u001b[0m\u001b[0mself\u001b[0m\u001b[0;34m.\u001b[0m\u001b[0mcells_visited_speed_groups\u001b[0m\u001b[0;34m[\u001b[0m\u001b[0mspeed_group\u001b[0m\u001b[0;34m]\u001b[0m\u001b[0;34m,\u001b[0m \u001b[0myx\u001b[0m\u001b[0;34m)\u001b[0m\u001b[0;34m\u001b[0m\u001b[0m\n\u001b[0;32m--> 186\u001b[0;31m                 \u001b[0mself\u001b[0m\u001b[0;34m.\u001b[0m\u001b[0mcells_visited_speed_groups\u001b[0m\u001b[0;34m[\u001b[0m\u001b[0;34m'all'\u001b[0m\u001b[0;34m]\u001b[0m \u001b[0;34m=\u001b[0m \u001b[0mincrement_dict_key_value\u001b[0m\u001b[0;34m(\u001b[0m\u001b[0mself\u001b[0m\u001b[0;34m.\u001b[0m\u001b[0mcells_visited_speed_groups\u001b[0m\u001b[0;34m[\u001b[0m\u001b[0;34m'all'\u001b[0m\u001b[0;34m]\u001b[0m\u001b[0;34m,\u001b[0m \u001b[0myx\u001b[0m\u001b[0;34m)\u001b[0m\u001b[0;34m\u001b[0m\u001b[0m\n\u001b[0m\u001b[1;32m    187\u001b[0m \u001b[0;34m\u001b[0m\u001b[0m\n\u001b[1;32m    188\u001b[0m             \u001b[0mcoord_center_index\u001b[0m \u001b[0;34m=\u001b[0m \u001b[0mint\u001b[0m\u001b[0;34m(\u001b[0m\u001b[0mlen\u001b[0m\u001b[0;34m(\u001b[0m\u001b[0mself\u001b[0m\u001b[0;34m.\u001b[0m\u001b[0mcurrent_window\u001b[0m\u001b[0;34m[\u001b[0m\u001b[0;34m'coords'\u001b[0m\u001b[0;34m]\u001b[0m\u001b[0;34m)\u001b[0m \u001b[0;34m/\u001b[0m \u001b[0;36m2\u001b[0m\u001b[0;34m)\u001b[0m\u001b[0;34m\u001b[0m\u001b[0m\n",
      "\u001b[0;32m/home/jack/Dev/BeeUnique/src/Processor/Utils/imageutils.pyc\u001b[0m in \u001b[0;36mincrement_dict_key_value\u001b[0;34m(class_dict, classification, num_increment)\u001b[0m\n\u001b[1;32m     17\u001b[0m \u001b[0;34m\u001b[0m\u001b[0m\n\u001b[1;32m     18\u001b[0m \u001b[0;32mdef\u001b[0m \u001b[0mincrement_dict_key_value\u001b[0m\u001b[0;34m(\u001b[0m\u001b[0mclass_dict\u001b[0m\u001b[0;34m,\u001b[0m \u001b[0mclassification\u001b[0m\u001b[0;34m,\u001b[0m \u001b[0mnum_increment\u001b[0m\u001b[0;34m=\u001b[0m\u001b[0;36m1\u001b[0m\u001b[0;34m)\u001b[0m\u001b[0;34m:\u001b[0m\u001b[0;34m\u001b[0m\u001b[0m\n\u001b[0;32m---> 19\u001b[0;31m     \u001b[0;32mif\u001b[0m \u001b[0mclassification\u001b[0m \u001b[0;32min\u001b[0m \u001b[0mclass_dict\u001b[0m\u001b[0;34m.\u001b[0m\u001b[0mkeys\u001b[0m\u001b[0;34m(\u001b[0m\u001b[0;34m)\u001b[0m\u001b[0;34m:\u001b[0m\u001b[0;34m\u001b[0m\u001b[0m\n\u001b[0m\u001b[1;32m     20\u001b[0m         \u001b[0mclass_dict\u001b[0m\u001b[0;34m[\u001b[0m\u001b[0mclassification\u001b[0m\u001b[0;34m]\u001b[0m \u001b[0;34m+=\u001b[0m \u001b[0mnum_increment\u001b[0m\u001b[0;34m\u001b[0m\u001b[0m\n\u001b[1;32m     21\u001b[0m     \u001b[0;32melse\u001b[0m\u001b[0;34m:\u001b[0m\u001b[0;34m\u001b[0m\u001b[0m\n",
      "\u001b[0;31mKeyboardInterrupt\u001b[0m: "
     ]
    }
   ],
   "source": [
    "experiment_directory = '/home/jack/Data/Caffeine_Unique_Tags'\n",
    "\n",
    "plots_dir = create_dir_check_exists(experiment_directory, 'plots')\n",
    "path_bg_dir = create_dir_check_exists(plots_dir, 'path_bg')\n",
    "distances_per_second_window_dir = create_dir_check_exists(plots_dir, 'distances_per_second_window')\n",
    "seconds_spent_in_perimeter_dir = create_dir_check_exists(plots_dir, 'seconds_spent_in_perimeter')\n",
    "consecutive_seconds_motionless_dir = create_dir_check_exists(plots_dir, 'consecutive_seconds_motionless')\n",
    "consecutive_seconds_motionless_path_dir = create_dir_check_exists(plots_dir, 'consecutive_seconds_motionless_path')\n",
    "\n",
    "heatmaps_dir = create_dir_check_exists(plots_dir, 'heatmaps')\n",
    "pm = PathMetrics(experiment_directory)\n",
    "pm.group_bee_data_into_nights_days()\n",
    "pm.generate_night_day_bgs()"
   ]
  },
  {
   "cell_type": "code",
   "execution_count": 11,
   "metadata": {
    "collapsed": true
   },
   "outputs": [],
   "source": [
    "seconds_motionless = []\n",
    "dividing_lines = []\n",
    "\n",
    "bee = pm.tag_class_night_day_metrics[constants.QUEEN_CLASS]\n",
    "\n",
    "for i in range(len(bee['night'])):\n",
    "    night_metrics = bee['night'][i]\n",
    "    day_metrics = bee['day'][i]\n",
    "\n",
    "    for motionless_data in night_metrics.all_motionless_data:\n",
    "        seconds_motionless.append(motionless_data['seconds_motionless'])\n",
    "\n",
    "    dividing_lines.append(sum([abs(s) for s in seconds_motionless]))\n",
    "\n",
    "    for motionless_data in day_metrics.all_motionless_data:\n",
    "        seconds_motionless.append(motionless_data['seconds_motionless'])\n",
    "\n",
    "time_period_str = \"all_night_day\"\n",
    "file_name = os.path.join(consecutive_seconds_motionless_path_dir, time_period_str + '.png')\n",
    "plot_seconds_of_activity(seconds_motionless, dividing_lines, file_name)"
   ]
  },
  {
   "cell_type": "code",
   "execution_count": null,
   "metadata": {
    "collapsed": true
   },
   "outputs": [],
   "source": [
    "bee = pm.tag_class_night_day_metrics[constants.QUEEN_CLASS]\n",
    "    for night_day in bee.keys():\n",
    "        print(night_day)\n",
    "        night_or_day_count = 0\n",
    "        night_or_day_id = {'night': '_0_', 'day': '_1_'}\n",
    "        for i in range(len(bee[night_day])):\n",
    "            print(i)\n",
    "            metrics = bee[night_day][i]\n",
    "            bg_image = pm.night_day_bg_images[night_day][i]\n",
    "\n",
    "            time_period_str = str(night_or_day_count) + night_or_day_id[night_day] + night_day\n",
    "\n",
    "            '''\n",
    "            file_name = os.path.join(path_bg_dir, time_period_str + '.png')\n",
    "            plot_path_bg(metrics.x_paths, metrics.y_paths, bg_image, file_name)\n",
    "\n",
    "            file_name = os.path.join(distances_per_second_window_dir, time_period_str + '.png')\n",
    "            plot_histogram(metrics.all_distances_per_second_window, 'Distance per second', file_name)\n",
    "\n",
    "            #file_name = os.path.join(seconds_spent_in_perimeter_dir, time_period_str + '.png')\n",
    "            #plot_histogram(metrics['seconds_spent_in_perimeter'], 'Seconds spent in perimeter', file_name)\n",
    "            '''\n",
    "\n",
    "            seconds_motionless = []\n",
    "            for motionless_data in metrics.all_motionless_data:\n",
    "                seconds_motionless.append(motionless_data['seconds_motionless'])\n",
    "\n",
    "            file_name = os.path.join(consecutive_seconds_motionless_dir, time_period_str + '.png')\n",
    "            plot_histogram(seconds_motionless, 'Consecutive seconds motionless', file_name)\n",
    "\n",
    "            file_name = os.path.join(consecutive_seconds_motionless_path_dir, time_period_str + '.png')\n",
    "            #plot_line(range(len(seconds_motionless)), seconds_motionless, 'Consecutive seconds motionless', 'Seconds in paths', 'Seconds motionless', 0, constants.SECONDS_IN_45_MINS, file_name)\n",
    "\n",
    "            plot_barplot(seconds_motionless, range(len(seconds_motionless)), file_name, 'Consecutive seconds motionless', 'Seconds in time period', 'Seconds motionless', 0, constants.SECONDS_IN_45_MINS)\n",
    "\n",
    "            '''\n",
    "            for speed_group in metrics.cells_visited_speed_groups.keys():\n",
    "                speed_group_heatmap_dir = create_dir_check_exists(heatmaps_dir, speed_group)\n",
    "                file_name = os.path.join(speed_group_heatmap_dir, time_period_str)\n",
    "                all_coords_spread, class_presence_spread = pm.calc_heatmaps(metrics.cells_visited_speed_groups[speed_group], bg_image, file_name)\n",
    "            '''\n",
    "\n",
    "            night_or_day_count += 1"
   ]
  },
  {
   "cell_type": "code",
   "execution_count": null,
   "metadata": {
    "collapsed": true
   },
   "outputs": [],
   "source": [
    "def plot_barplot(list_values, list_values_names, file_name, title, xtitle, ytitle, ymin, ymax, dividing_lines=None):\n",
    "    plt.figure()\n",
    "\n",
    "    seconds = []\n",
    "    activity = []\n",
    "    for s in list_values:\n",
    "        if s < 0:\n",
    "            activity.append('royalblue')\n",
    "            seconds.append(abs(s))\n",
    "            #seconds.extend([1 for i in range(abs(s))])\n",
    "            #activity.extend(['absent' for i in range(abs(s))])\n",
    "        elif s == 0 or s == 1:\n",
    "            activity.append('k')\n",
    "            seconds.append(1)\n",
    "            #activity.append('moving')\n",
    "        else:\n",
    "            activity.append('indianred')\n",
    "            seconds.append(s)\n",
    "            #seconds.extend([1 for i in range(abs(s))])\n",
    "            #activity.extend(['motionless' for i in range(abs(s))])\n",
    "\n",
    "    seconds_index = [0]\n",
    "    for s in seconds:\n",
    "        seconds_index.append(seconds_index[-1] + s)\n",
    "    del seconds_index[-1]\n",
    "    #print(zip(seconds, seconds_index))\n",
    "    #print(len(seconds), len(seconds_index))\n",
    "\n",
    "\n",
    "    #print(min(seconds), min([1 for i in seconds]), min(range(len(seconds))), min(seconds), min(dividing_lines))\n",
    "\n",
    "    #print(len(seconds), len(range(len(seconds))), len([1 for i in seconds]))\n",
    "\n",
    "    #s2 = [float(i) / sum(seconds) * 100 for i in seconds]\n",
    "    #print(s2[0])\n",
    "    #s2[0] = 1000\n",
    "    print(seconds_index)\n",
    "    barlist = plt.bar(seconds_index, [1 for i in seconds], align='edge', color=activity) #width=seconds,\n",
    "    '''\n",
    "    for i in range(len(activity)):\n",
    "        if activity[i] == 'absent':\n",
    "            barlist[i].set_linewidth(seconds[i])\n",
    "            barlist[i].set_color('royalblue')\n",
    "        elif activity[i] == 'moving':\n",
    "            barlist[i].set_linewidth(seconds[i])\n",
    "            barlist[i].set_color('k')\n",
    "        else:\n",
    "            barlist[i].set_linewidth(seconds[i])\n",
    "            barlist[i].set_color('indianred')\n",
    "    '''\n",
    "    #if dividing_lines is not None:\n",
    "        #for xc in dividing_lines:\n",
    "            #plt.axvline(x=xc, linewidth=4, color='white')\n",
    "\n",
    "\n",
    "    #plt.bar(range(len(list_values)), list_values)\n",
    "    #plt.xticks(range(len(list_values_names)), list_values_names, rotation=90)\n",
    "    #plt.ylim(ymin, ymax)\n",
    "    plt.xlabel(xtitle)\n",
    "    plt.ylabel(ytitle)\n",
    "    plt.title(title)\n",
    "    plt.savefig(file_name, dpi=100)\n",
    "    plt.clf()\n",
    "    plt.close()"
   ]
  }
 ],
 "metadata": {
  "kernelspec": {
   "display_name": "Python 2",
   "language": "python",
   "name": "python2"
  },
  "language_info": {
   "codemirror_mode": {
    "name": "ipython",
    "version": 2
   },
   "file_extension": ".py",
   "mimetype": "text/x-python",
   "name": "python",
   "nbconvert_exporter": "python",
   "pygments_lexer": "ipython2",
   "version": "2.7.12"
  }
 },
 "nbformat": 4,
 "nbformat_minor": 2
}
