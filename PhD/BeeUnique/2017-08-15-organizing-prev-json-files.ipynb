{
 "cells": [
  {
   "cell_type": "markdown",
   "metadata": {},
   "source": [
    "# Organising previous JSON files\n",
    "- JSON files had an xy column containing dictionary values\n",
    "- Need to turn these into separate columns\n",
    "- Remove floats -> ints"
   ]
  },
  {
   "cell_type": "code",
   "execution_count": 1,
   "metadata": {},
   "outputs": [
    {
     "data": {
      "application/json": {
       "Software versions": [
        {
         "module": "Python",
         "version": "2.7.12 64bit [GCC 5.4.0 20160609]"
        },
        {
         "module": "IPython",
         "version": "5.4.1"
        },
        {
         "module": "OS",
         "version": "Linux 4.10.0 32 generic x86_64 with Ubuntu 16.04 xenial"
        },
        {
         "module": "numpy",
         "version": "1.13.1"
        },
        {
         "module": "scipy",
         "version": "0.19.1"
        },
        {
         "module": "matplotlib",
         "version": "2.0.2"
        },
        {
         "module": "pandas",
         "version": "0.20.3"
        }
       ]
      },
      "text/html": [
       "<table><tr><th>Software</th><th>Version</th></tr><tr><td>Python</td><td>2.7.12 64bit [GCC 5.4.0 20160609]</td></tr><tr><td>IPython</td><td>5.4.1</td></tr><tr><td>OS</td><td>Linux 4.10.0 32 generic x86_64 with Ubuntu 16.04 xenial</td></tr><tr><td>numpy</td><td>1.13.1</td></tr><tr><td>scipy</td><td>0.19.1</td></tr><tr><td>matplotlib</td><td>2.0.2</td></tr><tr><td>pandas</td><td>0.20.3</td></tr><tr><td colspan='2'>Sun Aug 20 15:58:11 2017 AEST</td></tr></table>"
      ],
      "text/latex": [
       "\\begin{tabular}{|l|l|}\\hline\n",
       "{\\bf Software} & {\\bf Version} \\\\ \\hline\\hline\n",
       "Python & 2.7.12 64bit [GCC 5.4.0 20160609] \\\\ \\hline\n",
       "IPython & 5.4.1 \\\\ \\hline\n",
       "OS & Linux 4.10.0 32 generic x86\\_64 with Ubuntu 16.04 xenial \\\\ \\hline\n",
       "numpy & 1.13.1 \\\\ \\hline\n",
       "scipy & 0.19.1 \\\\ \\hline\n",
       "matplotlib & 2.0.2 \\\\ \\hline\n",
       "pandas & 0.20.3 \\\\ \\hline\n",
       "\\hline \\multicolumn{2}{|l|}{Sun Aug 20 15:58:11 2017 AEST} \\\\ \\hline\n",
       "\\end{tabular}\n"
      ],
      "text/plain": [
       "Software versions\n",
       "Python 2.7.12 64bit [GCC 5.4.0 20160609]\n",
       "IPython 5.4.1\n",
       "OS Linux 4.10.0 32 generic x86_64 with Ubuntu 16.04 xenial\n",
       "numpy 1.13.1\n",
       "scipy 0.19.1\n",
       "matplotlib 2.0.2\n",
       "pandas 0.20.3\n",
       "Sun Aug 20 15:58:11 2017 AEST"
      ]
     },
     "execution_count": 1,
     "metadata": {},
     "output_type": "execute_result"
    }
   ],
   "source": [
    "%matplotlib inline\n",
    "#from pylab import rcParams\n",
    "#rcParams['figure.figsize'] = 12, 8\n",
    "\n",
    "%load_ext autoreload\n",
    "%autoreload 2\n",
    "\n",
    "%load_ext version_information\n",
    "%version_information numpy, scipy, matplotlib, pandas"
   ]
  },
  {
   "cell_type": "code",
   "execution_count": 2,
   "metadata": {
    "collapsed": true
   },
   "outputs": [],
   "source": [
    "import glob\n",
    "import pandas as pd\n",
    "import os\n",
    "import multiprocessing\n",
    "import json"
   ]
  },
  {
   "cell_type": "code",
   "execution_count": 3,
   "metadata": {
    "collapsed": true
   },
   "outputs": [],
   "source": [
    "def read_coordinates_file(coord_file_path):\n",
    "    file_extension = coord_file_path.split('.')[-1]\n",
    "    if file_extension == 'csv':\n",
    "        df = pd.read_csv(coord_file_path)\n",
    "    elif file_extension == 'json':\n",
    "        df = pd.read_json(coord_file_path)\n",
    "    else:\n",
    "        print('Unknown coordinate file type')\n",
    "        sys.exit(0)\n",
    "        \n",
    "    # turn coordinate column into x,y dictionary\n",
    "    df['xy'] = df['xy'].apply(lambda x: eval(str(x)))\n",
    "\n",
    "    return df\n",
    "\n",
    "def get_video_filename(video_path):\n",
    "    head, tail = os.path.split(video_path)\n",
    "    str_date_time = os.path.splitext(tail)[0]\n",
    "    return str_date_time"
   ]
  },
  {
   "cell_type": "code",
   "execution_count": 4,
   "metadata": {
    "collapsed": true
   },
   "outputs": [],
   "source": [
    "def convert_json_files(json_file_path):\n",
    "    video_filename = get_video_filename(json_file_path)\n",
    "    new_json_filename = '/home/jack/Data/Caffeine_Unique_Tags/raw/' + video_filename + '.json'\n",
    "    \n",
    "    df = read_coordinates_file(json_file_path)\n",
    "    \n",
    "    df = df.sort_values('frame_nums', ascending=True)\n",
    "    \n",
    "    xy_list = df['xy'].tolist()\n",
    "    x = []\n",
    "    y = []\n",
    "    for xy in xy_list:\n",
    "        x.append(int(xy['x']))\n",
    "        y.append(int(xy['y']))\n",
    "        \n",
    "    del df['xy']\n",
    "    df['x'] = x\n",
    "    df['y'] = y\n",
    "    \n",
    "    df.to_json(new_json_filename, orient='records')"
   ]
  },
  {
   "cell_type": "code",
   "execution_count": 5,
   "metadata": {},
   "outputs": [
    {
     "name": "stdout",
     "output_type": "stream",
     "text": [
      "(351, '/media/jack/JSIMPSON/1b/json/2017-02-14_23-32-00.json')\n",
      "(32, '/media/jack/JSIMPSON/1b/json/2017-02-17_20-32-46.json')\n"
     ]
    }
   ],
   "source": [
    "json_file_list = glob.glob('/media/jack/JSIMPSON/1b/json/*.json')\n",
    "print(len(json_file_list), json_file_list[0])\n",
    "\n",
    "unprocessed_json_file_list = []\n",
    "for j in json_file_list:\n",
    "    video_filename = get_video_filename(j)\n",
    "    new_json_filename = '/media/jack/JSIMPSON/1b/new_json/' + video_filename + '.json'\n",
    "    if not os.path.exists(new_json_filename):\n",
    "        unprocessed_json_file_list.append(j)\n",
    "\n",
    "print(len(unprocessed_json_file_list), unprocessed_json_file_list[0])"
   ]
  },
  {
   "cell_type": "code",
   "execution_count": 6,
   "metadata": {
    "collapsed": true
   },
   "outputs": [],
   "source": [
    "# some json files too big for this\n",
    "#processes = multiprocessing.Pool(processes=4)\n",
    "#frame_data_list = processes.map(func=convert_json_files, iterable=json_file_list, chunksize=1)"
   ]
  },
  {
   "cell_type": "code",
   "execution_count": 7,
   "metadata": {},
   "outputs": [
    {
     "name": "stdout",
     "output_type": "stream",
     "text": [
      "/media/jack/JSIMPSON/1b/json/2017-02-17_20-32-46.json\n",
      "/media/jack/JSIMPSON/1b/json/2017-02-17_23-32-47.json\n",
      "/media/jack/JSIMPSON/1b/json/2017-02-18_00-32-50.json\n",
      "/media/jack/JSIMPSON/1b/json/2017-02-18_01-32-49.json\n",
      "/media/jack/JSIMPSON/1b/json/2017-02-18_02-32-49.json\n",
      "/media/jack/JSIMPSON/1b/json/2017-02-18_07-32-56.json\n",
      "/media/jack/JSIMPSON/1b/json/2017-02-18_08-32-57.json\n",
      "/media/jack/JSIMPSON/1b/json/2017-02-18_09-32-56.json\n",
      "/media/jack/JSIMPSON/1b/json/2017-02-18_10-32-58.json\n",
      "/media/jack/JSIMPSON/1b/json/2017-02-18_11-32-58.json\n",
      "/media/jack/JSIMPSON/1b/json/2017-02-18_16-33-06.json\n",
      "/media/jack/JSIMPSON/1b/json/2017-02-18_17-33-07.json\n",
      "/media/jack/JSIMPSON/1b/json/2017-02-18_18-33-05.json\n",
      "/media/jack/JSIMPSON/1b/json/2017-02-18_22-33-08.json\n",
      "/media/jack/JSIMPSON/1b/json/2017-02-19_22-33-42.json\n",
      "/media/jack/JSIMPSON/1b/json/2017-02-20_02-33-42.json\n",
      "/media/jack/JSIMPSON/1b/json/2017-02-20_09-33-44.json\n",
      "/media/jack/JSIMPSON/1b/json/2017-02-20_10-33-44.json\n",
      "/media/jack/JSIMPSON/1b/json/2017-02-20_16-33-47.json\n",
      "/media/jack/JSIMPSON/1b/json/2017-02-20_17-33-51.json\n",
      "/media/jack/JSIMPSON/1b/json/2017-02-20_19-33-47.json\n",
      "/media/jack/JSIMPSON/1b/json/2017-02-21_12-33-52.json\n",
      "/media/jack/JSIMPSON/1b/json/2017-02-24_11-34-19.json\n",
      "/media/jack/JSIMPSON/1b/json/2017-02-24_12-34-22.json\n",
      "/media/jack/JSIMPSON/1b/json/2017-02-24_13-34-20.json\n",
      "/media/jack/JSIMPSON/1b/json/2017-02-24_15-34-21.json\n",
      "/media/jack/JSIMPSON/1b/json/2017-02-24_16-34-22.json\n",
      "/media/jack/JSIMPSON/1b/json/2017-02-24_17-34-23.json\n",
      "/media/jack/JSIMPSON/1b/json/2017-02-24_18-34-23.json\n",
      "/media/jack/JSIMPSON/1b/json/2017-02-24_19-34-26.json\n",
      "/media/jack/JSIMPSON/1b/json/2017-02-24_20-34-27.json\n",
      "/media/jack/JSIMPSON/1b/json/2017-02-24_20-41-17.json\n"
     ]
    }
   ],
   "source": [
    "for f in unprocessed_json_file_list:\n",
    "    print(f)\n",
    "    convert_json_files(f)"
   ]
  },
  {
   "cell_type": "code",
   "execution_count": null,
   "metadata": {
    "collapsed": true
   },
   "outputs": [],
   "source": []
  }
 ],
 "metadata": {
  "kernelspec": {
   "display_name": "Python 2",
   "language": "python",
   "name": "python2"
  },
  "language_info": {
   "codemirror_mode": {
    "name": "ipython",
    "version": 2
   },
   "file_extension": ".py",
   "mimetype": "text/x-python",
   "name": "python",
   "nbconvert_exporter": "python",
   "pygments_lexer": "ipython2",
   "version": "2.7.12"
  }
 },
 "nbformat": 4,
 "nbformat_minor": 2
}
