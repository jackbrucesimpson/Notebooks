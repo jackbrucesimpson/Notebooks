{
 "cells": [
  {
   "cell_type": "markdown",
   "metadata": {},
   "source": [
    "# Bug in path processing\n",
    "## Breaking changes in upstream analysis\n",
    "- Index out of range when processing CSV file\n",
    "- Using notebook to work out where the problem is coming from"
   ]
  },
  {
   "cell_type": "code",
   "execution_count": 1,
   "metadata": {},
   "outputs": [
    {
     "data": {
      "application/json": {
       "Software versions": [
        {
         "module": "Python",
         "version": "2.7.13 64bit [GCC 4.2.1 Compatible Apple LLVM 8.1.0 (clang-802.0.42)]"
        },
        {
         "module": "IPython",
         "version": "5.4.1"
        },
        {
         "module": "OS",
         "version": "Darwin 16.7.0 x86_64 i386 64bit"
        },
        {
         "module": "numpy",
         "version": "1.13.1"
        },
        {
         "module": "scipy",
         "version": "0.19.1"
        },
        {
         "module": "matplotlib",
         "version": "2.0.2"
        },
        {
         "module": "pandas",
         "version": "0.20.3"
        }
       ]
      },
      "text/html": [
       "<table><tr><th>Software</th><th>Version</th></tr><tr><td>Python</td><td>2.7.13 64bit [GCC 4.2.1 Compatible Apple LLVM 8.1.0 (clang-802.0.42)]</td></tr><tr><td>IPython</td><td>5.4.1</td></tr><tr><td>OS</td><td>Darwin 16.7.0 x86_64 i386 64bit</td></tr><tr><td>numpy</td><td>1.13.1</td></tr><tr><td>scipy</td><td>0.19.1</td></tr><tr><td>matplotlib</td><td>2.0.2</td></tr><tr><td>pandas</td><td>0.20.3</td></tr><tr><td colspan='2'>Fri Aug 18 11:45:20 2017 AEST</td></tr></table>"
      ],
      "text/latex": [
       "\\begin{tabular}{|l|l|}\\hline\n",
       "{\\bf Software} & {\\bf Version} \\\\ \\hline\\hline\n",
       "Python & 2.7.13 64bit [GCC 4.2.1 Compatible Apple LLVM 8.1.0 (clang-802.0.42)] \\\\ \\hline\n",
       "IPython & 5.4.1 \\\\ \\hline\n",
       "OS & Darwin 16.7.0 x86\\_64 i386 64bit \\\\ \\hline\n",
       "numpy & 1.13.1 \\\\ \\hline\n",
       "scipy & 0.19.1 \\\\ \\hline\n",
       "matplotlib & 2.0.2 \\\\ \\hline\n",
       "pandas & 0.20.3 \\\\ \\hline\n",
       "\\hline \\multicolumn{2}{|l|}{Fri Aug 18 11:45:20 2017 AEST} \\\\ \\hline\n",
       "\\end{tabular}\n"
      ],
      "text/plain": [
       "Software versions\n",
       "Python 2.7.13 64bit [GCC 4.2.1 Compatible Apple LLVM 8.1.0 (clang-802.0.42)]\n",
       "IPython 5.4.1\n",
       "OS Darwin 16.7.0 x86_64 i386 64bit\n",
       "numpy 1.13.1\n",
       "scipy 0.19.1\n",
       "matplotlib 2.0.2\n",
       "pandas 0.20.3\n",
       "Fri Aug 18 11:45:20 2017 AEST"
      ]
     },
     "execution_count": 1,
     "metadata": {},
     "output_type": "execute_result"
    }
   ],
   "source": [
    "%matplotlib inline\n",
    "#from pylab import rcParams\n",
    "#rcParams['figure.figsize'] = 12, 8\n",
    "\n",
    "%load_ext autoreload\n",
    "%autoreload 2\n",
    "\n",
    "%load_ext version_information\n",
    "%version_information numpy, scipy, matplotlib, pandas"
   ]
  },
  {
   "cell_type": "code",
   "execution_count": 2,
   "metadata": {
    "collapsed": true
   },
   "outputs": [],
   "source": [
    "import matplotlib.pyplot as plt\n",
    "import matplotlib.cm as cm\n",
    "import numpy as np\n",
    "import cv2\n",
    "import pandas as pd\n",
    "import uuid\n",
    "\n",
    "import os\n",
    "import sys\n",
    "\n",
    "sys.path.append(\"../src\")\n",
    "\n",
    "np.random.seed(0)\n",
    "\n",
    "def view(image):\n",
    "    plt.figure()\n",
    "    plt.axis('off')\n",
    "    plt.imshow(image, cmap = cm.Greys_r)"
   ]
  },
  {
   "cell_type": "code",
   "execution_count": 5,
   "metadata": {},
   "outputs": [
    {
     "name": "stdout",
     "output_type": "stream",
     "text": [
      "CPU times: user 10.9 s, sys: 1.08 s, total: 12 s\n",
      "Wall time: 12 s\n"
     ]
    }
   ],
   "source": [
    "df = pd.read_json('t.json')\n",
    "#df = df.sort_values('frame_nums', ascending=True)\n",
    "df.head(n=10)"
   ]
  },
  {
   "cell_type": "code",
   "execution_count": 7,
   "metadata": {},
   "outputs": [
    {
     "data": {
      "text/plain": [
       "list"
      ]
     },
     "execution_count": 7,
     "metadata": {},
     "output_type": "execute_result"
    }
   ],
   "source": [
    "type(df['flattened_28x28_tag_matrices'][0])"
   ]
  },
  {
   "cell_type": "code",
   "execution_count": 8,
   "metadata": {
    "collapsed": true
   },
   "outputs": [],
   "source": [
    "tag_class_names = {0: 'CircleLine', 1: 'Leaf', 2: 'Note1', 3: 'Unknown', 4: 'DD', 5: 'Peace', 6: 'Question', 7: 'Pillars', 8: 'HH', 9: 'Ampersand', 10: 'PP', 11: 'Hash', 12: 'Power', 13: 'Ankh', 14: 'TT', 15: 'Trident', 16: 'Asterisk', 17: '4', 18: 'Lines3', 19: '1', 20: '0', 21: '3', 22: 'Plane', 23: '5', 24: 'CircleHalf', 25: '7', 26: 'Sun', 27: '8', 28: 'Omega', 29: 'ArrowHollow', 30: 'AA', 31: 'Note2', 32: 'Radioactive', 33: 'EE', 34: 'UU', 35: '6', 36: 'Plant', 37: 'GG', 38: 'XX', 39: 'ZZ', 40: 'Necklace', 41: 'Umbrella', 42: 'Triangle', 43: 'Dot', 44: 'a', 45: 'Heart', 46: 'e', 47: 'RR', 48: 'KK', 49: 'h', 50: 'Queen', 51: 'Tadpole', 52: 'n', 53: 'MM', 54: '2', 55: 'r', 56: 'ArrowLine', 57: 'y', 58: 'Scissors', 59: 'CircleCross'}\n",
    "\n",
    "unknown_class_num = None\n",
    "for tag_class in tag_class_names:\n",
    "    if tag_class_names[tag_class] == 'Unknown':\n",
    "        unknown_class_num = tag_class\n",
    "\n",
    "UNKNOWN_CLASS = unknown_class_num\n",
    "MIXED_CLASS = 'mixed'\n",
    "GAP_CLASS = 'gap'\n",
    "MAX_FRAME_GAP_BETWEEN_PATHS = 10\n",
    "NUM_GROUP_CLASSIFICATIONS = 40\n",
    "MIN_NUM_CLASSIFIED_GROUP = 10\n",
    "NUM_GROUPS_IN_SECTION = 5\n",
    "CLASS_CONF_THRESH = 0.6\n",
    "NUM_UNKNOWNS_IN_PATH_THRESHOLD = 0"
   ]
  },
  {
   "cell_type": "code",
   "execution_count": 11,
   "metadata": {
    "collapsed": true
   },
   "outputs": [],
   "source": [
    "def increment_dict_key_value(class_dict, classification, num_increment=1):\n",
    "    if classification in class_dict.keys():\n",
    "        class_dict[classification] += num_increment\n",
    "    else:\n",
    "        class_dict[classification] = num_increment\n",
    "    return class_dict"
   ]
  },
  {
   "cell_type": "code",
   "execution_count": 100,
   "metadata": {
    "collapsed": true
   },
   "outputs": [],
   "source": [
    "class BeeData:\n",
    "\n",
    "    bee_id = 0\n",
    "\n",
    "    def __init__(self, classification):\n",
    "\n",
    "        self.start_frame_num_all_paths = []\n",
    "        self.list_of_all_x_paths = []\n",
    "        self.list_of_all_y_paths = []\n",
    "\n",
    "        self.consensus_grouped_classifications = []\n",
    "        self.num_classifications_in_group = 0\n",
    "\n",
    "        self.class_counts_path = {UNKNOWN_CLASS: 0, GAP_CLASS: 0}\n",
    "        self.add_classification(classification)\n",
    "\n",
    "    def get_most_freq_class_pred(self, section_classifications):\n",
    "        num_classifications = len(section_classifications)\n",
    "        num_mixed = section_classifications.count(MIXED_CLASS)\n",
    "        num_unknown = section_classifications.count(UNKNOWN_CLASS)\n",
    "        num_mixed_unknown = num_mixed + num_unknown\n",
    "        num_known = num_classifications - num_mixed_unknown\n",
    "\n",
    "        if num_classifications < 2:\n",
    "            return UNKNOWN_CLASS\n",
    "        elif num_mixed > 1:\n",
    "            return MIXED_CLASS\n",
    "        elif num_mixed_unknown > 2:\n",
    "            return UNKNOWN_CLASS\n",
    "        elif num_known <= num_mixed_unknown:\n",
    "            return UNKNOWN_CLASS\n",
    "        else:\n",
    "            section_count_dict = {MIXED_CLASS: 0, UNKNOWN_CLASS: 0}\n",
    "            for classification in section_classifications:\n",
    "                section_count_dict = increment_dict_key_value(section_count_dict, classification)\n",
    "\n",
    "            del section_count_dict[MIXED_CLASS]\n",
    "            del section_count_dict[UNKNOWN_CLASS]\n",
    "\n",
    "            percent_section_count_dict = {c: float(section_count_dict[c]) / num_known for c in section_count_dict}\n",
    "            most_freq_class_pred = max(section_count_dict, key=section_count_dict.get)\n",
    "\n",
    "            if percent_section_count_dict[most_freq_class_pred] > 0.5:\n",
    "                return most_freq_class_pred\n",
    "            else:\n",
    "                return MIXED_CLASS\n",
    "\n",
    "    def add_classification(self, classification):\n",
    "        self.num_classifications_in_group += 1\n",
    "        self.class_counts_path = increment_dict_key_value(self.class_counts_path, classification)\n",
    "\n",
    "        if self.num_classifications_in_group == NUM_GROUP_CLASSIFICATIONS:\n",
    "            self.identify_freq_class_path_group()\n",
    "            self.num_classifications_in_group = 0\n",
    "\n",
    "    def identify_freq_class_path_group(self):\n",
    "        num_unknown_gaps_classified = self.class_counts_path[UNKNOWN_CLASS] + self.class_counts_path[GAP_CLASS]\n",
    "        num_remaining_classified = self.num_classifications_in_group - num_unknown_gaps_classified\n",
    "        if self.num_classifications_in_group < MIN_NUM_CLASSIFIED_GROUP or num_remaining_classified < MIN_NUM_CLASSIFIED_GROUP:\n",
    "            self.consensus_grouped_classifications.append(UNKNOWN_CLASS)\n",
    "        else:\n",
    "            del self.class_counts_path[UNKNOWN_CLASS]\n",
    "            del self.class_counts_path[GAP_CLASS]\n",
    "            percent_class_counts_path = {c: float(self.class_counts_path[c]) / num_remaining_classified for c in self.class_counts_path}\n",
    "            most_freq_class_pred = max(percent_class_counts_path, key=percent_class_counts_path.get)\n",
    "            if percent_class_counts_path[most_freq_class_pred] > CLASS_CONF_THRESH:\n",
    "                self.consensus_grouped_classifications.append(most_freq_class_pred)\n",
    "            else:\n",
    "                self.consensus_grouped_classifications.append(MIXED_CLASS)\n",
    "\n",
    "        self.current_group_tags = []\n",
    "        self.class_counts_path = {UNKNOWN_CLASS: 0, GAP_CLASS: 0}\n",
    "\n",
    "    def identify_uncertain_region(self, list_classifications):\n",
    "        is_uncertain_region = False\n",
    "        num_mixed = list_classifications.count(MIXED_CLASS)\n",
    "        num_unknown = list_classifications.count(UNKNOWN_CLASS)\n",
    "        if num_mixed > 1 or num_unknown > 3 or num_mixed + num_unknown > 3:\n",
    "            is_uncertain_region = True\n",
    "        return is_uncertain_region\n",
    "\n",
    "\n",
    "    def get_index_prev_class(self, current_path_index, current_section_pred, classifications_list):\n",
    "        while True:\n",
    "            if current_section_pred != classifications_list[current_path_index]:\n",
    "                return current_path_index\n",
    "            else:\n",
    "                current_path_index -= 1\n",
    "\n",
    "    def merge_group_classifications_into_sections(self):\n",
    "        num_grouped_classifications = len(self.consensus_grouped_classifications)\n",
    "        num_concurrent_mixed = 0\n",
    "        num_concurrent_unknown = 0\n",
    "        is_unknown_path_section = False\n",
    "        self.class_path_end_index = []\n",
    "        self.classes_in_path = []\n",
    "        prev_classification = None\n",
    "        \n",
    "        #print(num_grouped_classifications, 'a1')\n",
    "\n",
    "        for i in range(0, num_grouped_classifications, NUM_GROUPS_IN_SECTION):\n",
    "            current_section = self.consensus_grouped_classifications[i:i+NUM_GROUPS_IN_SECTION]\n",
    "            current_section_pred = self.get_most_freq_class_pred(current_section)\n",
    "\n",
    "            if current_section_pred == MIXED_CLASS:\n",
    "                num_concurrent_mixed += 1\n",
    "            elif current_section_pred == UNKNOWN_CLASS:\n",
    "                num_concurrent_unknown += 1\n",
    "            else:\n",
    "                num_concurrent_mixed_unknown = num_concurrent_mixed + num_concurrent_unknown\n",
    "                current_prev_pred_same = current_section_pred == prev_classification\n",
    "                \n",
    "                #print(num_concurrent_mixed_unknown, current_prev_pred_same, prev_classification)\n",
    "\n",
    "                if current_prev_pred_same:\n",
    "                    if num_concurrent_mixed > 2 or num_concurrent_mixed_unknown > 6:\n",
    "                        is_unknown_path_section = True\n",
    "                else:\n",
    "                    if num_concurrent_mixed > 1 or num_concurrent_mixed_unknown > 3:\n",
    "                        is_unknown_path_section = True\n",
    "\n",
    "                if is_unknown_path_section and prev_classification is None:\n",
    "                    prev_classification = UNKNOWN_CLASS\n",
    "\n",
    "                if prev_classification is None:\n",
    "                    prev_classification = current_section_pred\n",
    "                    current_prev_pred_same = True\n",
    "\n",
    "                if not current_prev_pred_same or is_unknown_path_section:\n",
    "                    # covers case where there's gap or new class\n",
    "                    prev_class_index = self.get_index_prev_class(i,  current_section_pred, self.consensus_grouped_classifications)\n",
    "                    self.class_path_end_index.append(prev_class_index * NUM_GROUP_CLASSIFICATIONS)\n",
    "                    if is_unknown_path_section:\n",
    "                        self.classes_in_path.append(UNKNOWN_CLASS)\n",
    "                    else:\n",
    "                        self.classes_in_path.append(prev_classification)\n",
    "\n",
    "                prev_classification = current_section_pred\n",
    "                num_concurrent_mixed = 0\n",
    "                num_concurrent_unknown = 0\n",
    "                is_unknown_path_section = False\n",
    "        \n",
    "        #print(num_concurrent_mixed_unknown, current_prev_pred_same, prev_classification)\n",
    "        \n",
    "        num_concurrent_mixed_unknown = num_concurrent_mixed + num_concurrent_unknown\n",
    "        if prev_classification is None:\n",
    "            self.classes_in_path.append(UNKNOWN_CLASS)\n",
    "            self.class_path_end_index.append(num_grouped_classifications * NUM_GROUP_CLASSIFICATIONS)\n",
    "        elif num_concurrent_mixed_unknown == 0 or num_concurrent_mixed < 3 and num_concurrent_mixed_unknown < 7:\n",
    "            #print('abc', self.classes_in_path, self.class_path_end_index)\n",
    "            self.classes_in_path.append(prev_classification)\n",
    "            self.class_path_end_index.append(num_grouped_classifications * NUM_GROUP_CLASSIFICATIONS)\n",
    "            #print('abc', self.classes_in_path, self.class_path_end_index)\n",
    "        else:\n",
    "            final_section = self.consensus_grouped_classifications[num_grouped_classifications-(num_concurrent_mixed_unknown*NUM_GROUPS_IN_SECTION):num_grouped_classifications]\n",
    "            current_section_pred = self.get_most_freq_class_pred(final_section)\n",
    "            prev_class_index = self.get_index_prev_class(num_grouped_classifications-1,  current_section_pred, self.consensus_grouped_classifications)\n",
    "            self.class_path_end_index.append(prev_class_index * NUM_GROUP_CLASSIFICATIONS)\n",
    "            self.classes_in_path.append(prev_classification)\n",
    "\n",
    "            self.class_path_end_index.append(num_grouped_classifications * NUM_GROUP_CLASSIFICATIONS)\n",
    "            self.classes_in_path.append(UNKNOWN_CLASS)\n",
    "            \n",
    "        #print(self.class_path_end_index, self.classes_in_path)\n",
    "\n",
    "    def gen_separate_tag_class_bees(self):\n",
    "        num_coords = 0\n",
    "        path_class_index = 0\n",
    "        bee_paths_index_starts = 0\n",
    "        bee_tags_in_path = []\n",
    "\n",
    "        class_x_path_coords = None\n",
    "        class_y_path_coords = None\n",
    "        class_path_start_frame_num = None\n",
    "\n",
    "        list_class_x_path_coords = []\n",
    "        list_class_y_path_coords = []\n",
    "        list_class_path_start_frame_nums = []\n",
    "        \n",
    "        #print(len(self.list_of_all_x_paths), len(self.list_of_all_y_paths), len(self.class_path_end_index))\n",
    "       \n",
    "        #print(sum( [len(x) for x in self.list_of_all_x_paths]))\n",
    "\n",
    "        for paths_index in range(len(self.list_of_all_x_paths)):\n",
    "            class_x_path_coords = self.list_of_all_x_paths[paths_index]\n",
    "            class_y_path_coords = self.list_of_all_y_paths[paths_index]\n",
    "            class_path_start_frame_num = self.start_frame_num_all_paths[paths_index]\n",
    "            for coord_index in range(len(self.list_of_all_x_paths[paths_index])):\n",
    "                if num_coords > self.class_path_end_index[path_class_index]:\n",
    "                    #print(num_coords)\n",
    "                    #print(len(self.list_of_all_x_paths))\n",
    "                    list_class_x_path_coords.append(class_x_path_coords[:coord_index])\n",
    "                    list_class_y_path_coords.append(class_y_path_coords[:coord_index])\n",
    "                    list_class_path_start_frame_nums.append(class_path_start_frame_num)\n",
    "                    bee_tag_data = {'bee_id': self.bee_id, 'tag_class': self.classes_in_path[path_class_index], 'x_paths': list_class_x_path_coords, 'y_paths': list_class_y_path_coords, 'start_frame_nums': list_class_path_start_frame_nums}\n",
    "                    self.bee_id += 1\n",
    "                    bee_tags_in_path.append(bee_tag_data)\n",
    "\n",
    "                    class_path_start_frame_num += coord_index\n",
    "                    class_x_path_coords = class_x_path_coords[coord_index:]\n",
    "                    class_y_path_coords = class_y_path_coords[coord_index:]\n",
    "                    list_class_x_path_coords = []\n",
    "                    list_class_y_path_coords = []\n",
    "                    list_class_path_start_frame_nums = []\n",
    "\n",
    "                    path_class_index += 1\n",
    "\n",
    "                num_coords += 1\n",
    "\n",
    "            list_class_x_path_coords.append(class_x_path_coords)\n",
    "            list_class_y_path_coords.append(class_y_path_coords)\n",
    "            list_class_path_start_frame_nums.append(class_path_start_frame_num)\n",
    "\n",
    "        bee_tag_data = {'bee_id': self.bee_id, 'tag_class': self.classes_in_path[path_class_index], 'x_paths': list_class_x_path_coords, 'y_paths': list_class_y_path_coords, 'start_frame_nums': list_class_path_start_frame_nums}\n",
    "        self.bee_id += 1\n",
    "        bee_tags_in_path.append(bee_tag_data)\n",
    "\n",
    "        return bee_tags_in_path\n"
   ]
  },
  {
   "cell_type": "code",
   "execution_count": 104,
   "metadata": {
    "collapsed": true
   },
   "outputs": [],
   "source": [
    "class ProcessPaths:\n",
    "\n",
    "    def __init__(self):\n",
    "        pass\n",
    "\n",
    "    def gen_gap_coords(self, x1, y1, x2, y2, difference_prev_frame):\n",
    "        x_diff_per_frame = (x2 - x1) / float(difference_prev_frame)\n",
    "        y_diff_per_frame = (y2 - y1) / float(difference_prev_frame)\n",
    "\n",
    "        gap_coords = {'x': [], 'y': []}\n",
    "        for gap in range(1, difference_prev_frame + 1):\n",
    "            x_gap_coord = x2 - x_diff_per_frame * gap\n",
    "            y_gap_coord = y2 - y_diff_per_frame * gap\n",
    "            gap_coords['x'].append(x_gap_coord)\n",
    "            gap_coords['y'].append(y_gap_coord)\n",
    "\n",
    "        return gap_coords\n",
    "\n",
    "    def get_class_num_frames_tracked(self, bee_tags_in_path):\n",
    "        path_class_frames_tracked_list = []\n",
    "        for bee in bee_tags_in_path:\n",
    "            tag_class = bee['tag_class']\n",
    "            num_frames_tracked = 0\n",
    "            for path_index in range(len(bee['x_paths'])):\n",
    "                num_frames_tracked += len(bee['x_paths'][path_index])\n",
    "            path_class_frames_tracked_list.append({'tag_class': tag_class, 'num_frames_tracked': num_frames_tracked})\n",
    "\n",
    "            return path_class_frames_tracked_list\n",
    "\n",
    "    def process_paths(self, bee_df):\n",
    "        x_list = bee_df['x'].tolist()\n",
    "        y_list = bee_df['y'].tolist()\n",
    "        frame_nums_list = bee_df['frame_nums'].tolist()\n",
    "        classifications_list = bee_df['classifications'].tolist()\n",
    "\n",
    "        bee_data = BeeData(classifications_list[0])\n",
    "        path_frame_num_start = frame_nums_list[0]\n",
    "        path_frame_num_end = frame_nums_list[0]\n",
    "        x_path = [x_list[0]]\n",
    "        y_path = [y_list[0]]\n",
    "    \n",
    "        print(len(x_list))\n",
    "        for i in range(1, len(x_list)):\n",
    "            difference_prev_frame = frame_nums_list[i] - path_frame_num_end\n",
    "\n",
    "            if difference_prev_frame == 1:\n",
    "                path_frame_num_end = frame_nums_list[i]\n",
    "                x_path.append(x_list[i])\n",
    "                y_path.append(y_list[i])\n",
    "                bee_data.add_classification(classifications_list[i])\n",
    "\n",
    "            elif difference_prev_frame < MAX_FRAME_GAP_BETWEEN_PATHS:\n",
    "                path_frame_num_end = frame_nums_list[i]\n",
    "                generated_coord_gaps = self.gen_gap_coords(x_list[i], y_list[i], x_list[i-1], y_list[i-1], difference_prev_frame)\n",
    "                fill_path_classifications_gap = [GAP_CLASS] * len(generated_coord_gaps)\n",
    "                fill_path_classifications_gap[-1] = classifications_list[i]\n",
    "                x_path.extend(generated_coord_gaps['x'])\n",
    "                y_path.extend(generated_coord_gaps['y'])\n",
    "\n",
    "                for gap_classification in fill_path_classifications_gap:\n",
    "                    bee_data.add_classification(gap_classification)\n",
    "            else:\n",
    "                bee_data.list_of_all_x_paths.append(x_path)\n",
    "                bee_data.list_of_all_y_paths.append(y_path)\n",
    "                bee_data.start_frame_num_all_paths.append(path_frame_num_start)\n",
    "                x_path = [x_list[i]]\n",
    "                y_path = [y_list[i]]\n",
    "                path_frame_num_start = frame_nums_list[i]\n",
    "                path_frame_num_end = frame_nums_list[i]\n",
    "\n",
    "                bee_data.add_classification(classifications_list[i])\n",
    "\n",
    "        if len(x_path) > 0:\n",
    "            #print(len(x_path))\n",
    "            bee_data.list_of_all_x_paths.append(x_path)\n",
    "            bee_data.list_of_all_y_paths.append(y_path)\n",
    "            bee_data.start_frame_num_all_paths.append(path_frame_num_start)\n",
    "            bee_data.identify_freq_class_path_group()\n",
    "            \n",
    "        bee_data.merge_group_classifications_into_sections()\n",
    "        bees_identified_by_tag = bee_data.gen_separate_tag_class_bees()\n",
    "\n",
    "        return bees_identified_by_tag"
   ]
  },
  {
   "cell_type": "code",
   "execution_count": 105,
   "metadata": {},
   "outputs": [
    {
     "name": "stdout",
     "output_type": "stream",
     "text": [
      "442\n",
      "(12, 'a1')\n",
      "(0, False, None)\n",
      "(0, True, 54)\n",
      "(0, True, 54)\n",
      "('abc', [], [])\n",
      "('abc', [54], [480])\n",
      "522\n"
     ]
    },
    {
     "ename": "IndexError",
     "evalue": "list index out of range",
     "output_type": "error",
     "traceback": [
      "\u001b[0;31m---------------------------------------------------------------------------\u001b[0m",
      "\u001b[0;31mIndexError\u001b[0m                                Traceback (most recent call last)",
      "\u001b[0;32m<ipython-input-105-f49d8cc5e860>\u001b[0m in \u001b[0;36m<module>\u001b[0;34m()\u001b[0m\n\u001b[1;32m      2\u001b[0m \u001b[0mdf_bee_id\u001b[0m \u001b[0;34m=\u001b[0m \u001b[0mgrouped_bee_id\u001b[0m\u001b[0;34m.\u001b[0m\u001b[0mget_group\u001b[0m\u001b[0;34m(\u001b[0m\u001b[0;36m5\u001b[0m\u001b[0;34m)\u001b[0m\u001b[0;34m\u001b[0m\u001b[0m\n\u001b[1;32m      3\u001b[0m \u001b[0mpp\u001b[0m \u001b[0;34m=\u001b[0m \u001b[0mProcessPaths\u001b[0m\u001b[0;34m(\u001b[0m\u001b[0;34m)\u001b[0m\u001b[0;34m\u001b[0m\u001b[0m\n\u001b[0;32m----> 4\u001b[0;31m \u001b[0mbee_paths_list_broken_up_by_class\u001b[0m \u001b[0;34m=\u001b[0m \u001b[0mpp\u001b[0m\u001b[0;34m.\u001b[0m\u001b[0mprocess_paths\u001b[0m\u001b[0;34m(\u001b[0m\u001b[0mdf_bee_id\u001b[0m\u001b[0;34m)\u001b[0m\u001b[0;34m\u001b[0m\u001b[0m\n\u001b[0m\u001b[1;32m      5\u001b[0m \u001b[0mbee_path_classes_num_frames_tracked\u001b[0m \u001b[0;34m=\u001b[0m \u001b[0mpp\u001b[0m\u001b[0;34m.\u001b[0m\u001b[0mget_class_num_frames_tracked\u001b[0m\u001b[0;34m(\u001b[0m\u001b[0mbee_paths_list_broken_up_by_class\u001b[0m\u001b[0;34m)\u001b[0m\u001b[0;34m\u001b[0m\u001b[0m\n",
      "\u001b[0;32m<ipython-input-104-6285015bc7ca>\u001b[0m in \u001b[0;36mprocess_paths\u001b[0;34m(self, bee_df)\u001b[0m\n\u001b[1;32m     79\u001b[0m \u001b[0;34m\u001b[0m\u001b[0m\n\u001b[1;32m     80\u001b[0m         \u001b[0mbee_data\u001b[0m\u001b[0;34m.\u001b[0m\u001b[0mmerge_group_classifications_into_sections\u001b[0m\u001b[0;34m(\u001b[0m\u001b[0;34m)\u001b[0m\u001b[0;34m\u001b[0m\u001b[0m\n\u001b[0;32m---> 81\u001b[0;31m         \u001b[0mbees_identified_by_tag\u001b[0m \u001b[0;34m=\u001b[0m \u001b[0mbee_data\u001b[0m\u001b[0;34m.\u001b[0m\u001b[0mgen_separate_tag_class_bees\u001b[0m\u001b[0;34m(\u001b[0m\u001b[0;34m)\u001b[0m\u001b[0;34m\u001b[0m\u001b[0m\n\u001b[0m\u001b[1;32m     82\u001b[0m \u001b[0;34m\u001b[0m\u001b[0m\n\u001b[1;32m     83\u001b[0m         \u001b[0;32mreturn\u001b[0m \u001b[0mbees_identified_by_tag\u001b[0m\u001b[0;34m\u001b[0m\u001b[0m\n",
      "\u001b[0;32m<ipython-input-100-a25be6cb27c3>\u001b[0m in \u001b[0;36mgen_separate_tag_class_bees\u001b[0;34m(self)\u001b[0m\n\u001b[1;32m    187\u001b[0m             \u001b[0mclass_path_start_frame_num\u001b[0m \u001b[0;34m=\u001b[0m \u001b[0mself\u001b[0m\u001b[0;34m.\u001b[0m\u001b[0mstart_frame_num_all_paths\u001b[0m\u001b[0;34m[\u001b[0m\u001b[0mpaths_index\u001b[0m\u001b[0;34m]\u001b[0m\u001b[0;34m\u001b[0m\u001b[0m\n\u001b[1;32m    188\u001b[0m             \u001b[0;32mfor\u001b[0m \u001b[0mcoord_index\u001b[0m \u001b[0;32min\u001b[0m \u001b[0mrange\u001b[0m\u001b[0;34m(\u001b[0m\u001b[0mlen\u001b[0m\u001b[0;34m(\u001b[0m\u001b[0mself\u001b[0m\u001b[0;34m.\u001b[0m\u001b[0mlist_of_all_x_paths\u001b[0m\u001b[0;34m[\u001b[0m\u001b[0mpaths_index\u001b[0m\u001b[0;34m]\u001b[0m\u001b[0;34m)\u001b[0m\u001b[0;34m)\u001b[0m\u001b[0;34m:\u001b[0m\u001b[0;34m\u001b[0m\u001b[0m\n\u001b[0;32m--> 189\u001b[0;31m                 \u001b[0;32mif\u001b[0m \u001b[0mnum_coords\u001b[0m \u001b[0;34m>\u001b[0m \u001b[0mself\u001b[0m\u001b[0;34m.\u001b[0m\u001b[0mclass_path_end_index\u001b[0m\u001b[0;34m[\u001b[0m\u001b[0mpath_class_index\u001b[0m\u001b[0;34m]\u001b[0m\u001b[0;34m:\u001b[0m\u001b[0;34m\u001b[0m\u001b[0m\n\u001b[0m\u001b[1;32m    190\u001b[0m                     \u001b[0;31m#print(num_coords)\u001b[0m\u001b[0;34m\u001b[0m\u001b[0;34m\u001b[0m\u001b[0m\n\u001b[1;32m    191\u001b[0m                     \u001b[0;31m#print(len(self.list_of_all_x_paths))\u001b[0m\u001b[0;34m\u001b[0m\u001b[0;34m\u001b[0m\u001b[0m\n",
      "\u001b[0;31mIndexError\u001b[0m: list index out of range"
     ]
    }
   ],
   "source": [
    "grouped_bee_id = df.groupby('bee_id')\n",
    "df_bee_id = grouped_bee_id.get_group(5)\n",
    "pp = ProcessPaths()\n",
    "bee_paths_list_broken_up_by_class = pp.process_paths(df_bee_id)\n",
    "bee_path_classes_num_frames_tracked = pp.get_class_num_frames_tracked(bee_paths_list_broken_up_by_class)"
   ]
  },
  {
   "cell_type": "code",
   "execution_count": 35,
   "metadata": {},
   "outputs": [
    {
     "name": "stdout",
     "output_type": "stream",
     "text": [
      "0\n",
      "1\n",
      "2\n",
      "3\n",
      "4\n",
      "5\n"
     ]
    },
    {
     "ename": "IndexError",
     "evalue": "list index out of range",
     "output_type": "error",
     "traceback": [
      "\u001b[0;31m---------------------------------------------------------------------------\u001b[0m",
      "\u001b[0;31mIndexError\u001b[0m                                Traceback (most recent call last)",
      "\u001b[0;32m<ipython-input-35-37ee51ae58e8>\u001b[0m in \u001b[0;36m<module>\u001b[0;34m()\u001b[0m\n\u001b[1;32m      3\u001b[0m     \u001b[0;32mprint\u001b[0m\u001b[0;34m(\u001b[0m\u001b[0mbee_id\u001b[0m\u001b[0;34m)\u001b[0m\u001b[0;34m\u001b[0m\u001b[0m\n\u001b[1;32m      4\u001b[0m     \u001b[0mpp\u001b[0m \u001b[0;34m=\u001b[0m \u001b[0mProcessPaths\u001b[0m\u001b[0;34m(\u001b[0m\u001b[0;34m)\u001b[0m\u001b[0;34m\u001b[0m\u001b[0m\n\u001b[0;32m----> 5\u001b[0;31m     \u001b[0mbee_paths_list_broken_up_by_class\u001b[0m \u001b[0;34m=\u001b[0m \u001b[0mpp\u001b[0m\u001b[0;34m.\u001b[0m\u001b[0mprocess_paths\u001b[0m\u001b[0;34m(\u001b[0m\u001b[0mdf_bee_id\u001b[0m\u001b[0;34m)\u001b[0m\u001b[0;34m\u001b[0m\u001b[0m\n\u001b[0m\u001b[1;32m      6\u001b[0m     \u001b[0mbee_path_classes_num_frames_tracked\u001b[0m \u001b[0;34m=\u001b[0m \u001b[0mpp\u001b[0m\u001b[0;34m.\u001b[0m\u001b[0mget_class_num_frames_tracked\u001b[0m\u001b[0;34m(\u001b[0m\u001b[0mbee_paths_list_broken_up_by_class\u001b[0m\u001b[0;34m)\u001b[0m\u001b[0;34m\u001b[0m\u001b[0m\n",
      "\u001b[0;32m<ipython-input-20-0e0b32452e11>\u001b[0m in \u001b[0;36mprocess_paths\u001b[0;34m(self, bee_df)\u001b[0m\n\u001b[1;32m     78\u001b[0m         \u001b[0mbee_data\u001b[0m\u001b[0;34m.\u001b[0m\u001b[0mmerge_group_classifications_into_sections\u001b[0m\u001b[0;34m(\u001b[0m\u001b[0;34m)\u001b[0m\u001b[0;34m\u001b[0m\u001b[0m\n\u001b[1;32m     79\u001b[0m \u001b[0;34m\u001b[0m\u001b[0m\n\u001b[0;32m---> 80\u001b[0;31m         \u001b[0mbees_identified_by_tag\u001b[0m \u001b[0;34m=\u001b[0m \u001b[0mbee_data\u001b[0m\u001b[0;34m.\u001b[0m\u001b[0mgen_separate_tag_class_bees\u001b[0m\u001b[0;34m(\u001b[0m\u001b[0;34m)\u001b[0m\u001b[0;34m\u001b[0m\u001b[0m\n\u001b[0m\u001b[1;32m     81\u001b[0m \u001b[0;34m\u001b[0m\u001b[0m\n\u001b[1;32m     82\u001b[0m         \u001b[0;32mreturn\u001b[0m \u001b[0mbees_identified_by_tag\u001b[0m\u001b[0;34m\u001b[0m\u001b[0m\n",
      "\u001b[0;32m<ipython-input-34-9f436d239b19>\u001b[0m in \u001b[0;36mgen_separate_tag_class_bees\u001b[0;34m(self)\u001b[0m\n\u001b[1;32m    173\u001b[0m             \u001b[0mclass_path_start_frame_num\u001b[0m \u001b[0;34m=\u001b[0m \u001b[0mself\u001b[0m\u001b[0;34m.\u001b[0m\u001b[0mstart_frame_num_all_paths\u001b[0m\u001b[0;34m[\u001b[0m\u001b[0mpaths_index\u001b[0m\u001b[0;34m]\u001b[0m\u001b[0;34m\u001b[0m\u001b[0m\n\u001b[1;32m    174\u001b[0m             \u001b[0;32mfor\u001b[0m \u001b[0mcoord_index\u001b[0m \u001b[0;32min\u001b[0m \u001b[0mrange\u001b[0m\u001b[0;34m(\u001b[0m\u001b[0mlen\u001b[0m\u001b[0;34m(\u001b[0m\u001b[0mself\u001b[0m\u001b[0;34m.\u001b[0m\u001b[0mlist_of_all_x_paths\u001b[0m\u001b[0;34m[\u001b[0m\u001b[0mpaths_index\u001b[0m\u001b[0;34m]\u001b[0m\u001b[0;34m)\u001b[0m\u001b[0;34m)\u001b[0m\u001b[0;34m:\u001b[0m\u001b[0;34m\u001b[0m\u001b[0m\n\u001b[0;32m--> 175\u001b[0;31m                 \u001b[0;32mif\u001b[0m \u001b[0mnum_coords\u001b[0m \u001b[0;34m>\u001b[0m \u001b[0mself\u001b[0m\u001b[0;34m.\u001b[0m\u001b[0mclass_path_end_index\u001b[0m\u001b[0;34m[\u001b[0m\u001b[0mpath_class_index\u001b[0m\u001b[0;34m]\u001b[0m\u001b[0;34m:\u001b[0m\u001b[0;34m\u001b[0m\u001b[0m\n\u001b[0m\u001b[1;32m    176\u001b[0m                     \u001b[0mlist_class_x_path_coords\u001b[0m\u001b[0;34m.\u001b[0m\u001b[0mappend\u001b[0m\u001b[0;34m(\u001b[0m\u001b[0mclass_x_path_coords\u001b[0m\u001b[0;34m[\u001b[0m\u001b[0;34m:\u001b[0m\u001b[0mcoord_index\u001b[0m\u001b[0;34m]\u001b[0m\u001b[0;34m)\u001b[0m\u001b[0;34m\u001b[0m\u001b[0m\n\u001b[1;32m    177\u001b[0m                     \u001b[0mlist_class_y_path_coords\u001b[0m\u001b[0;34m.\u001b[0m\u001b[0mappend\u001b[0m\u001b[0;34m(\u001b[0m\u001b[0mclass_y_path_coords\u001b[0m\u001b[0;34m[\u001b[0m\u001b[0;34m:\u001b[0m\u001b[0mcoord_index\u001b[0m\u001b[0;34m]\u001b[0m\u001b[0;34m)\u001b[0m\u001b[0;34m\u001b[0m\u001b[0m\n",
      "\u001b[0;31mIndexError\u001b[0m: list index out of range"
     ]
    }
   ],
   "source": [
    "grouped_bee_id = df.groupby('bee_id')\n",
    "for bee_id, df_bee_id in grouped_bee_id:\n",
    "    print(bee_id)\n",
    "    pp = ProcessPaths()\n",
    "    bee_paths_list_broken_up_by_class = pp.process_paths(df_bee_id)\n",
    "    bee_path_classes_num_frames_tracked = pp.get_class_num_frames_tracked(bee_paths_list_broken_up_by_class)"
   ]
  },
  {
   "cell_type": "code",
   "execution_count": null,
   "metadata": {
    "collapsed": true
   },
   "outputs": [],
   "source": []
  }
 ],
 "metadata": {
  "kernelspec": {
   "display_name": "Python 2",
   "language": "python",
   "name": "python2"
  },
  "language_info": {
   "codemirror_mode": {
    "name": "ipython",
    "version": 2
   },
   "file_extension": ".py",
   "mimetype": "text/x-python",
   "name": "python",
   "nbconvert_exporter": "python",
   "pygments_lexer": "ipython2",
   "version": "2.7.13"
  }
 },
 "nbformat": 4,
 "nbformat_minor": 2
}
