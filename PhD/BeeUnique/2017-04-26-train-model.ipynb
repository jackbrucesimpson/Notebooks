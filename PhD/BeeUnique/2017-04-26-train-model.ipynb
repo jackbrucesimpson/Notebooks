{
 "cells": [
  {
   "cell_type": "markdown",
   "metadata": {},
   "source": [
    "# Train Model\n",
    "Using the training data and its permutations I tried to train the model to predict tags. I tried it out on real video footage after and realised that this model wasn't accurate because I didn't have enough examples of tags viewed at an angle."
   ]
  },
  {
   "cell_type": "code",
   "execution_count": 1,
   "metadata": {},
   "outputs": [
    {
     "data": {
      "application/json": {
       "Software versions": [
        {
         "module": "Python",
         "version": "2.7.13 64bit [GCC 4.2.1 Compatible Apple LLVM 8.0.0 (clang-800.0.42.1)]"
        },
        {
         "module": "IPython",
         "version": "5.3.0"
        },
        {
         "module": "OS",
         "version": "Darwin 16.5.0 x86_64 i386 64bit"
        },
        {
         "module": "numpy",
         "version": "1.12.1"
        },
        {
         "module": "scipy",
         "version": "0.19.0"
        },
        {
         "module": "matplotlib",
         "version": "2.0.0"
        },
        {
         "module": "pandas",
         "version": "0.19.2"
        }
       ]
      },
      "text/html": [
       "<table><tr><th>Software</th><th>Version</th></tr><tr><td>Python</td><td>2.7.13 64bit [GCC 4.2.1 Compatible Apple LLVM 8.0.0 (clang-800.0.42.1)]</td></tr><tr><td>IPython</td><td>5.3.0</td></tr><tr><td>OS</td><td>Darwin 16.5.0 x86_64 i386 64bit</td></tr><tr><td>numpy</td><td>1.12.1</td></tr><tr><td>scipy</td><td>0.19.0</td></tr><tr><td>matplotlib</td><td>2.0.0</td></tr><tr><td>pandas</td><td>0.19.2</td></tr><tr><td colspan='2'>Fri Apr 28 11:06:26 2017 AEST</td></tr></table>"
      ],
      "text/latex": [
       "\\begin{tabular}{|l|l|}\\hline\n",
       "{\\bf Software} & {\\bf Version} \\\\ \\hline\\hline\n",
       "Python & 2.7.13 64bit [GCC 4.2.1 Compatible Apple LLVM 8.0.0 (clang-800.0.42.1)] \\\\ \\hline\n",
       "IPython & 5.3.0 \\\\ \\hline\n",
       "OS & Darwin 16.5.0 x86\\_64 i386 64bit \\\\ \\hline\n",
       "numpy & 1.12.1 \\\\ \\hline\n",
       "scipy & 0.19.0 \\\\ \\hline\n",
       "matplotlib & 2.0.0 \\\\ \\hline\n",
       "pandas & 0.19.2 \\\\ \\hline\n",
       "\\hline \\multicolumn{2}{|l|}{Fri Apr 28 11:06:26 2017 AEST} \\\\ \\hline\n",
       "\\end{tabular}\n"
      ],
      "text/plain": [
       "Software versions\n",
       "Python 2.7.13 64bit [GCC 4.2.1 Compatible Apple LLVM 8.0.0 (clang-800.0.42.1)]\n",
       "IPython 5.3.0\n",
       "OS Darwin 16.5.0 x86_64 i386 64bit\n",
       "numpy 1.12.1\n",
       "scipy 0.19.0\n",
       "matplotlib 2.0.0\n",
       "pandas 0.19.2\n",
       "Fri Apr 28 11:06:26 2017 AEST"
      ]
     },
     "execution_count": 1,
     "metadata": {},
     "output_type": "execute_result"
    }
   ],
   "source": [
    "%matplotlib inline\n",
    "#from pylab import rcParams\n",
    "#rcParams['figure.figsize'] = 12, 8\n",
    "\n",
    "%load_ext autoreload\n",
    "%autoreload 2\n",
    "\n",
    "%load_ext version_information\n",
    "%version_information numpy, scipy, matplotlib, pandas"
   ]
  },
  {
   "cell_type": "code",
   "execution_count": 1,
   "metadata": {
    "collapsed": true
   },
   "outputs": [],
   "source": [
    "import cv2\n",
    "import os\n",
    "import matplotlib.pyplot as plt\n",
    "import matplotlib.cm as cm\n",
    "import numpy as np\n",
    "import glob\n",
    "import sys\n",
    "sys.path.append(\"../src\")\n",
    "from images_permute import processing_pipeline\n",
    "\n",
    "np.random.seed(0)\n",
    "\n",
    "def view(image):\n",
    "    plt.figure()\n",
    "    plt.imshow(image, cmap = cm.Greys_r)"
   ]
  },
  {
   "cell_type": "code",
   "execution_count": 4,
   "metadata": {
    "collapsed": true
   },
   "outputs": [],
   "source": [
    "list_image_directory_paths = glob.glob('/Users/jacksimpson/Data/beeunique/output/Classified/*/')\n",
    "\n",
    "class_images_dict = {}\n",
    "for image_directory_path in list_image_directory_paths:\n",
    "    image_class_name = os.path.basename(os.path.normpath(image_directory_path))\n",
    "    class_images_dict[image_class_name] = []\n",
    "    \n",
    "    for i, image_file in enumerate(glob.glob(image_directory_path + '*.png')):\n",
    "        if i % 4 == 0:\n",
    "            image = cv2.imread(image_file, cv2.IMREAD_GRAYSCALE)\n",
    "            class_images_dict[image_class_name].append(image)"
   ]
  },
  {
   "cell_type": "code",
   "execution_count": 5,
   "metadata": {},
   "outputs": [
    {
     "data": {
      "text/plain": [
       "{'0': 1397,\n",
       " '1': 1396,\n",
       " '1_Note': 1433,\n",
       " '2': 1380,\n",
       " '2_Note': 1319,\n",
       " '3': 1469,\n",
       " '3_Lines': 1373,\n",
       " '4': 1385,\n",
       " '5': 1418,\n",
       " '6': 1331,\n",
       " '7': 1350,\n",
       " '8': 1345,\n",
       " 'AA': 1419,\n",
       " 'Ampersand': 1411,\n",
       " 'Ankh': 1494,\n",
       " 'Arrow_Hollow': 1560,\n",
       " 'Arrow_Line': 1353,\n",
       " 'Asterisk': 1424,\n",
       " 'BB': 1310,\n",
       " 'Circle_Cross': 1099,\n",
       " 'Circle_Half': 1272,\n",
       " 'Circle_Line': 1428,\n",
       " 'DD': 1283,\n",
       " 'Diamond': 1435,\n",
       " 'Dot': 1495,\n",
       " 'Dot_3_Lines': 1542,\n",
       " 'EE': 1306,\n",
       " 'GG': 1396,\n",
       " 'HH': 1302,\n",
       " 'Hash': 1433,\n",
       " 'Heart': 1425,\n",
       " 'JJ': 1434,\n",
       " 'KK': 1226,\n",
       " 'Leaf': 1497,\n",
       " 'MM': 1540,\n",
       " 'NN': 1433,\n",
       " 'Necklace': 1493,\n",
       " 'Omega': 1082,\n",
       " 'PP': 2517,\n",
       " 'Peace': 1336,\n",
       " 'Pillars': 1444,\n",
       " 'Plane': 1432,\n",
       " 'Plant': 1413,\n",
       " 'Power': 1426,\n",
       " 'Queen': 2204,\n",
       " 'Question_Mark': 1417,\n",
       " 'RR': 1226,\n",
       " 'Radioactive': 1456,\n",
       " 'SS': 2083,\n",
       " 'Scissors': 1275,\n",
       " 'TT': 1127,\n",
       " 'Tadpole': 1440,\n",
       " 'Triangle': 1534,\n",
       " 'Trident': 1448,\n",
       " 'UU': 1354,\n",
       " 'Umbrella': 1354,\n",
       " 'VV': 1380,\n",
       " 'XX': 1391,\n",
       " 'ZZ': 1358,\n",
       " 'a': 1384,\n",
       " 'b': 1391,\n",
       " 'e': 1378,\n",
       " 'f': 1346,\n",
       " 'g': 1370,\n",
       " 'h': 1402,\n",
       " 'i': 1509,\n",
       " 'j': 1546,\n",
       " 'n': 1301,\n",
       " 'r': 1361,\n",
       " 't': 1435,\n",
       " 'w': 1407,\n",
       " 'y': 1398}"
      ]
     },
     "execution_count": 5,
     "metadata": {},
     "output_type": "execute_result"
    }
   ],
   "source": [
    "{k: len(class_images_dict[k]) for k in class_images_dict.keys()}"
   ]
  },
  {
   "cell_type": "code",
   "execution_count": 6,
   "metadata": {},
   "outputs": [
    {
     "name": "stdout",
     "output_type": "stream",
     "text": [
      "Dot_3_Lines has 1542 images\n",
      "RR has 1226 images\n",
      "Queen has 2204 images\n",
      "Leaf has 1497 images\n",
      "ZZ has 1358 images\n",
      "BB has 1310 images\n",
      "DD has 1283 images\n",
      "Peace has 1336 images\n",
      "Pillars has 1444 images\n",
      "HH has 1302 images\n",
      "Ampersand has 1411 images\n",
      "JJ has 1434 images\n",
      "n has 1301 images\n",
      "Arrow_Hollow has 1560 images\n",
      "Circle_Cross has 1099 images\n",
      "Plant has 1413 images\n",
      "Diamond has 1435 images\n",
      "Hash has 1433 images\n",
      "NN has 1433 images\n",
      "Ankh has 1494 images\n",
      "Question_Mark has 1417 images\n",
      "TT has 1127 images\n",
      "Trident has 1448 images\n",
      "Asterisk has 1424 images\n",
      "UU has 1354 images\n",
      "1 has 1396 images\n",
      "0 has 1397 images\n",
      "3 has 1469 images\n",
      "2 has 1380 images\n",
      "3_Lines has 1373 images\n",
      "4 has 1385 images\n",
      "7 has 1350 images\n",
      "6 has 1331 images\n",
      "5 has 1418 images\n",
      "Omega has 1082 images\n",
      "Umbrella has 1354 images\n",
      "AA has 1419 images\n",
      "SS has 2083 images\n",
      "Circle_Line has 1428 images\n",
      "Radioactive has 1456 images\n",
      "w has 1407 images\n",
      "Tadpole has 1440 images\n",
      "EE has 1306 images\n",
      "Circle_Half has 1272 images\n",
      "PP has 2517 images\n",
      "GG has 1396 images\n",
      "XX has 1391 images\n",
      "VV has 1380 images\n",
      "8 has 1345 images\n",
      "Necklace has 1493 images\n",
      "Triangle has 1534 images\n",
      "Dot has 1495 images\n",
      "a has 1384 images\n",
      "Heart has 1425 images\n",
      "b has 1391 images\n",
      "e has 1378 images\n",
      "Power has 1426 images\n",
      "g has 1370 images\n",
      "f has 1346 images\n",
      "i has 1509 images\n",
      "h has 1402 images\n",
      "Arrow_Line has 1353 images\n",
      "j has 1546 images\n",
      "Plane has 1432 images\n",
      "2_Note has 1319 images\n",
      "KK has 1226 images\n",
      "r has 1361 images\n",
      "t has 1435 images\n",
      "1_Note has 1433 images\n",
      "y has 1398 images\n",
      "Scissors has 1275 images\n",
      "MM has 1540 images\n"
     ]
    }
   ],
   "source": [
    "X = []\n",
    "image_class_names_index = 0\n",
    "image_class_names = {}\n",
    "y = []\n",
    "for image_class in class_images_dict.keys():\n",
    "    image_class_names[image_class_names_index] = image_class\n",
    "    print('{} has {} images'.format(image_class, len(class_images_dict[image_class])))\n",
    "    for im in class_images_dict[image_class]:\n",
    "        generated_images = processing_pipeline(im)\n",
    "        X.extend(generated_images)\n",
    "        y.extend([image_class_names_index] * len(generated_images))\n",
    "    image_class_names_index += 1\n",
    "\n",
    "#del class_images_dict\n",
    "X = np.array(X)\n",
    "y = np.array(y)"
   ]
  },
  {
   "cell_type": "code",
   "execution_count": 7,
   "metadata": {},
   "outputs": [
    {
     "name": "stdout",
     "output_type": "stream",
     "text": [
      "((2153151, 28, 28), (2153151,))\n",
      "set([0, 1, 2, 3, 4, 5, 6, 7, 8, 9, 10, 11, 12, 13, 14, 15, 16, 17, 18, 19, 20, 21, 22, 23, 24, 25, 26, 27, 28, 29, 30, 31, 32, 33, 34, 35, 36, 37, 38, 39, 40, 41, 42, 43, 44, 45, 46, 47, 48, 49, 50, 51, 52, 53, 54, 55, 56, 57, 58, 59, 60, 61, 62, 63, 64, 65, 66, 67, 68, 69, 70, 71])\n",
      "RR\n"
     ]
    }
   ],
   "source": [
    "print(X.shape, y.shape)\n",
    "print(set(y))\n",
    "print(image_class_names[1])"
   ]
  },
  {
   "cell_type": "code",
   "execution_count": 8,
   "metadata": {},
   "outputs": [
    {
     "name": "stdout",
     "output_type": "stream",
     "text": [
      "((1722520, 28, 28), (1722520,), (430631, 28, 28), (430631,))\n"
     ]
    }
   ],
   "source": [
    "from sklearn.model_selection import train_test_split\n",
    "\n",
    "X_train, X_test, y_train, y_test = train_test_split(X, y, test_size = 0.2, random_state=4)\n",
    "print(X_train.shape, y_train.shape, X_test.shape, y_test.shape)\n",
    "del X"
   ]
  },
  {
   "cell_type": "markdown",
   "metadata": {},
   "source": [
    "## Model"
   ]
  },
  {
   "cell_type": "code",
   "execution_count": 12,
   "metadata": {
    "collapsed": true
   },
   "outputs": [],
   "source": [
    "from keras.models import Sequential\n",
    "from keras.layers import Dense, Dropout, Activation, Flatten\n",
    "from keras.layers import Convolution2D, MaxPooling2D\n",
    "from keras.utils import np_utils\n",
    "from keras import backend as K"
   ]
  },
  {
   "cell_type": "code",
   "execution_count": 13,
   "metadata": {
    "collapsed": true
   },
   "outputs": [],
   "source": [
    "Y_train = np_utils.to_categorical(y_train, len(set(y_train)))\n",
    "Y_test = np_utils.to_categorical(y_test, len(set(y_train)))"
   ]
  },
  {
   "cell_type": "code",
   "execution_count": 14,
   "metadata": {},
   "outputs": [
    {
     "data": {
      "text/plain": [
       "array([ 0.,  0.,  0.,  0.,  0.,  0.,  0.,  0.,  0.,  0.,  0.,  1.,  0.,\n",
       "        0.,  0.,  0.,  0.,  0.,  0.,  0.,  0.,  0.,  0.,  0.,  0.,  0.,\n",
       "        0.,  0.,  0.,  0.,  0.,  0.,  0.,  0.,  0.,  0.,  0.,  0.,  0.,\n",
       "        0.,  0.,  0.,  0.,  0.,  0.,  0.,  0.,  0.,  0.,  0.,  0.,  0.,\n",
       "        0.,  0.,  0.,  0.,  0.,  0.,  0.,  0.,  0.,  0.,  0.,  0.,  0.,\n",
       "        0.,  0.,  0.,  0.,  0.,  0.,  0.])"
      ]
     },
     "execution_count": 14,
     "metadata": {},
     "output_type": "execute_result"
    }
   ],
   "source": [
    "Y_test[0]"
   ]
  },
  {
   "cell_type": "code",
   "execution_count": 15,
   "metadata": {},
   "outputs": [
    {
     "data": {
      "text/plain": [
       "(1722520, 28, 28, 1)"
      ]
     },
     "execution_count": 15,
     "metadata": {},
     "output_type": "execute_result"
    }
   ],
   "source": [
    "img_rows = 28\n",
    "img_cols = 28\n",
    "\n",
    "if K.image_dim_ordering() == 'th':\n",
    "    X_train = X_train.reshape(X_train.shape[0], 1, img_rows, img_cols)\n",
    "    X_test = X_test.reshape(X_test.shape[0], 1, img_rows, img_cols)\n",
    "else:\n",
    "    X_train = X_train.reshape(X_train.shape[0], img_rows, img_cols, 1)\n",
    "    X_test = X_test.reshape(X_test.shape[0], img_rows, img_cols, 1)\n",
    "\n",
    "X_train.shape"
   ]
  },
  {
   "cell_type": "code",
   "execution_count": 16,
   "metadata": {
    "collapsed": true
   },
   "outputs": [],
   "source": [
    "# convert data to float32 and normalize from 0-1\n",
    "X_train = X_train.astype('float32')\n",
    "X_test = X_test.astype('float32')\n",
    "X_train /= 255\n",
    "X_test /= 255"
   ]
  },
  {
   "cell_type": "code",
   "execution_count": 12,
   "metadata": {
    "collapsed": true
   },
   "outputs": [],
   "source": [
    "model = Sequential()\n",
    "# input layer\n",
    "#model.add(Convolution2D(32, (3, 3), activation='relu', input_shape=(1,28,28))) # if theano backend\n",
    "model.add(Convolution2D(32, (3, 3), activation='relu', input_shape=(28, 28, 1)))\n",
    "\n",
    "model.add(Convolution2D(32, (3, 3), activation='relu'))\n",
    "model.add(MaxPooling2D(pool_size=(2,2)))\n",
    "model.add(Dropout(0.25))\n",
    "\n",
    "model.add(Flatten())\n",
    "model.add(Dense(128, activation='relu'))\n",
    "model.add(Dropout(0.5))\n",
    "model.add(Dense(72, activation='softmax'))\n",
    "\n",
    "model.compile(loss='categorical_crossentropy', optimizer='adam', metrics=['accuracy'])"
   ]
  },
  {
   "cell_type": "code",
   "execution_count": 13,
   "metadata": {},
   "outputs": [
    {
     "name": "stderr",
     "output_type": "stream",
     "text": [
      "/usr/local/lib/python2.7/site-packages/keras/models.py:834: UserWarning: The `nb_epoch` argument in `fit` has been renamed `epochs`.\n",
      "  warnings.warn('The `nb_epoch` argument in `fit` '\n"
     ]
    },
    {
     "name": "stdout",
     "output_type": "stream",
     "text": [
      "Epoch 1/10\n",
      "1722520/1722520 [==============================] - 1388s - loss: 1.3729 - acc: 0.5848  \n",
      "Epoch 2/10\n",
      "1722520/1722520 [==============================] - 1332s - loss: 0.8053 - acc: 0.7477  \n",
      "Epoch 3/10\n",
      "1722520/1722520 [==============================] - 1337s - loss: 0.7031 - acc: 0.7792  \n",
      "Epoch 4/10\n",
      "1722520/1722520 [==============================] - 1364s - loss: 0.6619 - acc: 0.7921  \n",
      "Epoch 5/10\n",
      "1722520/1722520 [==============================] - 1380s - loss: 0.6304 - acc: 0.8023  \n",
      "Epoch 6/10\n",
      "1722520/1722520 [==============================] - 1386s - loss: 0.6148 - acc: 0.8076  \n",
      "Epoch 7/10\n",
      "1722520/1722520 [==============================] - 1453s - loss: 0.6019 - acc: 0.8120  \n",
      "Epoch 8/10\n",
      "1722520/1722520 [==============================] - 1382s - loss: 0.5870 - acc: 0.8167  \n",
      "Epoch 9/10\n",
      "1722520/1722520 [==============================] - 1368s - loss: 0.5782 - acc: 0.8201  \n",
      "Epoch 10/10\n",
      "1722520/1722520 [==============================] - 1347s - loss: 0.5726 - acc: 0.8217  \n"
     ]
    },
    {
     "data": {
      "text/plain": [
       "<keras.callbacks.History at 0x1c5ad3a90>"
      ]
     },
     "execution_count": 13,
     "metadata": {},
     "output_type": "execute_result"
    }
   ],
   "source": [
    "model.fit(X_train, Y_train, batch_size=32, epochs=10, verbose=1)"
   ]
  },
  {
   "cell_type": "code",
   "execution_count": 17,
   "metadata": {
    "collapsed": true
   },
   "outputs": [],
   "source": [
    "from keras.models import load_model\n",
    "model = load_model('model.h5')"
   ]
  },
  {
   "cell_type": "code",
   "execution_count": 18,
   "metadata": {},
   "outputs": [
    {
     "name": "stdout",
     "output_type": "stream",
     "text": [
      "430432/430631 [============================>.] - ETA: 0s"
     ]
    },
    {
     "data": {
      "text/plain": [
       "[0.078746303317248939, 0.983682085126245]"
      ]
     },
     "execution_count": 18,
     "metadata": {},
     "output_type": "execute_result"
    }
   ],
   "source": [
    "score = model.evaluate(X_test, Y_test) #, verbose=0\n",
    "score"
   ]
  },
  {
   "cell_type": "code",
   "execution_count": 19,
   "metadata": {},
   "outputs": [
    {
     "name": "stdout",
     "output_type": "stream",
     "text": [
      "430368/430631 [============================>.] - ETA: 0s"
     ]
    }
   ],
   "source": [
    "pc = model.predict_classes(X_test)"
   ]
  },
  {
   "cell_type": "code",
   "execution_count": 22,
   "metadata": {},
   "outputs": [
    {
     "name": "stdout",
     "output_type": "stream",
     "text": [
      "51\n",
      "Dot\n"
     ]
    },
    {
     "data": {
      "image/png": "[encoded data removed]",
      "text/plain": [
       "<matplotlib.figure.Figure at 0x119ffbc90>"
      ]
     },
     "metadata": {},
     "output_type": "display_data"
    }
   ],
   "source": [
    "n = 1418\n",
    "print(pc[n])\n",
    "view(X_test[n].reshape(1, 28, 28)[0])\n",
    "print(image_class_names[pc[n]])"
   ]
  },
  {
   "cell_type": "code",
   "execution_count": 25,
   "metadata": {},
   "outputs": [
    {
     "name": "stdout",
     "output_type": "stream",
     "text": [
      "11\n",
      "JJ\n"
     ]
    },
    {
     "data": {
      "image/png": "[encoded data removed]",
      "text/plain": [
       "<matplotlib.figure.Figure at 0x1de4f6a90>"
      ]
     },
     "metadata": {},
     "output_type": "display_data"
    }
   ],
   "source": [
    "n = 0\n",
    "print(pc[n])\n",
    "view(X_test[n].reshape(1, 28, 28)[0])\n",
    "print(image_class_names[pc[n]])"
   ]
  },
  {
   "cell_type": "code",
   "execution_count": 27,
   "metadata": {},
   "outputs": [
    {
     "name": "stdout",
     "output_type": "stream",
     "text": [
      "{0: 'Dot_3_Lines', 1: 'RR', 2: 'Queen', 3: 'Leaf', 4: 'ZZ', 5: 'BB', 6: 'DD', 7: 'Peace', 8: 'Pillars', 9: 'HH', 10: 'Ampersand', 11: 'JJ', 12: 'n', 13: 'Arrow_Hollow', 14: 'Circle_Cross', 15: 'Plant', 16: 'Diamond', 17: 'Hash', 18: 'NN', 19: 'Ankh', 20: 'Question_Mark', 21: 'TT', 22: 'Trident', 23: 'Asterisk', 24: 'UU', 25: '1', 26: '0', 27: '3', 28: '2', 29: '3_Lines', 30: '4', 31: '7', 32: '6', 33: '5', 34: 'Omega', 35: 'Umbrella', 36: 'AA', 37: 'SS', 38: 'Circle_Line', 39: 'Radioactive', 40: 'w', 41: 'Tadpole', 42: 'EE', 43: 'Circle_Half', 44: 'PP', 45: 'GG', 46: 'XX', 47: 'VV', 48: '8', 49: 'Necklace', 50: 'Triangle', 51: 'Dot', 52: 'a', 53: 'Heart', 54: 'b', 55: 'e', 56: 'Power', 57: 'g', 58: 'f', 59: 'i', 60: 'h', 61: 'Arrow_Line', 62: 'j', 63: 'Plane', 64: '2_Note', 65: 'KK', 66: 'r', 67: 't', 68: '1_Note', 69: 'y', 70: 'Scissors', 71: 'MM'}\n"
     ]
    }
   ],
   "source": [
    "print(image_class_names)"
   ]
  },
  {
   "cell_type": "code",
   "execution_count": 23,
   "metadata": {},
   "outputs": [
    {
     "name": "stdout",
     "output_type": "stream",
     "text": [
      "430624/430631 [============================>.] - ETA: 0s"
     ]
    },
    {
     "data": {
      "text/plain": [
       "array([  0.00000000e+00,   1.80779560e-19,   2.92195528e-26,\n",
       "         4.05492501e-25,   3.01990919e-12,   3.81554759e-17,\n",
       "         7.32246288e-33,   4.48077339e-13,   2.66263987e-21,\n",
       "         5.39978408e-17,   1.15538894e-14,   6.79873586e-01,\n",
       "         2.84422890e-16,   1.38582906e-22,   3.21927885e-34,\n",
       "         2.76050489e-08,   3.54465288e-27,   4.15365612e-30,\n",
       "         6.20124828e-13,   2.51191143e-30,   1.44056159e-07,\n",
       "         1.49137239e-04,   4.26018207e-28,   0.00000000e+00,\n",
       "         9.99470974e-30,   3.19932908e-01,   0.00000000e+00,\n",
       "         3.72347436e-20,   3.17047489e-23,   7.66683596e-30,\n",
       "         2.78610147e-23,   6.08283996e-12,   3.71665019e-19,\n",
       "         7.18779503e-18,   3.71446012e-23,   1.97863635e-15,\n",
       "         5.63079260e-13,   9.40974854e-10,   1.22679407e-21,\n",
       "         1.63240911e-20,   0.00000000e+00,   1.86182977e-30,\n",
       "         3.66488662e-09,   3.34174588e-16,   2.65577577e-11,\n",
       "         1.30263831e-26,   4.50112777e-12,   1.07396248e-14,\n",
       "         1.07806703e-14,   1.16742304e-12,   3.88373389e-37,\n",
       "         0.00000000e+00,   4.77990807e-11,   8.48059883e-35,\n",
       "         7.62686399e-17,   2.93642170e-21,   9.16239435e-15,\n",
       "         8.51164844e-20,   1.91297033e-19,   4.22606281e-05,\n",
       "         3.53228494e-14,   1.66170950e-16,   8.72901029e-10,\n",
       "         9.24892857e-21,   1.14966689e-10,   2.84622239e-11,\n",
       "         2.07532960e-08,   1.70537055e-06,   3.27141152e-07,\n",
       "         1.23781436e-11,   4.31397612e-10,   3.65324450e-17], dtype=float32)"
      ]
     },
     "execution_count": 23,
     "metadata": {},
     "output_type": "execute_result"
    }
   ],
   "source": [
    "pp = model.predict_proba(X_test)\n",
    "pp[0]"
   ]
  },
  {
   "cell_type": "code",
   "execution_count": 28,
   "metadata": {},
   "outputs": [
    {
     "data": {
      "text/plain": [
       "0.67987359"
      ]
     },
     "execution_count": 28,
     "metadata": {},
     "output_type": "execute_result"
    }
   ],
   "source": [
    "np.argmax(pp[0])\n",
    "np.amax(pp[0])"
   ]
  },
  {
   "cell_type": "code",
   "execution_count": 91,
   "metadata": {},
   "outputs": [
    {
     "data": {
      "text/plain": [
       "11"
      ]
     },
     "execution_count": 91,
     "metadata": {},
     "output_type": "execute_result"
    }
   ],
   "source": [
    "predictions[0]"
   ]
  },
  {
   "cell_type": "code",
   "execution_count": null,
   "metadata": {
    "collapsed": true
   },
   "outputs": [],
   "source": [
    "predictions = model.predict(X)\n",
    "# round predictions\n",
    "rounded = [round(x[0]) for x in predictions]\n",
    "print(rounded)"
   ]
  },
  {
   "cell_type": "code",
   "execution_count": 15,
   "metadata": {
    "collapsed": true
   },
   "outputs": [],
   "source": [
    "model.save('model.h5')\n",
    "#from keras.models import load_model\n",
    "#model = load_model('model.h5')"
   ]
  },
  {
   "cell_type": "code",
   "execution_count": null,
   "metadata": {
    "collapsed": true
   },
   "outputs": [],
   "source": [
    "\n",
    "\n",
    "# evaluate loaded model on test data\n",
    "loaded_model.compile(loss='binary_crossentropy', optimizer='rmsprop', metrics=['accuracy'])\n",
    "score = loaded_model.evaluate(X, Y, verbose=0)\n",
    "print (\"%s: %.2f%%\" % (loaded_model.metrics_names[1], score[1]*100))"
   ]
  }
 ],
 "metadata": {
  "kernelspec": {
   "display_name": "Python 2",
   "language": "python",
   "name": "python2"
  },
  "language_info": {
   "codemirror_mode": {
    "name": "ipython",
    "version": 2
   },
   "file_extension": ".py",
   "mimetype": "text/x-python",
   "name": "python",
   "nbconvert_exporter": "python",
   "pygments_lexer": "ipython2",
   "version": "2.7.13"
  }
 },
 "nbformat": 4,
 "nbformat_minor": 2
}
