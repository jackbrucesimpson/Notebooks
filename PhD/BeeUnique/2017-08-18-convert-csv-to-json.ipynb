{
 "cells": [
  {
   "cell_type": "markdown",
   "metadata": {},
   "source": [
    "# Convert CSV to JSON\n",
    "- JSON files are smaller and faster to read than CSVs\n",
    "- Plus CSV image lists have to be converted from string to list after reading in\n",
    "- I can also convert floats to ints as the extra precision doesn't add anything"
   ]
  },
  {
   "cell_type": "code",
   "execution_count": 18,
   "metadata": {},
   "outputs": [
    {
     "name": "stdout",
     "output_type": "stream",
     "text": [
      "The autoreload extension is already loaded. To reload it, use:\n",
      "  %reload_ext autoreload\n",
      "The version_information extension is already loaded. To reload it, use:\n",
      "  %reload_ext version_information\n"
     ]
    },
    {
     "data": {
      "application/json": {
       "Software versions": [
        {
         "module": "Python",
         "version": "2.7.12 64bit [GCC 5.4.0 20160609]"
        },
        {
         "module": "IPython",
         "version": "5.4.1"
        },
        {
         "module": "OS",
         "version": "Linux 4.10.0 32 generic x86_64 with Ubuntu 16.04 xenial"
        },
        {
         "module": "numpy",
         "version": "1.13.1"
        },
        {
         "module": "scipy",
         "version": "0.19.1"
        },
        {
         "module": "matplotlib",
         "version": "2.0.2"
        },
        {
         "module": "pandas",
         "version": "0.20.3"
        }
       ]
      },
      "text/html": [
       "<table><tr><th>Software</th><th>Version</th></tr><tr><td>Python</td><td>2.7.12 64bit [GCC 5.4.0 20160609]</td></tr><tr><td>IPython</td><td>5.4.1</td></tr><tr><td>OS</td><td>Linux 4.10.0 32 generic x86_64 with Ubuntu 16.04 xenial</td></tr><tr><td>numpy</td><td>1.13.1</td></tr><tr><td>scipy</td><td>0.19.1</td></tr><tr><td>matplotlib</td><td>2.0.2</td></tr><tr><td>pandas</td><td>0.20.3</td></tr><tr><td colspan='2'>Sun Aug 20 19:40:58 2017 AEST</td></tr></table>"
      ],
      "text/latex": [
       "\\begin{tabular}{|l|l|}\\hline\n",
       "{\\bf Software} & {\\bf Version} \\\\ \\hline\\hline\n",
       "Python & 2.7.12 64bit [GCC 5.4.0 20160609] \\\\ \\hline\n",
       "IPython & 5.4.1 \\\\ \\hline\n",
       "OS & Linux 4.10.0 32 generic x86\\_64 with Ubuntu 16.04 xenial \\\\ \\hline\n",
       "numpy & 1.13.1 \\\\ \\hline\n",
       "scipy & 0.19.1 \\\\ \\hline\n",
       "matplotlib & 2.0.2 \\\\ \\hline\n",
       "pandas & 0.20.3 \\\\ \\hline\n",
       "\\hline \\multicolumn{2}{|l|}{Sun Aug 20 19:40:58 2017 AEST} \\\\ \\hline\n",
       "\\end{tabular}\n"
      ],
      "text/plain": [
       "Software versions\n",
       "Python 2.7.12 64bit [GCC 5.4.0 20160609]\n",
       "IPython 5.4.1\n",
       "OS Linux 4.10.0 32 generic x86_64 with Ubuntu 16.04 xenial\n",
       "numpy 1.13.1\n",
       "scipy 0.19.1\n",
       "matplotlib 2.0.2\n",
       "pandas 0.20.3\n",
       "Sun Aug 20 19:40:58 2017 AEST"
      ]
     },
     "execution_count": 18,
     "metadata": {},
     "output_type": "execute_result"
    }
   ],
   "source": [
    "%matplotlib inline\n",
    "#from pylab import rcParams\n",
    "#rcParams['figure.figsize'] = 12, 8\n",
    "\n",
    "%load_ext autoreload\n",
    "%autoreload 2\n",
    "\n",
    "%load_ext version_information\n",
    "%version_information numpy, scipy, matplotlib, pandas"
   ]
  },
  {
   "cell_type": "code",
   "execution_count": 19,
   "metadata": {
    "collapsed": true
   },
   "outputs": [],
   "source": [
    "import matplotlib.pyplot as plt\n",
    "import matplotlib.cm as cm\n",
    "import numpy as np\n",
    "import cv2\n",
    "import pandas as pd\n",
    "import uuid\n",
    "\n",
    "import os\n",
    "import sys\n",
    "import glob\n",
    "import multiprocessing\n",
    "\n",
    "sys.path.append(\"../src\")\n",
    "\n",
    "np.random.seed(0)\n",
    "\n",
    "def view(image):\n",
    "    plt.figure()\n",
    "    plt.axis('off')\n",
    "    plt.imshow(image, cmap = cm.Greys_r)"
   ]
  },
  {
   "cell_type": "code",
   "execution_count": 20,
   "metadata": {
    "collapsed": true
   },
   "outputs": [],
   "source": [
    "def read_coordinates_file(coord_file_path):\n",
    "    file_extension = coord_file_path.split('.')[-1]\n",
    "    if file_extension == 'csv':\n",
    "        coords_data = pd.read_csv(coord_file_path)\n",
    "        coords_data['flattened_28x28_tag_matrices'] = coords_data['flattened_28x28_tag_matrices'].apply(lambda x: eval(x) if x is not np.nan else None)\n",
    "    elif file_extension == 'json':\n",
    "        with open(coord_file_path) as json_file:\n",
    "            coords_data = json.load(json_file)\n",
    "    else:\n",
    "        print('Unknown coordinate file type - not csv or json')\n",
    "        sys.exit(0)\n",
    "\n",
    "    return (coords_data, file_extension)"
   ]
  },
  {
   "cell_type": "code",
   "execution_count": 21,
   "metadata": {},
   "outputs": [],
   "source": [
    "def convert_csv_json(csv_file_path):\n",
    "    video_filename = get_video_filename(csv_file_path)\n",
    "    \n",
    "    df, extension = read_coordinates_file(csv_file_path)\n",
    "    df = df.sort_values('frame_nums', ascending=True)\n",
    "    df['x'] = df['x'].astype(int)\n",
    "    df['y'] = df['y'].astype(int)\n",
    "    \n",
    "    df.to_json('/home/jack/Data/Caffeine_Unique_Tags/raw/' + video_filename + '.json', orient='records')\n",
    "\n",
    "def get_video_filename(video_path):\n",
    "    head, tail = os.path.split(video_path)\n",
    "    str_date_time = os.path.splitext(tail)[0]\n",
    "    return str_date_time"
   ]
  },
  {
   "cell_type": "code",
   "execution_count": 29,
   "metadata": {},
   "outputs": [
    {
     "name": "stdout",
     "output_type": "stream",
     "text": [
      "('/media/jack/JSIMPSON/1b/csv/2017-03-02_08-03-32.csv', 29)\n",
      "(1, '/media/jack/JSIMPSON/1b/csv/2017-03-02_17-03-39.csv')\n"
     ]
    }
   ],
   "source": [
    "csv_file_list = glob.glob('/media/jack/JSIMPSON/1b/csv/*.csv')\n",
    "print(csv_file_list[0], len(csv_file_list))\n",
    "\n",
    "unprocessed_csv_file_list = []\n",
    "for c in csv_file_list:\n",
    "    video_filename = get_video_filename(c)\n",
    "    new_csv_filename = '/home/jack/Data/Caffeine_Unique_Tags/raw/' + video_filename + '.json'\n",
    "    if not os.path.exists(new_csv_filename):\n",
    "        unprocessed_csv_file_list.append(c)\n",
    "\n",
    "print(len(unprocessed_csv_file_list), unprocessed_csv_file_list[0])"
   ]
  },
  {
   "cell_type": "code",
   "execution_count": 30,
   "metadata": {},
   "outputs": [],
   "source": [
    "processes = multiprocessing.Pool(processes=3)\n",
    "frame_data_list = processes.map(func=convert_csv_json, iterable=csv_file_list, chunksize=1)"
   ]
  },
  {
   "cell_type": "code",
   "execution_count": null,
   "metadata": {
    "collapsed": true
   },
   "outputs": [],
   "source": []
  }
 ],
 "metadata": {
  "kernelspec": {
   "display_name": "Python 2",
   "language": "python",
   "name": "python2"
  },
  "language_info": {
   "codemirror_mode": {
    "name": "ipython",
    "version": 2
   },
   "file_extension": ".py",
   "mimetype": "text/x-python",
   "name": "python",
   "nbconvert_exporter": "python",
   "pygments_lexer": "ipython2",
   "version": "2.7.12"
  }
 },
 "nbformat": 4,
 "nbformat_minor": 2
}
