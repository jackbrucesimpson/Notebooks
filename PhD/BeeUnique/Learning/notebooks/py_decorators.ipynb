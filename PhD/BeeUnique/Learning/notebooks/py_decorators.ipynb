{
 "cells": [
  {
   "cell_type": "markdown",
   "metadata": {},
   "source": [
    "# Python Decorators"
   ]
  },
  {
   "cell_type": "code",
   "execution_count": 6,
   "metadata": {},
   "outputs": [
    {
     "name": "stdout",
     "output_type": "stream",
     "text": [
      "a wrapped up box of a new gpu\n"
     ]
    }
   ],
   "source": [
    "def add_wrapping(item):\n",
    "    def wrapped_item():\n",
    "        return 'a wrapped up box of a {}'.format(str(item()))\n",
    "    return wrapped_item\n",
    "\n",
    "@add_wrapping\n",
    "def new_gpu():\n",
    "    return 'new gpu'\n",
    "\n",
    "print(new_gpu())"
   ]
  },
  {
   "cell_type": "code",
   "execution_count": null,
   "metadata": {},
   "outputs": [],
   "source": []
  }
 ],
 "metadata": {
  "kernelspec": {
   "display_name": "Python 3",
   "language": "python",
   "name": "python3"
  },
  "language_info": {
   "codemirror_mode": {
    "name": "ipython",
    "version": 3
   },
   "file_extension": ".py",
   "mimetype": "text/x-python",
   "name": "python",
   "nbconvert_exporter": "python",
   "pygments_lexer": "ipython3",
   "version": "3.5.2"
  }
 },
 "nbformat": 4,
 "nbformat_minor": 2
}
