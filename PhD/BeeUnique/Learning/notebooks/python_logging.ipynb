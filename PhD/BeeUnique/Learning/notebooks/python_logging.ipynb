{
 "cells": [
  {
   "cell_type": "markdown",
   "metadata": {},
   "source": [
    "# Logging in Python\n",
    "\n",
    "Levels of logging in Python:\n",
    "\n",
    "|  Level | Description  |\n",
    "|---|---|\n",
    "| DEBUG  | Detailed information, typically of interest only when diagnosing problems.  |\n",
    "| INFO  | Confirmation that things are working as expected.  |\n",
    "| WARNING  | An indication that something unexpected happened, or indicative of some problem in the near future (e.g. ‘disk space low’). The software is still working as expected.  |\n",
    "| ERROR  | Due to a more serious problem, the software has not been able to perform some function.  |\n",
    "| CRITICAL  | A serious error, indicating that the program itself may be unable to continue running  |\n"
   ]
  },
  {
   "cell_type": "code",
   "execution_count": 1,
   "metadata": {},
   "outputs": [],
   "source": [
    "import logging\n",
    "\n",
    "# anything info level and above will log, but not debug\n",
    "logging.basicConfig(level=logging.DEBUG)\n",
    "# to save to file\n",
    "# logging.basicConfig(filename='logfile.log',level=logging.INFO)"
   ]
  },
  {
   "cell_type": "code",
   "execution_count": 2,
   "metadata": {},
   "outputs": [
    {
     "name": "stderr",
     "output_type": "stream",
     "text": [
      "INFO:root:Square and add numbers 10 and 100\n",
      "DEBUG:root:Check that sum is working for 100 and 10000\n",
      "CRITICAL:root:Stuck in loop\n"
     ]
    },
    {
     "name": "stdout",
     "output_type": "stream",
     "text": [
      "10100\n"
     ]
    }
   ],
   "source": [
    "def square_add_stuff(a, b):\n",
    "    logging.info('Square and add numbers {} and {}'.format(a, b))\n",
    "    a_squared = a * a\n",
    "    b_squared = b * b\n",
    "    \n",
    "    logging.debug('Check that sum is working for {} and {}'.format(a_squared, b_squared))\n",
    "    result = a_squared + b_squared\n",
    "    \n",
    "    while True:\n",
    "        logging.critical('Stuck in loop')\n",
    "        break\n",
    "    \n",
    "    return result\n",
    "\n",
    "r = square_add_stuff(10, 100)\n",
    "print(r)"
   ]
  },
  {
   "cell_type": "code",
   "execution_count": null,
   "metadata": {},
   "outputs": [],
   "source": []
  }
 ],
 "metadata": {
  "kernelspec": {
   "display_name": "Python 3",
   "language": "python",
   "name": "python3"
  },
  "language_info": {
   "codemirror_mode": {
    "name": "ipython",
    "version": 3
   },
   "file_extension": ".py",
   "mimetype": "text/x-python",
   "name": "python",
   "nbconvert_exporter": "python",
   "pygments_lexer": "ipython3",
   "version": "3.6.0"
  }
 },
 "nbformat": 4,
 "nbformat_minor": 2
}
