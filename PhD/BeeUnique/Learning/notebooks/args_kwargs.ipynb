{
 "cells": [
  {
   "cell_type": "markdown",
   "metadata": {},
   "source": [
    "# Python args & kwargs\n",
    "## args"
   ]
  },
  {
   "cell_type": "code",
   "execution_count": 1,
   "metadata": {},
   "outputs": [
    {
     "name": "stdout",
     "output_type": "stream",
     "text": [
      "Great stuff\n",
      "More things\n",
      "Blog 3\n"
     ]
    }
   ],
   "source": [
    "blog1 = 'Great stuff'\n",
    "blog2 = 'More things'\n",
    "blog3 = 'Blog 3'\n",
    "\n",
    "def blog_posts(*args):\n",
    "    for post in args:\n",
    "        print(post)\n",
    "\n",
    "blog_posts(blog1, blog2, blog3)"
   ]
  },
  {
   "cell_type": "markdown",
   "metadata": {},
   "source": [
    "## kwargs"
   ]
  },
  {
   "cell_type": "code",
   "execution_count": 5,
   "metadata": {},
   "outputs": [
    {
     "name": "stdout",
     "output_type": "stream",
     "text": [
      "Blog\n",
      "blog3 Blog 3\n",
      "blog1 Great stuff\n",
      "blog2 More things\n"
     ]
    }
   ],
   "source": [
    "site_title = 'Blog'\n",
    "\n",
    "def blog_posts(title, **kwargs):\n",
    "    print(title)\n",
    "    for p_title, post in kwargs.items():\n",
    "        print(p_title, post)\n",
    "\n",
    "blog_posts(site_title, \n",
    "           blog1 = 'Great stuff', \n",
    "           blog2 = 'More things', \n",
    "           blog3 = 'Blog 3')"
   ]
  },
  {
   "cell_type": "markdown",
   "metadata": {},
   "source": [
    "## Combine args & kwargs"
   ]
  },
  {
   "cell_type": "code",
   "execution_count": 6,
   "metadata": {},
   "outputs": [
    {
     "name": "stdout",
     "output_type": "stream",
     "text": [
      "Blog\n",
      "1\n",
      "2\n",
      "3\n",
      "blog3 Blog 3\n",
      "blog1 Great stuff\n",
      "blog2 More things\n"
     ]
    }
   ],
   "source": [
    "site_title = 'Blog'\n",
    "\n",
    "def blog_posts(title, *args, **kwargs):\n",
    "    print(title)\n",
    "    for arg in args:\n",
    "        print(arg)\n",
    "    for p_title, post in kwargs.items():\n",
    "        print(p_title, post)\n",
    "\n",
    "blog_posts(site_title,\n",
    "           1, 2, 3,\n",
    "           blog1 = 'Great stuff', \n",
    "           blog2 = 'More things', \n",
    "           blog3 = 'Blog 3')"
   ]
  },
  {
   "cell_type": "code",
   "execution_count": null,
   "metadata": {},
   "outputs": [],
   "source": []
  }
 ],
 "metadata": {
  "kernelspec": {
   "display_name": "Python 3",
   "language": "python",
   "name": "python3"
  },
  "language_info": {
   "codemirror_mode": {
    "name": "ipython",
    "version": 3
   },
   "file_extension": ".py",
   "mimetype": "text/x-python",
   "name": "python",
   "nbconvert_exporter": "python",
   "pygments_lexer": "ipython3",
   "version": "3.5.2"
  }
 },
 "nbformat": 4,
 "nbformat_minor": 2
}
