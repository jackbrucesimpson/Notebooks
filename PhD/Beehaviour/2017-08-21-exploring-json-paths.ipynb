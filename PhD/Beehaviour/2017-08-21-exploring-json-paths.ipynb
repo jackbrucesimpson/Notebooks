{
 "cells": [
  {
   "cell_type": "markdown",
   "metadata": {},
   "source": [
    "# Exploring json paths files\n",
    "- Starting analysis of json path files after path processing step\n",
    "- json files contain the datetime of the video which was used to generate them\n",
    "- Each file consists of a list of objects:\n",
    "    - bee_id: Unique number id of the bee path in the file\n",
    "    - start_frame_nums: List of the frame numbers that the paths of the bees started at\n",
    "    - tag_class: Consensus tag classification\n",
    "    - x_paths: List of lists containing all the uninterrupted x coordinates from each path \n",
    "    - y_paths: List of lists containing all the uninterrupted y coordinates from each path "
   ]
  },
  {
   "cell_type": "code",
   "execution_count": 1,
   "metadata": {},
   "outputs": [
    {
     "data": {
      "application/json": {
       "Software versions": [
        {
         "module": "Python",
         "version": "2.7.12 64bit [GCC 5.4.0 20160609]"
        },
        {
         "module": "IPython",
         "version": "5.4.1"
        },
        {
         "module": "OS",
         "version": "Linux 4.10.0 32 generic x86_64 with Ubuntu 16.04 xenial"
        },
        {
         "module": "numpy",
         "version": "1.13.1"
        },
        {
         "module": "scipy",
         "version": "0.19.1"
        },
        {
         "module": "matplotlib",
         "version": "2.0.2"
        },
        {
         "module": "pandas",
         "version": "0.20.3"
        }
       ]
      },
      "text/html": [
       "<table><tr><th>Software</th><th>Version</th></tr><tr><td>Python</td><td>2.7.12 64bit [GCC 5.4.0 20160609]</td></tr><tr><td>IPython</td><td>5.4.1</td></tr><tr><td>OS</td><td>Linux 4.10.0 32 generic x86_64 with Ubuntu 16.04 xenial</td></tr><tr><td>numpy</td><td>1.13.1</td></tr><tr><td>scipy</td><td>0.19.1</td></tr><tr><td>matplotlib</td><td>2.0.2</td></tr><tr><td>pandas</td><td>0.20.3</td></tr><tr><td colspan='2'>Mon Aug 21 22:28:31 2017 AEST</td></tr></table>"
      ],
      "text/latex": [
       "\\begin{tabular}{|l|l|}\\hline\n",
       "{\\bf Software} & {\\bf Version} \\\\ \\hline\\hline\n",
       "Python & 2.7.12 64bit [GCC 5.4.0 20160609] \\\\ \\hline\n",
       "IPython & 5.4.1 \\\\ \\hline\n",
       "OS & Linux 4.10.0 32 generic x86\\_64 with Ubuntu 16.04 xenial \\\\ \\hline\n",
       "numpy & 1.13.1 \\\\ \\hline\n",
       "scipy & 0.19.1 \\\\ \\hline\n",
       "matplotlib & 2.0.2 \\\\ \\hline\n",
       "pandas & 0.20.3 \\\\ \\hline\n",
       "\\hline \\multicolumn{2}{|l|}{Mon Aug 21 22:28:31 2017 AEST} \\\\ \\hline\n",
       "\\end{tabular}\n"
      ],
      "text/plain": [
       "Software versions\n",
       "Python 2.7.12 64bit [GCC 5.4.0 20160609]\n",
       "IPython 5.4.1\n",
       "OS Linux 4.10.0 32 generic x86_64 with Ubuntu 16.04 xenial\n",
       "numpy 1.13.1\n",
       "scipy 0.19.1\n",
       "matplotlib 2.0.2\n",
       "pandas 0.20.3\n",
       "Mon Aug 21 22:28:31 2017 AEST"
      ]
     },
     "execution_count": 1,
     "metadata": {},
     "output_type": "execute_result"
    }
   ],
   "source": [
    "%matplotlib inline\n",
    "#from pylab import rcParams\n",
    "#rcParams['figure.figsize'] = 12, 8\n",
    "\n",
    "%load_ext autoreload\n",
    "%autoreload 2\n",
    "\n",
    "%load_ext version_information\n",
    "%version_information numpy, scipy, matplotlib, pandas"
   ]
  },
  {
   "cell_type": "code",
   "execution_count": 20,
   "metadata": {
    "collapsed": true
   },
   "outputs": [],
   "source": [
    "import matplotlib.pyplot as plt\n",
    "import matplotlib.cm as cm\n",
    "import numpy as np\n",
    "import pandas as pd\n",
    "\n",
    "import os\n",
    "import sys\n",
    "import glob\n",
    "import jsonA\n",
    "from datetime import datetime\n",
    "\n",
    "np.random.seed(0)"
   ]
  },
  {
   "cell_type": "code",
   "execution_count": 36,
   "metadata": {
    "collapsed": true
   },
   "outputs": [],
   "source": [
    "def get_video_filename(file_path):\n",
    "    head, tail = os.path.split(file_path)\n",
    "    str_date_time = os.path.splitext(tail)[0]\n",
    "    return str_date_time\n",
    "\n",
    "def get_video_datetime(file_path):\n",
    "    video_filename = get_video_filename(file_path)\n",
    "    return datetime.strptime(video_filename, \"%Y-%m-%d_%H-%M-%S\")\n",
    "\n",
    "def read_json(coord_file_path):\n",
    "    with open(coord_file_path) as json_file:\n",
    "        coords_data = json.load(json_file)\n",
    "    return coords_data"
   ]
  },
  {
   "cell_type": "code",
   "execution_count": 37,
   "metadata": {
    "collapsed": true
   },
   "outputs": [],
   "source": [
    "def read_all_processed_paths_files(experiment_processed_paths_dir):\n",
    "    if experiment_processed_paths_dir[-1] != '/':\n",
    "        experiment_processed_paths_dir += '/'\n",
    "    json_file_list = glob.glob(experiment_processed_paths_dir + '*.json')\n",
    "    \n",
    "    video_dt_paths = []\n",
    "    for json_file in json_file_list:\n",
    "        path_data = read_json(json_file)\n",
    "        video_date_time = get_video_datetime(json_file)\n",
    "        video_dt_paths.append({'date_time': video_date_time, 'paths': path_data})\n",
    "        \n",
    "    sorted_video_dt_paths = sorted(video_dt_paths, key=lambda k: k['date_time']) \n",
    "    return sorted_video_dt_paths"
   ]
  },
  {
   "cell_type": "code",
   "execution_count": 38,
   "metadata": {},
   "outputs": [],
   "source": [
    "processed_paths_dir = '/home/jack/Data/Caffeine_Unique_Tags/processed/'\n",
    "video_dt_paths = read_all_processed_paths_files(processed_paths_dir)"
   ]
  },
  {
   "cell_type": "code",
   "execution_count": 39,
   "metadata": {},
   "outputs": [
    {
     "name": "stdout",
     "output_type": "stream",
     "text": [
      "2017-02-14 23:32:00\n",
      "2017-02-15 00:32:00\n",
      "2017-02-15 01:32:02\n",
      "2017-02-15 02:32:00\n",
      "2017-02-15 03:32:00\n",
      "2017-02-15 04:32:00\n",
      "2017-02-15 05:32:00\n",
      "2017-02-15 06:32:03\n",
      "2017-02-15 07:32:01\n",
      "2017-02-15 08:32:04\n",
      "2017-02-15 09:32:02\n",
      "2017-02-15 10:32:05\n",
      "2017-02-15 11:32:06\n",
      "2017-02-15 12:32:04\n",
      "2017-02-15 13:32:05\n",
      "2017-02-15 14:32:05\n",
      "2017-02-15 15:32:06\n",
      "2017-02-15 16:32:07\n",
      "2017-02-15 17:32:10\n",
      "2017-02-15 18:32:08\n",
      "2017-02-15 19:32:09\n",
      "2017-02-15 20:32:10\n",
      "2017-02-15 21:32:10\n",
      "2017-02-15 22:32:11\n",
      "2017-02-15 23:32:12\n",
      "2017-02-16 00:32:12\n",
      "2017-02-16 01:32:12\n",
      "2017-02-16 02:32:15\n",
      "2017-02-16 03:32:14\n",
      "2017-02-16 04:32:15\n",
      "2017-02-16 05:32:16\n",
      "2017-02-16 06:32:18\n",
      "2017-02-16 07:32:20\n",
      "2017-02-16 08:32:21\n",
      "2017-02-16 09:32:19\n",
      "2017-02-16 10:32:22\n",
      "2017-02-16 11:32:23\n",
      "2017-02-16 12:32:22\n",
      "2017-02-16 13:32:23\n",
      "2017-02-16 14:32:24\n",
      "2017-02-16 15:32:24\n",
      "2017-02-16 16:32:27\n",
      "2017-02-16 17:32:26\n",
      "2017-02-16 18:32:27\n",
      "2017-02-16 19:32:27\n",
      "2017-02-16 20:32:28\n",
      "2017-02-16 21:32:28\n",
      "2017-02-16 22:32:29\n"
     ]
    }
   ],
   "source": [
    "for p in video_dt_paths:\n",
    "    print(p['date_time'])"
   ]
  },
  {
   "cell_type": "code",
   "execution_count": null,
   "metadata": {
    "collapsed": true
   },
   "outputs": [],
   "source": [
    "for path_index in range(len(x_paths)):\n",
    "    coord_count = 0\n",
    "    for coord_index in range(len(x_paths[path_index])):\n",
    "        x, y = x_paths[path_index][coord_index], y_paths[path_index][coord_index]\n",
    "        "
   ]
  }
 ],
 "metadata": {
  "kernelspec": {
   "display_name": "Python 2",
   "language": "python",
   "name": "python2"
  },
  "language_info": {
   "codemirror_mode": {
    "name": "ipython",
    "version": 2
   },
   "file_extension": ".py",
   "mimetype": "text/x-python",
   "name": "python",
   "nbconvert_exporter": "python",
   "pygments_lexer": "ipython2",
   "version": "2.7.12"
  }
 },
 "nbformat": 4,
 "nbformat_minor": 2
}
