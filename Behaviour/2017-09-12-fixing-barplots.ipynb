{
 "cells": [
  {
   "cell_type": "markdown",
   "metadata": {},
   "source": [
    "# Fixing Barplots\n",
    "- Barplots take ages to generate\n",
    "- X axis not correct, try to fix"
   ]
  },
  {
   "cell_type": "code",
   "execution_count": 1,
   "metadata": {},
   "outputs": [
    {
     "data": {
      "application/json": {
       "Software versions": [
        {
         "module": "Python",
         "version": "2.7.12 64bit [GCC 5.4.0 20160609]"
        },
        {
         "module": "IPython",
         "version": "5.4.1"
        },
        {
         "module": "OS",
         "version": "Linux 4.10.0 33 generic x86_64 with Ubuntu 16.04 xenial"
        },
        {
         "module": "numpy",
         "version": "1.13.1"
        },
        {
         "module": "scipy",
         "version": "0.19.1"
        },
        {
         "module": "matplotlib",
         "version": "2.0.2"
        },
        {
         "module": "pandas",
         "version": "0.20.3"
        }
       ]
      },
      "text/html": [
       "<table><tr><th>Software</th><th>Version</th></tr><tr><td>Python</td><td>2.7.12 64bit [GCC 5.4.0 20160609]</td></tr><tr><td>IPython</td><td>5.4.1</td></tr><tr><td>OS</td><td>Linux 4.10.0 33 generic x86_64 with Ubuntu 16.04 xenial</td></tr><tr><td>numpy</td><td>1.13.1</td></tr><tr><td>scipy</td><td>0.19.1</td></tr><tr><td>matplotlib</td><td>2.0.2</td></tr><tr><td>pandas</td><td>0.20.3</td></tr><tr><td colspan='2'>Thu Sep 14 11:41:26 2017 AEST</td></tr></table>"
      ],
      "text/latex": [
       "\\begin{tabular}{|l|l|}\\hline\n",
       "{\\bf Software} & {\\bf Version} \\\\ \\hline\\hline\n",
       "Python & 2.7.12 64bit [GCC 5.4.0 20160609] \\\\ \\hline\n",
       "IPython & 5.4.1 \\\\ \\hline\n",
       "OS & Linux 4.10.0 33 generic x86\\_64 with Ubuntu 16.04 xenial \\\\ \\hline\n",
       "numpy & 1.13.1 \\\\ \\hline\n",
       "scipy & 0.19.1 \\\\ \\hline\n",
       "matplotlib & 2.0.2 \\\\ \\hline\n",
       "pandas & 0.20.3 \\\\ \\hline\n",
       "\\hline \\multicolumn{2}{|l|}{Thu Sep 14 11:41:26 2017 AEST} \\\\ \\hline\n",
       "\\end{tabular}\n"
      ],
      "text/plain": [
       "Software versions\n",
       "Python 2.7.12 64bit [GCC 5.4.0 20160609]\n",
       "IPython 5.4.1\n",
       "OS Linux 4.10.0 33 generic x86_64 with Ubuntu 16.04 xenial\n",
       "numpy 1.13.1\n",
       "scipy 0.19.1\n",
       "matplotlib 2.0.2\n",
       "pandas 0.20.3\n",
       "Thu Sep 14 11:41:26 2017 AEST"
      ]
     },
     "execution_count": 1,
     "metadata": {},
     "output_type": "execute_result"
    }
   ],
   "source": [
    "%load_ext autoreload\n",
    "%autoreload 2\n",
    "\n",
    "%load_ext version_information\n",
    "%version_information numpy, scipy, matplotlib, pandas"
   ]
  },
  {
   "cell_type": "code",
   "execution_count": 2,
   "metadata": {
    "collapsed": true
   },
   "outputs": [],
   "source": [
    "import os\n",
    "import sys"
   ]
  },
  {
   "cell_type": "code",
   "execution_count": 3,
   "metadata": {
    "collapsed": true
   },
   "outputs": [],
   "source": [
    "sys.path.append(\"/home/jack/Dev/BeeUnique/src\")"
   ]
  },
  {
   "cell_type": "code",
   "execution_count": 4,
   "metadata": {
    "collapsed": true
   },
   "outputs": [],
   "source": [
    "from Processor.PathAnalysis.pathmetrics import PathMetrics\n",
    "from Processor.Utils.graphics import plot_path_bg, plot_histogram, plot_line, plot_seconds_of_activity\n",
    "from Processor.Utils.fileutils import create_dir_check_exists\n",
    "from Processor.Utils import constants"
   ]
  },
  {
   "cell_type": "code",
   "execution_count": 5,
   "metadata": {
    "collapsed": true
   },
   "outputs": [],
   "source": [
    "experiment_directory = '/home/jack/Data/Caffeine_Unique_Tags'\n",
    "\n",
    "plots_dir = create_dir_check_exists(experiment_directory, 'plots')\n",
    "path_bg_dir = create_dir_check_exists(plots_dir, 'path_bg')\n",
    "distances_per_second_window_dir = create_dir_check_exists(plots_dir, 'distances_per_second_window')\n",
    "seconds_spent_in_perimeter_dir = create_dir_check_exists(plots_dir, 'seconds_spent_in_perimeter')\n",
    "consecutive_seconds_motionless_dir = create_dir_check_exists(plots_dir, 'consecutive_seconds_motionless')\n",
    "consecutive_seconds_motionless_path_dir = create_dir_check_exists(plots_dir, 'consecutive_seconds_motionless_path')\n",
    "\n",
    "heatmaps_dir = create_dir_check_exists(plots_dir, 'heatmaps')\n",
    "pm = PathMetrics(experiment_directory)\n",
    "pm.group_bee_data_into_nights_days()\n",
    "pm.generate_night_day_bgs()"
   ]
  },
  {
   "cell_type": "code",
   "execution_count": 8,
   "metadata": {
    "collapsed": true
   },
   "outputs": [],
   "source": [
    "seconds_motionless = []\n",
    "dividing_lines = []\n",
    "\n",
    "bee = pm.tag_class_night_day_metrics[constants.QUEEN_CLASS]\n",
    "\n",
    "for i in range(len(bee['night'])):\n",
    "    night_metrics = bee['night'][i]\n",
    "    day_metrics = bee['day'][i]\n",
    "\n",
    "    for motionless_data in night_metrics.all_motionless_data:\n",
    "        seconds_motionless.append(motionless_data['seconds_motionless'])\n",
    "\n",
    "    dividing_lines.append(sum([abs(s) for s in seconds_motionless]))\n",
    "\n",
    "    for motionless_data in day_metrics.all_motionless_data:\n",
    "        seconds_motionless.append(motionless_data['seconds_motionless'])\n",
    "\n",
    "    #if i == 0:\n",
    "        #break\n",
    "        \n",
    "#print(seconds_motionless)\n",
    "\n",
    "time_period_str = \"all_night_day\"\n",
    "file_name = os.path.join(consecutive_seconds_motionless_path_dir, time_period_str + '.png')\n",
    "plot_seconds_of_activity(seconds_motionless, dividing_lines, file_name)"
   ]
  },
  {
   "cell_type": "code",
   "execution_count": null,
   "metadata": {
    "collapsed": true
   },
   "outputs": [],
   "source": []
  }
 ],
 "metadata": {
  "kernelspec": {
   "display_name": "Python 2",
   "language": "python",
   "name": "python2"
  },
  "language_info": {
   "codemirror_mode": {
    "name": "ipython",
    "version": 2
   },
   "file_extension": ".py",
   "mimetype": "text/x-python",
   "name": "python",
   "nbconvert_exporter": "python",
   "pygments_lexer": "ipython2",
   "version": "2.7.12"
  }
 },
 "nbformat": 4,
 "nbformat_minor": 2
}
