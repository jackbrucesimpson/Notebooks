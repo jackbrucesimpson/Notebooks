{
 "cells": [
  {
   "cell_type": "markdown",
   "metadata": {},
   "source": [
    "# Testing Neural net\n",
    "- Writing out images nn had trouble with"
   ]
  },
  {
   "cell_type": "code",
   "execution_count": 1,
   "metadata": {},
   "outputs": [
    {
     "data": {
      "application/json": {
       "Software versions": [
        {
         "module": "Python",
         "version": "2.7.12 64bit [GCC 5.4.0 20160609]"
        },
        {
         "module": "IPython",
         "version": "5.4.1"
        },
        {
         "module": "OS",
         "version": "Linux 4.10.0 35 generic x86_64 with Ubuntu 16.04 xenial"
        },
        {
         "module": "numpy",
         "version": "1.13.1"
        },
        {
         "module": "scipy",
         "version": "0.19.1"
        },
        {
         "module": "matplotlib",
         "version": "2.0.2"
        },
        {
         "module": "pandas",
         "version": "0.20.3"
        }
       ]
      },
      "text/html": [
       "<table><tr><th>Software</th><th>Version</th></tr><tr><td>Python</td><td>2.7.12 64bit [GCC 5.4.0 20160609]</td></tr><tr><td>IPython</td><td>5.4.1</td></tr><tr><td>OS</td><td>Linux 4.10.0 35 generic x86_64 with Ubuntu 16.04 xenial</td></tr><tr><td>numpy</td><td>1.13.1</td></tr><tr><td>scipy</td><td>0.19.1</td></tr><tr><td>matplotlib</td><td>2.0.2</td></tr><tr><td>pandas</td><td>0.20.3</td></tr><tr><td colspan='2'>Thu Oct 05 09:59:12 2017 AEDT</td></tr></table>"
      ],
      "text/latex": [
       "\\begin{tabular}{|l|l|}\\hline\n",
       "{\\bf Software} & {\\bf Version} \\\\ \\hline\\hline\n",
       "Python & 2.7.12 64bit [GCC 5.4.0 20160609] \\\\ \\hline\n",
       "IPython & 5.4.1 \\\\ \\hline\n",
       "OS & Linux 4.10.0 35 generic x86\\_64 with Ubuntu 16.04 xenial \\\\ \\hline\n",
       "numpy & 1.13.1 \\\\ \\hline\n",
       "scipy & 0.19.1 \\\\ \\hline\n",
       "matplotlib & 2.0.2 \\\\ \\hline\n",
       "pandas & 0.20.3 \\\\ \\hline\n",
       "\\hline \\multicolumn{2}{|l|}{Thu Oct 05 09:59:12 2017 AEDT} \\\\ \\hline\n",
       "\\end{tabular}\n"
      ],
      "text/plain": [
       "Software versions\n",
       "Python 2.7.12 64bit [GCC 5.4.0 20160609]\n",
       "IPython 5.4.1\n",
       "OS Linux 4.10.0 35 generic x86_64 with Ubuntu 16.04 xenial\n",
       "numpy 1.13.1\n",
       "scipy 0.19.1\n",
       "matplotlib 2.0.2\n",
       "pandas 0.20.3\n",
       "Thu Oct 05 09:59:12 2017 AEDT"
      ]
     },
     "execution_count": 1,
     "metadata": {},
     "output_type": "execute_result"
    }
   ],
   "source": [
    "%matplotlib inline\n",
    "from pylab import rcParams\n",
    "rcParams['figure.figsize'] = 12, 6\n",
    "\n",
    "%load_ext autoreload\n",
    "%autoreload 2\n",
    "\n",
    "%load_ext version_information\n",
    "%version_information numpy, scipy, matplotlib, pandas"
   ]
  },
  {
   "cell_type": "code",
   "execution_count": 2,
   "metadata": {},
   "outputs": [],
   "source": [
    "import matplotlib.pyplot as plt\n",
    "import matplotlib.cm as cm\n",
    "import numpy as np\n",
    "import cv2\n",
    "import glob\n",
    "import copy\n",
    "import random\n",
    "import pandas as pd\n",
    "\n",
    "import os\n",
    "import sys\n",
    "\n",
    "np.random.seed(0)\n",
    "\n",
    "def view(image):\n",
    "    plt.figure()\n",
    "    plt.axis('off')\n",
    "    plt.imshow(image, cmap = cm.Greys_r)"
   ]
  },
  {
   "cell_type": "code",
   "execution_count": 3,
   "metadata": {},
   "outputs": [
    {
     "name": "stdout",
     "output_type": "stream",
     "text": [
      "('/home/jack/train/main/Queen/', 52)\n"
     ]
    }
   ],
   "source": [
    "list_image_directory_paths = glob.glob('/home/jack/train/main/*/')\n",
    "print(list_image_directory_paths[0], len(list_image_directory_paths))"
   ]
  },
  {
   "cell_type": "code",
   "execution_count": 4,
   "metadata": {
    "scrolled": true
   },
   "outputs": [
    {
     "name": "stdout",
     "output_type": "stream",
     "text": [
      "('Queen', '/home/jack/train/main/Queen/')\n",
      "('Trident', '/home/jack/train/main/Trident/')\n",
      "('Hash', '/home/jack/train/main/Hash/')\n",
      "('5', '/home/jack/train/main/5/')\n",
      "('CircleHalf', '/home/jack/train/main/CircleHalf/')\n",
      "('Unknown', '/home/jack/train/main/Unknown/')\n",
      "('e', '/home/jack/train/main/e/')\n",
      "('Power', '/home/jack/train/main/Power/')\n",
      "('Peace', '/home/jack/train/main/Peace/')\n",
      "('1', '/home/jack/train/main/1/')\n",
      "('EE', '/home/jack/train/main/EE/')\n",
      "('Pillars', '/home/jack/train/main/Pillars/')\n",
      "('ZZ', '/home/jack/train/main/ZZ/')\n",
      "('Sun', '/home/jack/train/main/Sun/')\n",
      "('h', '/home/jack/train/main/h/')\n",
      "('Plane', '/home/jack/train/main/Plane/')\n",
      "('Asterisk', '/home/jack/train/main/Asterisk/')\n",
      "('a', '/home/jack/train/main/a/')\n",
      "('RR', '/home/jack/train/main/RR/')\n",
      "('ArrowHollow', '/home/jack/train/main/ArrowHollow/')\n",
      "('6', '/home/jack/train/main/6/')\n",
      "('Ankh', '/home/jack/train/main/Ankh/')\n",
      "('r', '/home/jack/train/main/r/')\n",
      "('AA', '/home/jack/train/main/AA/')\n",
      "('3', '/home/jack/train/main/3/')\n",
      "('CircleCross', '/home/jack/train/main/CircleCross/')\n",
      "('4', '/home/jack/train/main/4/')\n",
      "('KK', '/home/jack/train/main/KK/')\n",
      "('Dot', '/home/jack/train/main/Dot/')\n",
      "('y', '/home/jack/train/main/y/')\n",
      "('Necklace', '/home/jack/train/main/Necklace/')\n",
      "('8', '/home/jack/train/main/8/')\n",
      "('Triangle', '/home/jack/train/main/Triangle/')\n",
      "('Ampersand', '/home/jack/train/main/Ampersand/')\n",
      "('Note', '/home/jack/train/main/Note/')\n",
      "('HH', '/home/jack/train/main/HH/')\n",
      "('PP', '/home/jack/train/main/PP/')\n",
      "('Omega', '/home/jack/train/main/Omega/')\n",
      "('MM', '/home/jack/train/main/MM/')\n",
      "('7', '/home/jack/train/main/7/')\n",
      "('XX', '/home/jack/train/main/XX/')\n",
      "('0', '/home/jack/train/main/0/')\n",
      "('Lines3', '/home/jack/train/main/Lines3/')\n",
      "('UU', '/home/jack/train/main/UU/')\n",
      "('ArrowLine', '/home/jack/train/main/ArrowLine/')\n",
      "('Plant', '/home/jack/train/main/Plant/')\n",
      "('CircleLine', '/home/jack/train/main/CircleLine/')\n",
      "('Tadpole', '/home/jack/train/main/Tadpole/')\n",
      "('2', '/home/jack/train/main/2/')\n",
      "('Heart', '/home/jack/train/main/Heart/')\n",
      "('Radioactive', '/home/jack/train/main/Radioactive/')\n",
      "('GG', '/home/jack/train/main/GG/')\n"
     ]
    }
   ],
   "source": [
    "class_images_dict = {}\n",
    "for image_directory_path in list_image_directory_paths:\n",
    "    image_class_name = os.path.basename(os.path.normpath(image_directory_path))\n",
    "    print(image_class_name, image_directory_path)\n",
    "    class_images_dict[image_class_name] = []\n",
    "    \n",
    "    for image_file in glob.glob(image_directory_path + '*.png'):\n",
    "        image = cv2.imread(image_file, cv2.IMREAD_GRAYSCALE)\n",
    "        class_images_dict[image_class_name].append(image)"
   ]
  },
  {
   "cell_type": "code",
   "execution_count": 5,
   "metadata": {},
   "outputs": [
    {
     "name": "stdout",
     "output_type": "stream",
     "text": [
      "('/home/jack/train/increase/Queen/', 51)\n"
     ]
    }
   ],
   "source": [
    "list_image_directory_paths = glob.glob('/home/jack/train/increase/*/')\n",
    "print(list_image_directory_paths[0], len(list_image_directory_paths))"
   ]
  },
  {
   "cell_type": "code",
   "execution_count": 6,
   "metadata": {
    "scrolled": true
   },
   "outputs": [
    {
     "name": "stdout",
     "output_type": "stream",
     "text": [
      "('Queen', '/home/jack/train/increase/Queen/')\n",
      "('Trident', '/home/jack/train/increase/Trident/')\n",
      "('Hash', '/home/jack/train/increase/Hash/')\n",
      "('5', '/home/jack/train/increase/5/')\n",
      "('CircleHalf', '/home/jack/train/increase/CircleHalf/')\n",
      "('e', '/home/jack/train/increase/e/')\n",
      "('Power', '/home/jack/train/increase/Power/')\n",
      "('Peace', '/home/jack/train/increase/Peace/')\n",
      "('1', '/home/jack/train/increase/1/')\n",
      "('EE', '/home/jack/train/increase/EE/')\n",
      "('Pillars', '/home/jack/train/increase/Pillars/')\n",
      "('ZZ', '/home/jack/train/increase/ZZ/')\n",
      "('Sun', '/home/jack/train/increase/Sun/')\n",
      "('h', '/home/jack/train/increase/h/')\n",
      "('Plane', '/home/jack/train/increase/Plane/')\n",
      "('Asterisk', '/home/jack/train/increase/Asterisk/')\n",
      "('a', '/home/jack/train/increase/a/')\n",
      "('RR', '/home/jack/train/increase/RR/')\n",
      "('ArrowHollow', '/home/jack/train/increase/ArrowHollow/')\n",
      "('6', '/home/jack/train/increase/6/')\n",
      "('Ankh', '/home/jack/train/increase/Ankh/')\n",
      "('r', '/home/jack/train/increase/r/')\n",
      "('AA', '/home/jack/train/increase/AA/')\n",
      "('3', '/home/jack/train/increase/3/')\n",
      "('CircleCross', '/home/jack/train/increase/CircleCross/')\n",
      "('4', '/home/jack/train/increase/4/')\n",
      "('KK', '/home/jack/train/increase/KK/')\n",
      "('Dot', '/home/jack/train/increase/Dot/')\n",
      "('y', '/home/jack/train/increase/y/')\n",
      "('Necklace', '/home/jack/train/increase/Necklace/')\n",
      "('8', '/home/jack/train/increase/8/')\n",
      "('Triangle', '/home/jack/train/increase/Triangle/')\n",
      "('Ampersand', '/home/jack/train/increase/Ampersand/')\n",
      "('Note', '/home/jack/train/increase/Note/')\n",
      "('HH', '/home/jack/train/increase/HH/')\n",
      "('PP', '/home/jack/train/increase/PP/')\n",
      "('Omega', '/home/jack/train/increase/Omega/')\n",
      "('MM', '/home/jack/train/increase/MM/')\n",
      "('7', '/home/jack/train/increase/7/')\n",
      "('XX', '/home/jack/train/increase/XX/')\n",
      "('0', '/home/jack/train/increase/0/')\n",
      "('Lines3', '/home/jack/train/increase/Lines3/')\n",
      "('UU', '/home/jack/train/increase/UU/')\n",
      "('ArrowLine', '/home/jack/train/increase/ArrowLine/')\n",
      "('Plant', '/home/jack/train/increase/Plant/')\n",
      "('CircleLine', '/home/jack/train/increase/CircleLine/')\n",
      "('Tadpole', '/home/jack/train/increase/Tadpole/')\n",
      "('2', '/home/jack/train/increase/2/')\n",
      "('Heart', '/home/jack/train/increase/Heart/')\n",
      "('Radioactive', '/home/jack/train/increase/Radioactive/')\n",
      "('GG', '/home/jack/train/increase/GG/')\n"
     ]
    }
   ],
   "source": [
    "increase_class_images_dict = {}\n",
    "for image_directory_path in list_image_directory_paths:\n",
    "    image_class_name = os.path.basename(os.path.normpath(image_directory_path))\n",
    "    print(image_class_name, image_directory_path)\n",
    "    increase_class_images_dict[image_class_name] = []\n",
    "    \n",
    "    for image_file in glob.glob(image_directory_path + '*.png'):\n",
    "        image = cv2.imread(image_file, cv2.IMREAD_GRAYSCALE)\n",
    "        increase_class_images_dict[image_class_name].append(image)"
   ]
  },
  {
   "cell_type": "code",
   "execution_count": 7,
   "metadata": {},
   "outputs": [],
   "source": [
    "image_class_names = {0: 'CircleLine', 1: 'Sun', 2: 'Unknown', 3: 'Peace', 4: 'Pillars', 5: 'HH', 6: 'Ampersand', 7: 'PP', 8: 'Hash', 9: 'RR', 10: 'Ankh', 11: 'Trident', 12: 'Asterisk', 13: '4', 14: 'Lines3', 15: '1', 16: '0', 17: '3', 18: 'Plane', 19: '5', 20: 'CircleHalf', 21: '7', 22: '6', 23: '8', 24: 'Omega', 25: 'ArrowHollow', 26: 'AA', 27: 'Radioactive', 28: 'Heart', 29: 'EE', 30: 'UU', 31: 'Plant', 32: 'GG', 33: 'XX', 34: 'ZZ', 35: 'Necklace', 36: 'Triangle', 37: 'Dot', 38: 'a', 39: 'Note', 40: 'e', 41: 'Power', 42: 'KK', 43: 'h', 44: 'Queen', 45: 'Tadpole', 46: 'MM', 47: '2', 48: 'r', 49: 'ArrowLine', 50: 'y', 51: 'CircleCross'}"
   ]
  },
  {
   "cell_type": "code",
   "execution_count": 8,
   "metadata": {},
   "outputs": [
    {
     "name": "stdout",
     "output_type": "stream",
     "text": [
      "Unknown\n"
     ]
    }
   ],
   "source": [
    "images = []\n",
    "y = []\n",
    "for tag_class in class_images_dict.keys():\n",
    "    tag_class_num = None\n",
    "    for class_num in image_class_names.keys():\n",
    "        if image_class_names[class_num] == tag_class:\n",
    "            tag_class_num = class_num\n",
    "            break\n",
    "    for im in class_images_dict[tag_class]:\n",
    "        images.append(im)\n",
    "        y.append(tag_class_num)\n",
    "    if tag_class in increase_class_images_dict.keys():\n",
    "        for im in increase_class_images_dict[tag_class]:\n",
    "            images.append(im)\n",
    "            y.append(tag_class_num)\n",
    "    else:\n",
    "        print(tag_class)\n",
    "        \n",
    "X = np.array(images)\n",
    "y = np.array(y)"
   ]
  },
  {
   "cell_type": "code",
   "execution_count": 9,
   "metadata": {},
   "outputs": [
    {
     "name": "stderr",
     "output_type": "stream",
     "text": [
      "Using TensorFlow backend.\n"
     ]
    }
   ],
   "source": [
    "from keras.utils import np_utils\n",
    "from keras import backend as K\n",
    "from keras.models import load_model\n",
    "\n",
    "model = load_model('model.h5')\n",
    "Y = np_utils.to_categorical(y, len(set(y)))"
   ]
  },
  {
   "cell_type": "code",
   "execution_count": 10,
   "metadata": {},
   "outputs": [
    {
     "data": {
      "text/plain": [
       "(1795573, 28, 28, 1)"
      ]
     },
     "execution_count": 10,
     "metadata": {},
     "output_type": "execute_result"
    }
   ],
   "source": [
    "img_rows = 28\n",
    "img_cols = 28\n",
    "\n",
    "if K.image_dim_ordering() == 'th':\n",
    "    X = X.reshape(X.shape[0], 1, img_rows, img_cols)\n",
    "else:\n",
    "    X = X.reshape(X.shape[0], img_rows, img_cols, 1)\n",
    "\n",
    "X.shape"
   ]
  },
  {
   "cell_type": "code",
   "execution_count": 11,
   "metadata": {},
   "outputs": [],
   "source": [
    "X = X.astype('float32')\n",
    "X /= 255"
   ]
  },
  {
   "cell_type": "code",
   "execution_count": 12,
   "metadata": {},
   "outputs": [
    {
     "name": "stdout",
     "output_type": "stream",
     "text": [
      "1795232/1795573 [============================>.] - ETA: 0s"
     ]
    },
    {
     "data": {
      "text/plain": [
       "[0.3397640611914729, 0.91638101040759468]"
      ]
     },
     "execution_count": 12,
     "metadata": {},
     "output_type": "execute_result"
    }
   ],
   "source": [
    "score = model.evaluate(X, Y) #, verbose=0\n",
    "score"
   ]
  },
  {
   "cell_type": "code",
   "execution_count": 13,
   "metadata": {},
   "outputs": [
    {
     "name": "stdout",
     "output_type": "stream",
     "text": [
      "1795392/1795573 [============================>.] - ETA: 0s"
     ]
    },
    {
     "data": {
      "text/plain": [
       "array([ 0,  0,  0, ..., 24, 51,  3])"
      ]
     },
     "execution_count": 13,
     "metadata": {},
     "output_type": "execute_result"
    }
   ],
   "source": [
    "pc = model.predict_classes(X)\n",
    "pc"
   ]
  },
  {
   "cell_type": "code",
   "execution_count": null,
   "metadata": {},
   "outputs": [],
   "source": [
    "def create_dir_check_exists(dir_path, new_dir):\n",
    "    new_directory = os.path.join(dir_path, new_dir)\n",
    "    if not os.path.exists(new_directory):\n",
    "        os.makedirs(new_directory)\n",
    "    return new_directory"
   ]
  },
  {
   "cell_type": "code",
   "execution_count": null,
   "metadata": {},
   "outputs": [],
   "source": [
    "main_image_dir = '/home/jack/train/predictions/main'\n",
    "increase_image_dir = '/home/jack/train/predictions/increase'\n",
    "num = 0\n",
    "\n",
    "for i, im in enumerate(images):\n",
    "    num += 1\n",
    "    predicted_class = image_class_names[pc[i]]\n",
    "    real_class = image_class_names[y[i]]\n",
    "    \n",
    "    if predicted_class == real_class:\n",
    "        tag_class_dir = create_dir_check_exists(main_image_dir, real_class)\n",
    "        output_tag_image_path = os.path.join(tag_class_dir, str(num) + '.png')\n",
    "        cv2.imwrite(output_tag_image_path, im)\n",
    "    else:\n",
    "        tag_class_dir = create_dir_check_exists(increase_image_dir, real_class)\n",
    "        output_tag_image_path = os.path.join(tag_class_dir, str(num) + '.png')\n",
    "        cv2.imwrite(output_tag_image_path, im)"
   ]
  },
  {
   "cell_type": "code",
   "execution_count": null,
   "metadata": {},
   "outputs": [],
   "source": []
  }
 ],
 "metadata": {
  "kernelspec": {
   "display_name": "Python 2",
   "language": "python",
   "name": "python2"
  },
  "language_info": {
   "codemirror_mode": {
    "name": "ipython",
    "version": 2
   },
   "file_extension": ".py",
   "mimetype": "text/x-python",
   "name": "python",
   "nbconvert_exporter": "python",
   "pygments_lexer": "ipython2",
   "version": "2.7.12"
  }
 },
 "nbformat": 4,
 "nbformat_minor": 2
}
