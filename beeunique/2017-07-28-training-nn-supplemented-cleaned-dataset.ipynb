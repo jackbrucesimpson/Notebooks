{
 "cells": [
  {
   "cell_type": "markdown",
   "metadata": {},
   "source": [
    "# Training Neural Net on supplemented dataset\n",
    "\n",
    "## Outcome"
   ]
  },
  {
   "cell_type": "code",
   "execution_count": 1,
   "metadata": {},
   "outputs": [
    {
     "data": {
      "application/json": {
       "Software versions": [
        {
         "module": "Python",
         "version": "2.7.12 64bit [GCC 5.4.0 20160609]"
        },
        {
         "module": "IPython",
         "version": "5.4.1"
        },
        {
         "module": "OS",
         "version": "Linux 4.10.0 28 generic x86_64 with Ubuntu 16.04 xenial"
        },
        {
         "module": "numpy",
         "version": "1.13.1"
        },
        {
         "module": "scipy",
         "version": "0.19.1"
        },
        {
         "module": "matplotlib",
         "version": "2.0.2"
        },
        {
         "module": "pandas",
         "version": "0.20.3"
        }
       ]
      },
      "text/html": [
       "<table><tr><th>Software</th><th>Version</th></tr><tr><td>Python</td><td>2.7.12 64bit [GCC 5.4.0 20160609]</td></tr><tr><td>IPython</td><td>5.4.1</td></tr><tr><td>OS</td><td>Linux 4.10.0 28 generic x86_64 with Ubuntu 16.04 xenial</td></tr><tr><td>numpy</td><td>1.13.1</td></tr><tr><td>scipy</td><td>0.19.1</td></tr><tr><td>matplotlib</td><td>2.0.2</td></tr><tr><td>pandas</td><td>0.20.3</td></tr><tr><td colspan='2'>Tue Aug 01 13:41:17 2017 AEST</td></tr></table>"
      ],
      "text/latex": [
       "\\begin{tabular}{|l|l|}\\hline\n",
       "{\\bf Software} & {\\bf Version} \\\\ \\hline\\hline\n",
       "Python & 2.7.12 64bit [GCC 5.4.0 20160609] \\\\ \\hline\n",
       "IPython & 5.4.1 \\\\ \\hline\n",
       "OS & Linux 4.10.0 28 generic x86\\_64 with Ubuntu 16.04 xenial \\\\ \\hline\n",
       "numpy & 1.13.1 \\\\ \\hline\n",
       "scipy & 0.19.1 \\\\ \\hline\n",
       "matplotlib & 2.0.2 \\\\ \\hline\n",
       "pandas & 0.20.3 \\\\ \\hline\n",
       "\\hline \\multicolumn{2}{|l|}{Tue Aug 01 13:41:17 2017 AEST} \\\\ \\hline\n",
       "\\end{tabular}\n"
      ],
      "text/plain": [
       "Software versions\n",
       "Python 2.7.12 64bit [GCC 5.4.0 20160609]\n",
       "IPython 5.4.1\n",
       "OS Linux 4.10.0 28 generic x86_64 with Ubuntu 16.04 xenial\n",
       "numpy 1.13.1\n",
       "scipy 0.19.1\n",
       "matplotlib 2.0.2\n",
       "pandas 0.20.3\n",
       "Tue Aug 01 13:41:17 2017 AEST"
      ]
     },
     "execution_count": 1,
     "metadata": {},
     "output_type": "execute_result"
    }
   ],
   "source": [
    "%matplotlib inline\n",
    "from pylab import rcParams\n",
    "rcParams['figure.figsize'] = 12, 6\n",
    "\n",
    "%load_ext autoreload\n",
    "%autoreload 2\n",
    "\n",
    "%load_ext version_information\n",
    "%version_information numpy, scipy, matplotlib, pandas"
   ]
  },
  {
   "cell_type": "code",
   "execution_count": 2,
   "metadata": {
    "collapsed": true
   },
   "outputs": [],
   "source": [
    "import matplotlib.pyplot as plt\n",
    "import matplotlib.cm as cm\n",
    "import numpy as np\n",
    "import cv2\n",
    "import glob\n",
    "import copy\n",
    "import random\n",
    "import pandas as pd\n",
    "\n",
    "import os\n",
    "import sys\n",
    "\n",
    "sys.path.append(\"../src\")\n",
    "from images_permute import processing_pipeline\n",
    "\n",
    "np.random.seed(0)\n",
    "\n",
    "def view(image):\n",
    "    plt.figure()\n",
    "    plt.axis('off')\n",
    "    plt.imshow(image, cmap = cm.Greys_r)"
   ]
  },
  {
   "cell_type": "markdown",
   "metadata": {},
   "source": [
    "## Split Data\n",
    "- Main directory contains most of the images from the training dataset\n",
    "- Increase directory includes a subset of the training data that my model had trouble with and I want to supplement"
   ]
  },
  {
   "cell_type": "code",
   "execution_count": 3,
   "metadata": {},
   "outputs": [
    {
     "name": "stdout",
     "output_type": "stream",
     "text": [
      "('/home/jack/Data/main/Queen/', 60)\n"
     ]
    }
   ],
   "source": [
    "list_image_directory_paths = glob.glob('/home/jack/Data/main/*/')\n",
    "print(list_image_directory_paths[0], len(list_image_directory_paths))"
   ]
  },
  {
   "cell_type": "code",
   "execution_count": 4,
   "metadata": {
    "scrolled": false
   },
   "outputs": [
    {
     "name": "stdout",
     "output_type": "stream",
     "text": [
      "('Queen', '/home/jack/Data/main/Queen/')\n",
      "('TT', '/home/jack/Data/main/TT/')\n",
      "('Trident', '/home/jack/Data/main/Trident/')\n",
      "('Hash', '/home/jack/Data/main/Hash/')\n",
      "('Leaf', '/home/jack/Data/main/Leaf/')\n",
      "('5', '/home/jack/Data/main/5/')\n",
      "('CircleHalf', '/home/jack/Data/main/CircleHalf/')\n",
      "('Unknown', '/home/jack/Data/main/Unknown/')\n",
      "('e', '/home/jack/Data/main/e/')\n",
      "('Power', '/home/jack/Data/main/Power/')\n",
      "('Peace', '/home/jack/Data/main/Peace/')\n",
      "('1', '/home/jack/Data/main/1/')\n",
      "('EE', '/home/jack/Data/main/EE/')\n",
      "('Pillars', '/home/jack/Data/main/Pillars/')\n",
      "('ZZ', '/home/jack/Data/main/ZZ/')\n",
      "('Sun', '/home/jack/Data/main/Sun/')\n",
      "('h', '/home/jack/Data/main/h/')\n",
      "('Note1', '/home/jack/Data/main/Note1/')\n",
      "('Plane', '/home/jack/Data/main/Plane/')\n",
      "('Asterisk', '/home/jack/Data/main/Asterisk/')\n",
      "('Umbrella', '/home/jack/Data/main/Umbrella/')\n",
      "('a', '/home/jack/Data/main/a/')\n",
      "('RR', '/home/jack/Data/main/RR/')\n",
      "('ArrowHollow', '/home/jack/Data/main/ArrowHollow/')\n",
      "('6', '/home/jack/Data/main/6/')\n",
      "('Ankh', '/home/jack/Data/main/Ankh/')\n",
      "('r', '/home/jack/Data/main/r/')\n",
      "('AA', '/home/jack/Data/main/AA/')\n",
      "('3', '/home/jack/Data/main/3/')\n",
      "('CircleCross', '/home/jack/Data/main/CircleCross/')\n",
      "('Question', '/home/jack/Data/main/Question/')\n",
      "('4', '/home/jack/Data/main/4/')\n",
      "('KK', '/home/jack/Data/main/KK/')\n",
      "('Note2', '/home/jack/Data/main/Note2/')\n",
      "('Dot', '/home/jack/Data/main/Dot/')\n",
      "('y', '/home/jack/Data/main/y/')\n",
      "('Necklace', '/home/jack/Data/main/Necklace/')\n",
      "('8', '/home/jack/Data/main/8/')\n",
      "('Triangle', '/home/jack/Data/main/Triangle/')\n",
      "('Scissors', '/home/jack/Data/main/Scissors/')\n",
      "('Ampersand', '/home/jack/Data/main/Ampersand/')\n",
      "('HH', '/home/jack/Data/main/HH/')\n",
      "('PP', '/home/jack/Data/main/PP/')\n",
      "('Omega', '/home/jack/Data/main/Omega/')\n",
      "('MM', '/home/jack/Data/main/MM/')\n",
      "('7', '/home/jack/Data/main/7/')\n",
      "('XX', '/home/jack/Data/main/XX/')\n",
      "('0', '/home/jack/Data/main/0/')\n",
      "('Lines3', '/home/jack/Data/main/Lines3/')\n",
      "('UU', '/home/jack/Data/main/UU/')\n",
      "('ArrowLine', '/home/jack/Data/main/ArrowLine/')\n",
      "('Plant', '/home/jack/Data/main/Plant/')\n",
      "('CircleLine', '/home/jack/Data/main/CircleLine/')\n",
      "('Tadpole', '/home/jack/Data/main/Tadpole/')\n",
      "('DD', '/home/jack/Data/main/DD/')\n",
      "('n', '/home/jack/Data/main/n/')\n",
      "('2', '/home/jack/Data/main/2/')\n",
      "('Heart', '/home/jack/Data/main/Heart/')\n",
      "('Radioactive', '/home/jack/Data/main/Radioactive/')\n",
      "('GG', '/home/jack/Data/main/GG/')\n"
     ]
    }
   ],
   "source": [
    "class_images_dict = {}\n",
    "for image_directory_path in list_image_directory_paths:\n",
    "    image_class_name = os.path.basename(os.path.normpath(image_directory_path))\n",
    "    print(image_class_name, image_directory_path)\n",
    "    class_images_dict[image_class_name] = []\n",
    "    \n",
    "    for image_file in glob.glob(image_directory_path + '*.png'):\n",
    "        image = cv2.imread(image_file, cv2.IMREAD_GRAYSCALE)\n",
    "        class_images_dict[image_class_name].append(image)"
   ]
  },
  {
   "cell_type": "code",
   "execution_count": 5,
   "metadata": {},
   "outputs": [
    {
     "data": {
      "text/plain": [
       "5694"
      ]
     },
     "execution_count": 5,
     "metadata": {},
     "output_type": "execute_result"
    }
   ],
   "source": [
    "len(class_images_dict['AA'])"
   ]
  },
  {
   "cell_type": "code",
   "execution_count": 6,
   "metadata": {},
   "outputs": [
    {
     "name": "stdout",
     "output_type": "stream",
     "text": [
      "('/home/jack/Data/increase/TT/', 58)\n"
     ]
    }
   ],
   "source": [
    "list_image_directory_paths = glob.glob('/home/jack/Data/increase/*/')\n",
    "print(list_image_directory_paths[0], len(list_image_directory_paths))"
   ]
  },
  {
   "cell_type": "code",
   "execution_count": 7,
   "metadata": {
    "scrolled": true
   },
   "outputs": [
    {
     "name": "stdout",
     "output_type": "stream",
     "text": [
      "('TT', '/home/jack/Data/increase/TT/')\n",
      "('Trident', '/home/jack/Data/increase/Trident/')\n",
      "('Hash', '/home/jack/Data/increase/Hash/')\n",
      "('Leaf', '/home/jack/Data/increase/Leaf/')\n",
      "('5', '/home/jack/Data/increase/5/')\n",
      "('CircleHalf', '/home/jack/Data/increase/CircleHalf/')\n",
      "('e', '/home/jack/Data/increase/e/')\n",
      "('Power', '/home/jack/Data/increase/Power/')\n",
      "('Peace', '/home/jack/Data/increase/Peace/')\n",
      "('1', '/home/jack/Data/increase/1/')\n",
      "('EE', '/home/jack/Data/increase/EE/')\n",
      "('Pillars', '/home/jack/Data/increase/Pillars/')\n",
      "('ZZ', '/home/jack/Data/increase/ZZ/')\n",
      "('Sun', '/home/jack/Data/increase/Sun/')\n",
      "('h', '/home/jack/Data/increase/h/')\n",
      "('Note1', '/home/jack/Data/increase/Note1/')\n",
      "('Plane', '/home/jack/Data/increase/Plane/')\n",
      "('Asterisk', '/home/jack/Data/increase/Asterisk/')\n",
      "('Umbrella', '/home/jack/Data/increase/Umbrella/')\n",
      "('a', '/home/jack/Data/increase/a/')\n",
      "('RR', '/home/jack/Data/increase/RR/')\n",
      "('ArrowHollow', '/home/jack/Data/increase/ArrowHollow/')\n",
      "('6', '/home/jack/Data/increase/6/')\n",
      "('Ankh', '/home/jack/Data/increase/Ankh/')\n",
      "('r', '/home/jack/Data/increase/r/')\n",
      "('AA', '/home/jack/Data/increase/AA/')\n",
      "('3', '/home/jack/Data/increase/3/')\n",
      "('CircleCross', '/home/jack/Data/increase/CircleCross/')\n",
      "('Question', '/home/jack/Data/increase/Question/')\n",
      "('4', '/home/jack/Data/increase/4/')\n",
      "('KK', '/home/jack/Data/increase/KK/')\n",
      "('Note2', '/home/jack/Data/increase/Note2/')\n",
      "('Dot', '/home/jack/Data/increase/Dot/')\n",
      "('y', '/home/jack/Data/increase/y/')\n",
      "('Necklace', '/home/jack/Data/increase/Necklace/')\n",
      "('8', '/home/jack/Data/increase/8/')\n",
      "('Triangle', '/home/jack/Data/increase/Triangle/')\n",
      "('Scissors', '/home/jack/Data/increase/Scissors/')\n",
      "('Ampersand', '/home/jack/Data/increase/Ampersand/')\n",
      "('HH', '/home/jack/Data/increase/HH/')\n",
      "('PP', '/home/jack/Data/increase/PP/')\n",
      "('Omega', '/home/jack/Data/increase/Omega/')\n",
      "('MM', '/home/jack/Data/increase/MM/')\n",
      "('7', '/home/jack/Data/increase/7/')\n",
      "('XX', '/home/jack/Data/increase/XX/')\n",
      "('0', '/home/jack/Data/increase/0/')\n",
      "('Lines3', '/home/jack/Data/increase/Lines3/')\n",
      "('UU', '/home/jack/Data/increase/UU/')\n",
      "('ArrowLine', '/home/jack/Data/increase/ArrowLine/')\n",
      "('Plant', '/home/jack/Data/increase/Plant/')\n",
      "('CircleLine', '/home/jack/Data/increase/CircleLine/')\n",
      "('Tadpole', '/home/jack/Data/increase/Tadpole/')\n",
      "('DD', '/home/jack/Data/increase/DD/')\n",
      "('n', '/home/jack/Data/increase/n/')\n",
      "('2', '/home/jack/Data/increase/2/')\n",
      "('Heart', '/home/jack/Data/increase/Heart/')\n",
      "('Radioactive', '/home/jack/Data/increase/Radioactive/')\n",
      "('GG', '/home/jack/Data/increase/GG/')\n"
     ]
    }
   ],
   "source": [
    "increase_class_images_dict = {}\n",
    "for image_directory_path in list_image_directory_paths:\n",
    "    image_class_name = os.path.basename(os.path.normpath(image_directory_path))\n",
    "    print(image_class_name, image_directory_path)\n",
    "    increase_class_images_dict[image_class_name] = []\n",
    "    \n",
    "    for image_file in glob.glob(image_directory_path + '*.png'):\n",
    "        image = cv2.imread(image_file, cv2.IMREAD_GRAYSCALE)\n",
    "        increase_class_images_dict[image_class_name].append(image)"
   ]
  },
  {
   "cell_type": "code",
   "execution_count": 8,
   "metadata": {},
   "outputs": [
    {
     "data": {
      "text/plain": [
       "2440"
      ]
     },
     "execution_count": 8,
     "metadata": {},
     "output_type": "execute_result"
    }
   ],
   "source": [
    "len(increase_class_images_dict['AA'])"
   ]
  },
  {
   "cell_type": "code",
   "execution_count": 9,
   "metadata": {},
   "outputs": [
    {
     "data": {
      "image/png": "[encoded data removed]",
      "text/plain": [
       "<matplotlib.figure.Figure at 0x7fd3d01368d0>"
      ]
     },
     "metadata": {},
     "output_type": "display_data"
    },
    {
     "data": {
      "image/png": "[encoded data removed]",
      "text/plain": [
       "<matplotlib.figure.Figure at 0x7fd40c463110>"
      ]
     },
     "metadata": {},
     "output_type": "display_data"
    },
    {
     "data": {
      "image/png": "[encoded data removed]",
      "text/plain": [
       "<matplotlib.figure.Figure at 0x7fd3afa81a50>"
      ]
     },
     "metadata": {},
     "output_type": "display_data"
    },
    {
     "data": {
      "image/png": "[encoded data removed]",
      "text/plain": [
       "<matplotlib.figure.Figure at 0x7fd3afa14850>"
      ]
     },
     "metadata": {},
     "output_type": "display_data"
    },
    {
     "data": {
      "image/png": "[encoded data removed]",
      "text/plain": [
       "<matplotlib.figure.Figure at 0x7fd3af98ae90>"
      ]
     },
     "metadata": {},
     "output_type": "display_data"
    },
    {
     "data": {
      "image/png": "[encoded data removed]",
      "text/plain": [
       "<matplotlib.figure.Figure at 0x7fd3af91cd90>"
      ]
     },
     "metadata": {},
     "output_type": "display_data"
    }
   ],
   "source": [
    "for i in range(2):\n",
    "    view(class_images_dict['AA'][i])\n",
    "\n",
    "for i in range(2):\n",
    "    view(class_images_dict['KK'][i])\n",
    "    \n",
    "for i in range(2):\n",
    "    view(class_images_dict['2'][i])"
   ]
  },
  {
   "cell_type": "code",
   "execution_count": 10,
   "metadata": {},
   "outputs": [
    {
     "data": {
      "image/png": "[encoded data removed]",
      "text/plain": [
       "<matplotlib.figure.Figure at 0x7fd3ab5e9250>"
      ]
     },
     "metadata": {},
     "output_type": "display_data"
    },
    {
     "data": {
      "image/png": "[encoded data removed]",
      "text/plain": [
       "<matplotlib.figure.Figure at 0x7fd3ab4f4c50>"
      ]
     },
     "metadata": {},
     "output_type": "display_data"
    },
    {
     "data": {
      "image/png": "[encoded data removed]",
      "text/plain": [
       "<matplotlib.figure.Figure at 0x7fd3ab488ad0>"
      ]
     },
     "metadata": {},
     "output_type": "display_data"
    },
    {
     "data": {
      "image/png": "[encoded data removed]",
      "text/plain": [
       "<matplotlib.figure.Figure at 0x7fd3ab3fded0>"
      ]
     },
     "metadata": {},
     "output_type": "display_data"
    },
    {
     "data": {
      "image/png": "[encoded data removed]",
      "text/plain": [
       "<matplotlib.figure.Figure at 0x7fd3ab38ecd0>"
      ]
     },
     "metadata": {},
     "output_type": "display_data"
    },
    {
     "data": {
      "image/png": "[encoded data removed]",
      "text/plain": [
       "<matplotlib.figure.Figure at 0x7fd3ab310b10>"
      ]
     },
     "metadata": {},
     "output_type": "display_data"
    }
   ],
   "source": [
    "for i in range(2):\n",
    "    view(increase_class_images_dict['AA'][i])\n",
    "\n",
    "for i in range(2):\n",
    "    view(increase_class_images_dict['KK'][i])\n",
    "    \n",
    "for i in range(2):\n",
    "    view(increase_class_images_dict['2'][i])"
   ]
  },
  {
   "cell_type": "code",
   "execution_count": 11,
   "metadata": {},
   "outputs": [
    {
     "data": {
      "text/html": [
       "<div>\n",
       "<style>\n",
       "    .dataframe thead tr:only-child th {\n",
       "        text-align: right;\n",
       "    }\n",
       "\n",
       "    .dataframe thead th {\n",
       "        text-align: left;\n",
       "    }\n",
       "\n",
       "    .dataframe tbody tr th {\n",
       "        vertical-align: top;\n",
       "    }\n",
       "</style>\n",
       "<table border=\"1\" class=\"dataframe\">\n",
       "  <thead>\n",
       "    <tr style=\"text-align: right;\">\n",
       "      <th></th>\n",
       "      <th>class</th>\n",
       "      <th>num_increase</th>\n",
       "      <th>num_main</th>\n",
       "    </tr>\n",
       "  </thead>\n",
       "  <tbody>\n",
       "    <tr>\n",
       "      <th>0</th>\n",
       "      <td>CircleLine</td>\n",
       "      <td>2007</td>\n",
       "      <td>19933</td>\n",
       "    </tr>\n",
       "    <tr>\n",
       "      <th>1</th>\n",
       "      <td>Leaf</td>\n",
       "      <td>1998</td>\n",
       "      <td>8554</td>\n",
       "    </tr>\n",
       "    <tr>\n",
       "      <th>2</th>\n",
       "      <td>Note1</td>\n",
       "      <td>1121</td>\n",
       "      <td>9498</td>\n",
       "    </tr>\n",
       "    <tr>\n",
       "      <th>3</th>\n",
       "      <td>Unknown</td>\n",
       "      <td>0</td>\n",
       "      <td>45665</td>\n",
       "    </tr>\n",
       "    <tr>\n",
       "      <th>4</th>\n",
       "      <td>DD</td>\n",
       "      <td>2768</td>\n",
       "      <td>15757</td>\n",
       "    </tr>\n",
       "    <tr>\n",
       "      <th>5</th>\n",
       "      <td>Peace</td>\n",
       "      <td>1120</td>\n",
       "      <td>17954</td>\n",
       "    </tr>\n",
       "    <tr>\n",
       "      <th>6</th>\n",
       "      <td>Question</td>\n",
       "      <td>1261</td>\n",
       "      <td>10374</td>\n",
       "    </tr>\n",
       "    <tr>\n",
       "      <th>7</th>\n",
       "      <td>Pillars</td>\n",
       "      <td>1152</td>\n",
       "      <td>44860</td>\n",
       "    </tr>\n",
       "    <tr>\n",
       "      <th>8</th>\n",
       "      <td>HH</td>\n",
       "      <td>1104</td>\n",
       "      <td>9195</td>\n",
       "    </tr>\n",
       "    <tr>\n",
       "      <th>9</th>\n",
       "      <td>Ampersand</td>\n",
       "      <td>68</td>\n",
       "      <td>47339</td>\n",
       "    </tr>\n",
       "    <tr>\n",
       "      <th>10</th>\n",
       "      <td>PP</td>\n",
       "      <td>2494</td>\n",
       "      <td>26047</td>\n",
       "    </tr>\n",
       "    <tr>\n",
       "      <th>11</th>\n",
       "      <td>Hash</td>\n",
       "      <td>1998</td>\n",
       "      <td>9924</td>\n",
       "    </tr>\n",
       "    <tr>\n",
       "      <th>12</th>\n",
       "      <td>Power</td>\n",
       "      <td>961</td>\n",
       "      <td>35648</td>\n",
       "    </tr>\n",
       "    <tr>\n",
       "      <th>13</th>\n",
       "      <td>Ankh</td>\n",
       "      <td>714</td>\n",
       "      <td>23267</td>\n",
       "    </tr>\n",
       "    <tr>\n",
       "      <th>14</th>\n",
       "      <td>TT</td>\n",
       "      <td>0</td>\n",
       "      <td>5402</td>\n",
       "    </tr>\n",
       "    <tr>\n",
       "      <th>15</th>\n",
       "      <td>Trident</td>\n",
       "      <td>3883</td>\n",
       "      <td>34273</td>\n",
       "    </tr>\n",
       "    <tr>\n",
       "      <th>16</th>\n",
       "      <td>Asterisk</td>\n",
       "      <td>1304</td>\n",
       "      <td>24444</td>\n",
       "    </tr>\n",
       "    <tr>\n",
       "      <th>17</th>\n",
       "      <td>4</td>\n",
       "      <td>2853</td>\n",
       "      <td>26188</td>\n",
       "    </tr>\n",
       "    <tr>\n",
       "      <th>18</th>\n",
       "      <td>Lines3</td>\n",
       "      <td>1703</td>\n",
       "      <td>12331</td>\n",
       "    </tr>\n",
       "    <tr>\n",
       "      <th>19</th>\n",
       "      <td>1</td>\n",
       "      <td>2104</td>\n",
       "      <td>23146</td>\n",
       "    </tr>\n",
       "    <tr>\n",
       "      <th>20</th>\n",
       "      <td>0</td>\n",
       "      <td>1974</td>\n",
       "      <td>47438</td>\n",
       "    </tr>\n",
       "    <tr>\n",
       "      <th>21</th>\n",
       "      <td>3</td>\n",
       "      <td>2667</td>\n",
       "      <td>47353</td>\n",
       "    </tr>\n",
       "    <tr>\n",
       "      <th>22</th>\n",
       "      <td>Plane</td>\n",
       "      <td>2251</td>\n",
       "      <td>10796</td>\n",
       "    </tr>\n",
       "    <tr>\n",
       "      <th>23</th>\n",
       "      <td>5</td>\n",
       "      <td>4333</td>\n",
       "      <td>55664</td>\n",
       "    </tr>\n",
       "    <tr>\n",
       "      <th>24</th>\n",
       "      <td>CircleHalf</td>\n",
       "      <td>685</td>\n",
       "      <td>20665</td>\n",
       "    </tr>\n",
       "    <tr>\n",
       "      <th>25</th>\n",
       "      <td>7</td>\n",
       "      <td>2325</td>\n",
       "      <td>23317</td>\n",
       "    </tr>\n",
       "    <tr>\n",
       "      <th>26</th>\n",
       "      <td>Sun</td>\n",
       "      <td>794</td>\n",
       "      <td>8431</td>\n",
       "    </tr>\n",
       "    <tr>\n",
       "      <th>27</th>\n",
       "      <td>8</td>\n",
       "      <td>781</td>\n",
       "      <td>45292</td>\n",
       "    </tr>\n",
       "    <tr>\n",
       "      <th>28</th>\n",
       "      <td>Omega</td>\n",
       "      <td>2288</td>\n",
       "      <td>32607</td>\n",
       "    </tr>\n",
       "    <tr>\n",
       "      <th>29</th>\n",
       "      <td>ArrowHollow</td>\n",
       "      <td>1350</td>\n",
       "      <td>10667</td>\n",
       "    </tr>\n",
       "    <tr>\n",
       "      <th>30</th>\n",
       "      <td>AA</td>\n",
       "      <td>2440</td>\n",
       "      <td>5694</td>\n",
       "    </tr>\n",
       "    <tr>\n",
       "      <th>31</th>\n",
       "      <td>Note2</td>\n",
       "      <td>647</td>\n",
       "      <td>5058</td>\n",
       "    </tr>\n",
       "    <tr>\n",
       "      <th>32</th>\n",
       "      <td>Radioactive</td>\n",
       "      <td>2075</td>\n",
       "      <td>54532</td>\n",
       "    </tr>\n",
       "    <tr>\n",
       "      <th>33</th>\n",
       "      <td>EE</td>\n",
       "      <td>2196</td>\n",
       "      <td>14267</td>\n",
       "    </tr>\n",
       "    <tr>\n",
       "      <th>34</th>\n",
       "      <td>UU</td>\n",
       "      <td>1712</td>\n",
       "      <td>24882</td>\n",
       "    </tr>\n",
       "    <tr>\n",
       "      <th>35</th>\n",
       "      <td>6</td>\n",
       "      <td>2769</td>\n",
       "      <td>19864</td>\n",
       "    </tr>\n",
       "    <tr>\n",
       "      <th>36</th>\n",
       "      <td>Plant</td>\n",
       "      <td>1264</td>\n",
       "      <td>14034</td>\n",
       "    </tr>\n",
       "    <tr>\n",
       "      <th>37</th>\n",
       "      <td>GG</td>\n",
       "      <td>766</td>\n",
       "      <td>11695</td>\n",
       "    </tr>\n",
       "    <tr>\n",
       "      <th>38</th>\n",
       "      <td>XX</td>\n",
       "      <td>1317</td>\n",
       "      <td>48262</td>\n",
       "    </tr>\n",
       "    <tr>\n",
       "      <th>39</th>\n",
       "      <td>ZZ</td>\n",
       "      <td>1522</td>\n",
       "      <td>38758</td>\n",
       "    </tr>\n",
       "    <tr>\n",
       "      <th>40</th>\n",
       "      <td>Necklace</td>\n",
       "      <td>1750</td>\n",
       "      <td>13287</td>\n",
       "    </tr>\n",
       "    <tr>\n",
       "      <th>41</th>\n",
       "      <td>Umbrella</td>\n",
       "      <td>230</td>\n",
       "      <td>6763</td>\n",
       "    </tr>\n",
       "    <tr>\n",
       "      <th>42</th>\n",
       "      <td>Triangle</td>\n",
       "      <td>1264</td>\n",
       "      <td>37636</td>\n",
       "    </tr>\n",
       "    <tr>\n",
       "      <th>43</th>\n",
       "      <td>Dot</td>\n",
       "      <td>187</td>\n",
       "      <td>13976</td>\n",
       "    </tr>\n",
       "    <tr>\n",
       "      <th>44</th>\n",
       "      <td>a</td>\n",
       "      <td>2305</td>\n",
       "      <td>27787</td>\n",
       "    </tr>\n",
       "    <tr>\n",
       "      <th>45</th>\n",
       "      <td>Heart</td>\n",
       "      <td>939</td>\n",
       "      <td>30406</td>\n",
       "    </tr>\n",
       "    <tr>\n",
       "      <th>46</th>\n",
       "      <td>e</td>\n",
       "      <td>1871</td>\n",
       "      <td>33892</td>\n",
       "    </tr>\n",
       "    <tr>\n",
       "      <th>47</th>\n",
       "      <td>RR</td>\n",
       "      <td>1722</td>\n",
       "      <td>8703</td>\n",
       "    </tr>\n",
       "    <tr>\n",
       "      <th>48</th>\n",
       "      <td>KK</td>\n",
       "      <td>3356</td>\n",
       "      <td>36395</td>\n",
       "    </tr>\n",
       "    <tr>\n",
       "      <th>49</th>\n",
       "      <td>h</td>\n",
       "      <td>4197</td>\n",
       "      <td>22166</td>\n",
       "    </tr>\n",
       "    <tr>\n",
       "      <th>50</th>\n",
       "      <td>Queen</td>\n",
       "      <td>0</td>\n",
       "      <td>10549</td>\n",
       "    </tr>\n",
       "    <tr>\n",
       "      <th>51</th>\n",
       "      <td>Tadpole</td>\n",
       "      <td>4420</td>\n",
       "      <td>13638</td>\n",
       "    </tr>\n",
       "    <tr>\n",
       "      <th>52</th>\n",
       "      <td>n</td>\n",
       "      <td>1203</td>\n",
       "      <td>8168</td>\n",
       "    </tr>\n",
       "    <tr>\n",
       "      <th>53</th>\n",
       "      <td>MM</td>\n",
       "      <td>3422</td>\n",
       "      <td>59639</td>\n",
       "    </tr>\n",
       "    <tr>\n",
       "      <th>54</th>\n",
       "      <td>2</td>\n",
       "      <td>1735</td>\n",
       "      <td>22131</td>\n",
       "    </tr>\n",
       "    <tr>\n",
       "      <th>55</th>\n",
       "      <td>r</td>\n",
       "      <td>2968</td>\n",
       "      <td>18237</td>\n",
       "    </tr>\n",
       "    <tr>\n",
       "      <th>56</th>\n",
       "      <td>ArrowLine</td>\n",
       "      <td>1261</td>\n",
       "      <td>17532</td>\n",
       "    </tr>\n",
       "    <tr>\n",
       "      <th>57</th>\n",
       "      <td>y</td>\n",
       "      <td>2539</td>\n",
       "      <td>26248</td>\n",
       "    </tr>\n",
       "    <tr>\n",
       "      <th>58</th>\n",
       "      <td>Scissors</td>\n",
       "      <td>1544</td>\n",
       "      <td>20086</td>\n",
       "    </tr>\n",
       "    <tr>\n",
       "      <th>59</th>\n",
       "      <td>CircleCross</td>\n",
       "      <td>961</td>\n",
       "      <td>23080</td>\n",
       "    </tr>\n",
       "  </tbody>\n",
       "</table>\n",
       "</div>"
      ],
      "text/plain": [
       "          class  num_increase  num_main\n",
       "0    CircleLine          2007     19933\n",
       "1          Leaf          1998      8554\n",
       "2         Note1          1121      9498\n",
       "3       Unknown             0     45665\n",
       "4            DD          2768     15757\n",
       "5         Peace          1120     17954\n",
       "6      Question          1261     10374\n",
       "7       Pillars          1152     44860\n",
       "8            HH          1104      9195\n",
       "9     Ampersand            68     47339\n",
       "10           PP          2494     26047\n",
       "11         Hash          1998      9924\n",
       "12        Power           961     35648\n",
       "13         Ankh           714     23267\n",
       "14           TT             0      5402\n",
       "15      Trident          3883     34273\n",
       "16     Asterisk          1304     24444\n",
       "17            4          2853     26188\n",
       "18       Lines3          1703     12331\n",
       "19            1          2104     23146\n",
       "20            0          1974     47438\n",
       "21            3          2667     47353\n",
       "22        Plane          2251     10796\n",
       "23            5          4333     55664\n",
       "24   CircleHalf           685     20665\n",
       "25            7          2325     23317\n",
       "26          Sun           794      8431\n",
       "27            8           781     45292\n",
       "28        Omega          2288     32607\n",
       "29  ArrowHollow          1350     10667\n",
       "30           AA          2440      5694\n",
       "31        Note2           647      5058\n",
       "32  Radioactive          2075     54532\n",
       "33           EE          2196     14267\n",
       "34           UU          1712     24882\n",
       "35            6          2769     19864\n",
       "36        Plant          1264     14034\n",
       "37           GG           766     11695\n",
       "38           XX          1317     48262\n",
       "39           ZZ          1522     38758\n",
       "40     Necklace          1750     13287\n",
       "41     Umbrella           230      6763\n",
       "42     Triangle          1264     37636\n",
       "43          Dot           187     13976\n",
       "44            a          2305     27787\n",
       "45        Heart           939     30406\n",
       "46            e          1871     33892\n",
       "47           RR          1722      8703\n",
       "48           KK          3356     36395\n",
       "49            h          4197     22166\n",
       "50        Queen             0     10549\n",
       "51      Tadpole          4420     13638\n",
       "52            n          1203      8168\n",
       "53           MM          3422     59639\n",
       "54            2          1735     22131\n",
       "55            r          2968     18237\n",
       "56    ArrowLine          1261     17532\n",
       "57            y          2539     26248\n",
       "58     Scissors          1544     20086\n",
       "59  CircleCross           961     23080"
      ]
     },
     "execution_count": 11,
     "metadata": {},
     "output_type": "execute_result"
    }
   ],
   "source": [
    "num_images_by_class = {'class': [], 'num_main': [], 'num_increase': []}\n",
    "\n",
    "for k in class_images_dict.keys():\n",
    "    num_images_by_class['class'].append(k)\n",
    "    num_images_by_class['num_main'].append(len(class_images_dict[k]))\n",
    "    if k in increase_class_images_dict.keys():\n",
    "        num_images_by_class['num_increase'].append(len(increase_class_images_dict[k]))\n",
    "    else:\n",
    "        num_images_by_class['num_increase'].append(0)\n",
    "    \n",
    "pd.DataFrame(num_images_by_class)"
   ]
  },
  {
   "cell_type": "code",
   "execution_count": 12,
   "metadata": {},
   "outputs": [
    {
     "data": {
      "image/png": "[encoded data removed]",
      "text/plain": [
       "<matplotlib.figure.Figure at 0x7fd3ab13c250>"
      ]
     },
     "metadata": {},
     "output_type": "display_data"
    },
    {
     "data": {
      "image/png": "[encoded data removed]",
      "text/plain": [
       "<matplotlib.figure.Figure at 0x7fd3ab1c0450>"
      ]
     },
     "metadata": {},
     "output_type": "display_data"
    }
   ],
   "source": [
    "plt.figure()\n",
    "plt.hist(num_images_by_class['num_main'])\n",
    "plt.show()\n",
    "\n",
    "plt.figure()\n",
    "plt.hist(num_images_by_class['num_increase'])\n",
    "plt.show()"
   ]
  },
  {
   "cell_type": "markdown",
   "metadata": {},
   "source": [
    "## Upsampling Classes\n",
    "I've decided to increase the number and variation of different classes depending on how many training samples I have. I'm aiming for each group to end up with ~90-120k images per class.\n",
    "- 45k+   x 2\n",
    "- 30-45k x 3\n",
    "- 20-30k x 5\n",
    "- 15-20k x 7\n",
    "- 10-15k x 10\n",
    "- <10k   x 18"
   ]
  },
  {
   "cell_type": "code",
   "execution_count": 13,
   "metadata": {
    "collapsed": true
   },
   "outputs": [],
   "source": [
    "def norm_image(image):\n",
    "    image[image < 0] = 0\n",
    "    image[image > 255] = 255\n",
    "    return np.uint8(image)\n",
    "\n",
    "def add_noise(image, n_or_u):\n",
    "    noise = np.zeros((28,28), np.uint8)\n",
    "    if n_or_u == 'n':\n",
    "        cv2.randn(noise, 30, 2)\n",
    "    else:\n",
    "        cv2.randu(noise, 20, 2)\n",
    "    noisy_image = np.uint32(image) + noise\n",
    "    noisy_image[noisy_image < 0] = 0\n",
    "    noisy_image[noisy_image > 255] = 255\n",
    "    noisy_image = np.uint8(noisy_image)\n",
    "    return noisy_image\n",
    "\n",
    "def rotate_image(image, degrees):\n",
    "    rotated_images = []\n",
    "    for angle in range(degrees, 360, degrees):\n",
    "        M = cv2.getRotationMatrix2D((14,14),angle,1)\n",
    "        r = cv2.warpAffine(image,M,(28,28))\n",
    "        rotated_images.append(r)\n",
    "    return rotated_images\n",
    "\n",
    "def change_brightness(image):\n",
    "    image_int32 = np.int32(image)\n",
    "    increase_brightness = norm_image(image_int32 + 80)\n",
    "    decrease_brightness = norm_image(image_int32 - 80)\n",
    "    return [increase_brightness, decrease_brightness]\n",
    "\n",
    "def change_contrast(image):\n",
    "    image_int32 = np.int32(image)\n",
    "    increase_contrast = norm_image(image_int32 * 1.4)\n",
    "    decrease_contrast = norm_image(image_int32 * 0.4)\n",
    "    return [increase_contrast, decrease_contrast]\n",
    "    \n",
    "def occlude_edges(image):\n",
    "    full_size = np.zeros((28, 28), dtype=np.uint8)\n",
    "    full_size[2:26, 2:26] = image[2:26, 2:26]\n",
    "    return full_size\n",
    "\n",
    "def mean_smooth(image):\n",
    "    mean_smoothed = cv2.blur(image, (3, 3))\n",
    "    return mean_smoothed"
   ]
  },
  {
   "cell_type": "code",
   "execution_count": 45,
   "metadata": {
    "collapsed": true
   },
   "outputs": [],
   "source": [
    "def gen_2_images(image):\n",
    "    new_images = [image]\n",
    "    new_images.append(rotate_image(image, 140)[0])\n",
    "    new_images[1] = norm_image(np.int32(new_images[1]) - 80)\n",
    "    \n",
    "    return new_images\n",
    "\n",
    "def gen_3_images(image):\n",
    "    new_images = [image]\n",
    "    new_images.extend(rotate_image(image, 140))\n",
    "    new_images[1] = norm_image(np.int32(new_images[1]) + 80)\n",
    "    new_images[2] = norm_image(np.int32(new_images[2]) - 80)\n",
    "    return new_images\n",
    "    \n",
    "def gen_5_images(image):\n",
    "    new_images = [image]\n",
    "    new_images.extend(rotate_image(image, 140))\n",
    "    new_images.extend(change_brightness(image))\n",
    "    return new_images\n",
    "    \n",
    "def gen_7_images(image):\n",
    "    new_images = [image]\n",
    "    new_images.extend(rotate_image(image, 120))\n",
    "    new_images.extend(change_brightness(image))\n",
    "    new_images.append(add_noise(image, 'u'))\n",
    "    new_images.append(occlude_edges(mean_smooth(image)))\n",
    "    return new_images\n",
    "\n",
    "def gen_10_images(image):\n",
    "    new_images = [image]\n",
    "    new_images.extend(rotate_image(image, 90))\n",
    "    new_images.extend(change_brightness(image))\n",
    "    new_images.extend(change_contrast(image))\n",
    "    new_images.append(add_noise(image, 'u'))\n",
    "    new_images.append(occlude_edges(mean_smooth(image)))\n",
    "    return new_images\n",
    "\n",
    "def gen_18_images(image):\n",
    "    new_images = [image]\n",
    "    for rotated_image in rotate_image(image, 65):\n",
    "        new_images.extend(change_brightness(rotated_image))\n",
    "        new_images.append(add_noise(image, 'u'))\n",
    "        \n",
    "    new_images.extend(change_contrast(image))\n",
    "    new_images.append(mean_smooth(image))\n",
    "    new_images.append(occlude_edges(image))\n",
    "    return new_images"
   ]
  },
  {
   "cell_type": "code",
   "execution_count": 47,
   "metadata": {},
   "outputs": [
    {
     "name": "stdout",
     "output_type": "stream",
     "text": [
      "20\n"
     ]
    },
    {
     "data": {
      "image/png": "[encoded data removed]",
      "text/plain": [
       "<matplotlib.figure.Figure at 0x7fd3af884750>"
      ]
     },
     "metadata": {},
     "output_type": "display_data"
    },
    {
     "data": {
      "image/png": "[encoded data removed]",
      "text/plain": [
       "<matplotlib.figure.Figure at 0x7fd3aa61ba90>"
      ]
     },
     "metadata": {},
     "output_type": "display_data"
    },
    {
     "data": {
      "image/png": "[encoded data removed]",
      "text/plain": [
       "<matplotlib.figure.Figure at 0x7fd3aa818810>"
      ]
     },
     "metadata": {},
     "output_type": "display_data"
    },
    {
     "data": {
      "image/png": "[encoded data removed]",
      "text/plain": [
       "<matplotlib.figure.Figure at 0x7fd3ab43f190>"
      ]
     },
     "metadata": {},
     "output_type": "display_data"
    },
    {
     "data": {
      "image/png": "[encoded data removed]",
      "text/plain": [
       "<matplotlib.figure.Figure at 0x7fd3aa84dc10>"
      ]
     },
     "metadata": {},
     "output_type": "display_data"
    },
    {
     "data": {
      "image/png": "[encoded data removed]",
      "text/plain": [
       "<matplotlib.figure.Figure at 0x7fd3ab45a290>"
      ]
     },
     "metadata": {},
     "output_type": "display_data"
    },
    {
     "data": {
      "image/png": "[encoded data removed]",
      "text/plain": [
       "<matplotlib.figure.Figure at 0x7fd3ab2d9050>"
      ]
     },
     "metadata": {},
     "output_type": "display_data"
    },
    {
     "data": {
      "image/png": "[encoded data removed]",
      "text/plain": [
       "<matplotlib.figure.Figure at 0x7fd3aa9fb4d0>"
      ]
     },
     "metadata": {},
     "output_type": "display_data"
    },
    {
     "data": {
      "image/png": "[encoded data removed]",
      "text/plain": [
       "<matplotlib.figure.Figure at 0x7fd3afb343d0>"
      ]
     },
     "metadata": {},
     "output_type": "display_data"
    },
    {
     "data": {
      "image/png": "[encoded data removed]",
      "text/plain": [
       "<matplotlib.figure.Figure at 0x7fd3ab25f810>"
      ]
     },
     "metadata": {},
     "output_type": "display_data"
    },
    {
     "data": {
      "image/png": "[encoded data removed]",
      "text/plain": [
       "<matplotlib.figure.Figure at 0x7fd3ab0dcfd0>"
      ]
     },
     "metadata": {},
     "output_type": "display_data"
    },
    {
     "data": {
      "image/png": "[encoded data removed]",
      "text/plain": [
       "<matplotlib.figure.Figure at 0x7fd3ab213210>"
      ]
     },
     "metadata": {},
     "output_type": "display_data"
    },
    {
     "data": {
      "image/png": "[encoded data removed]",
      "text/plain": [
       "<matplotlib.figure.Figure at 0x7fd3aa614f10>"
      ]
     },
     "metadata": {},
     "output_type": "display_data"
    },
    {
     "data": {
      "image/png": "[encoded data removed]",
      "text/plain": [
       "<matplotlib.figure.Figure at 0x7fd3aa939cd0>"
      ]
     },
     "metadata": {},
     "output_type": "display_data"
    },
    {
     "data": {
      "image/png": "[encoded data removed]",
      "text/plain": [
       "<matplotlib.figure.Figure at 0x7fd3afa13f50>"
      ]
     },
     "metadata": {},
     "output_type": "display_data"
    },
    {
     "data": {
      "image/png": "[encoded data removed]",
      "text/plain": [
       "<matplotlib.figure.Figure at 0x7fd3ab0fde10>"
      ]
     },
     "metadata": {},
     "output_type": "display_data"
    },
    {
     "data": {
      "image/png": "[encoded data removed]",
      "text/plain": [
       "<matplotlib.figure.Figure at 0x7fd3ab014cd0>"
      ]
     },
     "metadata": {},
     "output_type": "display_data"
    },
    {
     "data": {
      "image/png": "[encoded data removed]",
      "text/plain": [
       "<matplotlib.figure.Figure at 0x7fd3ab37bd90>"
      ]
     },
     "metadata": {},
     "output_type": "display_data"
    },
    {
     "data": {
      "image/png": "[encoded data removed]",
      "text/plain": [
       "<matplotlib.figure.Figure at 0x7fd3ab193c50>"
      ]
     },
     "metadata": {},
     "output_type": "display_data"
    },
    {
     "data": {
      "image/png": "[encoded data removed]",
      "text/plain": [
       "<matplotlib.figure.Figure at 0x7fd3ab63fd10>"
      ]
     },
     "metadata": {},
     "output_type": "display_data"
    }
   ],
   "source": [
    "test_image = class_images_dict['2'][0]\n",
    "gen_fun = gen_18_images\n",
    "print(len(gen_fun(test_image)))\n",
    "for im in gen_fun(test_image):\n",
    "    view(im)"
   ]
  },
  {
   "cell_type": "code",
   "execution_count": 48,
   "metadata": {
    "collapsed": true
   },
   "outputs": [],
   "source": [
    "def augment_image_class(image_list_to_increase):\n",
    "    num_images = len(image_list_to_increase)\n",
    "    increase_images_func = None\n",
    "    augmented_image_list = []\n",
    "    \n",
    "    if num_images > 45000:\n",
    "        increase_images_func = gen_2_images\n",
    "    elif num_images > 30000:\n",
    "        increase_images_func = gen_3_images\n",
    "    elif num_images > 20000:\n",
    "        increase_images_func = gen_5_images\n",
    "    elif num_images > 15000:\n",
    "        increase_images_func = gen_7_images\n",
    "    elif num_images > 10000:\n",
    "        increase_images_func = gen_10_images\n",
    "    else:\n",
    "        #images < 10k\n",
    "        increase_images_func = gen_18_images\n",
    "        \n",
    "    for image in image_list_to_increase:\n",
    "        augmented_image_list.extend(increase_images_func(image))\n",
    "        \n",
    "    return augmented_image_list\n",
    "\n",
    "def augent_images_to_increase(image_list_to_increase):\n",
    "    augmented_image_list = []\n",
    "    for image in image_list_to_increase:\n",
    "        augmented_image_list.extend(gen_10_images(image))\n",
    "    return augmented_image_list"
   ]
  },
  {
   "cell_type": "code",
   "execution_count": 49,
   "metadata": {},
   "outputs": [
    {
     "name": "stdout",
     "output_type": "stream",
     "text": [
      "('CircleLine', 159601, 159601)\n",
      "('Leaf', 191060, 191060)\n",
      "('Note1', 201170, 201170)\n",
      "('Unknown', 91330, 91330)\n",
      "('DD', 137979, 137979)\n",
      "('Peace', 136878, 136878)\n",
      "('Question', 116350, 116350)\n",
      "('Pillars', 146100, 146100)\n",
      "('HH', 194940, 194940)\n",
      "('Ampersand', 95358, 95358)\n",
      "('PP', 155175, 155175)\n",
      "('Hash', 218460, 218460)\n",
      "('Power', 116554, 116554)\n",
      "('Ankh', 123475, 123475)\n",
      "('TT', 108040, 108040)\n",
      "('Trident', 141649, 141649)\n",
      "('Asterisk', 135260, 135260)\n",
      "('4', 159470, 159470)\n",
      "('Lines3', 140340, 140340)\n",
      "('1', 136770, 136770)\n",
      "('0', 114616, 114616)\n",
      "('3', 121376, 121376)\n",
      "('Plane', 130470, 130470)\n",
      "('5', 154658, 154658)\n",
      "('CircleHalf', 110175, 110175)\n",
      "('7', 139835, 139835)\n",
      "('Sun', 176560, 176560)\n",
      "('8', 98394, 98394)\n",
      "('Omega', 120701, 120701)\n",
      "('ArrowHollow', 120170, 120170)\n",
      "('AA', 138280, 138280)\n",
      "('Note2', 107630, 107630)\n",
      "('Radioactive', 129814, 129814)\n",
      "('EE', 164630, 164630)\n",
      "('UU', 141530, 141530)\n",
      "('6', 166738, 166738)\n",
      "('Plant', 152980, 152980)\n",
      "('GG', 124610, 124610)\n",
      "('XX', 109694, 109694)\n",
      "('ZZ', 131494, 131494)\n",
      "('Necklace', 150370, 150370)\n",
      "('Umbrella', 137560, 137560)\n",
      "('Triangle', 125548, 125548)\n",
      "('Dot', 141630, 141630)\n",
      "('a', 161985, 161985)\n",
      "('Heart', 100608, 100608)\n",
      "('e', 120386, 120386)\n",
      "('RR', 191280, 191280)\n",
      "('KK', 142745, 142745)\n",
      "('h', 152800, 152800)\n",
      "('Queen', 105490, 105490)\n",
      "('Tadpole', 180580, 180580)\n",
      "('n', 175390, 175390)\n",
      "('MM', 153498, 153498)\n",
      "('2', 128005, 128005)\n",
      "('r', 157339, 157339)\n",
      "('ArrowLine', 135334, 135334)\n",
      "('y', 156630, 156630)\n",
      "('Scissors', 115870, 115870)\n",
      "('CircleCross', 125010, 125010)\n"
     ]
    }
   ],
   "source": [
    "X = []\n",
    "image_class_names_index = 0\n",
    "image_class_names = {}\n",
    "y = []\n",
    "\n",
    "for tag_class in class_images_dict.keys():\n",
    "    image_class_names[image_class_names_index] = tag_class\n",
    "    generated_images = augment_image_class(class_images_dict[tag_class])\n",
    "    if tag_class in increase_class_images_dict.keys():\n",
    "        generated_images.extend(augent_images_to_increase(increase_class_images_dict[tag_class]))\n",
    "    X.extend(generated_images)\n",
    "    y.extend([image_class_names_index] * len(generated_images))\n",
    "    \n",
    "    print(tag_class, len(generated_images), len([image_class_names_index] * len(generated_images)))\n",
    "    \n",
    "    image_class_names_index += 1\n",
    "    \n",
    "X = np.array(X)\n",
    "y = np.array(y)"
   ]
  },
  {
   "cell_type": "code",
   "execution_count": 50,
   "metadata": {},
   "outputs": [
    {
     "name": "stdout",
     "output_type": "stream",
     "text": [
      "((8418372, 28, 28), (8418372,))\n",
      "set([0, 1, 2, 3, 4, 5, 6, 7, 8, 9, 10, 11, 12, 13, 14, 15, 16, 17, 18, 19, 20, 21, 22, 23, 24, 25, 26, 27, 28, 29, 30, 31, 32, 33, 34, 35, 36, 37, 38, 39, 40, 41, 42, 43, 44, 45, 46, 47, 48, 49, 50, 51, 52, 53, 54, 55, 56, 57, 58, 59])\n",
      "Leaf\n"
     ]
    }
   ],
   "source": [
    "print(X.shape, y.shape)\n",
    "print(set(y))\n",
    "print(image_class_names[1])"
   ]
  },
  {
   "cell_type": "code",
   "execution_count": 51,
   "metadata": {},
   "outputs": [
    {
     "name": "stdout",
     "output_type": "stream",
     "text": [
      "((8418372, 28, 28), (8418372,), (0, 28, 28), (0,))\n"
     ]
    }
   ],
   "source": [
    "from sklearn.model_selection import train_test_split\n",
    "\n",
    "X_train, X_test, y_train, y_test = train_test_split(X, y, test_size = 0.0, random_state=4)\n",
    "print(X_train.shape, y_train.shape, X_test.shape, y_test.shape)"
   ]
  },
  {
   "cell_type": "code",
   "execution_count": 52,
   "metadata": {},
   "outputs": [
    {
     "name": "stderr",
     "output_type": "stream",
     "text": [
      "Using TensorFlow backend.\n"
     ]
    }
   ],
   "source": [
    "from keras.models import Sequential\n",
    "from keras.layers import Dense, Dropout, Activation, Flatten\n",
    "from keras.layers import Convolution2D, MaxPooling2D\n",
    "from keras.utils import np_utils\n",
    "from keras import backend as K"
   ]
  },
  {
   "cell_type": "code",
   "execution_count": 53,
   "metadata": {
    "collapsed": true
   },
   "outputs": [],
   "source": [
    "Y_train = np_utils.to_categorical(y_train, len(set(y_train)))\n",
    "Y_test = np_utils.to_categorical(y_test, len(set(y_train)))"
   ]
  },
  {
   "cell_type": "code",
   "execution_count": 54,
   "metadata": {},
   "outputs": [
    {
     "data": {
      "text/plain": [
       "(8418372, 28, 28, 1)"
      ]
     },
     "execution_count": 54,
     "metadata": {},
     "output_type": "execute_result"
    }
   ],
   "source": [
    "img_rows = 28\n",
    "img_cols = 28\n",
    "\n",
    "if K.image_dim_ordering() == 'th':\n",
    "    X_train = X_train.reshape(X_train.shape[0], 1, img_rows, img_cols)\n",
    "    X_test = X_test.reshape(X_test.shape[0], 1, img_rows, img_cols)\n",
    "else:\n",
    "    X_train = X_train.reshape(X_train.shape[0], img_rows, img_cols, 1)\n",
    "    X_test = X_test.reshape(X_test.shape[0], img_rows, img_cols, 1)\n",
    "\n",
    "X_train.shape"
   ]
  },
  {
   "cell_type": "code",
   "execution_count": 55,
   "metadata": {
    "collapsed": true
   },
   "outputs": [],
   "source": [
    "del class_images_dict\n",
    "del increase_class_images_dict\n",
    "del X\n",
    "del y"
   ]
  },
  {
   "cell_type": "code",
   "execution_count": 56,
   "metadata": {
    "collapsed": true
   },
   "outputs": [],
   "source": [
    "X_train = X_train.astype('float32')\n",
    "X_test = X_test.astype('float32')\n",
    "X_train /= 255\n",
    "X_test /= 255"
   ]
  },
  {
   "cell_type": "code",
   "execution_count": 59,
   "metadata": {
    "collapsed": true
   },
   "outputs": [],
   "source": [
    "model = Sequential()\n",
    "# input layer\n",
    "#model.add(Convolution2D(32, (3, 3), activation='relu', input_shape=(1,28,28))) # if theano backend\n",
    "model.add(Convolution2D(32, (3, 3), activation='relu', input_shape=(28, 28, 1)))\n",
    "\n",
    "model.add(Convolution2D(32, (3, 3), activation='relu'))\n",
    "model.add(MaxPooling2D(pool_size=(2,2)))\n",
    "model.add(Dropout(0.25))\n",
    "\n",
    "model.add(Flatten())\n",
    "model.add(Dense(128, activation='relu'))\n",
    "model.add(Dropout(0.5))\n",
    "model.add(Dense(60, activation='softmax'))\n",
    "\n",
    "model.compile(loss='categorical_crossentropy', optimizer='adam', metrics=['accuracy'])"
   ]
  },
  {
   "cell_type": "code",
   "execution_count": null,
   "metadata": {},
   "outputs": [
    {
     "name": "stdout",
     "output_type": "stream",
     "text": [
      "Epoch 1/10\n",
      "8418372/8418372 [==============================] - 1041s - loss: 1.1023 - acc: 0.6831  \n",
      "Epoch 2/10\n",
      "8418372/8418372 [==============================] - 1056s - loss: 0.9293 - acc: 0.7350  \n",
      "Epoch 3/10\n",
      "8418372/8418372 [==============================] - 1060s - loss: 0.8999 - acc: 0.7441  \n",
      "Epoch 4/10\n",
      "8418372/8418372 [==============================] - 1072s - loss: 0.8867 - acc: 0.7483  \n",
      "Epoch 5/10\n",
      "8418372/8418372 [==============================] - 1044s - loss: 0.8809 - acc: 0.7501  \n",
      "Epoch 6/10\n",
      "8418372/8418372 [==============================] - 1034s - loss: 0.8796 - acc: 0.7511  \n",
      "Epoch 7/10\n",
      "7695200/8418372 [==========================>...] - ETA: 88s - loss: 0.8779 - acc: 0.7517"
     ]
    }
   ],
   "source": [
    "model.fit(X_train, Y_train, batch_size=32, epochs=10, verbose=1)"
   ]
  },
  {
   "cell_type": "code",
   "execution_count": 20,
   "metadata": {
    "collapsed": true
   },
   "outputs": [],
   "source": [
    "model.save('model.h5')"
   ]
  },
  {
   "cell_type": "code",
   "execution_count": 21,
   "metadata": {},
   "outputs": [
    {
     "name": "stdout",
     "output_type": "stream",
     "text": [
      "{0: 'CircleLine', 1: 'heart', 2: 'Note1', 3: 'DD', 4: 'Peace', 5: 'Question', 6: 'Pillars', 7: 'HH', 8: 'Ampersand', 9: 'radioactive', 10: 'PP', 11: 'Umbrella', 12: 'RR', 13: 'Ankh', 14: 'sun', 15: 'TT', 16: 'Trident', 17: 'Asterisk', 18: '4', 19: '1', 20: '0', 21: '3', 22: 'Plane', 23: '5', 24: 'arrowhollow', 25: '7', 26: '6', 27: '8', 28: 'Omega', 29: 'CircleCross', 30: 'AA', 31: 'SS', 32: 'Note2', 33: 'hash', 34: 'EE', 35: 'UU', 36: 'Plant', 37: 'lines3', 38: 'nn', 39: 'GG', 40: 'necklace', 41: 'XX', 42: 'ZZ', 43: 'Triangle', 44: 'Dot', 45: 'a', 46: 'e', 47: 'Power', 48: 'KK', 49: 'h', 50: 'Queen', 51: 'Tadpole', 52: 'MM', 53: '2', 54: 'r', 55: 'ArrowLine', 56: 'circlehalf', 57: 'w', 58: 'unknown', 59: 'y', 60: 'Scissors', 61: 'leaf'}\n"
     ]
    }
   ],
   "source": [
    "print(image_class_names)"
   ]
  },
  {
   "cell_type": "code",
   "execution_count": 22,
   "metadata": {},
   "outputs": [
    {
     "name": "stdout",
     "output_type": "stream",
     "text": [
      "309472/309861 [============================>.] - ETA: 0s"
     ]
    },
    {
     "data": {
      "text/plain": [
       "array([45, 19, 26, ..., 41, 14, 27])"
      ]
     },
     "execution_count": 22,
     "metadata": {},
     "output_type": "execute_result"
    }
   ],
   "source": [
    "pc = model.predict_classes(X_test)\n",
    "pc"
   ]
  },
  {
   "cell_type": "code",
   "execution_count": 23,
   "metadata": {},
   "outputs": [
    {
     "name": "stdout",
     "output_type": "stream",
     "text": [
      "309216/309861 [============================>.] - ETA: 0s"
     ]
    },
    {
     "data": {
      "text/plain": [
       "[0.38235073245208306, 0.9047411581321948]"
      ]
     },
     "execution_count": 23,
     "metadata": {},
     "output_type": "execute_result"
    }
   ],
   "source": [
    "score = model.evaluate(X_test, Y_test) #, verbose=0\n",
    "score"
   ]
  },
  {
   "cell_type": "code",
   "execution_count": 23,
   "metadata": {},
   "outputs": [
    {
     "data": {
      "text/plain": [
       "array([26, 52, 55, ..., 55, 23, 42])"
      ]
     },
     "execution_count": 23,
     "metadata": {},
     "output_type": "execute_result"
    }
   ],
   "source": [
    "pc"
   ]
  },
  {
   "cell_type": "code",
   "execution_count": 25,
   "metadata": {},
   "outputs": [
    {
     "data": {
      "text/plain": [
       "array([ 0.,  0.,  0.,  0.,  0.,  0.,  0.,  0.,  0.,  0.,  0.,  0.,  0.,\n",
       "        0.,  0.,  0.,  0.,  0.,  0.,  0.,  0.,  0.,  0.,  0.,  0.,  0.,\n",
       "        1.,  0.,  0.,  0.,  0.,  0.,  0.,  0.,  0.,  0.,  0.,  0.,  0.,\n",
       "        0.,  0.,  0.,  0.,  0.,  0.,  0.,  0.,  0.,  0.,  0.,  0.,  0.,\n",
       "        0.,  0.,  0.,  0.,  0.,  0.,  0.,  0.,  0.,  0.])"
      ]
     },
     "execution_count": 25,
     "metadata": {},
     "output_type": "execute_result"
    }
   ],
   "source": [
    "Y_test[0]"
   ]
  },
  {
   "cell_type": "code",
   "execution_count": 55,
   "metadata": {},
   "outputs": [
    {
     "data": {
      "text/plain": [
       "'0'"
      ]
     },
     "execution_count": 55,
     "metadata": {},
     "output_type": "execute_result"
    },
    {
     "data": {
      "image/png": "[encoded data removed]",
      "text/plain": [
       "<matplotlib.figure.Figure at 0x16c7bc610>"
      ]
     },
     "metadata": {},
     "output_type": "display_data"
    }
   ],
   "source": [
    "view(X_test[6].reshape(1, 28, 28)[0])\n",
    "image_class_names[pc[6]]"
   ]
  },
  {
   "cell_type": "code",
   "execution_count": 56,
   "metadata": {},
   "outputs": [
    {
     "data": {
      "text/plain": [
       "{0: 'CircleLine',\n",
       " 1: 'heart',\n",
       " 2: 'Note1',\n",
       " 3: 'DD',\n",
       " 4: 'Note2',\n",
       " 5: 'EE',\n",
       " 6: 'Pillars',\n",
       " 7: 'HH',\n",
       " 8: 'Ampersand',\n",
       " 9: 'Plant',\n",
       " 10: 'leaf',\n",
       " 11: 'arrowhollow',\n",
       " 12: 'nn',\n",
       " 13: 'Ankh',\n",
       " 14: 'sun',\n",
       " 15: 'TT',\n",
       " 16: 'Trident',\n",
       " 17: 'Asterisk',\n",
       " 18: 'UU',\n",
       " 19: '1',\n",
       " 20: '0',\n",
       " 21: '3',\n",
       " 22: '2',\n",
       " 23: '5',\n",
       " 24: '4',\n",
       " 25: '7',\n",
       " 26: '6',\n",
       " 27: '8',\n",
       " 28: 'Omega',\n",
       " 29: 'CircleCross',\n",
       " 30: 'AA',\n",
       " 31: 'SS',\n",
       " 32: 'Peace',\n",
       " 33: 'hash',\n",
       " 34: 'Tadpole',\n",
       " 35: 'ArrowLine',\n",
       " 36: 'Question',\n",
       " 37: 'RR',\n",
       " 38: 'PP',\n",
       " 39: 'lines3',\n",
       " 40: 'GG',\n",
       " 41: 'y',\n",
       " 42: 'XX',\n",
       " 43: 'ZZ',\n",
       " 44: 'radioactive',\n",
       " 45: 'Triangle',\n",
       " 46: 'Umbrella',\n",
       " 47: 'Dot',\n",
       " 48: 'a',\n",
       " 49: 'e',\n",
       " 50: 'Power',\n",
       " 51: 'KK',\n",
       " 52: 'h',\n",
       " 53: 'Queen',\n",
       " 54: 'Plane',\n",
       " 55: 'MM',\n",
       " 56: 'r',\n",
       " 57: 'circlehalf',\n",
       " 58: 'w',\n",
       " 59: 'unknown',\n",
       " 60: 'necklace',\n",
       " 61: 'Scissors'}"
      ]
     },
     "execution_count": 56,
     "metadata": {},
     "output_type": "execute_result"
    }
   ],
   "source": [
    "image_class_names"
   ]
  },
  {
   "cell_type": "code",
   "execution_count": 20,
   "metadata": {
    "collapsed": true
   },
   "outputs": [],
   "source": [
    "from sklearn.metrics import confusion_matrix"
   ]
  },
  {
   "cell_type": "code",
   "execution_count": 69,
   "metadata": {
    "collapsed": true
   },
   "outputs": [],
   "source": [
    "cm = confusion_matrix(y_test, pc, labels=None, sample_weight=None)"
   ]
  },
  {
   "cell_type": "code",
   "execution_count": 70,
   "metadata": {},
   "outputs": [
    {
     "data": {
      "image/png": "[encoded data removed]",
      "text/plain": [
       "<matplotlib.figure.Figure at 0x16afb9f90>"
      ]
     },
     "metadata": {},
     "output_type": "display_data"
    }
   ],
   "source": [
    "plt.matshow(cm)\n",
    "plt.title('Confusion matrix')\n",
    "plt.colorbar()\n",
    "plt.ylabel('True label')\n",
    "plt.xlabel('Predicted label')\n",
    "plt.show()"
   ]
  },
  {
   "cell_type": "code",
   "execution_count": null,
   "metadata": {
    "collapsed": true
   },
   "outputs": [],
   "source": []
  }
 ],
 "metadata": {
  "kernelspec": {
   "display_name": "Python 2",
   "language": "python",
   "name": "python2"
  },
  "language_info": {
   "codemirror_mode": {
    "name": "ipython",
    "version": 2
   },
   "file_extension": ".py",
   "mimetype": "text/x-python",
   "name": "python",
   "nbconvert_exporter": "python",
   "pygments_lexer": "ipython2",
   "version": "2.7.12"
  }
 },
 "nbformat": 4,
 "nbformat_minor": 2
}
