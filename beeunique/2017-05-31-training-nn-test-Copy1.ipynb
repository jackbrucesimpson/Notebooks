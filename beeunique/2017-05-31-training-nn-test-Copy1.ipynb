{
 "cells": [
  {
   "cell_type": "markdown",
   "metadata": {},
   "source": [
    "# Testing Neural Net\n",
    "- Need to add unknown class as NN isn't accurate enough\n",
    "- Need to make it more conservative with predictions\n",
    "\n",
    "## Outcome"
   ]
  },
  {
   "cell_type": "code",
   "execution_count": 12,
   "metadata": {},
   "outputs": [
    {
     "data": {
      "application/json": {
       "Software versions": [
        {
         "module": "Python",
         "version": "2.7.13 64bit [GCC 4.2.1 Compatible Apple LLVM 8.0.0 (clang-800.0.42.1)]"
        },
        {
         "module": "IPython",
         "version": "5.4.1"
        },
        {
         "module": "OS",
         "version": "Darwin 16.6.0 x86_64 i386 64bit"
        },
        {
         "module": "numpy",
         "version": "1.13.0"
        },
        {
         "module": "scipy",
         "version": "0.19.1"
        },
        {
         "module": "matplotlib",
         "version": "2.0.2"
        },
        {
         "module": "pandas",
         "version": "0.20.2"
        }
       ]
      },
      "text/html": [
       "<table><tr><th>Software</th><th>Version</th></tr><tr><td>Python</td><td>2.7.13 64bit [GCC 4.2.1 Compatible Apple LLVM 8.0.0 (clang-800.0.42.1)]</td></tr><tr><td>IPython</td><td>5.4.1</td></tr><tr><td>OS</td><td>Darwin 16.6.0 x86_64 i386 64bit</td></tr><tr><td>numpy</td><td>1.13.0</td></tr><tr><td>scipy</td><td>0.19.1</td></tr><tr><td>matplotlib</td><td>2.0.2</td></tr><tr><td>pandas</td><td>0.20.2</td></tr><tr><td colspan='2'>Mon Jul 03 21:59:23 2017 AEST</td></tr></table>"
      ],
      "text/latex": [
       "\\begin{tabular}{|l|l|}\\hline\n",
       "{\\bf Software} & {\\bf Version} \\\\ \\hline\\hline\n",
       "Python & 2.7.13 64bit [GCC 4.2.1 Compatible Apple LLVM 8.0.0 (clang-800.0.42.1)] \\\\ \\hline\n",
       "IPython & 5.4.1 \\\\ \\hline\n",
       "OS & Darwin 16.6.0 x86\\_64 i386 64bit \\\\ \\hline\n",
       "numpy & 1.13.0 \\\\ \\hline\n",
       "scipy & 0.19.1 \\\\ \\hline\n",
       "matplotlib & 2.0.2 \\\\ \\hline\n",
       "pandas & 0.20.2 \\\\ \\hline\n",
       "\\hline \\multicolumn{2}{|l|}{Mon Jul 03 21:59:23 2017 AEST} \\\\ \\hline\n",
       "\\end{tabular}\n"
      ],
      "text/plain": [
       "Software versions\n",
       "Python 2.7.13 64bit [GCC 4.2.1 Compatible Apple LLVM 8.0.0 (clang-800.0.42.1)]\n",
       "IPython 5.4.1\n",
       "OS Darwin 16.6.0 x86_64 i386 64bit\n",
       "numpy 1.13.0\n",
       "scipy 0.19.1\n",
       "matplotlib 2.0.2\n",
       "pandas 0.20.2\n",
       "Mon Jul 03 21:59:23 2017 AEST"
      ]
     },
     "execution_count": 12,
     "metadata": {},
     "output_type": "execute_result"
    }
   ],
   "source": [
    "%matplotlib inline\n",
    "#from pylab import rcParams\n",
    "#rcParams['figure.figsize'] = 12, 8\n",
    "\n",
    "%load_ext autoreload\n",
    "%autoreload 2\n",
    "\n",
    "%load_ext version_information\n",
    "%version_information numpy, scipy, matplotlib, pandas"
   ]
  },
  {
   "cell_type": "code",
   "execution_count": 2,
   "metadata": {
    "collapsed": true
   },
   "outputs": [],
   "source": [
    "import matplotlib.pyplot as plt\n",
    "import matplotlib.cm as cm\n",
    "import numpy as np\n",
    "import cv2\n",
    "import glob\n",
    "import copy\n",
    "import random\n",
    "\n",
    "import os\n",
    "import sys\n",
    "\n",
    "sys.path.append(\"../src\")\n",
    "from images_permute import processing_pipeline\n",
    "\n",
    "np.random.seed(0)\n",
    "\n",
    "def view(image):\n",
    "    plt.figure()\n",
    "    plt.axis('off')\n",
    "    plt.imshow(image, cmap = cm.Greys_r)"
   ]
  },
  {
   "cell_type": "code",
   "execution_count": 13,
   "metadata": {
    "collapsed": true
   },
   "outputs": [],
   "source": [
    "import matplotlib.pyplot as plt\n",
    "import matplotlib.cm as cm\n",
    "import numpy as np\n",
    "import cv2\n",
    "import glob\n",
    "import copy\n",
    "\n",
    "import os\n",
    "import sys\n",
    "import glob\n",
    "import hashlib\n",
    "\n",
    "#sys.path.append(\"../src\")\n",
    "#from images_permute import processing_pipeline\n",
    "\n",
    "np.random.seed(0)\n",
    "\n",
    "def view(image):\n",
    "    plt.figure()\n",
    "    plt.axis('off')\n",
    "    plt.imshow(image, cmap = cm.Greys_r)"
   ]
  },
  {
   "cell_type": "code",
   "execution_count": 37,
   "metadata": {},
   "outputs": [
    {
     "name": "stdout",
     "output_type": "stream",
     "text": [
      "('/Users/jacksimpson/Data/beeunique/output/All/0/', 65)\n"
     ]
    }
   ],
   "source": [
    "list_image_directory_paths = glob.glob('/Users/jacksimpson/Data/beeunique/output/All2/*/')\n",
    "print(list_image_directory_paths[0], len(list_image_directory_paths))"
   ]
  },
  {
   "cell_type": "code",
   "execution_count": 5,
   "metadata": {
    "collapsed": true
   },
   "outputs": [],
   "source": [
    "kernel_size = 3\n",
    "sig = 1.0\n",
    "th = 0.2\n",
    "lm = 3.0\n",
    "gm = 1.5\n",
    "ps = 0\n",
    "\n",
    "kernel = cv2.getGaborKernel((kernel_size, kernel_size), sig, th, lm, gm, ps)"
   ]
  },
  {
   "cell_type": "code",
   "execution_count": 6,
   "metadata": {
    "scrolled": false
   },
   "outputs": [
    {
     "name": "stdout",
     "output_type": "stream",
     "text": [
      "('0', '/Users/jacksimpson/Data/beeunique/output/All2/0/')\n",
      "('1', '/Users/jacksimpson/Data/beeunique/output/All2/1/')\n",
      "('2', '/Users/jacksimpson/Data/beeunique/output/All2/2/')\n",
      "('3', '/Users/jacksimpson/Data/beeunique/output/All2/3/')\n",
      "('4', '/Users/jacksimpson/Data/beeunique/output/All2/4/')\n",
      "('5', '/Users/jacksimpson/Data/beeunique/output/All2/5/')\n",
      "('6', '/Users/jacksimpson/Data/beeunique/output/All2/6/')\n",
      "('7', '/Users/jacksimpson/Data/beeunique/output/All2/7/')\n",
      "('8', '/Users/jacksimpson/Data/beeunique/output/All2/8/')\n",
      "('a', '/Users/jacksimpson/Data/beeunique/output/All2/a/')\n",
      "('AA', '/Users/jacksimpson/Data/beeunique/output/All2/AA/')\n",
      "('Ampersand', '/Users/jacksimpson/Data/beeunique/output/All2/Ampersand/')\n",
      "('Ankh', '/Users/jacksimpson/Data/beeunique/output/All2/Ankh/')\n",
      "('ArrowLine', '/Users/jacksimpson/Data/beeunique/output/All2/ArrowLine/')\n",
      "('Asterisk', '/Users/jacksimpson/Data/beeunique/output/All2/Asterisk/')\n",
      "('Circle_Line', '/Users/jacksimpson/Data/beeunique/output/All2/Circle_Line/')\n",
      "('CircleCross', '/Users/jacksimpson/Data/beeunique/output/All2/CircleCross/')\n",
      "('DD', '/Users/jacksimpson/Data/beeunique/output/All2/DD/')\n",
      "('Dot', '/Users/jacksimpson/Data/beeunique/output/All2/Dot/')\n",
      "('e', '/Users/jacksimpson/Data/beeunique/output/All2/e/')\n",
      "('EE', '/Users/jacksimpson/Data/beeunique/output/All2/EE/')\n",
      "('f', '/Users/jacksimpson/Data/beeunique/output/All2/f/')\n",
      "('g', '/Users/jacksimpson/Data/beeunique/output/All2/g/')\n",
      "('GG', '/Users/jacksimpson/Data/beeunique/output/All2/GG/')\n",
      "('h', '/Users/jacksimpson/Data/beeunique/output/All2/h/')\n",
      "('Halfcircle', '/Users/jacksimpson/Data/beeunique/output/All2/Halfcircle/')\n",
      "('Hash', '/Users/jacksimpson/Data/beeunique/output/All2/Hash/')\n",
      "('Heart', '/Users/jacksimpson/Data/beeunique/output/All2/Heart/')\n",
      "('HH', '/Users/jacksimpson/Data/beeunique/output/All2/HH/')\n",
      "('HollowArrow', '/Users/jacksimpson/Data/beeunique/output/All2/HollowArrow/')\n",
      "('JJ', '/Users/jacksimpson/Data/beeunique/output/All2/JJ/')\n",
      "('KK', '/Users/jacksimpson/Data/beeunique/output/All2/KK/')\n",
      "('Leaf', '/Users/jacksimpson/Data/beeunique/output/All2/Leaf/')\n",
      "('Lines3', '/Users/jacksimpson/Data/beeunique/output/All2/Lines3/')\n",
      "('MM', '/Users/jacksimpson/Data/beeunique/output/All2/MM/')\n",
      "('n', '/Users/jacksimpson/Data/beeunique/output/All2/n/')\n",
      "('Necklace', '/Users/jacksimpson/Data/beeunique/output/All2/Necklace/')\n",
      "('Note1', '/Users/jacksimpson/Data/beeunique/output/All2/Note1/')\n",
      "('Notes2', '/Users/jacksimpson/Data/beeunique/output/All2/Notes2/')\n",
      "('Omega', '/Users/jacksimpson/Data/beeunique/output/All2/Omega/')\n",
      "('Peace', '/Users/jacksimpson/Data/beeunique/output/All2/Peace/')\n",
      "('Pillars', '/Users/jacksimpson/Data/beeunique/output/All2/Pillars/')\n",
      "('Plane', '/Users/jacksimpson/Data/beeunique/output/All2/Plane/')\n",
      "('Plant', '/Users/jacksimpson/Data/beeunique/output/All2/Plant/')\n",
      "('Power', '/Users/jacksimpson/Data/beeunique/output/All2/Power/')\n",
      "('PP', '/Users/jacksimpson/Data/beeunique/output/All2/PP/')\n",
      "('Queen', '/Users/jacksimpson/Data/beeunique/output/All2/Queen/')\n",
      "('Question', '/Users/jacksimpson/Data/beeunique/output/All2/Question/')\n",
      "('r', '/Users/jacksimpson/Data/beeunique/output/All2/r/')\n",
      "('Radioactive', '/Users/jacksimpson/Data/beeunique/output/All2/Radioactive/')\n",
      "('RR', '/Users/jacksimpson/Data/beeunique/output/All2/RR/')\n",
      "('Scissors', '/Users/jacksimpson/Data/beeunique/output/All2/Scissors/')\n",
      "('SS', '/Users/jacksimpson/Data/beeunique/output/All2/SS/')\n",
      "('Tadpole', '/Users/jacksimpson/Data/beeunique/output/All2/Tadpole/')\n",
      "('Triangle', '/Users/jacksimpson/Data/beeunique/output/All2/Triangle/')\n",
      "('Trident', '/Users/jacksimpson/Data/beeunique/output/All2/Trident/')\n",
      "('TT', '/Users/jacksimpson/Data/beeunique/output/All2/TT/')\n",
      "('Umbrella', '/Users/jacksimpson/Data/beeunique/output/All2/Umbrella/')\n",
      "('UU', '/Users/jacksimpson/Data/beeunique/output/All2/UU/')\n",
      "('w', '/Users/jacksimpson/Data/beeunique/output/All2/w/')\n",
      "('XX', '/Users/jacksimpson/Data/beeunique/output/All2/XX/')\n",
      "('y', '/Users/jacksimpson/Data/beeunique/output/All2/y/')\n",
      "('ZZ', '/Users/jacksimpson/Data/beeunique/output/All2/ZZ/')\n"
     ]
    }
   ],
   "source": [
    "class_images_dict = {}\n",
    "for image_directory_path in list_image_directory_paths:\n",
    "    image_class_name = os.path.basename(os.path.normpath(image_directory_path))\n",
    "    print(image_class_name, image_directory_path)\n",
    "    class_images_dict[image_class_name] = []\n",
    "    \n",
    "    for image_file in glob.glob(image_directory_path + '*.png'):\n",
    "        image = cv2.imread(image_file, cv2.IMREAD_GRAYSCALE)\n",
    "        #image = cv2.medianBlur(image, 3);\n",
    "        #image = cv2.filter2D(image, cv2.CV_32F, kernel)\n",
    "        class_images_dict[image_class_name].append(image)"
   ]
  },
  {
   "cell_type": "code",
   "execution_count": 7,
   "metadata": {},
   "outputs": [
    {
     "data": {
      "text/plain": [
       "4868"
      ]
     },
     "execution_count": 7,
     "metadata": {},
     "output_type": "execute_result"
    }
   ],
   "source": [
    "len(class_images_dict['AA'])"
   ]
  },
  {
   "cell_type": "code",
   "execution_count": 8,
   "metadata": {},
   "outputs": [
    {
     "data": {
      "image/png": "[encoded data removed]",
      "text/plain": [
       "<matplotlib.figure.Figure at 0x105313d10>"
      ]
     },
     "metadata": {},
     "output_type": "display_data"
    },
    {
     "data": {
      "image/png": "[encoded data removed]",
      "text/plain": [
       "<matplotlib.figure.Figure at 0x101238210>"
      ]
     },
     "metadata": {},
     "output_type": "display_data"
    },
    {
     "data": {
      "image/png": "[encoded data removed]",
      "text/plain": [
       "<matplotlib.figure.Figure at 0x108dbee90>"
      ]
     },
     "metadata": {},
     "output_type": "display_data"
    },
    {
     "data": {
      "image/png": "[encoded data removed]",
      "text/plain": [
       "<matplotlib.figure.Figure at 0x108e52d50>"
      ]
     },
     "metadata": {},
     "output_type": "display_data"
    },
    {
     "data": {
      "image/png": "[encoded data removed]",
      "text/plain": [
       "<matplotlib.figure.Figure at 0x108ede0d0>"
      ]
     },
     "metadata": {},
     "output_type": "display_data"
    },
    {
     "data": {
      "image/png": "[encoded data removed]",
      "text/plain": [
       "<matplotlib.figure.Figure at 0x108f62f50>"
      ]
     },
     "metadata": {},
     "output_type": "display_data"
    }
   ],
   "source": [
    "for i in range(2):\n",
    "    view(class_images_dict['AA'][i])\n",
    "\n",
    "for i in range(2):\n",
    "    view(class_images_dict['KK'][i])\n",
    "    \n",
    "for i in range(2):\n",
    "    view(class_images_dict['2'][i])"
   ]
  },
  {
   "cell_type": "code",
   "execution_count": 9,
   "metadata": {
    "collapsed": true
   },
   "outputs": [],
   "source": [
    "def norm_image(image):\n",
    "    image[image < 0] = 0\n",
    "    image[image > 255] = 255\n",
    "    return np.uint8(image)\n",
    "\n",
    "def add_noise(image, n_or_u):\n",
    "    noise = np.zeros((28,28), np.uint8)\n",
    "    if n_or_u == 'n':\n",
    "        cv2.randn(noise, 30, 2)\n",
    "    else:\n",
    "        cv2.randu(noise, 20, 2)\n",
    "    noisy_image = np.uint32(image) + noise\n",
    "    noisy_image[noisy_image < 0] = 0\n",
    "    noisy_image[noisy_image > 255] = 255\n",
    "    noisy_image = np.uint8(noisy_image)\n",
    "    return noisy_image\n",
    "\n",
    "def rotate_image(image):\n",
    "    rotated_images = []\n",
    "    for angle in range(90, 360, 90):\n",
    "        M = cv2.getRotationMatrix2D((14,14),angle,1)\n",
    "        r = cv2.warpAffine(image,M,(28,28))\n",
    "        rotated_images.append(r)\n",
    "    return rotated_images\n",
    "\n",
    "def change_brightness_contrast(image):\n",
    "    image_int32 = np.int32(image)\n",
    "    increase_brightness = norm_image(image_int32 + 80)\n",
    "    decrease_brightness = norm_image(image_int32 - 80)\n",
    "    return [increase_brightness, decrease_brightness]\n",
    "    \n",
    "def occlude_edges(image):\n",
    "    full_size = np.zeros((28, 28), dtype=np.uint8)\n",
    "    full_size[2:26, 2:26] = image[2:26, 2:26]\n",
    "    return full_size\n",
    "\n",
    "def mean_smooth(image):\n",
    "    mean_smoothed = cv2.blur(image, (3, 3))\n",
    "    return mean_smoothed"
   ]
  },
  {
   "cell_type": "code",
   "execution_count": 10,
   "metadata": {},
   "outputs": [
    {
     "name": "stdout",
     "output_type": "stream",
     "text": [
      "('Trident', 3000)\n",
      "('Leaf', 3000)\n",
      "('Note1', 3000)\n",
      "('DD', 3000)\n",
      "('Peace', 3000)\n",
      "('Question', 3000)\n",
      "('Pillars', 3000)\n",
      "('HH', 3000)\n",
      "('Ampersand', 3000)\n",
      "('JJ', 3000)\n",
      "('Notes2', 3000)\n",
      "('Plant', 3000)\n",
      "('Hash', 3000)\n",
      "('Power', 3000)\n",
      "('0', 4003)\n",
      "('Ankh', 3000)\n",
      "('TT', 3000)\n",
      "('HollowArrow', 3000)\n",
      "('Asterisk', 3000)\n",
      "('UU', 3000)\n",
      "('Lines3', 3000)\n",
      "('1', 3000)\n",
      "('ArrowLine', 5694)\n",
      "('3', 3000)\n",
      "('2', 4124)\n",
      "('5', 3000)\n",
      "('4', 3870)\n",
      "('7', 3000)\n",
      "('6', 3000)\n",
      "('8', 3000)\n",
      "('Omega', 3000)\n",
      "('CircleCross', 3000)\n",
      "('AA', 4868)\n",
      "('SS', 3671)\n",
      "('Circle_Line', 3000)\n",
      "('Radioactive', 3000)\n",
      "('Tadpole', 3000)\n",
      "('EE', 3000)\n",
      "('RR', 3000)\n",
      "('PP', 3000)\n",
      "('GG', 3000)\n",
      "('XX', 4939)\n",
      "('ZZ', 3817)\n",
      "('Necklace', 3000)\n",
      "('Triangle', 3000)\n",
      "('Umbrella', 3000)\n",
      "('Dot', 3000)\n",
      "('a', 4905)\n",
      "('Heart', 3000)\n",
      "('e', 3000)\n",
      "('Halfcircle', 3000)\n",
      "('g', 3000)\n",
      "('f', 3000)\n",
      "('KK', 5178)\n",
      "('h', 3000)\n",
      "('Queen', 3564)\n",
      "('Plane', 3000)\n",
      "('n', 3000)\n",
      "('MM', 4626)\n",
      "('r', 3000)\n",
      "('w', 3000)\n",
      "('y', 4421)\n",
      "('Scissors', 3000)\n"
     ]
    }
   ],
   "source": [
    "X = []\n",
    "image_class_names_index = 0\n",
    "image_class_names = {}\n",
    "y = []\n",
    "\n",
    "for tag_class in class_images_dict.keys():\n",
    "    print(tag_class, len(class_images_dict[tag_class]))\n",
    "    image_class_names[image_class_names_index] = tag_class\n",
    "    for tag in class_images_dict[tag_class]:\n",
    "        generated_images = [tag, add_noise(occlude_edges(tag), 'u')]\n",
    "        generated_images.extend(change_brightness_contrast(tag))\n",
    "        generated_images.extend(rotate_image(tag))\n",
    "        X.extend(generated_images)\n",
    "        y.extend([image_class_names_index] * len(generated_images))\n",
    "    image_class_names_index += 1\n",
    "    \n",
    "X = np.array(X)\n",
    "y = np.array(y)"
   ]
  },
  {
   "cell_type": "code",
   "execution_count": 11,
   "metadata": {},
   "outputs": [
    {
     "name": "stdout",
     "output_type": "stream",
     "text": [
      "((1453760, 28, 28), (1453760,))\n",
      "set([0, 1, 2, 3, 4, 5, 6, 7, 8, 9, 10, 11, 12, 13, 14, 15, 16, 17, 18, 19, 20, 21, 22, 23, 24, 25, 26, 27, 28, 29, 30, 31, 32, 33, 34, 35, 36, 37, 38, 39, 40, 41, 42, 43, 44, 45, 46, 47, 48, 49, 50, 51, 52, 53, 54, 55, 56, 57, 58, 59, 60, 61, 62])\n",
      "Leaf\n"
     ]
    }
   ],
   "source": [
    "print(X.shape, y.shape)\n",
    "print(set(y))\n",
    "print(image_class_names[1])"
   ]
  },
  {
   "cell_type": "code",
   "execution_count": 12,
   "metadata": {},
   "outputs": [
    {
     "name": "stdout",
     "output_type": "stream",
     "text": [
      "((1163008, 28, 28), (1163008,), (290752, 28, 28), (290752,))\n"
     ]
    }
   ],
   "source": [
    "from sklearn.model_selection import train_test_split\n",
    "\n",
    "X_train, X_test, y_train, y_test = train_test_split(X, y, test_size = 0.2, random_state=4)\n",
    "print(X_train.shape, y_train.shape, X_test.shape, y_test.shape)"
   ]
  },
  {
   "cell_type": "code",
   "execution_count": 13,
   "metadata": {},
   "outputs": [
    {
     "name": "stderr",
     "output_type": "stream",
     "text": [
      "Using TensorFlow backend.\n"
     ]
    }
   ],
   "source": [
    "from keras.models import Sequential\n",
    "from keras.layers import Dense, Dropout, Activation, Flatten\n",
    "from keras.layers import Convolution2D, MaxPooling2D\n",
    "from keras.utils import np_utils\n",
    "from keras import backend as K"
   ]
  },
  {
   "cell_type": "code",
   "execution_count": 14,
   "metadata": {
    "collapsed": true
   },
   "outputs": [],
   "source": [
    "Y_train = np_utils.to_categorical(y_train, len(set(y_train)))\n",
    "Y_test = np_utils.to_categorical(y_test, len(set(y_train)))"
   ]
  },
  {
   "cell_type": "code",
   "execution_count": 15,
   "metadata": {},
   "outputs": [
    {
     "data": {
      "text/plain": [
       "(1163008, 28, 28, 1)"
      ]
     },
     "execution_count": 15,
     "metadata": {},
     "output_type": "execute_result"
    }
   ],
   "source": [
    "img_rows = 28\n",
    "img_cols = 28\n",
    "\n",
    "if K.image_dim_ordering() == 'th':\n",
    "    X_train = X_train.reshape(X_train.shape[0], 1, img_rows, img_cols)\n",
    "    X_test = X_test.reshape(X_test.shape[0], 1, img_rows, img_cols)\n",
    "else:\n",
    "    X_train = X_train.reshape(X_train.shape[0], img_rows, img_cols, 1)\n",
    "    X_test = X_test.reshape(X_test.shape[0], img_rows, img_cols, 1)\n",
    "\n",
    "X_train.shape"
   ]
  },
  {
   "cell_type": "code",
   "execution_count": 16,
   "metadata": {
    "collapsed": true
   },
   "outputs": [],
   "source": [
    "X_train = X_train.astype('float32')\n",
    "X_test = X_test.astype('float32')\n",
    "X_train /= 255\n",
    "X_test /= 255"
   ]
  },
  {
   "cell_type": "code",
   "execution_count": 17,
   "metadata": {
    "collapsed": true
   },
   "outputs": [],
   "source": [
    "model = Sequential()\n",
    "# input layer\n",
    "#model.add(Convolution2D(32, (3, 3), activation='relu', input_shape=(1,28,28))) # if theano backend\n",
    "model.add(Convolution2D(32, (3, 3), activation='relu', input_shape=(28, 28, 1)))\n",
    "\n",
    "model.add(Convolution2D(32, (3, 3), activation='relu'))\n",
    "model.add(MaxPooling2D(pool_size=(2,2)))\n",
    "model.add(Dropout(0.25))\n",
    "\n",
    "model.add(Flatten())\n",
    "model.add(Dense(128, activation='relu'))\n",
    "model.add(Dropout(0.5))\n",
    "model.add(Dense(63, activation='softmax'))\n",
    "\n",
    "model.compile(loss='categorical_crossentropy', optimizer='adam', metrics=['accuracy'])"
   ]
  },
  {
   "cell_type": "code",
   "execution_count": 18,
   "metadata": {},
   "outputs": [
    {
     "name": "stdout",
     "output_type": "stream",
     "text": [
      "Epoch 1/5\n",
      "1163008/1163008 [==============================] - 976s - loss: 1.0729 - acc: 0.6829   \n",
      "Epoch 2/5\n",
      "1163008/1163008 [==============================] - 912s - loss: 0.6771 - acc: 0.7997   \n",
      "Epoch 3/5\n",
      "1163008/1163008 [==============================] - 930s - loss: 0.5950 - acc: 0.8253   \n",
      "Epoch 4/5\n",
      "1163008/1163008 [==============================] - 932s - loss: 0.5533 - acc: 0.8377   \n",
      "Epoch 5/5\n",
      "1163008/1163008 [==============================] - 929s - loss: 0.5356 - acc: 0.8439   \n"
     ]
    },
    {
     "data": {
      "text/plain": [
       "<keras.callbacks.History at 0x1118c90d0>"
      ]
     },
     "execution_count": 18,
     "metadata": {},
     "output_type": "execute_result"
    }
   ],
   "source": [
    "model.fit(X_train, Y_train, batch_size=32, epochs=5, verbose=1)"
   ]
  },
  {
   "cell_type": "code",
   "execution_count": 21,
   "metadata": {
    "collapsed": true
   },
   "outputs": [],
   "source": [
    "model.save('model.h5')"
   ]
  },
  {
   "cell_type": "code",
   "execution_count": 22,
   "metadata": {},
   "outputs": [
    {
     "name": "stdout",
     "output_type": "stream",
     "text": [
      "{0: 'Trident', 1: 'Leaf', 2: 'Note1', 3: 'DD', 4: 'Peace', 5: 'Question', 6: 'Pillars', 7: 'HH', 8: 'Ampersand', 9: 'JJ', 10: 'Notes2', 11: 'Plant', 12: 'Hash', 13: 'Power', 14: '0', 15: 'Ankh', 16: 'TT', 17: 'HollowArrow', 18: 'Asterisk', 19: 'UU', 20: 'Lines3', 21: '1', 22: 'ArrowLine', 23: '3', 24: '2', 25: '5', 26: '4', 27: '7', 28: '6', 29: '8', 30: 'Omega', 31: 'CircleCross', 32: 'AA', 33: 'SS', 34: 'Circle_Line', 35: 'Radioactive', 36: 'Tadpole', 37: 'EE', 38: 'RR', 39: 'PP', 40: 'GG', 41: 'XX', 42: 'ZZ', 43: 'Necklace', 44: 'Triangle', 45: 'Umbrella', 46: 'Dot', 47: 'a', 48: 'Heart', 49: 'e', 50: 'Halfcircle', 51: 'g', 52: 'f', 53: 'KK', 54: 'h', 55: 'Queen', 56: 'Plane', 57: 'n', 58: 'MM', 59: 'r', 60: 'w', 61: 'y', 62: 'Scissors'}\n"
     ]
    }
   ],
   "source": [
    "print(image_class_names)"
   ]
  },
  {
   "cell_type": "code",
   "execution_count": null,
   "metadata": {
    "collapsed": true
   },
   "outputs": [],
   "source": []
  }
 ],
 "metadata": {
  "kernelspec": {
   "display_name": "Python 2",
   "language": "python",
   "name": "python2"
  },
  "language_info": {
   "codemirror_mode": {
    "name": "ipython",
    "version": 2
   },
   "file_extension": ".py",
   "mimetype": "text/x-python",
   "name": "python",
   "nbconvert_exporter": "python",
   "pygments_lexer": "ipython2",
   "version": "2.7.13"
  }
 },
 "nbformat": 4,
 "nbformat_minor": 2
}
