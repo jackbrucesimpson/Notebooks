{
 "cells": [
  {
   "cell_type": "markdown",
   "metadata": {},
   "source": [
    "# Identify unique images\n",
    "I went through and identified that most of the training images were extremely similar to each other. I'll need to come up with another way to get enough instances of the different tag types showing all the variation."
   ]
  },
  {
   "cell_type": "code",
   "execution_count": 1,
   "metadata": {},
   "outputs": [
    {
     "data": {
      "application/json": {
       "Software versions": [
        {
         "module": "Python",
         "version": "2.7.13 64bit [GCC 4.2.1 Compatible Apple LLVM 8.0.0 (clang-800.0.42.1)]"
        },
        {
         "module": "IPython",
         "version": "5.3.0"
        },
        {
         "module": "OS",
         "version": "Darwin 16.5.0 x86_64 i386 64bit"
        },
        {
         "module": "numpy",
         "version": "1.12.1"
        },
        {
         "module": "scipy",
         "version": "0.19.0"
        },
        {
         "module": "matplotlib",
         "version": "2.0.0"
        },
        {
         "module": "pandas",
         "version": "0.19.2"
        }
       ]
      },
      "text/html": [
       "<table><tr><th>Software</th><th>Version</th></tr><tr><td>Python</td><td>2.7.13 64bit [GCC 4.2.1 Compatible Apple LLVM 8.0.0 (clang-800.0.42.1)]</td></tr><tr><td>IPython</td><td>5.3.0</td></tr><tr><td>OS</td><td>Darwin 16.5.0 x86_64 i386 64bit</td></tr><tr><td>numpy</td><td>1.12.1</td></tr><tr><td>scipy</td><td>0.19.0</td></tr><tr><td>matplotlib</td><td>2.0.0</td></tr><tr><td>pandas</td><td>0.19.2</td></tr><tr><td colspan='2'>Fri Apr 28 17:20:28 2017 AEST</td></tr></table>"
      ],
      "text/latex": [
       "\\begin{tabular}{|l|l|}\\hline\n",
       "{\\bf Software} & {\\bf Version} \\\\ \\hline\\hline\n",
       "Python & 2.7.13 64bit [GCC 4.2.1 Compatible Apple LLVM 8.0.0 (clang-800.0.42.1)] \\\\ \\hline\n",
       "IPython & 5.3.0 \\\\ \\hline\n",
       "OS & Darwin 16.5.0 x86\\_64 i386 64bit \\\\ \\hline\n",
       "numpy & 1.12.1 \\\\ \\hline\n",
       "scipy & 0.19.0 \\\\ \\hline\n",
       "matplotlib & 2.0.0 \\\\ \\hline\n",
       "pandas & 0.19.2 \\\\ \\hline\n",
       "\\hline \\multicolumn{2}{|l|}{Fri Apr 28 17:20:28 2017 AEST} \\\\ \\hline\n",
       "\\end{tabular}\n"
      ],
      "text/plain": [
       "Software versions\n",
       "Python 2.7.13 64bit [GCC 4.2.1 Compatible Apple LLVM 8.0.0 (clang-800.0.42.1)]\n",
       "IPython 5.3.0\n",
       "OS Darwin 16.5.0 x86_64 i386 64bit\n",
       "numpy 1.12.1\n",
       "scipy 0.19.0\n",
       "matplotlib 2.0.0\n",
       "pandas 0.19.2\n",
       "Fri Apr 28 17:20:28 2017 AEST"
      ]
     },
     "execution_count": 1,
     "metadata": {},
     "output_type": "execute_result"
    }
   ],
   "source": [
    "%matplotlib inline\n",
    "#from pylab import rcParams\n",
    "#rcParams['figure.figsize'] = 12, 8\n",
    "\n",
    "%load_ext autoreload\n",
    "%autoreload 2\n",
    "\n",
    "%load_ext version_information\n",
    "%version_information numpy, scipy, matplotlib, pandas"
   ]
  },
  {
   "cell_type": "code",
   "execution_count": 7,
   "metadata": {
    "collapsed": true
   },
   "outputs": [],
   "source": [
    "import cv2\n",
    "import os\n",
    "import matplotlib.pyplot as plt\n",
    "import matplotlib.cm as cm\n",
    "import numpy as np\n",
    "import copy\n",
    "import glob\n",
    "\n",
    "np.random.seed(0)\n",
    "\n",
    "def view(image):\n",
    "    plt.figure()\n",
    "    plt.axis('off')\n",
    "    plt.imshow(image, cmap = cm.Greys_r)"
   ]
  },
  {
   "cell_type": "code",
   "execution_count": 4,
   "metadata": {
    "collapsed": true
   },
   "outputs": [],
   "source": [
    "list_image_directory_paths = glob.glob('/Users/jacksimpson/Data/beeunique/output/Classified/*/')\n",
    "\n",
    "class_images_dict = {}\n",
    "for image_directory_path in list_image_directory_paths:\n",
    "    image_class_name = os.path.basename(os.path.normpath(image_directory_path))\n",
    "    class_images_dict[image_class_name] = []\n",
    "    \n",
    "    for image_file in glob.glob(image_directory_path + '*.png'):\n",
    "        image = cv2.imread(image_file, cv2.IMREAD_GRAYSCALE)\n",
    "        class_images_dict[image_class_name].append(image)"
   ]
  },
  {
   "cell_type": "code",
   "execution_count": 5,
   "metadata": {},
   "outputs": [
    {
     "name": "stdout",
     "output_type": "stream",
     "text": [
      "{'Dot_3_Lines': 6168, 'j': 6182, 'Leaf': 5986, 'VV': 5517, 'BB': 5237, 'DD': 5132, 'Peace': 5342, 'Pillars': 5775, 'KK': 4903, 'HH': 5207, 'Ampersand': 5642, 'JJ': 5735, 'Power': 5703, '2_Note': 5275, 'Arrow_Hollow': 6237, 'Circle_Cross': 4395, 'Plant': 5649, 'Diamond': 5738, 'Hash': 5729, 'i': 6036, 'RR': 4904, 'Ankh': 5974, 'Question_Mark': 5665, 'TT': 4505, 'Trident': 5789, 'Asterisk': 5694, '1': 5581, '0': 5586, '3': 5875, '2': 5519, '3_Lines': 5491, '4': 5538, '7': 5399, '6': 5321, '5': 5672, 'Omega': 4326, 'AA': 5673, 'Circle_Line': 5711, 'Radioactive': 5822, '1_Note': 5731, 'EE': 5223, 'Circle_Half': 5088, 'PP': 10066, 'GG': 5583, 'XX': 5563, 'Plane': 5728, 'ZZ': 5431, '8': 5377, 'Necklace': 5971, 'Umbrella': 5414, 'Triangle': 6134, 'Dot': 5980, 'a': 5535, 'Heart': 5700, 'b': 5561, 'e': 5509, 'NN': 5731, 'g': 5479, 'f': 5382, 'UU': 5413, 'h': 5608, 'Arrow_Line': 5412, 'Queen': 8816, 'Tadpole': 5758, 'n': 5201, 'SS': 8329, 'r': 5441, 't': 5738, 'w': 5625, 'y': 5590, 'Scissors': 5100, 'MM': 6158}\n"
     ]
    }
   ],
   "source": [
    "{k: len(class_images_dict[k]) for k in class_images_dict.keys()}"
   ]
  },
  {
   "cell_type": "code",
   "execution_count": 15,
   "metadata": {},
   "outputs": [
    {
     "data": {
      "image/png": "[encoded data removed]",
      "text/plain": [
       "<matplotlib.figure.Figure at 0x1183d1c10>"
      ]
     },
     "metadata": {},
     "output_type": "display_data"
    },
    {
     "data": {
      "image/png": "[encoded data removed]",
      "text/plain": [
       "<matplotlib.figure.Figure at 0x1183d1d90>"
      ]
     },
     "metadata": {},
     "output_type": "display_data"
    }
   ],
   "source": [
    "view(class_images_dict['XX'][0])\n",
    "view(class_images_dict['XX'][1])"
   ]
  },
  {
   "cell_type": "code",
   "execution_count": 34,
   "metadata": {},
   "outputs": [
    {
     "name": "stdout",
     "output_type": "stream",
     "text": [
      "Dot_3_Lines\n",
      "RR\n",
      "Queen\n",
      "Leaf\n",
      "ZZ\n",
      "BB\n",
      "DD\n",
      "Peace\n",
      "Pillars\n",
      "HH\n",
      "Ampersand\n",
      "JJ\n",
      "n\n",
      "Arrow_Hollow\n",
      "Circle_Cross\n",
      "Plant\n",
      "Diamond\n",
      "Hash\n",
      "NN\n",
      "Ankh\n",
      "Question_Mark\n",
      "TT\n",
      "Trident\n",
      "Asterisk\n",
      "UU\n",
      "1\n",
      "0\n",
      "3\n",
      "2\n",
      "3_Lines\n",
      "4\n",
      "7\n",
      "6\n",
      "5\n",
      "Omega\n",
      "Umbrella\n",
      "AA\n",
      "SS\n",
      "Circle_Line\n",
      "Radioactive\n",
      "w\n",
      "Tadpole\n",
      "EE\n",
      "Circle_Half\n",
      "PP\n",
      "GG\n",
      "XX\n",
      "VV\n",
      "8\n",
      "Necklace\n",
      "Triangle\n",
      "Dot\n",
      "a\n",
      "Heart\n",
      "b\n",
      "e\n",
      "Power\n",
      "g\n",
      "f\n",
      "i\n",
      "h\n",
      "Arrow_Line\n",
      "j\n",
      "Plane\n",
      "2_Note\n",
      "KK\n",
      "r\n",
      "t\n",
      "1_Note\n",
      "y\n",
      "Scissors\n",
      "MM\n"
     ]
    }
   ],
   "source": [
    "unique_class_images_dict = {}\n",
    "\n",
    "for tag_class in class_images_dict.keys():\n",
    "    print(tag_class)\n",
    "    unique_class_images_dict[tag_class] = []\n",
    "    too_similar_index = []\n",
    "    for i, tag in enumerate(class_images_dict[tag_class]):\n",
    "        if i not in too_similar_index:\n",
    "            unique_class_images_dict[tag_class].append(tag)\n",
    "            for ii, other_tag in enumerate(class_images_dict[tag_class]):\n",
    "                if ii not in too_similar_index:\n",
    "                    res = cv2.matchTemplate(tag, other_tag, cv2.TM_CCOEFF_NORMED)\n",
    "                    min_val, max_val, min_loc, max_loc = cv2.minMaxLoc(res)\n",
    "                    if max_val > 0.95:\n",
    "                        too_similar_index.append(ii)"
   ]
  },
  {
   "cell_type": "code",
   "execution_count": 35,
   "metadata": {},
   "outputs": [
    {
     "data": {
      "text/plain": [
       "{'0': 69,\n",
       " '1': 32,\n",
       " '1_Note': 22,\n",
       " '2': 31,\n",
       " '2_Note': 36,\n",
       " '3': 29,\n",
       " '3_Lines': 89,\n",
       " '4': 30,\n",
       " '5': 34,\n",
       " '6': 36,\n",
       " '7': 28,\n",
       " '8': 43,\n",
       " 'AA': 39,\n",
       " 'Ampersand': 55,\n",
       " 'Ankh': 29,\n",
       " 'Arrow_Hollow': 38,\n",
       " 'Arrow_Line': 37,\n",
       " 'Asterisk': 44,\n",
       " 'BB': 71,\n",
       " 'Circle_Cross': 119,\n",
       " 'Circle_Half': 57,\n",
       " 'Circle_Line': 82,\n",
       " 'DD': 61,\n",
       " 'Diamond': 28,\n",
       " 'Dot': 67,\n",
       " 'Dot_3_Lines': 34,\n",
       " 'EE': 36,\n",
       " 'GG': 56,\n",
       " 'HH': 51,\n",
       " 'Hash': 34,\n",
       " 'Heart': 45,\n",
       " 'JJ': 32,\n",
       " 'KK': 50,\n",
       " 'Leaf': 51,\n",
       " 'MM': 53,\n",
       " 'NN': 44,\n",
       " 'Necklace': 28,\n",
       " 'Omega': 58,\n",
       " 'PP': 79,\n",
       " 'Peace': 72,\n",
       " 'Pillars': 49,\n",
       " 'Plane': 41,\n",
       " 'Plant': 30,\n",
       " 'Power': 52,\n",
       " 'Queen': 93,\n",
       " 'Question_Mark': 30,\n",
       " 'RR': 45,\n",
       " 'Radioactive': 66,\n",
       " 'SS': 107,\n",
       " 'Scissors': 50,\n",
       " 'TT': 27,\n",
       " 'Tadpole': 42,\n",
       " 'Triangle': 47,\n",
       " 'Trident': 50,\n",
       " 'UU': 42,\n",
       " 'Umbrella': 35,\n",
       " 'VV': 44,\n",
       " 'XX': 43,\n",
       " 'ZZ': 59,\n",
       " 'a': 57,\n",
       " 'b': 41,\n",
       " 'e': 62,\n",
       " 'f': 28,\n",
       " 'g': 42,\n",
       " 'h': 36,\n",
       " 'i': 22,\n",
       " 'j': 22,\n",
       " 'n': 58,\n",
       " 'r': 37,\n",
       " 't': 35,\n",
       " 'w': 34,\n",
       " 'y': 25}"
      ]
     },
     "execution_count": 35,
     "metadata": {},
     "output_type": "execute_result"
    }
   ],
   "source": [
    "{k: len(unique_class_images_dict[k]) for k in unique_class_images_dict.keys()}"
   ]
  },
  {
   "cell_type": "code",
   "execution_count": 37,
   "metadata": {
    "collapsed": true
   },
   "outputs": [],
   "source": [
    "os.makedirs('tags')\n",
    "\n",
    "for tag_class in unique_class_images_dict.keys():\n",
    "    tag_class_dir = 'tags/{}'.format(tag_class)\n",
    "    os.makedirs(tag_class_dir)\n",
    "    tag_num = 0\n",
    "    for tag in unique_class_images_dict[tag_class]:\n",
    "        fname = tag_class_dir + '/' + str(tag_num) + '.png'\n",
    "        tag_num += 1\n",
    "        cv2.imwrite(fname, tag)"
   ]
  },
  {
   "cell_type": "code",
   "execution_count": null,
   "metadata": {
    "collapsed": true
   },
   "outputs": [],
   "source": [
    "x0 = class_images_dict['XX'][0]\n",
    "view(x0)\n",
    "d = 0\n",
    "a = 0\n",
    "for x in class_images_dict['XX'][1:]:\n",
    "    res = cv2.matchTemplate(x0,x,cv2.TM_CCOEFF_NORMED)\n",
    "    min_val, max_val, min_loc, max_loc = cv2.minMaxLoc(res)\n",
    "    #print(max_val)\n",
    "    if max_val > 0.98:\n",
    "        d += 1\n",
    "    else:\n",
    "        a += 1\n",
    "        #view(x)\n",
    "        #break\n",
    "print(d, a)"
   ]
  }
 ],
 "metadata": {
  "kernelspec": {
   "display_name": "Python 2",
   "language": "python",
   "name": "python2"
  },
  "language_info": {
   "codemirror_mode": {
    "name": "ipython",
    "version": 2
   },
   "file_extension": ".py",
   "mimetype": "text/x-python",
   "name": "python",
   "nbconvert_exporter": "python",
   "pygments_lexer": "ipython2",
   "version": "2.7.13"
  }
 },
 "nbformat": 4,
 "nbformat_minor": 2
}
