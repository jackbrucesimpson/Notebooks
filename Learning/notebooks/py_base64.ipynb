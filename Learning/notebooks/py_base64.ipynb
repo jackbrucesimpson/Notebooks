{
 "cells": [
  {
   "cell_type": "markdown",
   "metadata": {},
   "source": [
    "# Base64 Images\n",
    "Working with Base 64 image and Flask\n",
    "## Read Image File & Write Image"
   ]
  },
  {
   "cell_type": "code",
   "execution_count": null,
   "metadata": {
    "collapsed": true
   },
   "outputs": [],
   "source": [
    "import base64\n",
    "fh = open(\"imageToSave.png\", \"wb\")\n",
    "with open(\"imageToSave.png\", \"wb\") as fh:\n",
    "    fh.write(base64.decodestring(imgData))"
   ]
  },
  {
   "cell_type": "markdown",
   "metadata": {},
   "source": [
    "## Read Base64 Image"
   ]
  },
  {
   "cell_type": "code",
   "execution_count": 3,
   "metadata": {
    "collapsed": false
   },
   "outputs": [],
   "source": [
    "from PIL import Image\n",
    "from io import BytesIO\n",
    "import base64\n",
    "\n",
    "img = '''R0lGODlhDwAPAKECAAAAzMzM/////wAAACwAAAAADwAPAAACIISPeQHsrZ5ModrLlN48CXF8m2iQ3YmmKqVlRtW4MLwWACH+H09wdGltaXplZCBieSBVbGVhZCBTbWFydFNhdmVyIQAAOw==''' \n",
    "\n",
    "im = Image.open(BytesIO(base64.b64decode(img)))"
   ]
  },
  {
   "cell_type": "markdown",
   "metadata": {},
   "source": [
    "## Resize Image Function"
   ]
  },
  {
   "cell_type": "code",
   "execution_count": null,
   "metadata": {
    "collapsed": true
   },
   "outputs": [],
   "source": [
    "from PIL import Image\n",
    "\n",
    "def process_image(file, database_filename):\n",
    "    filename = file.filename\n",
    "    ALLOWED_EXTENSIONS = set(['png', 'jpg', 'jpeg'])\n",
    "    if file and '.' in filename and filename.rsplit('.', 1)[1] in ALLOWED_EXTENSIONS:\n",
    "        file.save(os.path.join(app.config['UPLOAD_FOLDER'], database_filename))\n",
    "\n",
    "        image = Image.open(os.path.join(app.config['UPLOAD_FOLDER'], database_filename))\n",
    "        cols, rows = image.size\n",
    "        ratio = rows / cols\n",
    "        width = 300\n",
    "        image = image.resize((width, int(width * ratio)))\n",
    "        image.save(os.path.join(app.config['UPLOAD_FOLDER'], database_filename), 'JPEG', dpi=[150,150], quality=80)\n",
    "\n",
    "        return database_filename\n",
    "    else:\n",
    "        return 'default_book.jpg'"
   ]
  }
 ],
 "metadata": {
  "kernelspec": {
   "display_name": "Python 3",
   "language": "python",
   "name": "python3"
  },
  "language_info": {
   "codemirror_mode": {
    "name": "ipython",
    "version": 3
   },
   "file_extension": ".py",
   "mimetype": "text/x-python",
   "name": "python",
   "nbconvert_exporter": "python",
   "pygments_lexer": "ipython3",
   "version": "3.5.2"
  }
 },
 "nbformat": 4,
 "nbformat_minor": 2
}
