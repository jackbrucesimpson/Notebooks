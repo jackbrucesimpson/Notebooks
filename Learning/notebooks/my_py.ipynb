{
 "cells": [
  {
   "cell_type": "markdown",
   "metadata": {},
   "source": [
    "# MyPy Type Checker for Python\n",
    "Install: `python3 -m pip install mypy`  \n",
    "Run: `python3 -m mypy test.py`"
   ]
  },
  {
   "cell_type": "code",
   "execution_count": 1,
   "metadata": {},
   "outputs": [],
   "source": [
    "from typing import Union\n",
    "\n",
    "def greeting(name: str) -> str:\n",
    "   return 'Hello, {}'.format(name)\n",
    "\n",
    "x = 1 # type: int\n",
    "y = 'k' # type str\n",
    "z = 'a' # type: Union[int, str]\n",
    "l = []  # type: List[int]\n",
    "d = {}  # type: Dict[str, int]\n",
    "s = set()  # type: Set[int]\n",
    "\n",
    "i, found = 0, False # type: (int, bool)\n",
    "\n",
    "z = 'a' # type: Union[int, str]"
   ]
  },
  {
   "cell_type": "code",
   "execution_count": null,
   "metadata": {},
   "outputs": [],
   "source": [
    "List[int] = []\n",
    "\n",
    "captain: str  # Note: no initial value!\n",
    "\n",
    "class Starship:\n",
    "    stats: Dict[str, int] = {}"
   ]
  },
  {
   "cell_type": "code",
   "execution_count": 5,
   "metadata": {},
   "outputs": [
    {
     "name": "stdout",
     "output_type": "stream",
     "text": [
      "{c} how are you?\n"
     ]
    }
   ],
   "source": [
    "c: str = 'hello'\n",
    "print('{c} how are you?')"
   ]
  },
  {
   "cell_type": "code",
   "execution_count": null,
   "metadata": {},
   "outputs": [],
   "source": [
    "from typing import List\n",
    "\n",
    "#name = 'Jack'\n",
    "num = 100_000\n",
    "\n",
    "#print(f'My name is {name}')\n",
    "\n",
    "def my_add(a: int, b: int) -> int:\n",
    "    return a + b\n",
    "\n",
    "print(my_add('a', 'b'))\n",
    "\n",
    "for i in range(10):\n",
    "    print(i)\n",
    "\n",
    "\n",
    "'''\n",
    "\n",
    "python_version : float = 3.6\n",
    "\n",
    "primes: List[int] = []\n",
    "\n",
    "captain: str  # Note: no initial value!\n",
    "\n",
    "#class Starship:\n",
    "    #stats: Dict[str, int] = {}\n",
    "'''\n",
    "# dictionaries are ordered, can't rely\n"
   ]
  },
  {
   "cell_type": "code",
   "execution_count": null,
   "metadata": {},
   "outputs": [],
   "source": [
    "$ python3 -m mypy test.py\n",
    "test.py:10: error: Argument 1 to \"my_add\" has incompatible type \"str\"; expected \"int\"\n",
    "test.py:10: error: Argument 2 to \"my_add\" has incompatible type \"str\"; expected \"int\"\n"
   ]
  }
 ],
 "metadata": {
  "kernelspec": {
   "display_name": "Python 3",
   "language": "python",
   "name": "python3"
  },
  "language_info": {
   "codemirror_mode": {
    "name": "ipython",
    "version": 3
   },
   "file_extension": ".py",
   "mimetype": "text/x-python",
   "name": "python",
   "nbconvert_exporter": "python",
   "pygments_lexer": "ipython3",
   "version": "3.6.0"
  }
 },
 "nbformat": 4,
 "nbformat_minor": 2
}
