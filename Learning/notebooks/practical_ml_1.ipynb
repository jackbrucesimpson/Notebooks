{
 "cells": [
  {
   "cell_type": "markdown",
   "metadata": {},
   "source": [
    "# Practical Machine Learning\n",
    "\n",
    "## Stock Market Data\n",
    "Use quandl to retreive data. \n",
    "- Relationship between open and close price tells you how the shares did that day.\n",
    "- Adjusted prices take into account stock splits.\n",
    "- Volume is how many trades occurred that day. Related to volatility\n",
    "\n",
    "We can create new features to express relationships which can be more useful than putting in the raw features themselves."
   ]
  },
  {
   "cell_type": "code",
   "execution_count": 26,
   "metadata": {
    "collapsed": false,
    "scrolled": true
   },
   "outputs": [],
   "source": [
    "import pandas as pd\n",
    "import quandl\n",
    "import math\n",
    "import datetime\n",
    "import numpy as np\n",
    "import pandas as pd\n",
    "import pickle\n",
    "from sklearn import preprocessing, cross_validation, svm\n",
    "from sklearn.linear_model import LinearRegression\n",
    "\n",
    "import matplotlib.pyplot as plt\n",
    "%matplotlib inline\n",
    "plt.style.use('ggplot')\n",
    "\n",
    "#from pylab import rcParams\n",
    "#rcParams['figure.figsize'] = 20, 16\n",
    "#plt.style.use('ggplot')"
   ]
  },
  {
   "cell_type": "code",
   "execution_count": 27,
   "metadata": {
    "collapsed": false
   },
   "outputs": [
    {
     "name": "stdout",
     "output_type": "stream",
     "text": [
      "              Open    High     Low    Close      Volume  Ex-Dividend  \\\n",
      "Date                                                                   \n",
      "2004-08-19  100.01  104.06   95.96  100.335  44659000.0          0.0   \n",
      "2004-08-20  101.01  109.08  100.50  108.310  22834300.0          0.0   \n",
      "2004-08-23  110.76  113.48  109.05  109.400  18256100.0          0.0   \n",
      "2004-08-24  111.24  111.60  103.57  104.870  15247300.0          0.0   \n",
      "2004-08-25  104.76  108.00  103.88  106.000   9188600.0          0.0   \n",
      "\n",
      "            Split Ratio  Adj. Open  Adj. High   Adj. Low  Adj. Close  \\\n",
      "Date                                                                   \n",
      "2004-08-19          1.0  50.159839  52.191109  48.128568   50.322842   \n",
      "2004-08-20          1.0  50.661387  54.708881  50.405597   54.322689   \n",
      "2004-08-23          1.0  55.551482  56.915693  54.693835   54.869377   \n",
      "2004-08-24          1.0  55.792225  55.972783  51.945350   52.597363   \n",
      "2004-08-25          1.0  52.542193  54.167209  52.100830   53.164113   \n",
      "\n",
      "            Adj. Volume  \n",
      "Date                     \n",
      "2004-08-19   44659000.0  \n",
      "2004-08-20   22834300.0  \n",
      "2004-08-23   18256100.0  \n",
      "2004-08-24   15247300.0  \n",
      "2004-08-25    9188600.0  \n",
      "Open           float64\n",
      "High           float64\n",
      "Low            float64\n",
      "Close          float64\n",
      "Volume         float64\n",
      "Ex-Dividend    float64\n",
      "Split Ratio    float64\n",
      "Adj. Open      float64\n",
      "Adj. High      float64\n",
      "Adj. Low       float64\n",
      "Adj. Close     float64\n",
      "Adj. Volume    float64\n",
      "dtype: object\n",
      "['Open', 'High', 'Low', 'Close', 'Volume', 'Ex-Dividend', 'Split Ratio', 'Adj. Open', 'Adj. High', 'Adj. Low', 'Adj. Close', 'Adj. Volume']\n"
     ]
    }
   ],
   "source": [
    "df = quandl.get(\"WIKI/GOOGL\")\n",
    "print(df.head())\n",
    "print(df.dtypes)\n",
    "print(list(df.columns.values))"
   ]
  },
  {
   "cell_type": "code",
   "execution_count": 28,
   "metadata": {
    "collapsed": false
   },
   "outputs": [
    {
     "name": "stdout",
     "output_type": "stream",
     "text": [
      "            Adj. Close    HL_PCT  PCT_change  Adj. Volume\n",
      "Date                                                     \n",
      "2004-08-19   50.322842  8.072956    0.324968   44659000.0\n",
      "2004-08-20   54.322689  7.921706    7.227007   22834300.0\n",
      "2004-08-23   54.869377  4.049360   -1.227880   18256100.0\n",
      "2004-08-24   52.597363  7.657099   -5.726357   15247300.0\n",
      "2004-08-25   53.164113  3.886792    1.183658    9188600.0\n",
      "            Adj. Close    HL_PCT  PCT_change  Adj. Volume\n",
      "Date                                                     \n",
      "2016-12-02      764.46  1.504330    0.336002    1686840.0\n",
      "2016-12-05      778.22  1.674514    1.067532    1680524.0\n",
      "2016-12-06      776.18  1.540880   -0.513977    1694701.0\n",
      "2016-12-07      791.47  2.333632    1.477018    2014582.0\n",
      "2016-12-08      795.17  1.395299    0.279967    1603167.0\n"
     ]
    }
   ],
   "source": [
    "df = df[['Adj. Open',  'Adj. High',  'Adj. Low',  'Adj. Close', 'Adj. Volume']]\n",
    "\n",
    "# percent difference between high and low price for the day\n",
    "df['HL_PCT'] = (df['Adj. High'] - df['Adj. Low']) / df['Adj. Close'] * 100.0\n",
    "# percent change from start and end of the day\n",
    "df['PCT_change'] = (df['Adj. Close'] - df['Adj. Open']) / df['Adj. Open'] * 100.0\n",
    "\n",
    "df = df[['Adj. Close', 'HL_PCT', 'PCT_change', 'Adj. Volume']]\n",
    "print(df.head())\n",
    "print(df.tail())"
   ]
  },
  {
   "cell_type": "code",
   "execution_count": 29,
   "metadata": {
    "collapsed": false,
    "scrolled": true
   },
   "outputs": [
    {
     "name": "stdout",
     "output_type": "stream",
     "text": [
      "310\n",
      "            Adj. Close    HL_PCT  PCT_change  Adj. Volume       label\n",
      "Date                                                                 \n",
      "2004-08-19   50.322842  8.072956    0.324968   44659000.0  190.162012\n",
      "2004-08-20   54.322689  7.921706    7.227007   22834300.0  196.155513\n",
      "2004-08-23   54.869377  4.049360   -1.227880   18256100.0  195.804430\n",
      "2004-08-24   52.597363  7.657099   -5.726357   15247300.0  199.099601\n",
      "2004-08-25   53.164113  3.886792    1.183658    9188600.0  197.008145\n",
      "            Adj. Close    HL_PCT  PCT_change  Adj. Volume  label\n",
      "Date                                                            \n",
      "2016-12-02      764.46  1.504330    0.336002    1686840.0    NaN\n",
      "2016-12-05      778.22  1.674514    1.067532    1680524.0    NaN\n",
      "2016-12-06      776.18  1.540880   -0.513977    1694701.0    NaN\n",
      "2016-12-07      791.47  2.333632    1.477018    2014582.0    NaN\n",
      "2016-12-08      795.17  1.395299    0.279967    1603167.0    NaN\n"
     ]
    }
   ],
   "source": [
    "forecast_col = 'Adj. Close'\n",
    "# fill missing data, will be treated as an outlier as ML algorithms don't cope well with missing values\n",
    "df.fillna(-99999, inplace=True)\n",
    "# number of days to predict out - 10% of the length of the df\n",
    "forecast_out = int(math.ceil(0.1 * len(df)))\n",
    "print(forecast_out)\n",
    "\n",
    "# shift columns up spreadsheet in label column 10% of the time in the future\n",
    "df['label'] = df[forecast_col].shift(-forecast_out)\n",
    "# remove NAs from end of column after shift up\n",
    "print(df.head())\n",
    "print(df.tail())"
   ]
  },
  {
   "cell_type": "markdown",
   "metadata": {},
   "source": [
    "## Preprocessing\n",
    "You can scale your data to normalise the data points. This can get good results, but you need to consider that you'll have to scale the new values alongside the original values which can take time. For predictions where time is crucial, most people tend to skip this step."
   ]
  },
  {
   "cell_type": "code",
   "execution_count": 30,
   "metadata": {
    "collapsed": false
   },
   "outputs": [],
   "source": [
    "X = np.array(df.drop(['label'], 1))\n",
    "X = preprocessing.scale(X)\n",
    "X_lately = X[-forecast_out:]\n",
    "X = X[:-forecast_out]\n",
    "\n",
    "df.dropna(inplace=True)\n",
    "\n",
    "y = np.array(df['label'])"
   ]
  },
  {
   "cell_type": "markdown",
   "metadata": {},
   "source": [
    "## Training & Testing Sets"
   ]
  },
  {
   "cell_type": "code",
   "execution_count": 31,
   "metadata": {
    "collapsed": true
   },
   "outputs": [],
   "source": [
    "X_train, X_test, y_train, y_test = cross_validation.train_test_split(X, y, test_size=0.2)"
   ]
  },
  {
   "cell_type": "markdown",
   "metadata": {},
   "source": [
    "## SVM & Regression"
   ]
  },
  {
   "cell_type": "code",
   "execution_count": 32,
   "metadata": {
    "collapsed": false
   },
   "outputs": [
    {
     "data": {
      "text/plain": [
       "0.79452107880892431"
      ]
     },
     "execution_count": 32,
     "metadata": {},
     "output_type": "execute_result"
    }
   ],
   "source": [
    "clf = svm.SVR(kernel='linear')\n",
    "clf.fit(X_train, y_train)\n",
    "\n",
    "clf.score(X_test, y_test)"
   ]
  },
  {
   "cell_type": "code",
   "execution_count": 33,
   "metadata": {
    "collapsed": false
   },
   "outputs": [
    {
     "name": "stdout",
     "output_type": "stream",
     "text": [
      "0.795202847872\n"
     ]
    }
   ],
   "source": [
    "clf = LinearRegression(n_jobs=4) # num threads\n",
    "clf.fit(X_train, y_train)\n",
    "\n",
    "accuracy = clf.score(X_test, y_test)\n",
    "print(accuracy)"
   ]
  },
  {
   "cell_type": "code",
   "execution_count": 34,
   "metadata": {
    "collapsed": false
   },
   "outputs": [
    {
     "name": "stdout",
     "output_type": "stream",
     "text": [
      "[ 773.59239355  785.3870182   771.37182774  769.60955775  777.08373395\n",
      "  761.72699023  752.56587165  743.05952431  751.57928928  760.34766308\n",
      "  791.91496227  798.69122427  795.43967389  797.65228138  791.98505893\n",
      "  791.78762985  797.33408342  808.49459942  800.1758763   812.52300139\n",
      "  812.07655026  819.50921567  810.26520464  792.99650863  802.71639532\n",
      "  854.64036905  859.59688177  858.54195618  860.86782123  871.89669068\n",
      "  859.45576896  880.03689203  874.51918822  881.5131012   884.78708479\n",
      "  886.06934236  883.78177262  887.21518836  890.68810608  881.52320953\n",
      "  867.03578427  882.64159229  870.28902929  890.75193009  882.53564531\n",
      "  908.55348818  903.47470895  902.44688417  893.30676208  898.28309597\n",
      "  891.82062393  922.10673514  909.73842338  904.36393989  913.31791843\n",
      "  903.18146406  910.01459644  900.32521842  886.7514816   873.64421273\n",
      "  905.84832951  890.32337966  917.4928712   897.30426364  885.58356266\n",
      "  888.6385199   893.0665088   899.43078203  889.10962479  916.90794539\n",
      "  925.86825129  918.43205223  905.5333407   886.53732589  889.76973608\n",
      "  892.6812151   871.95100824  862.23516751  860.78465732  871.29372019\n",
      "  863.58513     879.07441026  841.38078044  845.5166672   868.31904429\n",
      "  865.81101961  867.39318955  864.93623604  859.97410905  849.43638682\n",
      "  882.46749728  895.90022734  896.60404622  916.03386287  905.96565097\n",
      "  857.80704443  832.38855331  835.52304932  842.03357818  833.15397662\n",
      "  837.72689863  830.80521528  841.53486917  861.92304954  847.08609855\n",
      "  846.29244571  853.22114663  842.94987718  853.91382905  859.30506444\n",
      "  850.0294301   841.66529787  880.65418246  862.78114542  854.72256044\n",
      "  850.89376512  842.91002179  843.06679148  852.75553376  858.50068443\n",
      "  868.15329642  876.68881546  876.80358857  887.04144936  881.46014507\n",
      "  878.45476221  891.88250272  884.49101906  882.79480308  878.14898879\n",
      "  875.68133016  902.06614127  894.2491303   889.40350929  903.02449937\n",
      "  892.29770733  882.64564603  898.93425351  888.04850232  886.8868616\n",
      "  882.37280877  895.31246514  900.1700919   899.95322408  904.76178907\n",
      "  918.0721377   911.34857442  900.17273076  904.29339695  864.84827996\n",
      "  865.80406369  859.41190263  848.78170511  837.97074121  825.61692281\n",
      "  835.59483609  824.55215492  834.54619918  834.903523    853.31633432\n",
      "  853.02005895  862.5276897   855.8586328   852.34812902  845.84823549\n",
      "  858.11774853  849.26736768  845.38356622  837.29913394  847.57857668\n",
      "  836.19673003  862.55961823  859.87055686  859.59402811  874.56392202\n",
      "  870.94355725  871.6075572   868.86138744  857.28220183  852.76011389\n",
      "  850.82614419  865.96160831  866.35946914  855.89990126  855.67115874\n",
      "  857.44647503  851.98905335  850.43979561  829.31434983  826.02994724\n",
      "  831.10826252  830.12214377  841.34528803  809.04672996  798.2504662\n",
      "  808.28437941  811.12639045  823.19502187  831.38289477  825.24411999\n",
      "  836.19934162  828.66442307  841.00719299  851.73383028  854.77155365\n",
      "  849.51439132  856.42313002  855.11963792  888.64800621  877.6678111\n",
      "  880.85336245  877.56437707  883.47477324  880.20166312  880.91211784\n",
      "  887.21705179  888.2510131   916.97280186  941.62910022  927.55387153\n",
      "  925.98961706  924.22058065  937.34586071  932.40121571  937.72129068\n",
      "  935.39557997  937.1936097   933.13670813  934.99341225  929.3353718\n",
      "  936.80515028  930.53619978  925.07534973  923.00292158  922.24822227\n",
      "  920.89377593  918.63206645  923.18079219  925.45780991  920.32477048\n",
      "  914.44999238  917.6952895   921.33069668  944.13273278  936.56648645\n",
      "  931.05799124  919.01314761  936.08077582  917.89641957  919.18683844\n",
      "  937.28508393  922.2545695   925.37061814  925.46859638  936.17327501\n",
      "  948.96809795  941.31220787  931.80781272  944.62736477  939.49581937\n",
      "  935.50950209  931.09252225  927.72198815  930.33629832  929.29561704\n",
      "  930.72190592  930.00249439  951.49559095  941.86921671  940.26088176\n",
      "  932.6071271   933.38715591  938.13283882  957.95790193  956.92781376\n",
      "  951.32845873  952.99961126  968.92648016  962.31695839  954.34341388\n",
      "  947.47916647  955.95977189  942.3280311   939.12598224  924.78355657\n",
      "  910.37163156  916.89197912  934.2566626   949.75815882  942.65977097\n",
      "  927.36296158  896.41397581  890.6415672   906.30559527  914.25106452\n",
      "  914.40717078  907.56813932  914.26015706  913.38893705  912.73639993\n",
      "  904.70693592  924.82011459  919.62541277  908.61673955  901.71714115\n",
      "  892.65090461  909.84407705  905.04689003  929.19063175  925.88030527] 0.795202847872 310\n"
     ]
    }
   ],
   "source": [
    "# predict next 30 days of data\n",
    "forecast_set = clf.predict(X_lately)\n",
    "print(forecast_set, accuracy, forecast_out)"
   ]
  },
  {
   "cell_type": "code",
   "execution_count": 35,
   "metadata": {
    "collapsed": false
   },
   "outputs": [
    {
     "data": {
      "image/png": "[encoded data removed]",
      "text/plain": [
       "<matplotlib.figure.Figure at 0x114f51438>"
      ]
     },
     "metadata": {},
     "output_type": "display_data"
    }
   ],
   "source": [
    "df['Forecast'] = np.nan\n",
    "last_date = df.iloc[-1].name\n",
    "last_unix = last_date.timestamp()\n",
    "one_day = 86400\n",
    "next_unix = last_unix + one_day\n",
    "\n",
    "for i in forecast_set:\n",
    "    next_date = datetime.datetime.fromtimestamp(next_unix)\n",
    "    next_unix += 86400\n",
    "    df.loc[next_date] = [np.nan for _ in range(len(df.columns)-1)]+[i]\n",
    "    \n",
    "plt.figure()\n",
    "df['Adj. Close'].plot()\n",
    "df['Forecast'].plot()\n",
    "plt.legend(loc=4)\n",
    "plt.xlabel('Date')\n",
    "plt.ylabel('Price')\n",
    "plt.show()"
   ]
  },
  {
   "cell_type": "markdown",
   "metadata": {},
   "source": [
    "## Pickling Classifiers\n",
    "\n",
    "Writing CLF\n",
    "```\n",
    "with open('linearregression.pickle','wb') as f:\n",
    "    pickle.dump(clf, f)\n",
    "```\n",
    "\n",
    "Reading CLF\n",
    "```\n",
    "pickle_in = open('linearregression.pickle','rb')\n",
    "clf = pickle.load(pickle_in)\n",
    "```"
   ]
  },
  {
   "cell_type": "code",
   "execution_count": null,
   "metadata": {
    "collapsed": true
   },
   "outputs": [],
   "source": []
  }
 ],
 "metadata": {
  "kernelspec": {
   "display_name": "Python 3",
   "language": "python",
   "name": "python3"
  },
  "language_info": {
   "codemirror_mode": {
    "name": "ipython",
    "version": 3
   },
   "file_extension": ".py",
   "mimetype": "text/x-python",
   "name": "python",
   "nbconvert_exporter": "python",
   "pygments_lexer": "ipython3",
   "version": "3.5.2"
  }
 },
 "nbformat": 4,
 "nbformat_minor": 2
}
