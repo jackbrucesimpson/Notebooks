{
 "cells": [
  {
   "cell_type": "markdown",
   "metadata": {},
   "source": [
    "# Collaborative Filtering\n",
    "Based on explicitly asking users to rate things/things users do."
   ]
  },
  {
   "cell_type": "code",
   "execution_count": 1,
   "metadata": {
    "collapsed": true
   },
   "outputs": [],
   "source": [
    "import math\n",
    "import numpy as np\n",
    "\n",
    "import matplotlib.pyplot as plt\n",
    "%matplotlib inline\n",
    "plt.style.use('ggplot')"
   ]
  },
  {
   "cell_type": "markdown",
   "metadata": {},
   "source": [
    "## Collaborative Filtering\n",
    "Type of recommendation system based on the preferences of other people who are similar to you.\n",
    "\n",
    "![](../resources/euclidian_distance.jpeg)\n",
    "\n",
    "$c = \\sqrt{a^2 + b^2}$\n",
    "\n",
    "For more than one book, create a matrix of their ratings (users are columns, rows are books). You can then calculate the difference between two people and also the squared difference. By finding the square root of the summed squared differences you can find the euclidian distance. \n",
    "\n",
    "$\\sqrt{\\sum (x_i-y_i)^2}$\n",
    "\n",
    "If someone has only reviewed a couple of the same books as another person, then you can get strange results. You need a decent sample size in common."
   ]
  },
  {
   "cell_type": "markdown",
   "metadata": {},
   "source": [
    "## Distance Metrics"
   ]
  },
  {
   "cell_type": "code",
   "execution_count": null,
   "metadata": {
    "collapsed": true
   },
   "outputs": [],
   "source": [
    "def manhattan_distance(x1, y1, x2, y2):\n",
    "    distance = abs(x1-x2) + abs(y1-y2)\n",
    "    return distance\n",
    "\n",
    "def euclidian_distance(x1, y1, x2, y2):\n",
    "    x_diff = (x1-x2)\n",
    "    y_diff = (y1-y2)\n",
    "    sum_squared_diffs = math.pow(x_diff, 2) + math.pow(y_diff, 2)\n",
    "    distance = math.sqrt(sum_squared_diffs)\n",
    "    return distance"
   ]
  },
  {
   "cell_type": "markdown",
   "metadata": {},
   "source": [
    "## Pearson Correlation\n",
    "\n",
    "People can rate things differently - for instance someone may like everything and rate it all 4-5 while someone may avoid extremes and rate 2-4. To get around this, you can use Pearson correlation coefficient. If you plot the scores of two people, then if you get a straight line then you can show that they are in agreement. Alternatively, if they're all over the place it means they don't agree. The coefficient ranges between -1 to 1: 1 means perfect agreement, -1 means perfect disagreement.\n",
    "\n",
    "$$\n",
    "r = \\frac{\\sum_{i=1}^{n} x_iy_i - \\frac{\\sum_{i=1}^{n} x_i \\sum_{i=1}^{n} y_i}{n}}\n",
    "{\\sqrt{\\sum_{i=1}^{n} x_i^2 - \\frac{(\\sum_{i=1}^{n} x_i)^2}{n}} \\sqrt{\\sum_{i=1}^{n} y_i^2 - \\frac{(\\sum_{i=1}^{n} y_i)^2}{n}}}\n",
    "$$\n",
    "\n",
    "## Ratings of Books by 2 People"
   ]
  },
  {
   "cell_type": "code",
   "execution_count": 24,
   "metadata": {},
   "outputs": [
    {
     "data": {
      "image/png": "[encoded data removed]",
      "text/plain": [
       "<matplotlib.figure.Figure at 0x10acf8908>"
      ]
     },
     "metadata": {},
     "output_type": "display_data"
    }
   ],
   "source": [
    "person1 = np.array([5, 1, 2, 2, 5], dtype=np.float64)\n",
    "person2 = np.array([4, 2, 3, 3, 4], dtype=np.float64)\n",
    "\n",
    "plt.figure()\n",
    "plt.scatter(xs, ys)\n",
    "plt.show()"
   ]
  },
  {
   "cell_type": "code",
   "execution_count": 69,
   "metadata": {
    "collapsed": true
   },
   "outputs": [
    {
     "data": {
      "text/plain": [
       "0.95831484749991047"
      ]
     },
     "execution_count": 69,
     "metadata": {},
     "output_type": "execute_result"
    }
   ],
   "source": [
    "def pearson_cor(xs, ys):\n",
    "    n =  len(xs)\n",
    "    sum_xs = sum(xs)\n",
    "    sum_ys = sum(ys)\n",
    "    sum_squared_xs = sum(np.power(xs, 2))\n",
    "    sum_squared_ys = sum(np.power(ys, 2))\n",
    "    sum_multiplied_xs_ys = sum(xs * ys)\n",
    "    \n",
    "    r = (\n",
    "        ( sum_multiplied_xs_ys - (sum_xs * sum_ys / n) ) /\n",
    "        ( math.sqrt(sum_squared_xs - (np.power(sum_xs, 2) / n)) * math.sqrt(sum_squared_ys - (np.power(sum_ys, 2) / n)) )\n",
    "        )\n",
    "    return r\n",
    "\n",
    "pearson_cor(person1, person2)"
   ]
  },
  {
   "cell_type": "markdown",
   "metadata": {},
   "source": [
    "## Compare Result to SciPy's Implementation"
   ]
  },
  {
   "cell_type": "markdown",
   "metadata": {},
   "source": [
    "from scipy.stats import pearsonr\n",
    "\n",
    "pearsonr(person1, person2)"
   ]
  },
  {
   "cell_type": "markdown",
   "metadata": {},
   "source": [
    "## Cosine Similarity\n",
    "Cosin similarity ignores 0-0 matches and is useful for sparse datasets with a lot of 0 values. For example, if you want to find people with similar preferences based on how frequently the play different songs on iTunes, you'll have to work with data where they've only listened to a small percentage of the millions of songs available. This is also a useful metric when comparing words used by different books.\n",
    "\n",
    "$$\n",
    "cos(x, y) = \\frac{x \\cdot y}{||x||\\times||y||}\n",
    "$$\n",
    "\n",
    "$\\cdot$ is the dot product of $||x||$ is the length of the vector x. The length of a vector is:\n",
    "\n",
    "$$\n",
    "\\sqrt{\\sum_{i=1}^{n}{x_{i}^{2}}}\n",
    "$$\n",
    "\n",
    "The cosine similarity will range from -1 to 1, to indicate perfect positive and negative agreement."
   ]
  },
  {
   "cell_type": "code",
   "execution_count": 75,
   "metadata": {},
   "outputs": [],
   "source": [
    "def vector_len(v):\n",
    "    vl = math.sqrt(sum(np.power(v, 2)))\n",
    "    return vl\n",
    "    \n",
    "def cos_sim(xs, ys):\n",
    "    cs = sum(xs * ys) / ( vector_len(xs) * vector_len(ys) )\n",
    "    return cs"
   ]
  },
  {
   "cell_type": "code",
   "execution_count": 76,
   "metadata": {},
   "outputs": [
    {
     "data": {
      "text/plain": [
       "0.95668920621492104"
      ]
     },
     "execution_count": 76,
     "metadata": {},
     "output_type": "execute_result"
    }
   ],
   "source": [
    "cos_sim(person1, person2)"
   ]
  },
  {
   "cell_type": "markdown",
   "metadata": {},
   "source": [
    "##### Quirks in Preferences\n",
    "People can have quirks with the things they like (a person may like Mozart and Bach songs in addition to Marilyn Manson, so recommending Marilyn Manson to another lover of classical music might not make sense).\n",
    "\n",
    "## K-nearest neighbour\n",
    "Using k-nearest neighbours means you find the k number of most similar to a person and use them to make recommendations.\n",
    "\n",
    "If the 3 most similar people to me have a pearson correlation of 0.8, 0.7 and 0.5 and they rated a band I haven't heard 4.5, 5 and 3.5, you can determine how much influence they each have by:"
   ]
  },
  {
   "cell_type": "code",
   "execution_count": 82,
   "metadata": {},
   "outputs": [
    {
     "name": "stdout",
     "output_type": "stream",
     "text": [
      "[0.25, 0.35, 0.4]\n",
      "4.275\n"
     ]
    }
   ],
   "source": [
    "similar = [0.5, 0.7, 0.8]\n",
    "influence = [s / sum(similar) for s in similar]\n",
    "rating = [4.5, 5, 3.5]\n",
    "projected_rating = sum([i * r for i, r in zip(influence, rating)])\n",
    "\n",
    "print(influence)\n",
    "print(projected_rating)"
   ]
  },
  {
   "cell_type": "code",
   "execution_count": null,
   "metadata": {},
   "outputs": [],
   "source": []
  }
 ],
 "metadata": {
  "kernelspec": {
   "display_name": "Python 3",
   "language": "python",
   "name": "python3"
  },
  "language_info": {
   "codemirror_mode": {
    "name": "ipython",
    "version": 3
   },
   "file_extension": ".py",
   "mimetype": "text/x-python",
   "name": "python",
   "nbconvert_exporter": "python",
   "pygments_lexer": "ipython3",
   "version": "3.5.2"
  }
 },
 "nbformat": 4,
 "nbformat_minor": 1
}
