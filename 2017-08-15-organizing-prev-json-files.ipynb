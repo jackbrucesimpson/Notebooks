{
 "cells": [
  {
   "cell_type": "markdown",
   "metadata": {},
   "source": [
    "# Organising previous JSON files\n",
    "- JSON files had an xy column containing dictionary values\n",
    "- Need to turn these into separate columns\n",
    "- Remove floats -> ints"
   ]
  },
  {
   "cell_type": "code",
   "execution_count": 1,
   "metadata": {},
   "outputs": [
    {
     "data": {
      "application/json": {
       "Software versions": [
        {
         "module": "Python",
         "version": "3.6.2 64bit [GCC 4.2.1 Compatible Apple LLVM 8.1.0 (clang-802.0.42)]"
        },
        {
         "module": "IPython",
         "version": "6.1.0"
        },
        {
         "module": "OS",
         "version": "Darwin 16.7.0 x86_64 i386 64bit"
        },
        {
         "module": "numpy",
         "version": "1.13.1"
        },
        {
         "module": "scipy",
         "version": "0.19.1"
        },
        {
         "module": "matplotlib",
         "version": "2.0.2"
        },
        {
         "module": "pandas",
         "version": "0.20.3"
        }
       ]
      },
      "text/html": [
       "<table><tr><th>Software</th><th>Version</th></tr><tr><td>Python</td><td>3.6.2 64bit [GCC 4.2.1 Compatible Apple LLVM 8.1.0 (clang-802.0.42)]</td></tr><tr><td>IPython</td><td>6.1.0</td></tr><tr><td>OS</td><td>Darwin 16.7.0 x86_64 i386 64bit</td></tr><tr><td>numpy</td><td>1.13.1</td></tr><tr><td>scipy</td><td>0.19.1</td></tr><tr><td>matplotlib</td><td>2.0.2</td></tr><tr><td>pandas</td><td>0.20.3</td></tr><tr><td colspan='2'>Sun Aug 20 14:35:02 2017 AEST</td></tr></table>"
      ],
      "text/latex": [
       "\\begin{tabular}{|l|l|}\\hline\n",
       "{\\bf Software} & {\\bf Version} \\\\ \\hline\\hline\n",
       "Python & 3.6.2 64bit [GCC 4.2.1 Compatible Apple LLVM 8.1.0 (clang-802.0.42)] \\\\ \\hline\n",
       "IPython & 6.1.0 \\\\ \\hline\n",
       "OS & Darwin 16.7.0 x86\\_64 i386 64bit \\\\ \\hline\n",
       "numpy & 1.13.1 \\\\ \\hline\n",
       "scipy & 0.19.1 \\\\ \\hline\n",
       "matplotlib & 2.0.2 \\\\ \\hline\n",
       "pandas & 0.20.3 \\\\ \\hline\n",
       "\\hline \\multicolumn{2}{|l|}{Sun Aug 20 14:35:02 2017 AEST} \\\\ \\hline\n",
       "\\end{tabular}\n"
      ],
      "text/plain": [
       "Software versions\n",
       "Python 3.6.2 64bit [GCC 4.2.1 Compatible Apple LLVM 8.1.0 (clang-802.0.42)]\n",
       "IPython 6.1.0\n",
       "OS Darwin 16.7.0 x86_64 i386 64bit\n",
       "numpy 1.13.1\n",
       "scipy 0.19.1\n",
       "matplotlib 2.0.2\n",
       "pandas 0.20.3\n",
       "Sun Aug 20 14:35:02 2017 AEST"
      ]
     },
     "execution_count": 1,
     "metadata": {},
     "output_type": "execute_result"
    }
   ],
   "source": [
    "%matplotlib inline\n",
    "#from pylab import rcParams\n",
    "#rcParams['figure.figsize'] = 12, 8\n",
    "\n",
    "%load_ext autoreload\n",
    "%autoreload 2\n",
    "\n",
    "%load_ext version_information\n",
    "%version_information numpy, scipy, matplotlib, pandas"
   ]
  },
  {
   "cell_type": "code",
   "execution_count": 8,
   "metadata": {
    "collapsed": true
   },
   "outputs": [],
   "source": [
    "import glob\n",
    "import pandas as pd\n",
    "import os\n",
    "import multiprocessing\n",
    "import json"
   ]
  },
  {
   "cell_type": "code",
   "execution_count": 3,
   "metadata": {
    "collapsed": true
   },
   "outputs": [],
   "source": [
    "def read_coordinates_file(coord_file_path):\n",
    "    file_extension = coord_file_path.split('.')[-1]\n",
    "    if file_extension == 'csv':\n",
    "        df = pd.read_csv(coord_file_path)\n",
    "    elif file_extension == 'json':\n",
    "        df = pd.read_json(coord_file_path)\n",
    "    else:\n",
    "        print('Unknown coordinate file type')\n",
    "        sys.exit(0)\n",
    "        \n",
    "    # turn coordinate column into x,y dictionary\n",
    "    df['xy'] = df['xy'].apply(lambda x: eval(str(x)))\n",
    "\n",
    "    return df\n",
    "\n",
    "def get_video_filename(video_path):\n",
    "    head, tail = os.path.split(video_path)\n",
    "    str_date_time = os.path.splitext(tail)[0]\n",
    "    return str_date_time"
   ]
  },
  {
   "cell_type": "code",
   "execution_count": 4,
   "metadata": {
    "collapsed": true
   },
   "outputs": [],
   "source": [
    "def convert_json_files(json_file_path):\n",
    "    new_json = '/Volumes/JSIMPSON/1b/new_json/'\n",
    "    video_filename = get_video_filename(json_file_path)\n",
    "    new_json_filename = new_json + video_filename + '.json'\n",
    "    \n",
    "    if os.path.exists(new_json_filename):\n",
    "        print('Complete ' + video_filename)\n",
    "        return None\n",
    "    else:\n",
    "        print('Processing ' + video_filename)\n",
    "    \n",
    "    df = read_coordinates_file(json_file_path)\n",
    "    \n",
    "    df = df.sort_values('frame_nums', ascending=True)\n",
    "    \n",
    "    xy_list = df['xy'].tolist()\n",
    "    x = []\n",
    "    y = []\n",
    "    for xy in xy_list:\n",
    "        x.append(int(xy['x']))\n",
    "        y.append(int(xy['y']))\n",
    "        \n",
    "    del df['xy']\n",
    "    df['x'] = x\n",
    "    df['y'] = y\n",
    "    \n",
    "    df.to_json(new_json_filename, orient='records')"
   ]
  },
  {
   "cell_type": "code",
   "execution_count": 5,
   "metadata": {},
   "outputs": [
    {
     "data": {
      "text/plain": [
       "'/Volumes/JSIMPSON/1b/json/2017-02-14_23-32-00.json'"
      ]
     },
     "execution_count": 5,
     "metadata": {},
     "output_type": "execute_result"
    }
   ],
   "source": [
    "json_file_list = glob.glob('/Volumes/JSIMPSON/1b/json/*.json')\n",
    "[j.split('/')[-1] for j in json_file_list]\n",
    "json_file_list[0]"
   ]
  },
  {
   "cell_type": "code",
   "execution_count": 18,
   "metadata": {
    "collapsed": true
   },
   "outputs": [],
   "source": [
    "#processes = multiprocessing.Pool(processes=1)\n",
    "#frame_data_list = processes.map(func=convert_json_files, iterable=json_file_list, chunksize=1)"
   ]
  },
  {
   "cell_type": "code",
   "execution_count": 6,
   "metadata": {},
   "outputs": [
    {
     "name": "stdout",
     "output_type": "stream",
     "text": [
      "Complete 2017-02-14_23-32-00\n",
      "Complete 2017-02-15_00-32-00\n",
      "Complete 2017-02-15_01-32-02\n",
      "Complete 2017-02-15_02-32-00\n",
      "Complete 2017-02-15_03-32-00\n",
      "Complete 2017-02-15_04-32-00\n",
      "Complete 2017-02-15_05-32-00\n",
      "Complete 2017-02-15_06-32-03\n",
      "Complete 2017-02-15_07-32-01\n",
      "Complete 2017-02-15_08-32-04\n",
      "Complete 2017-02-15_09-32-02\n",
      "Complete 2017-02-15_10-32-05\n",
      "Complete 2017-02-15_11-32-06\n",
      "Complete 2017-02-15_12-32-04\n",
      "Complete 2017-02-15_13-32-05\n",
      "Complete 2017-02-15_14-32-05\n",
      "Complete 2017-02-15_15-32-06\n",
      "Complete 2017-02-15_16-32-07\n",
      "Complete 2017-02-15_17-32-10\n",
      "Complete 2017-02-15_18-32-08\n",
      "Complete 2017-02-15_19-32-09\n",
      "Complete 2017-02-15_20-32-10\n",
      "Complete 2017-02-15_21-32-10\n",
      "Complete 2017-02-15_22-32-11\n",
      "Complete 2017-02-15_23-32-12\n",
      "Complete 2017-02-16_00-32-12\n",
      "Complete 2017-02-16_01-32-12\n",
      "Complete 2017-02-16_02-32-15\n",
      "Complete 2017-02-16_03-32-14\n",
      "Complete 2017-02-16_04-32-15\n",
      "Complete 2017-02-16_05-32-16\n",
      "Complete 2017-02-16_06-32-18\n",
      "Complete 2017-02-16_07-32-20\n",
      "Complete 2017-02-16_08-32-21\n",
      "Complete 2017-02-16_09-32-19\n",
      "Complete 2017-02-16_10-32-22\n",
      "Complete 2017-02-16_11-32-23\n",
      "Complete 2017-02-16_12-32-22\n",
      "Complete 2017-02-16_13-32-23\n",
      "Complete 2017-02-16_14-32-24\n",
      "Complete 2017-02-16_15-32-24\n",
      "Complete 2017-02-16_16-32-27\n",
      "Complete 2017-02-16_17-32-26\n",
      "Complete 2017-02-16_18-32-27\n",
      "Complete 2017-02-16_19-32-27\n",
      "Complete 2017-02-16_20-32-28\n",
      "Complete 2017-02-16_21-32-28\n",
      "Complete 2017-02-16_22-32-29\n",
      "Complete 2017-02-16_23-32-30\n",
      "Complete 2017-02-17_00-32-30\n",
      "Complete 2017-02-17_01-32-31\n",
      "Complete 2017-02-17_02-32-34\n",
      "Complete 2017-02-17_03-32-34\n",
      "Complete 2017-02-17_04-32-35\n",
      "Complete 2017-02-17_05-32-33\n",
      "Complete 2017-02-17_06-32-36\n",
      "Complete 2017-02-17_07-32-37\n",
      "Complete 2017-02-17_08-32-37\n",
      "Complete 2017-02-17_09-32-38\n",
      "Complete 2017-02-17_10-32-36\n",
      "Complete 2017-02-17_11-32-37\n",
      "Complete 2017-02-17_12-32-38\n",
      "Complete 2017-02-17_13-32-41\n",
      "Complete 2017-02-17_14-32-39\n",
      "Complete 2017-02-17_15-32-42\n",
      "Complete 2017-02-17_16-32-41\n",
      "Complete 2017-02-17_17-32-44\n",
      "Complete 2017-02-17_18-32-42\n",
      "Complete 2017-02-17_19-32-43\n",
      "Complete 2017-02-17_20-32-46\n",
      "Complete 2017-02-17_21-32-44\n",
      "Complete 2017-02-17_22-32-48\n",
      "Complete 2017-02-17_23-32-47\n",
      "Complete 2017-02-18_00-32-50\n",
      "Complete 2017-02-18_01-32-49\n",
      "Processing 2017-02-18_02-32-49\n"
     ]
    },
    {
     "ename": "OSError",
     "evalue": "[Errno 22] Invalid argument",
     "output_type": "error",
     "traceback": [
      "\u001b[0;31m---------------------------------------------------------------------------\u001b[0m",
      "\u001b[0;31mOSError\u001b[0m                                   Traceback (most recent call last)",
      "\u001b[0;32m<ipython-input-6-367c5cd6aeac>\u001b[0m in \u001b[0;36m<module>\u001b[0;34m()\u001b[0m\n\u001b[1;32m      1\u001b[0m \u001b[0;32mfor\u001b[0m \u001b[0mf\u001b[0m \u001b[0;32min\u001b[0m \u001b[0mjson_file_list\u001b[0m\u001b[0;34m:\u001b[0m\u001b[0;34m\u001b[0m\u001b[0m\n\u001b[0;32m----> 2\u001b[0;31m     \u001b[0mconvert_json_files\u001b[0m\u001b[0;34m(\u001b[0m\u001b[0mf\u001b[0m\u001b[0;34m)\u001b[0m\u001b[0;34m\u001b[0m\u001b[0m\n\u001b[0m",
      "\u001b[0;32m<ipython-input-4-54a7ac07cabb>\u001b[0m in \u001b[0;36mconvert_json_files\u001b[0;34m(json_file_path)\u001b[0m\n\u001b[1;32m     10\u001b[0m         \u001b[0mprint\u001b[0m\u001b[0;34m(\u001b[0m\u001b[0;34m'Processing '\u001b[0m \u001b[0;34m+\u001b[0m \u001b[0mvideo_filename\u001b[0m\u001b[0;34m)\u001b[0m\u001b[0;34m\u001b[0m\u001b[0m\n\u001b[1;32m     11\u001b[0m \u001b[0;34m\u001b[0m\u001b[0m\n\u001b[0;32m---> 12\u001b[0;31m     \u001b[0mdf\u001b[0m \u001b[0;34m=\u001b[0m \u001b[0mread_coordinates_file\u001b[0m\u001b[0;34m(\u001b[0m\u001b[0mjson_file_path\u001b[0m\u001b[0;34m)\u001b[0m\u001b[0;34m\u001b[0m\u001b[0m\n\u001b[0m\u001b[1;32m     13\u001b[0m \u001b[0;34m\u001b[0m\u001b[0m\n\u001b[1;32m     14\u001b[0m     \u001b[0mdf\u001b[0m \u001b[0;34m=\u001b[0m \u001b[0mdf\u001b[0m\u001b[0;34m.\u001b[0m\u001b[0msort_values\u001b[0m\u001b[0;34m(\u001b[0m\u001b[0;34m'frame_nums'\u001b[0m\u001b[0;34m,\u001b[0m \u001b[0mascending\u001b[0m\u001b[0;34m=\u001b[0m\u001b[0;32mTrue\u001b[0m\u001b[0;34m)\u001b[0m\u001b[0;34m\u001b[0m\u001b[0m\n",
      "\u001b[0;32m<ipython-input-3-64b3e48addfe>\u001b[0m in \u001b[0;36mread_coordinates_file\u001b[0;34m(coord_file_path)\u001b[0m\n\u001b[1;32m      4\u001b[0m         \u001b[0mdf\u001b[0m \u001b[0;34m=\u001b[0m \u001b[0mpd\u001b[0m\u001b[0;34m.\u001b[0m\u001b[0mread_csv\u001b[0m\u001b[0;34m(\u001b[0m\u001b[0mcoord_file_path\u001b[0m\u001b[0;34m)\u001b[0m\u001b[0;34m\u001b[0m\u001b[0m\n\u001b[1;32m      5\u001b[0m     \u001b[0;32melif\u001b[0m \u001b[0mfile_extension\u001b[0m \u001b[0;34m==\u001b[0m \u001b[0;34m'json'\u001b[0m\u001b[0;34m:\u001b[0m\u001b[0;34m\u001b[0m\u001b[0m\n\u001b[0;32m----> 6\u001b[0;31m         \u001b[0mdf\u001b[0m \u001b[0;34m=\u001b[0m \u001b[0mpd\u001b[0m\u001b[0;34m.\u001b[0m\u001b[0mread_json\u001b[0m\u001b[0;34m(\u001b[0m\u001b[0mcoord_file_path\u001b[0m\u001b[0;34m)\u001b[0m\u001b[0;34m\u001b[0m\u001b[0m\n\u001b[0m\u001b[1;32m      7\u001b[0m     \u001b[0;32melse\u001b[0m\u001b[0;34m:\u001b[0m\u001b[0;34m\u001b[0m\u001b[0m\n\u001b[1;32m      8\u001b[0m         \u001b[0mprint\u001b[0m\u001b[0;34m(\u001b[0m\u001b[0;34m'Unknown coordinate file type'\u001b[0m\u001b[0;34m)\u001b[0m\u001b[0;34m\u001b[0m\u001b[0m\n",
      "\u001b[0;32m/usr/local/lib/python3.6/site-packages/pandas/io/json/json.py\u001b[0m in \u001b[0;36mread_json\u001b[0;34m(path_or_buf, orient, typ, dtype, convert_axes, convert_dates, keep_default_dates, numpy, precise_float, date_unit, encoding, lines)\u001b[0m\n\u001b[1;32m    333\u001b[0m             fh, handles = _get_handle(filepath_or_buffer, 'r',\n\u001b[1;32m    334\u001b[0m                                       encoding=encoding)\n\u001b[0;32m--> 335\u001b[0;31m             \u001b[0mjson\u001b[0m \u001b[0;34m=\u001b[0m \u001b[0mfh\u001b[0m\u001b[0;34m.\u001b[0m\u001b[0mread\u001b[0m\u001b[0;34m(\u001b[0m\u001b[0;34m)\u001b[0m\u001b[0;34m\u001b[0m\u001b[0m\n\u001b[0m\u001b[1;32m    336\u001b[0m             \u001b[0mfh\u001b[0m\u001b[0;34m.\u001b[0m\u001b[0mclose\u001b[0m\u001b[0;34m(\u001b[0m\u001b[0;34m)\u001b[0m\u001b[0;34m\u001b[0m\u001b[0m\n\u001b[1;32m    337\u001b[0m         \u001b[0;32melse\u001b[0m\u001b[0;34m:\u001b[0m\u001b[0;34m\u001b[0m\u001b[0m\n",
      "\u001b[0;31mOSError\u001b[0m: [Errno 22] Invalid argument"
     ]
    }
   ],
   "source": [
    "for f in json_file_list:\n",
    "    convert_json_files(f)"
   ]
  },
  {
   "cell_type": "code",
   "execution_count": 7,
   "metadata": {},
   "outputs": [
    {
     "ename": "OSError",
     "evalue": "[Errno 22] Invalid argument",
     "output_type": "error",
     "traceback": [
      "\u001b[0;31m---------------------------------------------------------------------------\u001b[0m",
      "\u001b[0;31mOSError\u001b[0m                                   Traceback (most recent call last)",
      "\u001b[0;32m<ipython-input-7-43df1b9f451e>\u001b[0m in \u001b[0;36m<module>\u001b[0;34m()\u001b[0m\n\u001b[0;32m----> 1\u001b[0;31m \u001b[0mdf\u001b[0m \u001b[0;34m=\u001b[0m \u001b[0mpd\u001b[0m\u001b[0;34m.\u001b[0m\u001b[0mread_json\u001b[0m\u001b[0;34m(\u001b[0m\u001b[0;34m'/Volumes/JSIMPSON/1b/json/2017-02-18_02-32-49.json'\u001b[0m\u001b[0;34m)\u001b[0m\u001b[0;34m\u001b[0m\u001b[0m\n\u001b[0m",
      "\u001b[0;32m/usr/local/lib/python3.6/site-packages/pandas/io/json/json.py\u001b[0m in \u001b[0;36mread_json\u001b[0;34m(path_or_buf, orient, typ, dtype, convert_axes, convert_dates, keep_default_dates, numpy, precise_float, date_unit, encoding, lines)\u001b[0m\n\u001b[1;32m    333\u001b[0m             fh, handles = _get_handle(filepath_or_buffer, 'r',\n\u001b[1;32m    334\u001b[0m                                       encoding=encoding)\n\u001b[0;32m--> 335\u001b[0;31m             \u001b[0mjson\u001b[0m \u001b[0;34m=\u001b[0m \u001b[0mfh\u001b[0m\u001b[0;34m.\u001b[0m\u001b[0mread\u001b[0m\u001b[0;34m(\u001b[0m\u001b[0;34m)\u001b[0m\u001b[0;34m\u001b[0m\u001b[0m\n\u001b[0m\u001b[1;32m    336\u001b[0m             \u001b[0mfh\u001b[0m\u001b[0;34m.\u001b[0m\u001b[0mclose\u001b[0m\u001b[0;34m(\u001b[0m\u001b[0;34m)\u001b[0m\u001b[0;34m\u001b[0m\u001b[0m\n\u001b[1;32m    337\u001b[0m         \u001b[0;32melse\u001b[0m\u001b[0;34m:\u001b[0m\u001b[0;34m\u001b[0m\u001b[0m\n",
      "\u001b[0;31mOSError\u001b[0m: [Errno 22] Invalid argument"
     ]
    }
   ],
   "source": [
    "df = pd.read_json('/Volumes/JSIMPSON/1b/json/2017-02-18_02-32-49.json')"
   ]
  },
  {
   "cell_type": "code",
   "execution_count": 9,
   "metadata": {
    "collapsed": true
   },
   "outputs": [],
   "source": [
    "def read_json(coord_file_path):\n",
    "    with open(coord_file_path) as json_file:\n",
    "        coords_data = json.load(json_file)\n",
    "    return coords_data"
   ]
  },
  {
   "cell_type": "code",
   "execution_count": 10,
   "metadata": {},
   "outputs": [
    {
     "ename": "OSError",
     "evalue": "[Errno 22] Invalid argument",
     "output_type": "error",
     "traceback": [
      "\u001b[0;31m---------------------------------------------------------------------------\u001b[0m",
      "\u001b[0;31mOSError\u001b[0m                                   Traceback (most recent call last)",
      "\u001b[0;32m<ipython-input-10-16b79fcc9f17>\u001b[0m in \u001b[0;36m<module>\u001b[0;34m()\u001b[0m\n\u001b[0;32m----> 1\u001b[0;31m \u001b[0mj\u001b[0m \u001b[0;34m=\u001b[0m \u001b[0mread_json\u001b[0m\u001b[0;34m(\u001b[0m\u001b[0;34m'/Volumes/JSIMPSON/1b/json/2017-02-18_02-32-49.json'\u001b[0m\u001b[0;34m)\u001b[0m\u001b[0;34m\u001b[0m\u001b[0m\n\u001b[0m",
      "\u001b[0;32m<ipython-input-9-2cc3c2de87a1>\u001b[0m in \u001b[0;36mread_json\u001b[0;34m(coord_file_path)\u001b[0m\n\u001b[1;32m      1\u001b[0m \u001b[0;32mdef\u001b[0m \u001b[0mread_json\u001b[0m\u001b[0;34m(\u001b[0m\u001b[0mcoord_file_path\u001b[0m\u001b[0;34m)\u001b[0m\u001b[0;34m:\u001b[0m\u001b[0;34m\u001b[0m\u001b[0m\n\u001b[1;32m      2\u001b[0m     \u001b[0;32mwith\u001b[0m \u001b[0mopen\u001b[0m\u001b[0;34m(\u001b[0m\u001b[0mcoord_file_path\u001b[0m\u001b[0;34m)\u001b[0m \u001b[0;32mas\u001b[0m \u001b[0mjson_file\u001b[0m\u001b[0;34m:\u001b[0m\u001b[0;34m\u001b[0m\u001b[0m\n\u001b[0;32m----> 3\u001b[0;31m         \u001b[0mcoords_data\u001b[0m \u001b[0;34m=\u001b[0m \u001b[0mjson\u001b[0m\u001b[0;34m.\u001b[0m\u001b[0mload\u001b[0m\u001b[0;34m(\u001b[0m\u001b[0mjson_file\u001b[0m\u001b[0;34m)\u001b[0m\u001b[0;34m\u001b[0m\u001b[0m\n\u001b[0m\u001b[1;32m      4\u001b[0m     \u001b[0;32mreturn\u001b[0m \u001b[0mcoords_data\u001b[0m\u001b[0;34m\u001b[0m\u001b[0m\n",
      "\u001b[0;32m/usr/local/Cellar/python3/3.6.2/Frameworks/Python.framework/Versions/3.6/lib/python3.6/json/__init__.py\u001b[0m in \u001b[0;36mload\u001b[0;34m(fp, cls, object_hook, parse_float, parse_int, parse_constant, object_pairs_hook, **kw)\u001b[0m\n\u001b[1;32m    294\u001b[0m \u001b[0;34m\u001b[0m\u001b[0m\n\u001b[1;32m    295\u001b[0m     \"\"\"\n\u001b[0;32m--> 296\u001b[0;31m     return loads(fp.read(),\n\u001b[0m\u001b[1;32m    297\u001b[0m         \u001b[0mcls\u001b[0m\u001b[0;34m=\u001b[0m\u001b[0mcls\u001b[0m\u001b[0;34m,\u001b[0m \u001b[0mobject_hook\u001b[0m\u001b[0;34m=\u001b[0m\u001b[0mobject_hook\u001b[0m\u001b[0;34m,\u001b[0m\u001b[0;34m\u001b[0m\u001b[0m\n\u001b[1;32m    298\u001b[0m         \u001b[0mparse_float\u001b[0m\u001b[0;34m=\u001b[0m\u001b[0mparse_float\u001b[0m\u001b[0;34m,\u001b[0m \u001b[0mparse_int\u001b[0m\u001b[0;34m=\u001b[0m\u001b[0mparse_int\u001b[0m\u001b[0;34m,\u001b[0m\u001b[0;34m\u001b[0m\u001b[0m\n",
      "\u001b[0;31mOSError\u001b[0m: [Errno 22] Invalid argument"
     ]
    }
   ],
   "source": [
    "j = read_json('/Volumes/JSIMPSON/1b/json/2017-02-18_02-32-49.json')"
   ]
  },
  {
   "cell_type": "code",
   "execution_count": null,
   "metadata": {
    "collapsed": true
   },
   "outputs": [],
   "source": []
  }
 ],
 "metadata": {
  "kernelspec": {
   "display_name": "Python 3",
   "language": "python",
   "name": "python3"
  },
  "language_info": {
   "codemirror_mode": {
    "name": "ipython",
    "version": 3
   },
   "file_extension": ".py",
   "mimetype": "text/x-python",
   "name": "python",
   "nbconvert_exporter": "python",
   "pygments_lexer": "ipython3",
   "version": "3.6.2"
  }
 },
 "nbformat": 4,
 "nbformat_minor": 2
}
