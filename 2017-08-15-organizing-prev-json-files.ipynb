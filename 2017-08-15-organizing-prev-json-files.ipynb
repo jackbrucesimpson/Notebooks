{
 "cells": [
  {
   "cell_type": "markdown",
   "metadata": {},
   "source": [
    "# Organising previous JSON files\n",
    "- JSON files had an xy column containing dictionary values\n",
    "- Need to turn these into separate columns"
   ]
  },
  {
   "cell_type": "code",
   "execution_count": 2,
   "metadata": {},
   "outputs": [
    {
     "data": {
      "application/json": {
       "Software versions": [
        {
         "module": "Python",
         "version": "3.6.2 64bit [GCC 4.2.1 Compatible Apple LLVM 8.1.0 (clang-802.0.42)]"
        },
        {
         "module": "IPython",
         "version": "6.1.0"
        },
        {
         "module": "OS",
         "version": "Darwin 16.7.0 x86_64 i386 64bit"
        },
        {
         "module": "numpy",
         "version": "1.13.1"
        },
        {
         "module": "scipy",
         "version": "0.19.1"
        },
        {
         "module": "matplotlib",
         "version": "2.0.2"
        },
        {
         "module": "pandas",
         "version": "0.20.3"
        }
       ]
      },
      "text/html": [
       "<table><tr><th>Software</th><th>Version</th></tr><tr><td>Python</td><td>3.6.2 64bit [GCC 4.2.1 Compatible Apple LLVM 8.1.0 (clang-802.0.42)]</td></tr><tr><td>IPython</td><td>6.1.0</td></tr><tr><td>OS</td><td>Darwin 16.7.0 x86_64 i386 64bit</td></tr><tr><td>numpy</td><td>1.13.1</td></tr><tr><td>scipy</td><td>0.19.1</td></tr><tr><td>matplotlib</td><td>2.0.2</td></tr><tr><td>pandas</td><td>0.20.3</td></tr><tr><td colspan='2'>Tue Aug 15 11:00:26 2017 AEST</td></tr></table>"
      ],
      "text/latex": [
       "\\begin{tabular}{|l|l|}\\hline\n",
       "{\\bf Software} & {\\bf Version} \\\\ \\hline\\hline\n",
       "Python & 3.6.2 64bit [GCC 4.2.1 Compatible Apple LLVM 8.1.0 (clang-802.0.42)] \\\\ \\hline\n",
       "IPython & 6.1.0 \\\\ \\hline\n",
       "OS & Darwin 16.7.0 x86\\_64 i386 64bit \\\\ \\hline\n",
       "numpy & 1.13.1 \\\\ \\hline\n",
       "scipy & 0.19.1 \\\\ \\hline\n",
       "matplotlib & 2.0.2 \\\\ \\hline\n",
       "pandas & 0.20.3 \\\\ \\hline\n",
       "\\hline \\multicolumn{2}{|l|}{Tue Aug 15 11:00:26 2017 AEST} \\\\ \\hline\n",
       "\\end{tabular}\n"
      ],
      "text/plain": [
       "Software versions\n",
       "Python 3.6.2 64bit [GCC 4.2.1 Compatible Apple LLVM 8.1.0 (clang-802.0.42)]\n",
       "IPython 6.1.0\n",
       "OS Darwin 16.7.0 x86_64 i386 64bit\n",
       "numpy 1.13.1\n",
       "scipy 0.19.1\n",
       "matplotlib 2.0.2\n",
       "pandas 0.20.3\n",
       "Tue Aug 15 11:00:26 2017 AEST"
      ]
     },
     "execution_count": 2,
     "metadata": {},
     "output_type": "execute_result"
    }
   ],
   "source": [
    "%matplotlib inline\n",
    "#from pylab import rcParams\n",
    "#rcParams['figure.figsize'] = 12, 8\n",
    "\n",
    "%load_ext autoreload\n",
    "%autoreload 2\n",
    "\n",
    "%load_ext version_information\n",
    "%version_information numpy, scipy, matplotlib, pandas"
   ]
  },
  {
   "cell_type": "code",
   "execution_count": 3,
   "metadata": {
    "collapsed": true
   },
   "outputs": [],
   "source": [
    "import glob"
   ]
  },
  {
   "cell_type": "code",
   "execution_count": 5,
   "metadata": {
    "collapsed": true
   },
   "outputs": [],
   "source": [
    "def read_coordinates_file(coord_file_path):\n",
    "    file_extension = coord_file_path.split('.')[-1]\n",
    "    if file_extension == 'csv':\n",
    "        df = pd.read_csv(coord_file_path)\n",
    "    elif file_extension == 'json':\n",
    "        df = pd.read_json(coord_file_path)\n",
    "    else:\n",
    "        print('Unknown coordinate file type')\n",
    "        sys.exit(0)\n",
    "        \n",
    "    # turn coordinate column into x,y dictionary\n",
    "    df['xy'] = df['xy'].apply(lambda x: eval(str(x)))\n",
    "\n",
    "    return df\n",
    "\n",
    "def get_video_filename(video_path):\n",
    "    head, tail = os.path.split(video_path)\n",
    "    str_date_time = os.path.splitext(tail)[0]\n",
    "    return str_date_time"
   ]
  },
  {
   "cell_type": "code",
   "execution_count": null,
   "metadata": {
    "collapsed": true
   },
   "outputs": [],
   "source": [
    "json_dir = '/Users/jacksimpson/Data/beeunique/output/Classified/json/'\n",
    "csv_dir = '/Users/jacksimpson/Data/beeunique/output/Classified/csv/'\n",
    "\n",
    "for json_file_path in glob.glob('*.json'):\n",
    "    df = read_coordinates_file(json_file_path)\n",
    "    video_filename = get_video_filename(json_file_path)\n",
    "    \n",
    "    xy_list = df['xy'].tolist()\n",
    "    x = []\n",
    "    y = []\n",
    "    for xy in xy_list:\n",
    "        x.append(xy['x'])\n",
    "        y.append(xy['y'])\n",
    "        \n",
    "    del df['xy']\n",
    "    df['x'] = x\n",
    "    df['y'] = y\n",
    "    \n",
    "    df.to_csv(csv_dir + video_filename + '.csv', index=False)\n",
    "    \n",
    "    break"
   ]
  }
 ],
 "metadata": {
  "kernelspec": {
   "display_name": "Python 3",
   "language": "python",
   "name": "python3"
  },
  "language_info": {
   "codemirror_mode": {
    "name": "ipython",
    "version": 3
   },
   "file_extension": ".py",
   "mimetype": "text/x-python",
   "name": "python",
   "nbconvert_exporter": "python",
   "pygments_lexer": "ipython3",
   "version": "3.6.2"
  }
 },
 "nbformat": 4,
 "nbformat_minor": 2
}
